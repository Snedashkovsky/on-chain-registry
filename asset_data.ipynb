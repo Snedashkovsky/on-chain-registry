{
 "cells": [
  {
   "cell_type": "markdown",
   "metadata": {
    "collapsed": false
   },
   "source": [
    "# Asset Data"
   ]
  },
  {
   "cell_type": "code",
   "execution_count": 1,
   "metadata": {
    "ExecuteTime": {
     "end_time": "2023-09-19T03:15:24.202358Z",
     "start_time": "2023-09-19T03:15:23.443092Z"
    },
    "collapsed": false,
    "execution": {
     "iopub.execute_input": "2024-05-05T22:06:50.232069Z",
     "iopub.status.busy": "2024-05-05T22:06:50.231514Z",
     "iopub.status.idle": "2024-05-05T22:06:51.299630Z",
     "shell.execute_reply": "2024-05-05T22:06:51.298933Z"
    }
   },
   "outputs": [
    {
     "data": {
      "text/html": [
       "        <script type=\"text/javascript\">\n",
       "        window.PlotlyConfig = {MathJaxConfig: 'local'};\n",
       "        if (window.MathJax && window.MathJax.Hub && window.MathJax.Hub.Config) {window.MathJax.Hub.Config({SVG: {font: \"STIX-Web\"}});}\n",
       "        if (typeof require !== 'undefined') {\n",
       "        require.undef(\"plotly\");\n",
       "        requirejs.config({\n",
       "            paths: {\n",
       "                'plotly': ['https://cdn.plot.ly/plotly-2.24.1.min']\n",
       "            }\n",
       "        });\n",
       "        require(['plotly'], function(Plotly) {\n",
       "            window._Plotly = Plotly;\n",
       "        });\n",
       "        }\n",
       "        </script>\n",
       "        "
      ]
     },
     "metadata": {},
     "output_type": "display_data"
    }
   ],
   "source": [
    "import ast\n",
    "import numpy as np\n",
    "import pandas as pd\n",
    "from warnings import filterwarnings\n",
    "from tqdm.notebook import tqdm\n",
    "from plotly.subplots import make_subplots\n",
    "import plotly.graph_objects as go\n",
    "import plotly.express as px\n",
    "from plotly.offline import iplot, init_notebook_mode\n",
    "from pprint import pprint\n",
    "from datetime import date\n",
    "\n",
    "filterwarnings('ignore')\n",
    "\n",
    "from src.contract_export import contract_query\n",
    "from config import CONTRACT_ADDRESSES, NODE_LCD_URLS\n",
    "\n",
    "init_notebook_mode(connected=True)\n",
    "tqdm.pandas()\n",
    "\n",
    "CONTRACT_CHAIN = 'osmosis-testnet'"
   ]
  },
  {
   "cell_type": "markdown",
   "metadata": {
    "collapsed": false
   },
   "source": [
    "## load data"
   ]
  },
  {
   "cell_type": "code",
   "execution_count": 2,
   "metadata": {
    "ExecuteTime": {
     "end_time": "2023-09-19T03:15:24.457417Z",
     "start_time": "2023-09-19T03:15:24.200419Z"
    },
    "collapsed": false,
    "execution": {
     "iopub.execute_input": "2024-05-05T22:06:51.349090Z",
     "iopub.status.busy": "2024-05-05T22:06:51.348648Z",
     "iopub.status.idle": "2024-05-05T22:06:52.186023Z",
     "shell.execute_reply": "2024-05-05T22:06:52.185345Z"
    }
   },
   "outputs": [
    {
     "data": {
      "text/html": [
       "<div>\n",
       "<style scoped>\n",
       "    .dataframe tbody tr th:only-of-type {\n",
       "        vertical-align: middle;\n",
       "    }\n",
       "\n",
       "    .dataframe tbody tr th {\n",
       "        vertical-align: top;\n",
       "    }\n",
       "\n",
       "    .dataframe thead th {\n",
       "        text-align: right;\n",
       "    }\n",
       "</style>\n",
       "<table border=\"1\" class=\"dataframe\">\n",
       "  <thead>\n",
       "    <tr style=\"text-align: right;\">\n",
       "      <th></th>\n",
       "      <th>chain_id</th>\n",
       "      <th>denom</th>\n",
       "      <th>type_asset</th>\n",
       "      <th>supply</th>\n",
       "      <th>description</th>\n",
       "      <th>denom_units</th>\n",
       "      <th>display</th>\n",
       "      <th>name</th>\n",
       "      <th>symbol</th>\n",
       "      <th>uri</th>\n",
       "      <th>...</th>\n",
       "      <th>path</th>\n",
       "      <th>channels</th>\n",
       "      <th>chain_id_counterparty</th>\n",
       "      <th>supply_base</th>\n",
       "      <th>chain_id_base</th>\n",
       "      <th>channels_number</th>\n",
       "      <th>admin</th>\n",
       "      <th>ibc</th>\n",
       "      <th>traces</th>\n",
       "      <th>chain_name</th>\n",
       "    </tr>\n",
       "  </thead>\n",
       "  <tbody>\n",
       "    <tr>\n",
       "      <th>0</th>\n",
       "      <td>osmosis-1</td>\n",
       "      <td>ibc/56A78E186FE5E87B7A6942ADCD1E319CF22C8C95E0...</td>\n",
       "      <td>ics20</td>\n",
       "      <td>1000000</td>\n",
       "      <td>The native token of Osmosis</td>\n",
       "      <td>[{'denom': 'uosmo', 'exponent': 0, 'aliases': ...</td>\n",
       "      <td>osmo</td>\n",
       "      <td>NaN</td>\n",
       "      <td>NaN</td>\n",
       "      <td>NaN</td>\n",
       "      <td>...</td>\n",
       "      <td>transfer/channel-143/transfer/channel-0/transf...</td>\n",
       "      <td>[channel-143, channel-0, channel-141, channel-...</td>\n",
       "      <td>kava_2222-10</td>\n",
       "      <td>658898894387037</td>\n",
       "      <td>osmosis-1</td>\n",
       "      <td>16</td>\n",
       "      <td>NaN</td>\n",
       "      <td>{'source_channel': 'channel-143', 'dst_channel...</td>\n",
       "      <td>[{'type': 'ibc', 'counterparty': {'chain_id': ...</td>\n",
       "      <td>osmosis</td>\n",
       "    </tr>\n",
       "    <tr>\n",
       "      <th>1</th>\n",
       "      <td>noble-1</td>\n",
       "      <td>ibc/1FC57A69C7FFB1673E8D20F1DEC5C79D7BBD7E3F69...</td>\n",
       "      <td>ics20</td>\n",
       "      <td>56955</td>\n",
       "      <td>USD Coin</td>\n",
       "      <td>[{'denom': 'uusdc', 'exponent': 0, 'aliases': ...</td>\n",
       "      <td>NaN</td>\n",
       "      <td>usdc</td>\n",
       "      <td>NaN</td>\n",
       "      <td>NaN</td>\n",
       "      <td>...</td>\n",
       "      <td>transfer/channel-1/transfer/channel-259/transf...</td>\n",
       "      <td>[channel-1, channel-259, channel-122, channel-...</td>\n",
       "      <td>osmosis-1</td>\n",
       "      <td>208299970322817</td>\n",
       "      <td>noble-1</td>\n",
       "      <td>15</td>\n",
       "      <td>NaN</td>\n",
       "      <td>{'source_channel': 'channel-1', 'dst_channel':...</td>\n",
       "      <td>[{'type': 'ibc', 'counterparty': {'chain_id': ...</td>\n",
       "      <td>noble</td>\n",
       "    </tr>\n",
       "    <tr>\n",
       "      <th>2</th>\n",
       "      <td>axelar-dojo-1</td>\n",
       "      <td>ibc/237C6BB61C8A722133A7F4FB7E9AFB45CD34C040E8...</td>\n",
       "      <td>ics20</td>\n",
       "      <td>1000000</td>\n",
       "      <td>USD Coin</td>\n",
       "      <td>[{'denom': 'uusdc', 'exponent': 0, 'aliases': ...</td>\n",
       "      <td>NaN</td>\n",
       "      <td>usdc</td>\n",
       "      <td>NaN</td>\n",
       "      <td>NaN</td>\n",
       "      <td>...</td>\n",
       "      <td>transfer/channel-120/transfer/channel-2/transf...</td>\n",
       "      <td>[channel-120, channel-2, channel-122, channel-...</td>\n",
       "      <td>coreum-mainnet-1</td>\n",
       "      <td>208299970322817</td>\n",
       "      <td>noble-1</td>\n",
       "      <td>15</td>\n",
       "      <td>NaN</td>\n",
       "      <td>{'source_channel': 'channel-120', 'dst_channel...</td>\n",
       "      <td>[{'type': 'ibc', 'counterparty': {'chain_id': ...</td>\n",
       "      <td>axelar</td>\n",
       "    </tr>\n",
       "    <tr>\n",
       "      <th>3</th>\n",
       "      <td>kava_2222-10</td>\n",
       "      <td>ibc/B2719736BC8BE3AF15336EBEDD5FED70B5D9377CB5...</td>\n",
       "      <td>ics20</td>\n",
       "      <td>1000000</td>\n",
       "      <td>The native token of Osmosis</td>\n",
       "      <td>[{'denom': 'uosmo', 'exponent': 0, 'aliases': ...</td>\n",
       "      <td>osmo</td>\n",
       "      <td>NaN</td>\n",
       "      <td>NaN</td>\n",
       "      <td>NaN</td>\n",
       "      <td>...</td>\n",
       "      <td>transfer/channel-0/transfer/channel-141/transf...</td>\n",
       "      <td>[channel-0, channel-141, channel-42, channel-1...</td>\n",
       "      <td>cosmoshub-4</td>\n",
       "      <td>658898894387037</td>\n",
       "      <td>osmosis-1</td>\n",
       "      <td>15</td>\n",
       "      <td>NaN</td>\n",
       "      <td>{'source_channel': 'channel-0', 'dst_channel':...</td>\n",
       "      <td>[{'type': 'ibc', 'counterparty': {'chain_id': ...</td>\n",
       "      <td>kava</td>\n",
       "    </tr>\n",
       "    <tr>\n",
       "      <th>4</th>\n",
       "      <td>osmosis-1</td>\n",
       "      <td>ibc/3A358112B03AC25FAC52BEFF0C9A7BCE1A9EAC781E...</td>\n",
       "      <td>ics20</td>\n",
       "      <td>56955</td>\n",
       "      <td>USD Coin</td>\n",
       "      <td>[{'denom': 'uusdc', 'exponent': 0, 'aliases': ...</td>\n",
       "      <td>NaN</td>\n",
       "      <td>usdc</td>\n",
       "      <td>NaN</td>\n",
       "      <td>NaN</td>\n",
       "      <td>...</td>\n",
       "      <td>transfer/channel-259/transfer/channel-122/tran...</td>\n",
       "      <td>[channel-259, channel-122, channel-2, channel-...</td>\n",
       "      <td>kaiyo-1</td>\n",
       "      <td>208299970322817</td>\n",
       "      <td>noble-1</td>\n",
       "      <td>14</td>\n",
       "      <td>NaN</td>\n",
       "      <td>{'source_channel': 'channel-259', 'dst_channel...</td>\n",
       "      <td>[{'type': 'ibc', 'counterparty': {'chain_id': ...</td>\n",
       "      <td>osmosis</td>\n",
       "    </tr>\n",
       "    <tr>\n",
       "      <th>...</th>\n",
       "      <td>...</td>\n",
       "      <td>...</td>\n",
       "      <td>...</td>\n",
       "      <td>...</td>\n",
       "      <td>...</td>\n",
       "      <td>...</td>\n",
       "      <td>...</td>\n",
       "      <td>...</td>\n",
       "      <td>...</td>\n",
       "      <td>...</td>\n",
       "      <td>...</td>\n",
       "      <td>...</td>\n",
       "      <td>...</td>\n",
       "      <td>...</td>\n",
       "      <td>...</td>\n",
       "      <td>...</td>\n",
       "      <td>...</td>\n",
       "      <td>...</td>\n",
       "      <td>...</td>\n",
       "      <td>...</td>\n",
       "      <td>...</td>\n",
       "    </tr>\n",
       "    <tr>\n",
       "      <th>21124</th>\n",
       "      <td>phoenix-1</td>\n",
       "      <td>cw20:terra14xsm2wzvu7xaf567r693vgfkhmvfs08l68h...</td>\n",
       "      <td>cw20</td>\n",
       "      <td>208152644727</td>\n",
       "      <td>NaN</td>\n",
       "      <td>[{'denom': 'lunax', 'exponent': 6, 'aliases': ...</td>\n",
       "      <td>NaN</td>\n",
       "      <td>Stader LunaX Token</td>\n",
       "      <td>LunaX</td>\n",
       "      <td>NaN</td>\n",
       "      <td>...</td>\n",
       "      <td>NaN</td>\n",
       "      <td>None</td>\n",
       "      <td>NaN</td>\n",
       "      <td>208152644727</td>\n",
       "      <td>phoenix-1</td>\n",
       "      <td>0</td>\n",
       "      <td>NaN</td>\n",
       "      <td>NaN</td>\n",
       "      <td>NaN</td>\n",
       "      <td>terra2</td>\n",
       "    </tr>\n",
       "    <tr>\n",
       "      <th>21125</th>\n",
       "      <td>phoenix-1</td>\n",
       "      <td>cw20:terra18vp5s0r7keezm35hdxsgw8zgfnyn8wejdkk...</td>\n",
       "      <td>cw20</td>\n",
       "      <td>100000000000000</td>\n",
       "      <td>NaN</td>\n",
       "      <td>[{'denom': 'bitz', 'exponent': 6, 'aliases': [...</td>\n",
       "      <td>NaN</td>\n",
       "      <td>Bitz DAO Token</td>\n",
       "      <td>BITZ</td>\n",
       "      <td>NaN</td>\n",
       "      <td>...</td>\n",
       "      <td>NaN</td>\n",
       "      <td>None</td>\n",
       "      <td>NaN</td>\n",
       "      <td>100000000000000</td>\n",
       "      <td>phoenix-1</td>\n",
       "      <td>0</td>\n",
       "      <td>NaN</td>\n",
       "      <td>NaN</td>\n",
       "      <td>NaN</td>\n",
       "      <td>terra2</td>\n",
       "    </tr>\n",
       "    <tr>\n",
       "      <th>21126</th>\n",
       "      <td>phoenix-1</td>\n",
       "      <td>cw20:terra19p20mfnvwh9yvyr7aus3a6z6g6uk28fv4jh...</td>\n",
       "      <td>cw20</td>\n",
       "      <td>100000000000000</td>\n",
       "      <td>NaN</td>\n",
       "      <td>[{'denom': 'orne', 'exponent': 6, 'aliases': [...</td>\n",
       "      <td>NaN</td>\n",
       "      <td>orne</td>\n",
       "      <td>ORNE</td>\n",
       "      <td>NaN</td>\n",
       "      <td>...</td>\n",
       "      <td>NaN</td>\n",
       "      <td>None</td>\n",
       "      <td>NaN</td>\n",
       "      <td>100000000000000</td>\n",
       "      <td>phoenix-1</td>\n",
       "      <td>0</td>\n",
       "      <td>NaN</td>\n",
       "      <td>NaN</td>\n",
       "      <td>NaN</td>\n",
       "      <td>terra2</td>\n",
       "    </tr>\n",
       "    <tr>\n",
       "      <th>21127</th>\n",
       "      <td>phoenix-1</td>\n",
       "      <td>cw20:terra1cl273523kmr2uwjhhznq54je69mted2u3lj...</td>\n",
       "      <td>cw20</td>\n",
       "      <td>960000000002000000</td>\n",
       "      <td>NaN</td>\n",
       "      <td>[{'denom': 'drogo', 'exponent': 6, 'aliases': ...</td>\n",
       "      <td>NaN</td>\n",
       "      <td>DROGO</td>\n",
       "      <td>DROGO</td>\n",
       "      <td>NaN</td>\n",
       "      <td>...</td>\n",
       "      <td>NaN</td>\n",
       "      <td>None</td>\n",
       "      <td>NaN</td>\n",
       "      <td>960000000002000000</td>\n",
       "      <td>phoenix-1</td>\n",
       "      <td>0</td>\n",
       "      <td>NaN</td>\n",
       "      <td>NaN</td>\n",
       "      <td>NaN</td>\n",
       "      <td>terra2</td>\n",
       "    </tr>\n",
       "    <tr>\n",
       "      <th>21128</th>\n",
       "      <td>phoenix-1</td>\n",
       "      <td>cw20:terra164ssz60yvsxey0ku9mtcaegdeyxwzuwwqyr...</td>\n",
       "      <td>cw20</td>\n",
       "      <td>1000000000000</td>\n",
       "      <td>NaN</td>\n",
       "      <td>[{'denom': 'clon', 'exponent': 6, 'aliases': [...</td>\n",
       "      <td>NaN</td>\n",
       "      <td>CLON</td>\n",
       "      <td>CLON</td>\n",
       "      <td>NaN</td>\n",
       "      <td>...</td>\n",
       "      <td>NaN</td>\n",
       "      <td>None</td>\n",
       "      <td>NaN</td>\n",
       "      <td>1000000000000</td>\n",
       "      <td>phoenix-1</td>\n",
       "      <td>0</td>\n",
       "      <td>NaN</td>\n",
       "      <td>NaN</td>\n",
       "      <td>NaN</td>\n",
       "      <td>terra2</td>\n",
       "    </tr>\n",
       "  </tbody>\n",
       "</table>\n",
       "<p>21129 rows × 23 columns</p>\n",
       "</div>"
      ],
      "text/plain": [
       "            chain_id                                              denom  \\\n",
       "0          osmosis-1  ibc/56A78E186FE5E87B7A6942ADCD1E319CF22C8C95E0...   \n",
       "1            noble-1  ibc/1FC57A69C7FFB1673E8D20F1DEC5C79D7BBD7E3F69...   \n",
       "2      axelar-dojo-1  ibc/237C6BB61C8A722133A7F4FB7E9AFB45CD34C040E8...   \n",
       "3       kava_2222-10  ibc/B2719736BC8BE3AF15336EBEDD5FED70B5D9377CB5...   \n",
       "4          osmosis-1  ibc/3A358112B03AC25FAC52BEFF0C9A7BCE1A9EAC781E...   \n",
       "...              ...                                                ...   \n",
       "21124      phoenix-1  cw20:terra14xsm2wzvu7xaf567r693vgfkhmvfs08l68h...   \n",
       "21125      phoenix-1  cw20:terra18vp5s0r7keezm35hdxsgw8zgfnyn8wejdkk...   \n",
       "21126      phoenix-1  cw20:terra19p20mfnvwh9yvyr7aus3a6z6g6uk28fv4jh...   \n",
       "21127      phoenix-1  cw20:terra1cl273523kmr2uwjhhznq54je69mted2u3lj...   \n",
       "21128      phoenix-1  cw20:terra164ssz60yvsxey0ku9mtcaegdeyxwzuwwqyr...   \n",
       "\n",
       "      type_asset              supply                  description  \\\n",
       "0          ics20             1000000  The native token of Osmosis   \n",
       "1          ics20               56955                     USD Coin   \n",
       "2          ics20             1000000                     USD Coin   \n",
       "3          ics20             1000000  The native token of Osmosis   \n",
       "4          ics20               56955                     USD Coin   \n",
       "...          ...                 ...                          ...   \n",
       "21124       cw20        208152644727                          NaN   \n",
       "21125       cw20     100000000000000                          NaN   \n",
       "21126       cw20     100000000000000                          NaN   \n",
       "21127       cw20  960000000002000000                          NaN   \n",
       "21128       cw20       1000000000000                          NaN   \n",
       "\n",
       "                                             denom_units display  \\\n",
       "0      [{'denom': 'uosmo', 'exponent': 0, 'aliases': ...    osmo   \n",
       "1      [{'denom': 'uusdc', 'exponent': 0, 'aliases': ...     NaN   \n",
       "2      [{'denom': 'uusdc', 'exponent': 0, 'aliases': ...     NaN   \n",
       "3      [{'denom': 'uosmo', 'exponent': 0, 'aliases': ...    osmo   \n",
       "4      [{'denom': 'uusdc', 'exponent': 0, 'aliases': ...     NaN   \n",
       "...                                                  ...     ...   \n",
       "21124  [{'denom': 'lunax', 'exponent': 6, 'aliases': ...     NaN   \n",
       "21125  [{'denom': 'bitz', 'exponent': 6, 'aliases': [...     NaN   \n",
       "21126  [{'denom': 'orne', 'exponent': 6, 'aliases': [...     NaN   \n",
       "21127  [{'denom': 'drogo', 'exponent': 6, 'aliases': ...     NaN   \n",
       "21128  [{'denom': 'clon', 'exponent': 6, 'aliases': [...     NaN   \n",
       "\n",
       "                     name symbol  uri  ...  \\\n",
       "0                     NaN    NaN  NaN  ...   \n",
       "1                    usdc    NaN  NaN  ...   \n",
       "2                    usdc    NaN  NaN  ...   \n",
       "3                     NaN    NaN  NaN  ...   \n",
       "4                    usdc    NaN  NaN  ...   \n",
       "...                   ...    ...  ...  ...   \n",
       "21124  Stader LunaX Token  LunaX  NaN  ...   \n",
       "21125      Bitz DAO Token   BITZ  NaN  ...   \n",
       "21126                orne   ORNE  NaN  ...   \n",
       "21127               DROGO  DROGO  NaN  ...   \n",
       "21128                CLON   CLON  NaN  ...   \n",
       "\n",
       "                                                    path  \\\n",
       "0      transfer/channel-143/transfer/channel-0/transf...   \n",
       "1      transfer/channel-1/transfer/channel-259/transf...   \n",
       "2      transfer/channel-120/transfer/channel-2/transf...   \n",
       "3      transfer/channel-0/transfer/channel-141/transf...   \n",
       "4      transfer/channel-259/transfer/channel-122/tran...   \n",
       "...                                                  ...   \n",
       "21124                                                NaN   \n",
       "21125                                                NaN   \n",
       "21126                                                NaN   \n",
       "21127                                                NaN   \n",
       "21128                                                NaN   \n",
       "\n",
       "                                                channels  \\\n",
       "0      [channel-143, channel-0, channel-141, channel-...   \n",
       "1      [channel-1, channel-259, channel-122, channel-...   \n",
       "2      [channel-120, channel-2, channel-122, channel-...   \n",
       "3      [channel-0, channel-141, channel-42, channel-1...   \n",
       "4      [channel-259, channel-122, channel-2, channel-...   \n",
       "...                                                  ...   \n",
       "21124                                               None   \n",
       "21125                                               None   \n",
       "21126                                               None   \n",
       "21127                                               None   \n",
       "21128                                               None   \n",
       "\n",
       "      chain_id_counterparty         supply_base chain_id_base channels_number  \\\n",
       "0              kava_2222-10     658898894387037     osmosis-1              16   \n",
       "1                 osmosis-1     208299970322817       noble-1              15   \n",
       "2          coreum-mainnet-1     208299970322817       noble-1              15   \n",
       "3               cosmoshub-4     658898894387037     osmosis-1              15   \n",
       "4                   kaiyo-1     208299970322817       noble-1              14   \n",
       "...                     ...                 ...           ...             ...   \n",
       "21124                   NaN        208152644727     phoenix-1               0   \n",
       "21125                   NaN     100000000000000     phoenix-1               0   \n",
       "21126                   NaN     100000000000000     phoenix-1               0   \n",
       "21127                   NaN  960000000002000000     phoenix-1               0   \n",
       "21128                   NaN       1000000000000     phoenix-1               0   \n",
       "\n",
       "      admin                                                ibc  \\\n",
       "0       NaN  {'source_channel': 'channel-143', 'dst_channel...   \n",
       "1       NaN  {'source_channel': 'channel-1', 'dst_channel':...   \n",
       "2       NaN  {'source_channel': 'channel-120', 'dst_channel...   \n",
       "3       NaN  {'source_channel': 'channel-0', 'dst_channel':...   \n",
       "4       NaN  {'source_channel': 'channel-259', 'dst_channel...   \n",
       "...     ...                                                ...   \n",
       "21124   NaN                                                NaN   \n",
       "21125   NaN                                                NaN   \n",
       "21126   NaN                                                NaN   \n",
       "21127   NaN                                                NaN   \n",
       "21128   NaN                                                NaN   \n",
       "\n",
       "                                                  traces chain_name  \n",
       "0      [{'type': 'ibc', 'counterparty': {'chain_id': ...    osmosis  \n",
       "1      [{'type': 'ibc', 'counterparty': {'chain_id': ...      noble  \n",
       "2      [{'type': 'ibc', 'counterparty': {'chain_id': ...     axelar  \n",
       "3      [{'type': 'ibc', 'counterparty': {'chain_id': ...       kava  \n",
       "4      [{'type': 'ibc', 'counterparty': {'chain_id': ...    osmosis  \n",
       "...                                                  ...        ...  \n",
       "21124                                                NaN     terra2  \n",
       "21125                                                NaN     terra2  \n",
       "21126                                                NaN     terra2  \n",
       "21127                                                NaN     terra2  \n",
       "21128                                                NaN     terra2  \n",
       "\n",
       "[21129 rows x 23 columns]"
      ]
     },
     "execution_count": 2,
     "metadata": {},
     "output_type": "execute_result"
    }
   ],
   "source": [
    "assets_df = pd.read_csv('data_csv/all_assets.csv', index_col=0)\n",
    "assets_df['channels'] = assets_df.channels.map(lambda x: ast.literal_eval(x) if type(x) == str else None)\n",
    "assets_df['denom_units'] = assets_df.denom_units.map(\n",
    "    lambda x: ast.literal_eval(x) if type(x) == str else None)\n",
    "assets_df"
   ]
  },
  {
   "cell_type": "markdown",
   "metadata": {
    "collapsed": false
   },
   "source": [
    "## charts"
   ]
  },
  {
   "cell_type": "code",
   "execution_count": 3,
   "metadata": {
    "ExecuteTime": {
     "end_time": "2023-09-19T03:15:24.457555Z",
     "start_time": "2023-09-19T03:15:24.455548Z"
    },
    "collapsed": false,
    "execution": {
     "iopub.execute_input": "2024-05-05T22:06:52.192395Z",
     "iopub.status.busy": "2024-05-05T22:06:52.192165Z",
     "iopub.status.idle": "2024-05-05T22:06:52.197242Z",
     "shell.execute_reply": "2024-05-05T22:06:52.196530Z"
    }
   },
   "outputs": [],
   "source": [
    "def aggregate_pie_plot(assets_df: pd.DataFrame, agg_column: str, n: int = 8, object_name: str = 'items') -> pd.Series:\n",
    "    assets_by_item_row = assets_df.groupby(agg_column)['denom'].agg(np.count_nonzero).sort_values(ascending=False)\n",
    "    assets_by_item = assets_by_item_row.head(n)\n",
    "    if len(assets_by_item_row) > n:\n",
    "        assets_by_item[f'remaining {len(assets_by_item_row) - n:>,} {object_name}<br>'] = sum(assets_by_item_row[n:])\n",
    "    return assets_by_item"
   ]
  },
  {
   "cell_type": "code",
   "execution_count": 4,
   "metadata": {
    "ExecuteTime": {
     "end_time": "2023-09-19T03:15:24.551331Z",
     "start_time": "2023-09-19T03:15:24.460706Z"
    },
    "collapsed": false,
    "execution": {
     "iopub.execute_input": "2024-05-05T22:06:52.201274Z",
     "iopub.status.busy": "2024-05-05T22:06:52.200994Z",
     "iopub.status.idle": "2024-05-05T22:06:52.499206Z",
     "shell.execute_reply": "2024-05-05T22:06:52.498574Z"
    }
   },
   "outputs": [],
   "source": [
    "ASSET_TYPE_DICT = \\\n",
    "    {'ics20': 'IBC (ICS-20)',\n",
    "     'sdk.coin': 'Native',\n",
    "     'pool': 'LP Tokens',\n",
    "     'factory': 'Token Factory',\n",
    "     'cw20': 'CW-20',\n",
    "     'erc20': 'ERC-20'}\n",
    "\n",
    "assets_by_chain = aggregate_pie_plot(assets_df=assets_df, agg_column='chain_name', object_name='chains\\n', n=17)\n",
    "\n",
    "assets_by_type_asset = aggregate_pie_plot(assets_df=assets_df, agg_column='type_asset')\n",
    "assets_by_type_asset.index = assets_by_type_asset.index.map(lambda x: ASSET_TYPE_DICT[x])\n",
    "\n",
    "assets_by_denom_base = aggregate_pie_plot(assets_df=assets_df, agg_column='denom_base', object_name='base denoms\\n',\n",
    "                                          n=6)\n",
    "\n",
    "total_assets = len(assets_df)"
   ]
  },
  {
   "cell_type": "code",
   "execution_count": 5,
   "metadata": {
    "ExecuteTime": {
     "end_time": "2023-09-19T03:15:25.173473Z",
     "start_time": "2023-09-19T03:15:24.548776Z"
    },
    "collapsed": false,
    "execution": {
     "iopub.execute_input": "2024-05-05T22:06:52.504189Z",
     "iopub.status.busy": "2024-05-05T22:06:52.503944Z",
     "iopub.status.idle": "2024-05-05T22:06:53.947003Z",
     "shell.execute_reply": "2024-05-05T22:06:53.945783Z"
    }
   },
   "outputs": [
    {
     "data": {
      "application/vnd.plotly.v1+json": {
       "config": {
        "linkText": "Export to plot.ly",
        "plotlyServerURL": "https://plot.ly",
        "showLink": false
       },
       "data": [
        {
         "domain": {
          "x": [
           0.0,
           1.0
          ],
          "y": [
           0.5700000000000001,
           1.0
          ]
         },
         "hoverinfo": "label+value+percent",
         "hovertemplate": "%{label}<br>%{value:>,} (%{percent:.1%})",
         "labels": [
          "provenance",
          "osmosis",
          "cosmoshub",
          "injective",
          "kujira",
          "sei",
          "juno",
          "persistence",
          "gravitybridge",
          "stride",
          "carbon",
          "terra2",
          "neutron",
          "axelar",
          "evmos",
          "kava",
          "crescent",
          "remaining 132 chains\n<br>"
         ],
         "marker": {
          "colors": [
           "#636EFA",
           "#EF553B",
           "#00CC96",
           "#AB63FA",
           "#FFA15A",
           "#19D3F3",
           "#FF6692",
           "#B6E880",
           "#FF97FF",
           "#FECB52"
          ]
         },
         "name": "assets by chains",
         "rotation": -35,
         "sort": false,
         "text": [
          "4,558",
          "3,816",
          "1,560",
          "1,420",
          "787",
          "741",
          "555",
          "529",
          "509",
          "419",
          "389",
          "359",
          "341",
          "316",
          "302",
          "277",
          "248",
          "4,003"
         ],
         "textinfo": "label+value+percent",
         "textposition": "outside",
         "texttemplate": " %{label}  %{value:>,} (%{percent:.1%}) ",
         "type": "pie",
         "values": [
          4558,
          3816,
          1560,
          1420,
          787,
          741,
          555,
          529,
          509,
          419,
          389,
          359,
          341,
          316,
          302,
          277,
          248,
          4003
         ]
        },
        {
         "domain": {
          "x": [
           0.0,
           0.3
          ],
          "y": [
           0.0,
           0.43
          ]
         },
         "hoverinfo": "label+value+percent",
         "hovertemplate": "%{label}<br>%{value:>,} (%{percent:.1%})",
         "labels": [
          "IBC (ICS-20)",
          "Native",
          "Token Factory",
          "LP Tokens",
          "CW-20",
          "ERC-20"
         ],
         "marker": {
          "colors": [
           "#3366CC",
           "#DC3912",
           "#FF9900",
           "#109618",
           "#990099",
           "#0099C6",
           "#DD4477",
           "#66AA00",
           "#B82E2E",
           "#316395"
          ]
         },
         "name": "assets by type",
         "rotation": 90,
         "sort": false,
         "text": [
          "9,333",
          "6,766",
          "3,227",
          "1,605",
          "105",
          "93"
         ],
         "textinfo": "label+value+percent",
         "textposition": "outside",
         "texttemplate": " %{label}  %{value:>,} (%{percent:.1%}) ",
         "type": "pie",
         "values": [
          9333,
          6766,
          3227,
          1605,
          105,
          93
         ]
        },
        {
         "domain": {
          "x": [
           0.7,
           1.0
          ],
          "y": [
           0.0,
           0.43
          ]
         },
         "hoverinfo": "label+value+percent",
         "hovertemplate": "%{label}<br>%{value:>,} (%{percent:.1%})",
         "labels": [
          "uusdc",
          "uatom",
          "uluna",
          "uosmo",
          "uusd",
          "aevmos",
          "remaining 12,001 base denoms\n<br>"
         ],
         "marker": {
          "colors": [
           "rgb(153,153,153)",
           "rgb(247,129,191)",
           "rgb(166,86,40)",
           "rgb(255,255,51)",
           "rgb(255,127,0)",
           "rgb(152,78,163)",
           "rgb(77,175,74)",
           "rgb(55,126,184)",
           "rgb(228,26,28)"
          ]
         },
         "name": "assets by base denoms",
         "rotation": 75,
         "sort": false,
         "text": [
          "780",
          "593",
          "452",
          "298",
          "194",
          "146",
          "18,561"
         ],
         "textinfo": "label+value+percent",
         "textposition": "outside",
         "texttemplate": " %{label}  %{value:>,} (%{percent:.1%}) ",
         "type": "pie",
         "values": [
          780,
          593,
          452,
          298,
          194,
          146,
          18561
         ]
        }
       ],
       "layout": {
        "annotations": [
         {
          "font": {
           "size": 16
          },
          "showarrow": false,
          "text": "Cosmos-SDK Assets by Chains",
          "x": 0.5,
          "xanchor": "center",
          "xref": "paper",
          "y": 1.04,
          "yanchor": "bottom",
          "yref": "paper"
         },
         {
          "font": {
           "size": 16
          },
          "showarrow": false,
          "text": "by Type",
          "x": 0.15,
          "xanchor": "center",
          "xref": "paper",
          "y": 0.37,
          "yanchor": "bottom",
          "yref": "paper"
         },
         {
          "font": {
           "size": 16
          },
          "showarrow": false,
          "text": "by Base Denoms",
          "x": 0.85,
          "xanchor": "center",
          "xref": "paper",
          "y": 0.37,
          "yanchor": "bottom",
          "yref": "paper"
         },
         {
          "showarrow": false,
          "text": "github.com/Snedashkovsky/on-chain-registry",
          "x": -0.3,
          "y": -0.05
         },
         {
          "showarrow": false,
          "text": "updated 2024-05-05",
          "x": 1.25,
          "y": -0.05
         }
        ],
        "autosize": false,
        "font": {
         "family": "Play"
        },
        "height": 850,
        "margin": {
         "b": 0,
         "l": 0,
         "r": 0,
         "t": 80
        },
        "showlegend": false,
        "template": {
         "data": {
          "bar": [
           {
            "error_x": {
             "color": "#2a3f5f"
            },
            "error_y": {
             "color": "#2a3f5f"
            },
            "marker": {
             "line": {
              "color": "white",
              "width": 0.5
             },
             "pattern": {
              "fillmode": "overlay",
              "size": 10,
              "solidity": 0.2
             }
            },
            "type": "bar"
           }
          ],
          "barpolar": [
           {
            "marker": {
             "line": {
              "color": "white",
              "width": 0.5
             },
             "pattern": {
              "fillmode": "overlay",
              "size": 10,
              "solidity": 0.2
             }
            },
            "type": "barpolar"
           }
          ],
          "carpet": [
           {
            "aaxis": {
             "endlinecolor": "#2a3f5f",
             "gridcolor": "#C8D4E3",
             "linecolor": "#C8D4E3",
             "minorgridcolor": "#C8D4E3",
             "startlinecolor": "#2a3f5f"
            },
            "baxis": {
             "endlinecolor": "#2a3f5f",
             "gridcolor": "#C8D4E3",
             "linecolor": "#C8D4E3",
             "minorgridcolor": "#C8D4E3",
             "startlinecolor": "#2a3f5f"
            },
            "type": "carpet"
           }
          ],
          "choropleth": [
           {
            "colorbar": {
             "outlinewidth": 0,
             "ticks": ""
            },
            "type": "choropleth"
           }
          ],
          "contour": [
           {
            "colorbar": {
             "outlinewidth": 0,
             "ticks": ""
            },
            "colorscale": [
             [
              0.0,
              "#0d0887"
             ],
             [
              0.1111111111111111,
              "#46039f"
             ],
             [
              0.2222222222222222,
              "#7201a8"
             ],
             [
              0.3333333333333333,
              "#9c179e"
             ],
             [
              0.4444444444444444,
              "#bd3786"
             ],
             [
              0.5555555555555556,
              "#d8576b"
             ],
             [
              0.6666666666666666,
              "#ed7953"
             ],
             [
              0.7777777777777778,
              "#fb9f3a"
             ],
             [
              0.8888888888888888,
              "#fdca26"
             ],
             [
              1.0,
              "#f0f921"
             ]
            ],
            "type": "contour"
           }
          ],
          "contourcarpet": [
           {
            "colorbar": {
             "outlinewidth": 0,
             "ticks": ""
            },
            "type": "contourcarpet"
           }
          ],
          "heatmap": [
           {
            "colorbar": {
             "outlinewidth": 0,
             "ticks": ""
            },
            "colorscale": [
             [
              0.0,
              "#0d0887"
             ],
             [
              0.1111111111111111,
              "#46039f"
             ],
             [
              0.2222222222222222,
              "#7201a8"
             ],
             [
              0.3333333333333333,
              "#9c179e"
             ],
             [
              0.4444444444444444,
              "#bd3786"
             ],
             [
              0.5555555555555556,
              "#d8576b"
             ],
             [
              0.6666666666666666,
              "#ed7953"
             ],
             [
              0.7777777777777778,
              "#fb9f3a"
             ],
             [
              0.8888888888888888,
              "#fdca26"
             ],
             [
              1.0,
              "#f0f921"
             ]
            ],
            "type": "heatmap"
           }
          ],
          "heatmapgl": [
           {
            "colorbar": {
             "outlinewidth": 0,
             "ticks": ""
            },
            "colorscale": [
             [
              0.0,
              "#0d0887"
             ],
             [
              0.1111111111111111,
              "#46039f"
             ],
             [
              0.2222222222222222,
              "#7201a8"
             ],
             [
              0.3333333333333333,
              "#9c179e"
             ],
             [
              0.4444444444444444,
              "#bd3786"
             ],
             [
              0.5555555555555556,
              "#d8576b"
             ],
             [
              0.6666666666666666,
              "#ed7953"
             ],
             [
              0.7777777777777778,
              "#fb9f3a"
             ],
             [
              0.8888888888888888,
              "#fdca26"
             ],
             [
              1.0,
              "#f0f921"
             ]
            ],
            "type": "heatmapgl"
           }
          ],
          "histogram": [
           {
            "marker": {
             "pattern": {
              "fillmode": "overlay",
              "size": 10,
              "solidity": 0.2
             }
            },
            "type": "histogram"
           }
          ],
          "histogram2d": [
           {
            "colorbar": {
             "outlinewidth": 0,
             "ticks": ""
            },
            "colorscale": [
             [
              0.0,
              "#0d0887"
             ],
             [
              0.1111111111111111,
              "#46039f"
             ],
             [
              0.2222222222222222,
              "#7201a8"
             ],
             [
              0.3333333333333333,
              "#9c179e"
             ],
             [
              0.4444444444444444,
              "#bd3786"
             ],
             [
              0.5555555555555556,
              "#d8576b"
             ],
             [
              0.6666666666666666,
              "#ed7953"
             ],
             [
              0.7777777777777778,
              "#fb9f3a"
             ],
             [
              0.8888888888888888,
              "#fdca26"
             ],
             [
              1.0,
              "#f0f921"
             ]
            ],
            "type": "histogram2d"
           }
          ],
          "histogram2dcontour": [
           {
            "colorbar": {
             "outlinewidth": 0,
             "ticks": ""
            },
            "colorscale": [
             [
              0.0,
              "#0d0887"
             ],
             [
              0.1111111111111111,
              "#46039f"
             ],
             [
              0.2222222222222222,
              "#7201a8"
             ],
             [
              0.3333333333333333,
              "#9c179e"
             ],
             [
              0.4444444444444444,
              "#bd3786"
             ],
             [
              0.5555555555555556,
              "#d8576b"
             ],
             [
              0.6666666666666666,
              "#ed7953"
             ],
             [
              0.7777777777777778,
              "#fb9f3a"
             ],
             [
              0.8888888888888888,
              "#fdca26"
             ],
             [
              1.0,
              "#f0f921"
             ]
            ],
            "type": "histogram2dcontour"
           }
          ],
          "mesh3d": [
           {
            "colorbar": {
             "outlinewidth": 0,
             "ticks": ""
            },
            "type": "mesh3d"
           }
          ],
          "parcoords": [
           {
            "line": {
             "colorbar": {
              "outlinewidth": 0,
              "ticks": ""
             }
            },
            "type": "parcoords"
           }
          ],
          "pie": [
           {
            "automargin": true,
            "type": "pie"
           }
          ],
          "scatter": [
           {
            "fillpattern": {
             "fillmode": "overlay",
             "size": 10,
             "solidity": 0.2
            },
            "type": "scatter"
           }
          ],
          "scatter3d": [
           {
            "line": {
             "colorbar": {
              "outlinewidth": 0,
              "ticks": ""
             }
            },
            "marker": {
             "colorbar": {
              "outlinewidth": 0,
              "ticks": ""
             }
            },
            "type": "scatter3d"
           }
          ],
          "scattercarpet": [
           {
            "marker": {
             "colorbar": {
              "outlinewidth": 0,
              "ticks": ""
             }
            },
            "type": "scattercarpet"
           }
          ],
          "scattergeo": [
           {
            "marker": {
             "colorbar": {
              "outlinewidth": 0,
              "ticks": ""
             }
            },
            "type": "scattergeo"
           }
          ],
          "scattergl": [
           {
            "marker": {
             "colorbar": {
              "outlinewidth": 0,
              "ticks": ""
             }
            },
            "type": "scattergl"
           }
          ],
          "scattermapbox": [
           {
            "marker": {
             "colorbar": {
              "outlinewidth": 0,
              "ticks": ""
             }
            },
            "type": "scattermapbox"
           }
          ],
          "scatterpolar": [
           {
            "marker": {
             "colorbar": {
              "outlinewidth": 0,
              "ticks": ""
             }
            },
            "type": "scatterpolar"
           }
          ],
          "scatterpolargl": [
           {
            "marker": {
             "colorbar": {
              "outlinewidth": 0,
              "ticks": ""
             }
            },
            "type": "scatterpolargl"
           }
          ],
          "scatterternary": [
           {
            "marker": {
             "colorbar": {
              "outlinewidth": 0,
              "ticks": ""
             }
            },
            "type": "scatterternary"
           }
          ],
          "surface": [
           {
            "colorbar": {
             "outlinewidth": 0,
             "ticks": ""
            },
            "colorscale": [
             [
              0.0,
              "#0d0887"
             ],
             [
              0.1111111111111111,
              "#46039f"
             ],
             [
              0.2222222222222222,
              "#7201a8"
             ],
             [
              0.3333333333333333,
              "#9c179e"
             ],
             [
              0.4444444444444444,
              "#bd3786"
             ],
             [
              0.5555555555555556,
              "#d8576b"
             ],
             [
              0.6666666666666666,
              "#ed7953"
             ],
             [
              0.7777777777777778,
              "#fb9f3a"
             ],
             [
              0.8888888888888888,
              "#fdca26"
             ],
             [
              1.0,
              "#f0f921"
             ]
            ],
            "type": "surface"
           }
          ],
          "table": [
           {
            "cells": {
             "fill": {
              "color": "#EBF0F8"
             },
             "line": {
              "color": "white"
             }
            },
            "header": {
             "fill": {
              "color": "#C8D4E3"
             },
             "line": {
              "color": "white"
             }
            },
            "type": "table"
           }
          ]
         },
         "layout": {
          "annotationdefaults": {
           "arrowcolor": "#2a3f5f",
           "arrowhead": 0,
           "arrowwidth": 1
          },
          "autotypenumbers": "strict",
          "coloraxis": {
           "colorbar": {
            "outlinewidth": 0,
            "ticks": ""
           }
          },
          "colorscale": {
           "diverging": [
            [
             0,
             "#8e0152"
            ],
            [
             0.1,
             "#c51b7d"
            ],
            [
             0.2,
             "#de77ae"
            ],
            [
             0.3,
             "#f1b6da"
            ],
            [
             0.4,
             "#fde0ef"
            ],
            [
             0.5,
             "#f7f7f7"
            ],
            [
             0.6,
             "#e6f5d0"
            ],
            [
             0.7,
             "#b8e186"
            ],
            [
             0.8,
             "#7fbc41"
            ],
            [
             0.9,
             "#4d9221"
            ],
            [
             1,
             "#276419"
            ]
           ],
           "sequential": [
            [
             0.0,
             "#0d0887"
            ],
            [
             0.1111111111111111,
             "#46039f"
            ],
            [
             0.2222222222222222,
             "#7201a8"
            ],
            [
             0.3333333333333333,
             "#9c179e"
            ],
            [
             0.4444444444444444,
             "#bd3786"
            ],
            [
             0.5555555555555556,
             "#d8576b"
            ],
            [
             0.6666666666666666,
             "#ed7953"
            ],
            [
             0.7777777777777778,
             "#fb9f3a"
            ],
            [
             0.8888888888888888,
             "#fdca26"
            ],
            [
             1.0,
             "#f0f921"
            ]
           ],
           "sequentialminus": [
            [
             0.0,
             "#0d0887"
            ],
            [
             0.1111111111111111,
             "#46039f"
            ],
            [
             0.2222222222222222,
             "#7201a8"
            ],
            [
             0.3333333333333333,
             "#9c179e"
            ],
            [
             0.4444444444444444,
             "#bd3786"
            ],
            [
             0.5555555555555556,
             "#d8576b"
            ],
            [
             0.6666666666666666,
             "#ed7953"
            ],
            [
             0.7777777777777778,
             "#fb9f3a"
            ],
            [
             0.8888888888888888,
             "#fdca26"
            ],
            [
             1.0,
             "#f0f921"
            ]
           ]
          },
          "colorway": [
           "#636efa",
           "#EF553B",
           "#00cc96",
           "#ab63fa",
           "#FFA15A",
           "#19d3f3",
           "#FF6692",
           "#B6E880",
           "#FF97FF",
           "#FECB52"
          ],
          "font": {
           "color": "#2a3f5f"
          },
          "geo": {
           "bgcolor": "white",
           "lakecolor": "white",
           "landcolor": "white",
           "showlakes": true,
           "showland": true,
           "subunitcolor": "#C8D4E3"
          },
          "hoverlabel": {
           "align": "left"
          },
          "hovermode": "closest",
          "mapbox": {
           "style": "light"
          },
          "paper_bgcolor": "white",
          "plot_bgcolor": "white",
          "polar": {
           "angularaxis": {
            "gridcolor": "#EBF0F8",
            "linecolor": "#EBF0F8",
            "ticks": ""
           },
           "bgcolor": "white",
           "radialaxis": {
            "gridcolor": "#EBF0F8",
            "linecolor": "#EBF0F8",
            "ticks": ""
           }
          },
          "scene": {
           "xaxis": {
            "backgroundcolor": "white",
            "gridcolor": "#DFE8F3",
            "gridwidth": 2,
            "linecolor": "#EBF0F8",
            "showbackground": true,
            "ticks": "",
            "zerolinecolor": "#EBF0F8"
           },
           "yaxis": {
            "backgroundcolor": "white",
            "gridcolor": "#DFE8F3",
            "gridwidth": 2,
            "linecolor": "#EBF0F8",
            "showbackground": true,
            "ticks": "",
            "zerolinecolor": "#EBF0F8"
           },
           "zaxis": {
            "backgroundcolor": "white",
            "gridcolor": "#DFE8F3",
            "gridwidth": 2,
            "linecolor": "#EBF0F8",
            "showbackground": true,
            "ticks": "",
            "zerolinecolor": "#EBF0F8"
           }
          },
          "shapedefaults": {
           "line": {
            "color": "#2a3f5f"
           }
          },
          "ternary": {
           "aaxis": {
            "gridcolor": "#DFE8F3",
            "linecolor": "#A2B1C6",
            "ticks": ""
           },
           "baxis": {
            "gridcolor": "#DFE8F3",
            "linecolor": "#A2B1C6",
            "ticks": ""
           },
           "bgcolor": "white",
           "caxis": {
            "gridcolor": "#DFE8F3",
            "linecolor": "#A2B1C6",
            "ticks": ""
           }
          },
          "title": {
           "x": 0.05
          },
          "xaxis": {
           "automargin": true,
           "gridcolor": "#EBF0F8",
           "linecolor": "#EBF0F8",
           "ticks": "",
           "title": {
            "standoff": 15
           },
           "zerolinecolor": "#EBF0F8",
           "zerolinewidth": 2
          },
          "yaxis": {
           "automargin": true,
           "gridcolor": "#EBF0F8",
           "linecolor": "#EBF0F8",
           "ticks": "",
           "title": {
            "standoff": 15
           },
           "zerolinecolor": "#EBF0F8",
           "zerolinewidth": 2
          }
         }
        },
        "title": {
         "text": "",
         "x": 0.5
        },
        "width": 1000
       }
      },
      "text/html": [
       "<div>                            <div id=\"cccda7aa-5dcc-4dbe-a1de-884e141cebfd\" class=\"plotly-graph-div\" style=\"height:850px; width:1000px;\"></div>            <script type=\"text/javascript\">                require([\"plotly\"], function(Plotly) {                    window.PLOTLYENV=window.PLOTLYENV || {};                                    if (document.getElementById(\"cccda7aa-5dcc-4dbe-a1de-884e141cebfd\")) {                    Plotly.newPlot(                        \"cccda7aa-5dcc-4dbe-a1de-884e141cebfd\",                        [{\"domain\":{\"x\":[0.0,1.0],\"y\":[0.5700000000000001,1.0]},\"hoverinfo\":\"label+value+percent\",\"hovertemplate\":\"%{label}\\u003cbr\\u003e%{value:\\u003e,} (%{percent:.1%})\",\"labels\":[\"provenance\",\"osmosis\",\"cosmoshub\",\"injective\",\"kujira\",\"sei\",\"juno\",\"persistence\",\"gravitybridge\",\"stride\",\"carbon\",\"terra2\",\"neutron\",\"axelar\",\"evmos\",\"kava\",\"crescent\",\"remaining 132 chains\\n\\u003cbr\\u003e\"],\"marker\":{\"colors\":[\"#636EFA\",\"#EF553B\",\"#00CC96\",\"#AB63FA\",\"#FFA15A\",\"#19D3F3\",\"#FF6692\",\"#B6E880\",\"#FF97FF\",\"#FECB52\"]},\"name\":\"assets by chains\",\"rotation\":-35,\"sort\":false,\"text\":[\"4,558\",\"3,816\",\"1,560\",\"1,420\",\"787\",\"741\",\"555\",\"529\",\"509\",\"419\",\"389\",\"359\",\"341\",\"316\",\"302\",\"277\",\"248\",\"4,003\"],\"textinfo\":\"label+value+percent\",\"textposition\":\"outside\",\"texttemplate\":\" %{label}  %{value:\\u003e,} (%{percent:.1%}) \",\"values\":[4558,3816,1560,1420,787,741,555,529,509,419,389,359,341,316,302,277,248,4003],\"type\":\"pie\"},{\"domain\":{\"x\":[0.0,0.3],\"y\":[0.0,0.43]},\"hoverinfo\":\"label+value+percent\",\"hovertemplate\":\"%{label}\\u003cbr\\u003e%{value:\\u003e,} (%{percent:.1%})\",\"labels\":[\"IBC (ICS-20)\",\"Native\",\"Token Factory\",\"LP Tokens\",\"CW-20\",\"ERC-20\"],\"marker\":{\"colors\":[\"#3366CC\",\"#DC3912\",\"#FF9900\",\"#109618\",\"#990099\",\"#0099C6\",\"#DD4477\",\"#66AA00\",\"#B82E2E\",\"#316395\"]},\"name\":\"assets by type\",\"rotation\":90,\"sort\":false,\"text\":[\"9,333\",\"6,766\",\"3,227\",\"1,605\",\"105\",\"93\"],\"textinfo\":\"label+value+percent\",\"textposition\":\"outside\",\"texttemplate\":\" %{label}  %{value:\\u003e,} (%{percent:.1%}) \",\"values\":[9333,6766,3227,1605,105,93],\"type\":\"pie\"},{\"domain\":{\"x\":[0.7,1.0],\"y\":[0.0,0.43]},\"hoverinfo\":\"label+value+percent\",\"hovertemplate\":\"%{label}\\u003cbr\\u003e%{value:\\u003e,} (%{percent:.1%})\",\"labels\":[\"uusdc\",\"uatom\",\"uluna\",\"uosmo\",\"uusd\",\"aevmos\",\"remaining 12,001 base denoms\\n\\u003cbr\\u003e\"],\"marker\":{\"colors\":[\"rgb(153,153,153)\",\"rgb(247,129,191)\",\"rgb(166,86,40)\",\"rgb(255,255,51)\",\"rgb(255,127,0)\",\"rgb(152,78,163)\",\"rgb(77,175,74)\",\"rgb(55,126,184)\",\"rgb(228,26,28)\"]},\"name\":\"assets by base denoms\",\"rotation\":75,\"sort\":false,\"text\":[\"780\",\"593\",\"452\",\"298\",\"194\",\"146\",\"18,561\"],\"textinfo\":\"label+value+percent\",\"textposition\":\"outside\",\"texttemplate\":\" %{label}  %{value:\\u003e,} (%{percent:.1%}) \",\"values\":[780,593,452,298,194,146,18561],\"type\":\"pie\"}],                        {\"annotations\":[{\"font\":{\"size\":16},\"showarrow\":false,\"text\":\"Cosmos-SDK Assets by Chains\",\"x\":0.5,\"xanchor\":\"center\",\"xref\":\"paper\",\"y\":1.04,\"yanchor\":\"bottom\",\"yref\":\"paper\"},{\"font\":{\"size\":16},\"showarrow\":false,\"text\":\"by Type\",\"x\":0.15,\"xanchor\":\"center\",\"xref\":\"paper\",\"y\":0.37,\"yanchor\":\"bottom\",\"yref\":\"paper\"},{\"font\":{\"size\":16},\"showarrow\":false,\"text\":\"by Base Denoms\",\"x\":0.85,\"xanchor\":\"center\",\"xref\":\"paper\",\"y\":0.37,\"yanchor\":\"bottom\",\"yref\":\"paper\"},{\"showarrow\":false,\"text\":\"github.com\\u002fSnedashkovsky\\u002fon-chain-registry\",\"x\":-0.3,\"y\":-0.05},{\"showarrow\":false,\"text\":\"updated 2024-05-05\",\"x\":1.25,\"y\":-0.05}],\"autosize\":false,\"font\":{\"family\":\"Play\"},\"height\":850,\"margin\":{\"b\":0,\"l\":0,\"r\":0,\"t\":80},\"showlegend\":false,\"template\":{\"data\":{\"barpolar\":[{\"marker\":{\"line\":{\"color\":\"white\",\"width\":0.5},\"pattern\":{\"fillmode\":\"overlay\",\"size\":10,\"solidity\":0.2}},\"type\":\"barpolar\"}],\"bar\":[{\"error_x\":{\"color\":\"#2a3f5f\"},\"error_y\":{\"color\":\"#2a3f5f\"},\"marker\":{\"line\":{\"color\":\"white\",\"width\":0.5},\"pattern\":{\"fillmode\":\"overlay\",\"size\":10,\"solidity\":0.2}},\"type\":\"bar\"}],\"carpet\":[{\"aaxis\":{\"endlinecolor\":\"#2a3f5f\",\"gridcolor\":\"#C8D4E3\",\"linecolor\":\"#C8D4E3\",\"minorgridcolor\":\"#C8D4E3\",\"startlinecolor\":\"#2a3f5f\"},\"baxis\":{\"endlinecolor\":\"#2a3f5f\",\"gridcolor\":\"#C8D4E3\",\"linecolor\":\"#C8D4E3\",\"minorgridcolor\":\"#C8D4E3\",\"startlinecolor\":\"#2a3f5f\"},\"type\":\"carpet\"}],\"choropleth\":[{\"colorbar\":{\"outlinewidth\":0,\"ticks\":\"\"},\"type\":\"choropleth\"}],\"contourcarpet\":[{\"colorbar\":{\"outlinewidth\":0,\"ticks\":\"\"},\"type\":\"contourcarpet\"}],\"contour\":[{\"colorbar\":{\"outlinewidth\":0,\"ticks\":\"\"},\"colorscale\":[[0.0,\"#0d0887\"],[0.1111111111111111,\"#46039f\"],[0.2222222222222222,\"#7201a8\"],[0.3333333333333333,\"#9c179e\"],[0.4444444444444444,\"#bd3786\"],[0.5555555555555556,\"#d8576b\"],[0.6666666666666666,\"#ed7953\"],[0.7777777777777778,\"#fb9f3a\"],[0.8888888888888888,\"#fdca26\"],[1.0,\"#f0f921\"]],\"type\":\"contour\"}],\"heatmapgl\":[{\"colorbar\":{\"outlinewidth\":0,\"ticks\":\"\"},\"colorscale\":[[0.0,\"#0d0887\"],[0.1111111111111111,\"#46039f\"],[0.2222222222222222,\"#7201a8\"],[0.3333333333333333,\"#9c179e\"],[0.4444444444444444,\"#bd3786\"],[0.5555555555555556,\"#d8576b\"],[0.6666666666666666,\"#ed7953\"],[0.7777777777777778,\"#fb9f3a\"],[0.8888888888888888,\"#fdca26\"],[1.0,\"#f0f921\"]],\"type\":\"heatmapgl\"}],\"heatmap\":[{\"colorbar\":{\"outlinewidth\":0,\"ticks\":\"\"},\"colorscale\":[[0.0,\"#0d0887\"],[0.1111111111111111,\"#46039f\"],[0.2222222222222222,\"#7201a8\"],[0.3333333333333333,\"#9c179e\"],[0.4444444444444444,\"#bd3786\"],[0.5555555555555556,\"#d8576b\"],[0.6666666666666666,\"#ed7953\"],[0.7777777777777778,\"#fb9f3a\"],[0.8888888888888888,\"#fdca26\"],[1.0,\"#f0f921\"]],\"type\":\"heatmap\"}],\"histogram2dcontour\":[{\"colorbar\":{\"outlinewidth\":0,\"ticks\":\"\"},\"colorscale\":[[0.0,\"#0d0887\"],[0.1111111111111111,\"#46039f\"],[0.2222222222222222,\"#7201a8\"],[0.3333333333333333,\"#9c179e\"],[0.4444444444444444,\"#bd3786\"],[0.5555555555555556,\"#d8576b\"],[0.6666666666666666,\"#ed7953\"],[0.7777777777777778,\"#fb9f3a\"],[0.8888888888888888,\"#fdca26\"],[1.0,\"#f0f921\"]],\"type\":\"histogram2dcontour\"}],\"histogram2d\":[{\"colorbar\":{\"outlinewidth\":0,\"ticks\":\"\"},\"colorscale\":[[0.0,\"#0d0887\"],[0.1111111111111111,\"#46039f\"],[0.2222222222222222,\"#7201a8\"],[0.3333333333333333,\"#9c179e\"],[0.4444444444444444,\"#bd3786\"],[0.5555555555555556,\"#d8576b\"],[0.6666666666666666,\"#ed7953\"],[0.7777777777777778,\"#fb9f3a\"],[0.8888888888888888,\"#fdca26\"],[1.0,\"#f0f921\"]],\"type\":\"histogram2d\"}],\"histogram\":[{\"marker\":{\"pattern\":{\"fillmode\":\"overlay\",\"size\":10,\"solidity\":0.2}},\"type\":\"histogram\"}],\"mesh3d\":[{\"colorbar\":{\"outlinewidth\":0,\"ticks\":\"\"},\"type\":\"mesh3d\"}],\"parcoords\":[{\"line\":{\"colorbar\":{\"outlinewidth\":0,\"ticks\":\"\"}},\"type\":\"parcoords\"}],\"pie\":[{\"automargin\":true,\"type\":\"pie\"}],\"scatter3d\":[{\"line\":{\"colorbar\":{\"outlinewidth\":0,\"ticks\":\"\"}},\"marker\":{\"colorbar\":{\"outlinewidth\":0,\"ticks\":\"\"}},\"type\":\"scatter3d\"}],\"scattercarpet\":[{\"marker\":{\"colorbar\":{\"outlinewidth\":0,\"ticks\":\"\"}},\"type\":\"scattercarpet\"}],\"scattergeo\":[{\"marker\":{\"colorbar\":{\"outlinewidth\":0,\"ticks\":\"\"}},\"type\":\"scattergeo\"}],\"scattergl\":[{\"marker\":{\"colorbar\":{\"outlinewidth\":0,\"ticks\":\"\"}},\"type\":\"scattergl\"}],\"scattermapbox\":[{\"marker\":{\"colorbar\":{\"outlinewidth\":0,\"ticks\":\"\"}},\"type\":\"scattermapbox\"}],\"scatterpolargl\":[{\"marker\":{\"colorbar\":{\"outlinewidth\":0,\"ticks\":\"\"}},\"type\":\"scatterpolargl\"}],\"scatterpolar\":[{\"marker\":{\"colorbar\":{\"outlinewidth\":0,\"ticks\":\"\"}},\"type\":\"scatterpolar\"}],\"scatter\":[{\"fillpattern\":{\"fillmode\":\"overlay\",\"size\":10,\"solidity\":0.2},\"type\":\"scatter\"}],\"scatterternary\":[{\"marker\":{\"colorbar\":{\"outlinewidth\":0,\"ticks\":\"\"}},\"type\":\"scatterternary\"}],\"surface\":[{\"colorbar\":{\"outlinewidth\":0,\"ticks\":\"\"},\"colorscale\":[[0.0,\"#0d0887\"],[0.1111111111111111,\"#46039f\"],[0.2222222222222222,\"#7201a8\"],[0.3333333333333333,\"#9c179e\"],[0.4444444444444444,\"#bd3786\"],[0.5555555555555556,\"#d8576b\"],[0.6666666666666666,\"#ed7953\"],[0.7777777777777778,\"#fb9f3a\"],[0.8888888888888888,\"#fdca26\"],[1.0,\"#f0f921\"]],\"type\":\"surface\"}],\"table\":[{\"cells\":{\"fill\":{\"color\":\"#EBF0F8\"},\"line\":{\"color\":\"white\"}},\"header\":{\"fill\":{\"color\":\"#C8D4E3\"},\"line\":{\"color\":\"white\"}},\"type\":\"table\"}]},\"layout\":{\"annotationdefaults\":{\"arrowcolor\":\"#2a3f5f\",\"arrowhead\":0,\"arrowwidth\":1},\"autotypenumbers\":\"strict\",\"coloraxis\":{\"colorbar\":{\"outlinewidth\":0,\"ticks\":\"\"}},\"colorscale\":{\"diverging\":[[0,\"#8e0152\"],[0.1,\"#c51b7d\"],[0.2,\"#de77ae\"],[0.3,\"#f1b6da\"],[0.4,\"#fde0ef\"],[0.5,\"#f7f7f7\"],[0.6,\"#e6f5d0\"],[0.7,\"#b8e186\"],[0.8,\"#7fbc41\"],[0.9,\"#4d9221\"],[1,\"#276419\"]],\"sequential\":[[0.0,\"#0d0887\"],[0.1111111111111111,\"#46039f\"],[0.2222222222222222,\"#7201a8\"],[0.3333333333333333,\"#9c179e\"],[0.4444444444444444,\"#bd3786\"],[0.5555555555555556,\"#d8576b\"],[0.6666666666666666,\"#ed7953\"],[0.7777777777777778,\"#fb9f3a\"],[0.8888888888888888,\"#fdca26\"],[1.0,\"#f0f921\"]],\"sequentialminus\":[[0.0,\"#0d0887\"],[0.1111111111111111,\"#46039f\"],[0.2222222222222222,\"#7201a8\"],[0.3333333333333333,\"#9c179e\"],[0.4444444444444444,\"#bd3786\"],[0.5555555555555556,\"#d8576b\"],[0.6666666666666666,\"#ed7953\"],[0.7777777777777778,\"#fb9f3a\"],[0.8888888888888888,\"#fdca26\"],[1.0,\"#f0f921\"]]},\"colorway\":[\"#636efa\",\"#EF553B\",\"#00cc96\",\"#ab63fa\",\"#FFA15A\",\"#19d3f3\",\"#FF6692\",\"#B6E880\",\"#FF97FF\",\"#FECB52\"],\"font\":{\"color\":\"#2a3f5f\"},\"geo\":{\"bgcolor\":\"white\",\"lakecolor\":\"white\",\"landcolor\":\"white\",\"showlakes\":true,\"showland\":true,\"subunitcolor\":\"#C8D4E3\"},\"hoverlabel\":{\"align\":\"left\"},\"hovermode\":\"closest\",\"mapbox\":{\"style\":\"light\"},\"paper_bgcolor\":\"white\",\"plot_bgcolor\":\"white\",\"polar\":{\"angularaxis\":{\"gridcolor\":\"#EBF0F8\",\"linecolor\":\"#EBF0F8\",\"ticks\":\"\"},\"bgcolor\":\"white\",\"radialaxis\":{\"gridcolor\":\"#EBF0F8\",\"linecolor\":\"#EBF0F8\",\"ticks\":\"\"}},\"scene\":{\"xaxis\":{\"backgroundcolor\":\"white\",\"gridcolor\":\"#DFE8F3\",\"gridwidth\":2,\"linecolor\":\"#EBF0F8\",\"showbackground\":true,\"ticks\":\"\",\"zerolinecolor\":\"#EBF0F8\"},\"yaxis\":{\"backgroundcolor\":\"white\",\"gridcolor\":\"#DFE8F3\",\"gridwidth\":2,\"linecolor\":\"#EBF0F8\",\"showbackground\":true,\"ticks\":\"\",\"zerolinecolor\":\"#EBF0F8\"},\"zaxis\":{\"backgroundcolor\":\"white\",\"gridcolor\":\"#DFE8F3\",\"gridwidth\":2,\"linecolor\":\"#EBF0F8\",\"showbackground\":true,\"ticks\":\"\",\"zerolinecolor\":\"#EBF0F8\"}},\"shapedefaults\":{\"line\":{\"color\":\"#2a3f5f\"}},\"ternary\":{\"aaxis\":{\"gridcolor\":\"#DFE8F3\",\"linecolor\":\"#A2B1C6\",\"ticks\":\"\"},\"baxis\":{\"gridcolor\":\"#DFE8F3\",\"linecolor\":\"#A2B1C6\",\"ticks\":\"\"},\"bgcolor\":\"white\",\"caxis\":{\"gridcolor\":\"#DFE8F3\",\"linecolor\":\"#A2B1C6\",\"ticks\":\"\"}},\"title\":{\"x\":0.05},\"xaxis\":{\"automargin\":true,\"gridcolor\":\"#EBF0F8\",\"linecolor\":\"#EBF0F8\",\"ticks\":\"\",\"title\":{\"standoff\":15},\"zerolinecolor\":\"#EBF0F8\",\"zerolinewidth\":2},\"yaxis\":{\"automargin\":true,\"gridcolor\":\"#EBF0F8\",\"linecolor\":\"#EBF0F8\",\"ticks\":\"\",\"title\":{\"standoff\":15},\"zerolinecolor\":\"#EBF0F8\",\"zerolinewidth\":2}}},\"title\":{\"text\":\"\",\"x\":0.5},\"width\":1000},                        {\"responsive\": true}                    ).then(function(){\n",
       "                            \n",
       "var gd = document.getElementById('cccda7aa-5dcc-4dbe-a1de-884e141cebfd');\n",
       "var x = new MutationObserver(function (mutations, observer) {{\n",
       "        var display = window.getComputedStyle(gd).display;\n",
       "        if (!display || display === 'none') {{\n",
       "            console.log([gd, 'removed!']);\n",
       "            Plotly.purge(gd);\n",
       "            observer.disconnect();\n",
       "        }}\n",
       "}});\n",
       "\n",
       "// Listen for the removal of the full notebook cells\n",
       "var notebookContainer = gd.closest('#notebook-container');\n",
       "if (notebookContainer) {{\n",
       "    x.observe(notebookContainer, {childList: true});\n",
       "}}\n",
       "\n",
       "// Listen for the clearing of the current output cell\n",
       "var outputEl = gd.closest('.output');\n",
       "if (outputEl) {{\n",
       "    x.observe(outputEl, {childList: true});\n",
       "}}\n",
       "\n",
       "                        })                };                });            </script>        </div>"
      ]
     },
     "metadata": {},
     "output_type": "display_data"
    }
   ],
   "source": [
    "fig = make_subplots(\n",
    "    rows=2,\n",
    "    cols=2,\n",
    "    specs=[[{'type': 'pie', 'colspan': 2}, None],\n",
    "           [{'type': 'pie'}, {'type': 'pie'}]],\n",
    "    subplot_titles=('Cosmos-SDK Assets by Chains', 'by Type', 'by Base Denoms'),\n",
    "    horizontal_spacing=0.4,\n",
    "    vertical_spacing=0.14\n",
    ")\n",
    "\n",
    "fig.add_trace(\n",
    "    go.Pie(\n",
    "        labels=list(assets_by_chain.to_dict().keys()),\n",
    "        values=list(assets_by_chain.to_dict().values()),\n",
    "        text=list(assets_by_chain.map('{:>,}'.format).to_dict().values()),\n",
    "        sort=False,\n",
    "        name='assets by chains',\n",
    "        rotation=-35,\n",
    "        marker_colors=px.colors.qualitative.Plotly\n",
    "    ),\n",
    "    row=1,\n",
    "    col=1)\n",
    "\n",
    "fig.add_trace(\n",
    "    go.Pie(\n",
    "        labels=list(assets_by_type_asset.to_dict().keys()),\n",
    "        values=list(assets_by_type_asset.to_dict().values()),\n",
    "        text=list(assets_by_type_asset.map('{:>,}'.format).to_dict().values()),\n",
    "        sort=False,\n",
    "        name='assets by type',\n",
    "        rotation=90,\n",
    "        marker_colors=px.colors.qualitative.G10\n",
    "    ),\n",
    "    row=2,\n",
    "    col=1)\n",
    "fig.add_trace(\n",
    "    go.Pie(\n",
    "        labels=list(assets_by_denom_base.to_dict().keys()),\n",
    "        values=list(assets_by_denom_base.to_dict().values()),\n",
    "        text=list(assets_by_denom_base.map('{:>,}'.format).to_dict().values()),\n",
    "        sort=False,\n",
    "        name='assets by base denoms',\n",
    "        rotation=75,\n",
    "        marker_colors=px.colors.qualitative.Set1_r\n",
    "    ),\n",
    "    row=2,\n",
    "    col=2)\n",
    "fig.update_traces(\n",
    "    textposition='outside',\n",
    "    hoverinfo='label+value+percent',\n",
    "    textinfo='label+value+percent',\n",
    "    texttemplate=' %{label}  %{value:>,} (%{percent:.1%}) ',\n",
    "    hovertemplate='%{label}<br>%{value:>,} (%{percent:.1%})'\n",
    ")\n",
    "fig.update_layout(\n",
    "    height=850,\n",
    "    width=1000,\n",
    "    showlegend=False,\n",
    "    font_family=\"Play\",\n",
    "    title_text='',\n",
    "    title_x=0.5,\n",
    "    template='plotly_white',\n",
    "    autosize=False,\n",
    "    margin={'l': 0, 'r': 0, 't': 80, 'b': 0}\n",
    ")\n",
    "\n",
    "fig['layout']['annotations'][0]['y'] = 1.04\n",
    "fig['layout']['annotations'][1]['y'] = 0.37\n",
    "fig['layout']['annotations'][2]['y'] = 0.37\n",
    "\n",
    "fig.add_annotation(\n",
    "    x=-0.3,\n",
    "    y=-0.05,\n",
    "    text=f'github.com/Snedashkovsky/on-chain-registry',\n",
    "    showarrow=False)\n",
    "fig.add_annotation(\n",
    "    x=1.25,\n",
    "    y=-0.05,\n",
    "    text=f'updated {date.today()}',\n",
    "    showarrow=False)\n",
    "\n",
    "fig.write_image('charts/charts.png', scale=1.5)\n",
    "fig.write_html('charts/index.html', include_plotlyjs='cdn')\n",
    "iplot(fig)"
   ]
  },
  {
   "cell_type": "markdown",
   "metadata": {
    "collapsed": false
   },
   "source": [
    "## contract query\n",
    "### get any assets in alphabetical order for a given chain"
   ]
  },
  {
   "cell_type": "code",
   "execution_count": 6,
   "metadata": {
    "ExecuteTime": {
     "end_time": "2023-09-19T03:15:25.890828Z",
     "start_time": "2023-09-19T03:15:25.171176Z"
    },
    "collapsed": false,
    "execution": {
     "iopub.execute_input": "2024-05-05T22:06:53.953651Z",
     "iopub.status.busy": "2024-05-05T22:06:53.953327Z",
     "iopub.status.idle": "2024-05-05T22:06:54.299586Z",
     "shell.execute_reply": "2024-05-05T22:06:54.298685Z"
    }
   },
   "outputs": [
    {
     "name": "stdout",
     "output_type": "stream",
     "text": [
      "05-05-2024 18:06:53 - INFO - https://osmosis-testnet-api.polkachu.com/cosmwasm/wasm/v1/contract/osmo1nwesd2xe6cnvtpqd29xg7qeznlm65x02lfjfg20wlvkdze20hcxsftxtzz/smart/eyJnZXRfYXNzZXRzX2J5X2NoYWluIjogeyJjaGFpbl9uYW1lIjogIm9zbW9zaXMiLCAibGltaXQiOiA0LCAic3RhcnRfYWZ0ZXJfYmFzZSI6ICJpYmMvRkY2RjQ3NzRBQkMyNDc4ODMyQTZENjY4MURCOUE3QThEREM0NDg1MjEyQThBRUQ4NDY0MkVGQ0Q2M0M3NDhBOSJ9fQ==\n",
      "{'data': {'assets': [{'address': None,\n",
      "                      'admin': None,\n",
      "                      'base': 'ibc/FFA652599C77E853F017193E36B5AB2D4D9AFC4B54721A74904F80C9236BF3B7',\n",
      "                      'chain_id': 'osmosis-1',\n",
      "                      'chain_name': 'osmosis',\n",
      "                      'coingecko_id': None,\n",
      "                      'denom_units': None,\n",
      "                      'description': None,\n",
      "                      'display': None,\n",
      "                      'ibc': {'base_supply': None,\n",
      "                              'dst_channel': 'channel-3',\n",
      "                              'source_channel': 'channel-286',\n",
      "                              'source_denom': ''},\n",
      "                      'images': None,\n",
      "                      'keywords': None,\n",
      "                      'logo_uris': None,\n",
      "                      'name': None,\n",
      "                      'supply': '565866130684719',\n",
      "                      'symbol': None,\n",
      "                      'traces': None,\n",
      "                      'type_asset': 'ics20'},\n",
      "                     {'address': None,\n",
      "                      'admin': None,\n",
      "                      'base': 'ibc/FFCF643AE12AA7F532414B8423F3F100B8EC9A49A03C4977F8EEF327083FD077',\n",
      "                      'chain_id': 'osmosis-1',\n",
      "                      'chain_name': 'osmosis',\n",
      "                      'coingecko_id': None,\n",
      "                      'denom_units': None,\n",
      "                      'description': None,\n",
      "                      'display': None,\n",
      "                      'ibc': {'base_supply': None,\n",
      "                              'dst_channel': 'channel-141',\n",
      "                              'source_channel': 'channel-0',\n",
      "                              'source_denom': 'ibc/6AD866C1B978F59384ABE2F80EA66A7581AF33A03A58A4A43E9CFA54BC407D3A'},\n",
      "                      'images': None,\n",
      "                      'keywords': None,\n",
      "                      'logo_uris': None,\n",
      "                      'name': None,\n",
      "                      'supply': '63248374',\n",
      "                      'symbol': None,\n",
      "                      'traces': [{'chain': {'channel_id': 'channel-0',\n",
      "                                            'path': 'transfer/channel-0/transfer/channel-343/transfer/channel-50/gravity0x514910771AF9Ca656af840dff83E8264EcF986CA',\n",
      "                                            'port': None},\n",
      "                                  'counterparty': {'base_denom': 'ibc/6AD866C1B978F59384ABE2F80EA66A7581AF33A03A58A4A43E9CFA54BC407D3A',\n",
      "                                                   'base_supply': '63248374',\n",
      "                                                   'chain_id': 'cosmoshub-4',\n",
      "                                                   'chain_name': 'cosmoshub',\n",
      "                                                   'channel_id': 'channel-141',\n",
      "                                                   'contract': None,\n",
      "                                                   'port': None},\n",
      "                                  'provider': None,\n",
      "                                  'trace_type': 'ibc'},\n",
      "                                 {'chain': {'channel_id': 'channel-343',\n",
      "                                            'path': 'transfer/channel-343/transfer/channel-50/gravity0x514910771AF9Ca656af840dff83E8264EcF986CA',\n",
      "                                            'port': None},\n",
      "                                  'counterparty': {'base_denom': 'ibc/BD071A9577887D786DA4CD22BA40188E0AD9A4C13E3DACD5322D16A8F256A14A',\n",
      "                                                   'base_supply': '63248374',\n",
      "                                                   'chain_id': 'kaiyo-1',\n",
      "                                                   'chain_name': 'kujira',\n",
      "                                                   'channel_id': 'channel-0',\n",
      "                                                   'contract': None,\n",
      "                                                   'port': None},\n",
      "                                  'provider': None,\n",
      "                                  'trace_type': 'ibc'}],\n",
      "                      'type_asset': 'ics20'},\n",
      "                     {'address': None,\n",
      "                      'admin': None,\n",
      "                      'base': 'uion',\n",
      "                      'chain_id': 'osmosis-1',\n",
      "                      'chain_name': 'osmosis',\n",
      "                      'coingecko_id': None,\n",
      "                      'denom_units': [{'aliases': [],\n",
      "                                       'denom': 'uion',\n",
      "                                       'exponent': 0},\n",
      "                                      {'aliases': [],\n",
      "                                       'denom': 'ion',\n",
      "                                       'exponent': 6}],\n",
      "                      'description': None,\n",
      "                      'display': 'ion',\n",
      "                      'ibc': None,\n",
      "                      'images': None,\n",
      "                      'keywords': None,\n",
      "                      'logo_uris': None,\n",
      "                      'name': None,\n",
      "                      'supply': '21294000000',\n",
      "                      'symbol': None,\n",
      "                      'traces': None,\n",
      "                      'type_asset': 'sdk.coin'},\n",
      "                     {'address': None,\n",
      "                      'admin': None,\n",
      "                      'base': 'uosmo',\n",
      "                      'chain_id': 'osmosis-1',\n",
      "                      'chain_name': 'osmosis',\n",
      "                      'coingecko_id': None,\n",
      "                      'denom_units': [{'aliases': [],\n",
      "                                       'denom': 'uosmo',\n",
      "                                       'exponent': 0},\n",
      "                                      {'aliases': [],\n",
      "                                       'denom': 'osmo',\n",
      "                                       'exponent': 6}],\n",
      "                      'description': 'The native token of Osmosis',\n",
      "                      'display': 'osmo',\n",
      "                      'ibc': None,\n",
      "                      'images': None,\n",
      "                      'keywords': None,\n",
      "                      'logo_uris': None,\n",
      "                      'name': None,\n",
      "                      'supply': '621525971373937',\n",
      "                      'symbol': None,\n",
      "                      'traces': None,\n",
      "                      'type_asset': 'sdk.coin'}],\n",
      "          'chain_name': 'osmosis'}}\n"
     ]
    }
   ],
   "source": [
    "# Get any `4` assets in the `Osmosis` chain,  \n",
    "pprint(\n",
    "    contract_query(\n",
    "        query={'get_assets_by_chain':\n",
    "                   {'chain_name': 'osmosis',\n",
    "                    'limit': 4,\n",
    "                    'start_after_base': 'ibc/FF6F4774ABC2478832A6D6681DB9A7A8DDC4485212A8AED84642EFCD63C748A9'}\n",
    "               },\n",
    "        contract_address=CONTRACT_ADDRESSES[CONTRACT_CHAIN],\n",
    "        node_lcd_url=NODE_LCD_URLS[CONTRACT_CHAIN],\n",
    "        display_query=True\n",
    "    )\n",
    ")"
   ]
  },
  {
   "cell_type": "markdown",
   "metadata": {
    "collapsed": false
   },
   "source": [
    "### get any assets from any chains"
   ]
  },
  {
   "cell_type": "code",
   "execution_count": 7,
   "metadata": {
    "ExecuteTime": {
     "end_time": "2023-09-19T03:15:26.460243Z",
     "start_time": "2023-09-19T03:15:25.889174Z"
    },
    "collapsed": false,
    "execution": {
     "iopub.execute_input": "2024-05-05T22:06:54.304369Z",
     "iopub.status.busy": "2024-05-05T22:06:54.304087Z",
     "iopub.status.idle": "2024-05-05T22:06:54.526018Z",
     "shell.execute_reply": "2024-05-05T22:06:54.524663Z"
    }
   },
   "outputs": [
    {
     "name": "stdout",
     "output_type": "stream",
     "text": [
      "05-05-2024 18:06:54 - INFO - https://osmosis-testnet-api.polkachu.com/cosmwasm/wasm/v1/contract/osmo1nwesd2xe6cnvtpqd29xg7qeznlm65x02lfjfg20wlvkdze20hcxsftxtzz/smart/eyJnZXRfYWxsX2Fzc2V0cyI6IHsibGltaXQiOiA1fX0=\n",
      "{'data': {'entries': [{'address': None,\n",
      "                       'admin': None,\n",
      "                       'base': 'ibc/4A3AAD07BC4EBEBC10FC2560EAA3B7A1D3B541B5264ED8E5E13E6B74AC76127B',\n",
      "                       'chain_id': 'eightball-1',\n",
      "                       'chain_name': '8ball',\n",
      "                       'coingecko_id': None,\n",
      "                       'denom_units': [{'aliases': [],\n",
      "                                        'denom': 'uosmo',\n",
      "                                        'exponent': 0},\n",
      "                                       {'aliases': [],\n",
      "                                        'denom': 'osmo',\n",
      "                                        'exponent': 6}],\n",
      "                       'description': 'The native token of Osmosis',\n",
      "                       'display': 'osmo',\n",
      "                       'ibc': {'base_supply': None,\n",
      "                               'dst_channel': 'channel-641',\n",
      "                               'source_channel': 'channel-16',\n",
      "                               'source_denom': 'uosmo'},\n",
      "                       'images': None,\n",
      "                       'keywords': None,\n",
      "                       'logo_uris': None,\n",
      "                       'name': None,\n",
      "                       'supply': '6200911',\n",
      "                       'symbol': None,\n",
      "                       'traces': [{'chain': {'channel_id': 'channel-16',\n",
      "                                             'path': 'transfer/channel-16/uosmo',\n",
      "                                             'port': None},\n",
      "                                   'counterparty': {'base_denom': 'uosmo',\n",
      "                                                    'base_supply': '621525971373937',\n",
      "                                                    'chain_id': 'osmosis-1',\n",
      "                                                    'chain_name': 'osmosis',\n",
      "                                                    'channel_id': 'channel-641',\n",
      "                                                    'contract': None,\n",
      "                                                    'port': None},\n",
      "                                   'provider': None,\n",
      "                                   'trace_type': 'ibc'}],\n",
      "                       'type_asset': 'ics20'},\n",
      "                      {'address': None,\n",
      "                       'admin': None,\n",
      "                       'base': 'ibc/65F2AFA2F7AC0FC1ACA0EC1710A5AB381BF87B25CB74E903C5847ED86CAE213A',\n",
      "                       'chain_id': 'eightball-1',\n",
      "                       'chain_name': '8ball',\n",
      "                       'coingecko_id': None,\n",
      "                       'denom_units': [{'aliases': [],\n",
      "                                        'denom': 'uion',\n",
      "                                        'exponent': 0},\n",
      "                                       {'aliases': [],\n",
      "                                        'denom': 'ion',\n",
      "                                        'exponent': 6}],\n",
      "                       'description': None,\n",
      "                       'display': 'ion',\n",
      "                       'ibc': {'base_supply': None,\n",
      "                               'dst_channel': 'channel-641',\n",
      "                               'source_channel': 'channel-16',\n",
      "                               'source_denom': 'uion'},\n",
      "                       'images': None,\n",
      "                       'keywords': None,\n",
      "                       'logo_uris': None,\n",
      "                       'name': None,\n",
      "                       'supply': '500',\n",
      "                       'symbol': None,\n",
      "                       'traces': [{'chain': {'channel_id': 'channel-16',\n",
      "                                             'path': 'transfer/channel-16/uion',\n",
      "                                             'port': None},\n",
      "                                   'counterparty': {'base_denom': 'uion',\n",
      "                                                    'base_supply': '21294000000',\n",
      "                                                    'chain_id': 'osmosis-1',\n",
      "                                                    'chain_name': 'osmosis',\n",
      "                                                    'channel_id': 'channel-641',\n",
      "                                                    'contract': None,\n",
      "                                                    'port': None},\n",
      "                                   'provider': None,\n",
      "                                   'trace_type': 'ibc'}],\n",
      "                       'type_asset': 'ics20'},\n",
      "                      {'address': None,\n",
      "                       'admin': None,\n",
      "                       'base': 'uebl',\n",
      "                       'chain_id': 'eightball-1',\n",
      "                       'chain_name': '8ball',\n",
      "                       'coingecko_id': None,\n",
      "                       'denom_units': None,\n",
      "                       'description': None,\n",
      "                       'display': None,\n",
      "                       'ibc': None,\n",
      "                       'images': None,\n",
      "                       'keywords': None,\n",
      "                       'logo_uris': None,\n",
      "                       'name': None,\n",
      "                       'supply': '76522984751468',\n",
      "                       'symbol': None,\n",
      "                       'traces': None,\n",
      "                       'type_asset': 'sdk.coin'},\n",
      "                      {'address': None,\n",
      "                       'admin': None,\n",
      "                       'base': 'aacre',\n",
      "                       'chain_id': 'acre_9052-1',\n",
      "                       'chain_name': 'acrechain',\n",
      "                       'coingecko_id': None,\n",
      "                       'denom_units': [{'aliases': ['aacre'],\n",
      "                                        'denom': 'aacre',\n",
      "                                        'exponent': 0},\n",
      "                                       {'aliases': [],\n",
      "                                        'denom': 'ACRE',\n",
      "                                        'exponent': 18}],\n",
      "                       'description': 'The native staking and governance token '\n",
      "                                      'of the Acrechain',\n",
      "                       'display': 'ACRE',\n",
      "                       'ibc': None,\n",
      "                       'images': None,\n",
      "                       'keywords': None,\n",
      "                       'logo_uris': None,\n",
      "                       'name': 'ACRE',\n",
      "                       'supply': '533131941147216312496712449',\n",
      "                       'symbol': 'ACRE',\n",
      "                       'traces': None,\n",
      "                       'type_asset': 'sdk.coin'},\n",
      "                      {'address': None,\n",
      "                       'admin': None,\n",
      "                       'base': 'erc20/0x2Cbea61fdfDFA520Ee99700F104D5b75ADf50B0c',\n",
      "                       'chain_id': 'acre_9052-1',\n",
      "                       'chain_name': 'acrechain',\n",
      "                       'coingecko_id': None,\n",
      "                       'denom_units': [{'aliases': [],\n",
      "                                        'denom': 'erc20/0x2Cbea61fdfDFA520Ee99700F104D5b75ADf50B0c',\n",
      "                                        'exponent': 0},\n",
      "                                       {'aliases': [],\n",
      "                                        'denom': 'ArableUSD',\n",
      "                                        'exponent': 18}],\n",
      "                       'description': 'Cosmos coin token representation of '\n",
      "                                      '0x2Cbea61fdfDFA520Ee99700F104D5b75ADf50B0c',\n",
      "                       'display': 'ArableUSD',\n",
      "                       'ibc': None,\n",
      "                       'images': None,\n",
      "                       'keywords': None,\n",
      "                       'logo_uris': None,\n",
      "                       'name': 'erc20/0x2Cbea61fdfDFA520Ee99700F104D5b75ADf50B0c',\n",
      "                       'supply': '57621944678631824807312',\n",
      "                       'symbol': 'arUSD',\n",
      "                       'traces': None,\n",
      "                       'type_asset': 'sdk.coin'}]}}\n"
     ]
    }
   ],
   "source": [
    "# get any `5` assets from any chains\n",
    "pprint(\n",
    "    contract_query(\n",
    "        query={'get_all_assets':\n",
    "                   {'limit': 5}\n",
    "               },\n",
    "        contract_address=CONTRACT_ADDRESSES[CONTRACT_CHAIN],\n",
    "        node_lcd_url=NODE_LCD_URLS[CONTRACT_CHAIN],\n",
    "        display_query=True\n",
    "    )\n",
    ")"
   ]
  },
  {
   "cell_type": "markdown",
   "metadata": {
    "collapsed": false
   },
   "source": [
    "### get asset for a given denom and a given chain"
   ]
  },
  {
   "cell_type": "code",
   "execution_count": 8,
   "metadata": {
    "ExecuteTime": {
     "end_time": "2023-09-19T03:15:26.991068Z",
     "start_time": "2023-09-19T03:15:26.456496Z"
    },
    "collapsed": false,
    "execution": {
     "iopub.execute_input": "2024-05-05T22:06:54.531212Z",
     "iopub.status.busy": "2024-05-05T22:06:54.530814Z",
     "iopub.status.idle": "2024-05-05T22:06:54.754056Z",
     "shell.execute_reply": "2024-05-05T22:06:54.752729Z"
    }
   },
   "outputs": [
    {
     "name": "stdout",
     "output_type": "stream",
     "text": [
      "05-05-2024 18:06:54 - INFO - https://osmosis-testnet-api.polkachu.com/cosmwasm/wasm/v1/contract/osmo1nwesd2xe6cnvtpqd29xg7qeznlm65x02lfjfg20wlvkdze20hcxsftxtzz/smart/eyJnZXRfYXNzZXQiOiB7ImNoYWluX25hbWUiOiAiY3Jlc2NlbnQiLCAiYmFzZSI6ICJpYmMvRTg2NjExODE3RUFGMzMxMTczRDIwNDk2MjI5OEExNkMyMzZFOTE4RjdDN0U5ODU0OTdBNjMyMzJCOTI2RjE2MiJ9fQ==\n",
      "{'data': {'asset': {'address': None,\n",
      "                    'admin': None,\n",
      "                    'base': 'ibc/E86611817EAF331173D204962298A16C236E918F7C7E985497A63232B926F162',\n",
      "                    'chain_id': 'crescent-1',\n",
      "                    'chain_name': 'crescent',\n",
      "                    'coingecko_id': None,\n",
      "                    'denom_units': [{'aliases': ['microatom'],\n",
      "                                     'denom': 'uatom',\n",
      "                                     'exponent': 0},\n",
      "                                    {'aliases': ['milliatom'],\n",
      "                                     'denom': 'matom',\n",
      "                                     'exponent': 3},\n",
      "                                    {'aliases': [],\n",
      "                                     'denom': 'atom',\n",
      "                                     'exponent': 6}],\n",
      "                    'description': 'The native staking token of the Cosmos '\n",
      "                                   'Hub.',\n",
      "                    'display': 'atom',\n",
      "                    'ibc': {'base_supply': None,\n",
      "                            'dst_channel': 'channel-297',\n",
      "                            'source_channel': 'channel-9',\n",
      "                            'source_denom': 'ibc/27394FB092D2ECCD56123C74F36E4C1F926001CEADA9CA97EA622B25F41E5EB2'},\n",
      "                    'images': None,\n",
      "                    'keywords': None,\n",
      "                    'logo_uris': None,\n",
      "                    'name': 'Cosmos Hub Atom',\n",
      "                    'supply': '680669',\n",
      "                    'symbol': 'ATOM',\n",
      "                    'traces': [{'chain': {'channel_id': 'channel-9',\n",
      "                                          'path': 'transfer/channel-9/transfer/channel-0/uatom',\n",
      "                                          'port': None},\n",
      "                                'counterparty': {'base_denom': 'ibc/27394FB092D2ECCD56123C74F36E4C1F926001CEADA9CA97EA622B25F41E5EB2',\n",
      "                                                 'base_supply': '3826429637708',\n",
      "                                                 'chain_id': 'osmosis-1',\n",
      "                                                 'chain_name': 'osmosis',\n",
      "                                                 'channel_id': 'channel-297',\n",
      "                                                 'contract': None,\n",
      "                                                 'port': None},\n",
      "                                'provider': None,\n",
      "                                'trace_type': 'ibc'},\n",
      "                               {'chain': {'channel_id': 'channel-0',\n",
      "                                          'path': 'transfer/channel-0/uatom',\n",
      "                                          'port': None},\n",
      "                                'counterparty': {'base_denom': 'uatom',\n",
      "                                                 'base_supply': '369340899749133',\n",
      "                                                 'chain_id': 'cosmoshub-4',\n",
      "                                                 'chain_name': 'cosmoshub',\n",
      "                                                 'channel_id': 'channel-141',\n",
      "                                                 'contract': None,\n",
      "                                                 'port': None},\n",
      "                                'provider': None,\n",
      "                                'trace_type': 'ibc'}],\n",
      "                    'type_asset': 'ics20'},\n",
      "          'chain_name': 'crescent'}}\n"
     ]
    }
   ],
   "source": [
    "# get asset for `ibc/E86611817EAF331173D204962298A16C236E918F7C7E985497A63232B926F162` (ATOM from Osmosis in Crescent) denom in `Crescent` chain\n",
    "pprint(\n",
    "    contract_query(\n",
    "        query={'get_asset':\n",
    "                   {'chain_name': 'crescent',\n",
    "                    'base': 'ibc/E86611817EAF331173D204962298A16C236E918F7C7E985497A63232B926F162'}\n",
    "               },\n",
    "        contract_address=CONTRACT_ADDRESSES[CONTRACT_CHAIN],\n",
    "        node_lcd_url=NODE_LCD_URLS[CONTRACT_CHAIN],\n",
    "        display_query=True\n",
    "    )\n",
    ")"
   ]
  },
  {
   "cell_type": "code",
   "execution_count": 8,
   "metadata": {
    "ExecuteTime": {
     "end_time": "2023-09-19T03:15:26.994839Z",
     "start_time": "2023-09-19T03:15:26.989020Z"
    },
    "collapsed": false
   },
   "outputs": [],
   "source": []
  }
 ],
 "metadata": {
  "kernelspec": {
   "display_name": "Python 3",
   "language": "python",
   "name": "python3"
  },
  "language_info": {
   "codemirror_mode": {
    "name": "ipython",
    "version": 3
   },
   "file_extension": ".py",
   "mimetype": "text/x-python",
   "name": "python",
   "nbconvert_exporter": "python",
   "pygments_lexer": "ipython3",
   "version": "3.9.15"
  }
 },
 "nbformat": 4,
 "nbformat_minor": 0
}
