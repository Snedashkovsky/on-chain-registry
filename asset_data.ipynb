{
 "cells": [
  {
   "cell_type": "markdown",
   "metadata": {
    "collapsed": false
   },
   "source": [
    "# Asset Data"
   ]
  },
  {
   "cell_type": "code",
   "execution_count": 1,
   "metadata": {
    "ExecuteTime": {
     "end_time": "2023-08-22T14:58:02.814791Z",
     "start_time": "2023-08-22T14:58:02.747399Z"
    },
    "collapsed": false,
    "execution": {
     "iopub.execute_input": "2023-08-24T06:44:01.607039Z",
     "iopub.status.busy": "2023-08-24T06:44:01.606403Z",
     "iopub.status.idle": "2023-08-24T06:44:02.676803Z",
     "shell.execute_reply": "2023-08-24T06:44:02.676117Z"
    }
   },
   "outputs": [
    {
     "data": {
      "text/html": [
       "        <script type=\"text/javascript\">\n",
       "        window.PlotlyConfig = {MathJaxConfig: 'local'};\n",
       "        if (window.MathJax && window.MathJax.Hub && window.MathJax.Hub.Config) {window.MathJax.Hub.Config({SVG: {font: \"STIX-Web\"}});}\n",
       "        if (typeof require !== 'undefined') {\n",
       "        require.undef(\"plotly\");\n",
       "        requirejs.config({\n",
       "            paths: {\n",
       "                'plotly': ['https://cdn.plot.ly/plotly-2.24.1.min']\n",
       "            }\n",
       "        });\n",
       "        require(['plotly'], function(Plotly) {\n",
       "            window._Plotly = Plotly;\n",
       "        });\n",
       "        }\n",
       "        </script>\n",
       "        "
      ]
     },
     "metadata": {},
     "output_type": "display_data"
    }
   ],
   "source": [
    "import ast\n",
    "import numpy as np\n",
    "import pandas as pd\n",
    "from warnings import filterwarnings\n",
    "from tqdm.notebook import tqdm\n",
    "from plotly.subplots import make_subplots\n",
    "import plotly.graph_objects as go\n",
    "import plotly.express as px\n",
    "from plotly.offline import iplot, init_notebook_mode\n",
    "from pprint import pprint\n",
    "from datetime import date\n",
    "\n",
    "filterwarnings('ignore')\n",
    "\n",
    "from src.contract_export import contract_query\n",
    "from config import CONTRACT_ADDRESSES, NODE_LCD_URLS\n",
    "\n",
    "init_notebook_mode(connected=True)\n",
    "tqdm.pandas()"
   ]
  },
  {
   "cell_type": "markdown",
   "metadata": {
    "collapsed": false
   },
   "source": [
    "## load data"
   ]
  },
  {
   "cell_type": "code",
   "execution_count": 2,
   "metadata": {
    "ExecuteTime": {
     "end_time": "2023-08-22T14:58:02.996425Z",
     "start_time": "2023-08-22T14:58:02.787887Z"
    },
    "collapsed": false,
    "execution": {
     "iopub.execute_input": "2023-08-24T06:44:02.738005Z",
     "iopub.status.busy": "2023-08-24T06:44:02.737439Z",
     "iopub.status.idle": "2023-08-24T06:44:03.059885Z",
     "shell.execute_reply": "2023-08-24T06:44:03.059172Z"
    }
   },
   "outputs": [
    {
     "data": {
      "text/html": [
       "<div>\n",
       "<style scoped>\n",
       "    .dataframe tbody tr th:only-of-type {\n",
       "        vertical-align: middle;\n",
       "    }\n",
       "\n",
       "    .dataframe tbody tr th {\n",
       "        vertical-align: top;\n",
       "    }\n",
       "\n",
       "    .dataframe thead th {\n",
       "        text-align: right;\n",
       "    }\n",
       "</style>\n",
       "<table border=\"1\" class=\"dataframe\">\n",
       "  <thead>\n",
       "    <tr style=\"text-align: right;\">\n",
       "      <th></th>\n",
       "      <th>chain_name</th>\n",
       "      <th>chain_id</th>\n",
       "      <th>denom</th>\n",
       "      <th>type_asset</th>\n",
       "      <th>supply</th>\n",
       "      <th>description</th>\n",
       "      <th>denom_units</th>\n",
       "      <th>display</th>\n",
       "      <th>name</th>\n",
       "      <th>symbol</th>\n",
       "      <th>...</th>\n",
       "      <th>denom_base</th>\n",
       "      <th>type_asset_base</th>\n",
       "      <th>path</th>\n",
       "      <th>channels</th>\n",
       "      <th>chain_id_counterparty</th>\n",
       "      <th>channel_id_counterparty</th>\n",
       "      <th>supply_base</th>\n",
       "      <th>chain_id_base</th>\n",
       "      <th>one_channel</th>\n",
       "      <th>admin</th>\n",
       "    </tr>\n",
       "  </thead>\n",
       "  <tbody>\n",
       "    <tr>\n",
       "      <th>0</th>\n",
       "      <td>cronos</td>\n",
       "      <td>cronosmainnet_25-1</td>\n",
       "      <td>ibc/0FD310E1160487D42B93949F1D8955C7EF6D88B1BF...</td>\n",
       "      <td>ics20</td>\n",
       "      <td>1</td>\n",
       "      <td>NaN</td>\n",
       "      <td>None</td>\n",
       "      <td>NaN</td>\n",
       "      <td>NaN</td>\n",
       "      <td>NaN</td>\n",
       "      <td>...</td>\n",
       "      <td>acanto</td>\n",
       "      <td>sdk.coin</td>\n",
       "      <td>transfer/channel-9</td>\n",
       "      <td>[channel-9]</td>\n",
       "      <td>canto_7700-1</td>\n",
       "      <td>channel-22</td>\n",
       "      <td>1054861165808152176086517461</td>\n",
       "      <td>canto_7700-1</td>\n",
       "      <td>True</td>\n",
       "      <td>NaN</td>\n",
       "    </tr>\n",
       "    <tr>\n",
       "      <th>1</th>\n",
       "      <td>cronos</td>\n",
       "      <td>cronosmainnet_25-1</td>\n",
       "      <td>ibc/11DFDFADE34DCE439BA732EBA5CD8AA804A544BA1E...</td>\n",
       "      <td>ics20</td>\n",
       "      <td>972901</td>\n",
       "      <td>Irishub staking token</td>\n",
       "      <td>[{'denom': 'uiris', 'exponent': 0, 'aliases': ...</td>\n",
       "      <td>iris</td>\n",
       "      <td>NaN</td>\n",
       "      <td>NaN</td>\n",
       "      <td>...</td>\n",
       "      <td>uiris</td>\n",
       "      <td>sdk.coin</td>\n",
       "      <td>transfer/channel-8</td>\n",
       "      <td>[channel-8]</td>\n",
       "      <td>irishub-1</td>\n",
       "      <td>channel-66</td>\n",
       "      <td>2158041414661524</td>\n",
       "      <td>irishub-1</td>\n",
       "      <td>True</td>\n",
       "      <td>NaN</td>\n",
       "    </tr>\n",
       "    <tr>\n",
       "      <th>2</th>\n",
       "      <td>cronos</td>\n",
       "      <td>cronosmainnet_25-1</td>\n",
       "      <td>ibc/2114969D9A69DD3F8529975297CA38AF474E34305D...</td>\n",
       "      <td>ics20</td>\n",
       "      <td>2</td>\n",
       "      <td>NaN</td>\n",
       "      <td>None</td>\n",
       "      <td>NaN</td>\n",
       "      <td>NaN</td>\n",
       "      <td>NaN</td>\n",
       "      <td>...</td>\n",
       "      <td>ucre</td>\n",
       "      <td>sdk.coin</td>\n",
       "      <td>transfer/channel-6</td>\n",
       "      <td>[channel-6]</td>\n",
       "      <td>crescent-1</td>\n",
       "      <td>channel-39</td>\n",
       "      <td>386654200100097</td>\n",
       "      <td>crescent-1</td>\n",
       "      <td>True</td>\n",
       "      <td>NaN</td>\n",
       "    </tr>\n",
       "    <tr>\n",
       "      <th>3</th>\n",
       "      <td>cronos</td>\n",
       "      <td>cronosmainnet_25-1</td>\n",
       "      <td>ibc/4294C3DB67564CF4A0B2BFACC8415A59B38243F6FF...</td>\n",
       "      <td>ics20</td>\n",
       "      <td>1000000</td>\n",
       "      <td>The native stable token of the Terra Columbus.</td>\n",
       "      <td>[{'denom': 'uusd', 'exponent': 0, 'aliases': [...</td>\n",
       "      <td>usd</td>\n",
       "      <td>USD TERRA</td>\n",
       "      <td>UST</td>\n",
       "      <td>...</td>\n",
       "      <td>uusd</td>\n",
       "      <td>sdk.coin</td>\n",
       "      <td>transfer/channel-2</td>\n",
       "      <td>[channel-2]</td>\n",
       "      <td>columbus-5</td>\n",
       "      <td>channel-22</td>\n",
       "      <td>9795052108490350</td>\n",
       "      <td>columbus-5</td>\n",
       "      <td>True</td>\n",
       "      <td>NaN</td>\n",
       "    </tr>\n",
       "    <tr>\n",
       "      <th>4</th>\n",
       "      <td>cronos</td>\n",
       "      <td>cronosmainnet_25-1</td>\n",
       "      <td>ibc/4DAE26570FD24ABA40E2BE4137E39D946C78B00B24...</td>\n",
       "      <td>ics20</td>\n",
       "      <td>656198439182</td>\n",
       "      <td>NaN</td>\n",
       "      <td>None</td>\n",
       "      <td>NaN</td>\n",
       "      <td>NaN</td>\n",
       "      <td>NaN</td>\n",
       "      <td>...</td>\n",
       "      <td>uakt</td>\n",
       "      <td>sdk.coin</td>\n",
       "      <td>transfer/channel-4</td>\n",
       "      <td>[channel-4]</td>\n",
       "      <td>akashnet-2</td>\n",
       "      <td>channel-40</td>\n",
       "      <td>217287892985702</td>\n",
       "      <td>akashnet-2</td>\n",
       "      <td>True</td>\n",
       "      <td>NaN</td>\n",
       "    </tr>\n",
       "    <tr>\n",
       "      <th>...</th>\n",
       "      <td>...</td>\n",
       "      <td>...</td>\n",
       "      <td>...</td>\n",
       "      <td>...</td>\n",
       "      <td>...</td>\n",
       "      <td>...</td>\n",
       "      <td>...</td>\n",
       "      <td>...</td>\n",
       "      <td>...</td>\n",
       "      <td>...</td>\n",
       "      <td>...</td>\n",
       "      <td>...</td>\n",
       "      <td>...</td>\n",
       "      <td>...</td>\n",
       "      <td>...</td>\n",
       "      <td>...</td>\n",
       "      <td>...</td>\n",
       "      <td>...</td>\n",
       "      <td>...</td>\n",
       "      <td>...</td>\n",
       "      <td>...</td>\n",
       "    </tr>\n",
       "    <tr>\n",
       "      <th>12676</th>\n",
       "      <td>terra2</td>\n",
       "      <td>phoenix-1</td>\n",
       "      <td>cw20:terra17gck626vgax9jpe6utm7dhx4vdzawfkt0jh...</td>\n",
       "      <td>cw20</td>\n",
       "      <td>93000000000000</td>\n",
       "      <td>NaN</td>\n",
       "      <td>[{'denom': 'dust', 'exponent': 6, 'aliases': [...</td>\n",
       "      <td>NaN</td>\n",
       "      <td>Depegged UST</td>\n",
       "      <td>dUST</td>\n",
       "      <td>...</td>\n",
       "      <td>NaN</td>\n",
       "      <td>NaN</td>\n",
       "      <td>NaN</td>\n",
       "      <td>None</td>\n",
       "      <td>NaN</td>\n",
       "      <td>NaN</td>\n",
       "      <td>NaN</td>\n",
       "      <td>NaN</td>\n",
       "      <td>NaN</td>\n",
       "      <td>NaN</td>\n",
       "    </tr>\n",
       "    <tr>\n",
       "      <th>12677</th>\n",
       "      <td>terra2</td>\n",
       "      <td>phoenix-1</td>\n",
       "      <td>cw20:terra17aj4ty4sz4yhgm08na8drc0v03v2jwr3wax...</td>\n",
       "      <td>cw20</td>\n",
       "      <td>1423032231655</td>\n",
       "      <td>NaN</td>\n",
       "      <td>[{'denom': 'bluna', 'exponent': 6, 'aliases': ...</td>\n",
       "      <td>NaN</td>\n",
       "      <td>boneLuna</td>\n",
       "      <td>bLUNA</td>\n",
       "      <td>...</td>\n",
       "      <td>NaN</td>\n",
       "      <td>NaN</td>\n",
       "      <td>NaN</td>\n",
       "      <td>None</td>\n",
       "      <td>NaN</td>\n",
       "      <td>NaN</td>\n",
       "      <td>NaN</td>\n",
       "      <td>NaN</td>\n",
       "      <td>NaN</td>\n",
       "      <td>NaN</td>\n",
       "    </tr>\n",
       "    <tr>\n",
       "      <th>12678</th>\n",
       "      <td>terra2</td>\n",
       "      <td>phoenix-1</td>\n",
       "      <td>cw20:terra1xzkel96e5e8vfmqw7valzdzzv9hqasfyslc...</td>\n",
       "      <td>cw20</td>\n",
       "      <td>6572018665376</td>\n",
       "      <td>NaN</td>\n",
       "      <td>[{'denom': 'local', 'exponent': 6, 'aliases': ...</td>\n",
       "      <td>NaN</td>\n",
       "      <td>Local Terra Token (Wormhole)</td>\n",
       "      <td>LOCAL</td>\n",
       "      <td>...</td>\n",
       "      <td>NaN</td>\n",
       "      <td>NaN</td>\n",
       "      <td>NaN</td>\n",
       "      <td>None</td>\n",
       "      <td>NaN</td>\n",
       "      <td>NaN</td>\n",
       "      <td>NaN</td>\n",
       "      <td>NaN</td>\n",
       "      <td>NaN</td>\n",
       "      <td>NaN</td>\n",
       "    </tr>\n",
       "    <tr>\n",
       "      <th>12679</th>\n",
       "      <td>terra2</td>\n",
       "      <td>phoenix-1</td>\n",
       "      <td>cw20:terra14xsm2wzvu7xaf567r693vgfkhmvfs08l68h...</td>\n",
       "      <td>cw20</td>\n",
       "      <td>350764759393</td>\n",
       "      <td>NaN</td>\n",
       "      <td>[{'denom': 'lunax', 'exponent': 6, 'aliases': ...</td>\n",
       "      <td>NaN</td>\n",
       "      <td>Stader LunaX Token</td>\n",
       "      <td>LunaX</td>\n",
       "      <td>...</td>\n",
       "      <td>NaN</td>\n",
       "      <td>NaN</td>\n",
       "      <td>NaN</td>\n",
       "      <td>None</td>\n",
       "      <td>NaN</td>\n",
       "      <td>NaN</td>\n",
       "      <td>NaN</td>\n",
       "      <td>NaN</td>\n",
       "      <td>NaN</td>\n",
       "      <td>NaN</td>\n",
       "    </tr>\n",
       "    <tr>\n",
       "      <th>12680</th>\n",
       "      <td>terra2</td>\n",
       "      <td>phoenix-1</td>\n",
       "      <td>cw20:terra1xp9hrhthzddnl7j5du83gqqr4wmdjm5t0gu...</td>\n",
       "      <td>cw20</td>\n",
       "      <td>100000000000000</td>\n",
       "      <td>NaN</td>\n",
       "      <td>[{'denom': 'sayve', 'exponent': 6, 'aliases': ...</td>\n",
       "      <td>NaN</td>\n",
       "      <td>Sayve Token</td>\n",
       "      <td>SAYVE</td>\n",
       "      <td>...</td>\n",
       "      <td>NaN</td>\n",
       "      <td>NaN</td>\n",
       "      <td>NaN</td>\n",
       "      <td>None</td>\n",
       "      <td>NaN</td>\n",
       "      <td>NaN</td>\n",
       "      <td>NaN</td>\n",
       "      <td>NaN</td>\n",
       "      <td>NaN</td>\n",
       "      <td>NaN</td>\n",
       "    </tr>\n",
       "  </tbody>\n",
       "</table>\n",
       "<p>12681 rows × 21 columns</p>\n",
       "</div>"
      ],
      "text/plain": [
       "      chain_name            chain_id  \\\n",
       "0         cronos  cronosmainnet_25-1   \n",
       "1         cronos  cronosmainnet_25-1   \n",
       "2         cronos  cronosmainnet_25-1   \n",
       "3         cronos  cronosmainnet_25-1   \n",
       "4         cronos  cronosmainnet_25-1   \n",
       "...          ...                 ...   \n",
       "12676     terra2           phoenix-1   \n",
       "12677     terra2           phoenix-1   \n",
       "12678     terra2           phoenix-1   \n",
       "12679     terra2           phoenix-1   \n",
       "12680     terra2           phoenix-1   \n",
       "\n",
       "                                                   denom type_asset  \\\n",
       "0      ibc/0FD310E1160487D42B93949F1D8955C7EF6D88B1BF...      ics20   \n",
       "1      ibc/11DFDFADE34DCE439BA732EBA5CD8AA804A544BA1E...      ics20   \n",
       "2      ibc/2114969D9A69DD3F8529975297CA38AF474E34305D...      ics20   \n",
       "3      ibc/4294C3DB67564CF4A0B2BFACC8415A59B38243F6FF...      ics20   \n",
       "4      ibc/4DAE26570FD24ABA40E2BE4137E39D946C78B00B24...      ics20   \n",
       "...                                                  ...        ...   \n",
       "12676  cw20:terra17gck626vgax9jpe6utm7dhx4vdzawfkt0jh...       cw20   \n",
       "12677  cw20:terra17aj4ty4sz4yhgm08na8drc0v03v2jwr3wax...       cw20   \n",
       "12678  cw20:terra1xzkel96e5e8vfmqw7valzdzzv9hqasfyslc...       cw20   \n",
       "12679  cw20:terra14xsm2wzvu7xaf567r693vgfkhmvfs08l68h...       cw20   \n",
       "12680  cw20:terra1xp9hrhthzddnl7j5du83gqqr4wmdjm5t0gu...       cw20   \n",
       "\n",
       "                supply                                     description  \\\n",
       "0                    1                                             NaN   \n",
       "1               972901                           Irishub staking token   \n",
       "2                    2                                             NaN   \n",
       "3              1000000  The native stable token of the Terra Columbus.   \n",
       "4         656198439182                                             NaN   \n",
       "...                ...                                             ...   \n",
       "12676   93000000000000                                             NaN   \n",
       "12677    1423032231655                                             NaN   \n",
       "12678    6572018665376                                             NaN   \n",
       "12679     350764759393                                             NaN   \n",
       "12680  100000000000000                                             NaN   \n",
       "\n",
       "                                             denom_units display  \\\n",
       "0                                                   None     NaN   \n",
       "1      [{'denom': 'uiris', 'exponent': 0, 'aliases': ...    iris   \n",
       "2                                                   None     NaN   \n",
       "3      [{'denom': 'uusd', 'exponent': 0, 'aliases': [...     usd   \n",
       "4                                                   None     NaN   \n",
       "...                                                  ...     ...   \n",
       "12676  [{'denom': 'dust', 'exponent': 6, 'aliases': [...     NaN   \n",
       "12677  [{'denom': 'bluna', 'exponent': 6, 'aliases': ...     NaN   \n",
       "12678  [{'denom': 'local', 'exponent': 6, 'aliases': ...     NaN   \n",
       "12679  [{'denom': 'lunax', 'exponent': 6, 'aliases': ...     NaN   \n",
       "12680  [{'denom': 'sayve', 'exponent': 6, 'aliases': ...     NaN   \n",
       "\n",
       "                               name symbol  ...  denom_base type_asset_base  \\\n",
       "0                               NaN    NaN  ...      acanto        sdk.coin   \n",
       "1                               NaN    NaN  ...       uiris        sdk.coin   \n",
       "2                               NaN    NaN  ...        ucre        sdk.coin   \n",
       "3                         USD TERRA    UST  ...        uusd        sdk.coin   \n",
       "4                               NaN    NaN  ...        uakt        sdk.coin   \n",
       "...                             ...    ...  ...         ...             ...   \n",
       "12676                  Depegged UST   dUST  ...         NaN             NaN   \n",
       "12677                      boneLuna  bLUNA  ...         NaN             NaN   \n",
       "12678  Local Terra Token (Wormhole)  LOCAL  ...         NaN             NaN   \n",
       "12679            Stader LunaX Token  LunaX  ...         NaN             NaN   \n",
       "12680                   Sayve Token  SAYVE  ...         NaN             NaN   \n",
       "\n",
       "                     path     channels chain_id_counterparty  \\\n",
       "0      transfer/channel-9  [channel-9]          canto_7700-1   \n",
       "1      transfer/channel-8  [channel-8]             irishub-1   \n",
       "2      transfer/channel-6  [channel-6]            crescent-1   \n",
       "3      transfer/channel-2  [channel-2]            columbus-5   \n",
       "4      transfer/channel-4  [channel-4]            akashnet-2   \n",
       "...                   ...          ...                   ...   \n",
       "12676                 NaN         None                   NaN   \n",
       "12677                 NaN         None                   NaN   \n",
       "12678                 NaN         None                   NaN   \n",
       "12679                 NaN         None                   NaN   \n",
       "12680                 NaN         None                   NaN   \n",
       "\n",
       "      channel_id_counterparty                   supply_base chain_id_base  \\\n",
       "0                  channel-22  1054861165808152176086517461  canto_7700-1   \n",
       "1                  channel-66              2158041414661524     irishub-1   \n",
       "2                  channel-39               386654200100097    crescent-1   \n",
       "3                  channel-22              9795052108490350    columbus-5   \n",
       "4                  channel-40               217287892985702    akashnet-2   \n",
       "...                       ...                           ...           ...   \n",
       "12676                     NaN                           NaN           NaN   \n",
       "12677                     NaN                           NaN           NaN   \n",
       "12678                     NaN                           NaN           NaN   \n",
       "12679                     NaN                           NaN           NaN   \n",
       "12680                     NaN                           NaN           NaN   \n",
       "\n",
       "      one_channel admin  \n",
       "0            True   NaN  \n",
       "1            True   NaN  \n",
       "2            True   NaN  \n",
       "3            True   NaN  \n",
       "4            True   NaN  \n",
       "...           ...   ...  \n",
       "12676         NaN   NaN  \n",
       "12677         NaN   NaN  \n",
       "12678         NaN   NaN  \n",
       "12679         NaN   NaN  \n",
       "12680         NaN   NaN  \n",
       "\n",
       "[12681 rows x 21 columns]"
      ]
     },
     "execution_count": 2,
     "metadata": {},
     "output_type": "execute_result"
    }
   ],
   "source": [
    "assets_df = pd.read_csv('data_csv/all_assets.csv', index_col=0)\n",
    "assets_df['channels'] = assets_df.channels.map(lambda x: ast.literal_eval(x) if type(x) == str else None)\n",
    "assets_df['denom_units'] = assets_df.denom_units.map(\n",
    "    lambda x: ast.literal_eval(x) if type(x) == str else None)\n",
    "assets_df"
   ]
  },
  {
   "cell_type": "markdown",
   "metadata": {
    "collapsed": false
   },
   "source": [
    "## charts"
   ]
  },
  {
   "cell_type": "code",
   "execution_count": 3,
   "metadata": {
    "ExecuteTime": {
     "end_time": "2023-08-22T14:58:03.002014Z",
     "start_time": "2023-08-22T14:58:02.997576Z"
    },
    "collapsed": false,
    "execution": {
     "iopub.execute_input": "2023-08-24T06:44:03.064030Z",
     "iopub.status.busy": "2023-08-24T06:44:03.063798Z",
     "iopub.status.idle": "2023-08-24T06:44:03.068902Z",
     "shell.execute_reply": "2023-08-24T06:44:03.068235Z"
    }
   },
   "outputs": [],
   "source": [
    "def aggregate_pie_plot(assets_df: pd.DataFrame, agg_column: str, n: int = 8, object_name: str = 'items') -> pd.Series:\n",
    "    assets_by_item_row = assets_df.groupby(agg_column)['denom'].agg(np.count_nonzero).sort_values(ascending=False)\n",
    "    assets_by_item = assets_by_item_row.head(n)\n",
    "    if len(assets_by_item_row) > n:\n",
    "        assets_by_item[f'remaining {len(assets_by_item_row) - n:>,} {object_name}<br>'] = sum(assets_by_item_row[n:])\n",
    "    return assets_by_item"
   ]
  },
  {
   "cell_type": "code",
   "execution_count": 4,
   "metadata": {
    "ExecuteTime": {
     "end_time": "2023-08-22T14:58:03.139434Z",
     "start_time": "2023-08-22T14:58:03.004584Z"
    },
    "collapsed": false,
    "execution": {
     "iopub.execute_input": "2023-08-24T06:44:03.073011Z",
     "iopub.status.busy": "2023-08-24T06:44:03.072665Z",
     "iopub.status.idle": "2023-08-24T06:44:03.265222Z",
     "shell.execute_reply": "2023-08-24T06:44:03.264332Z"
    }
   },
   "outputs": [],
   "source": [
    "ASSET_TYPE_DICT = \\\n",
    "    {'ics20': 'IBC (ICS-20)', \n",
    "     'sdk.coin': 'Native', \n",
    "     'pool': 'LP Tokens', \n",
    "     'factory': 'Token Factory', \n",
    "     'cw20': 'CW-20', \n",
    "     'erc20': 'ERC-20'}\n",
    "\n",
    "assets_by_chain = aggregate_pie_plot(assets_df=assets_df, agg_column='chain_name', object_name='chains\\n', n=17)\n",
    "\n",
    "assets_by_type_asset = aggregate_pie_plot(assets_df=assets_df, agg_column='type_asset')\n",
    "assets_by_type_asset.index = assets_by_type_asset.index.map(lambda x: ASSET_TYPE_DICT[x])\n",
    "\n",
    "assets_by_denom_base = aggregate_pie_plot(assets_df=assets_df, agg_column='denom_base', object_name='base denoms\\n', n=6)\n",
    "\n",
    "total_assets = len(assets_df)"
   ]
  },
  {
   "cell_type": "code",
   "execution_count": 5,
   "metadata": {
    "ExecuteTime": {
     "end_time": "2023-08-22T14:58:03.653683Z",
     "start_time": "2023-08-22T14:58:03.267701Z"
    },
    "collapsed": false,
    "execution": {
     "iopub.execute_input": "2023-08-24T06:44:03.270494Z",
     "iopub.status.busy": "2023-08-24T06:44:03.270192Z",
     "iopub.status.idle": "2023-08-24T06:44:04.750942Z",
     "shell.execute_reply": "2023-08-24T06:44:04.750068Z"
    }
   },
   "outputs": [
    {
     "data": {
      "application/vnd.plotly.v1+json": {
       "config": {
        "linkText": "Export to plot.ly",
        "plotlyServerURL": "https://plot.ly",
        "showLink": false
       },
       "data": [
        {
         "domain": {
          "x": [
           0.0,
           1.0
          ],
          "y": [
           0.5700000000000001,
           1.0
          ]
         },
         "hoverinfo": "label+value+percent",
         "hovertemplate": "%{label}<br>%{value:>,} (%{percent:.1%})",
         "labels": [
          "provenance",
          "osmosis",
          "cosmoshub",
          "juno",
          "kujira",
          "gravitybridge",
          "carbon",
          "kava",
          "evmos",
          "crescent",
          "terra",
          "axelar",
          "injective",
          "secretnetwork",
          "terra2",
          "comdex",
          "sifchain",
          "remaining 100 chains\n<br>"
         ],
         "marker": {
          "colors": [
           "#636EFA",
           "#EF553B",
           "#00CC96",
           "#AB63FA",
           "#FFA15A",
           "#19D3F3",
           "#FF6692",
           "#B6E880",
           "#FF97FF",
           "#FECB52"
          ]
         },
         "name": "assets by chains",
         "rotation": -32,
         "sort": false,
         "text": [
          "4,489",
          "2,108",
          "660",
          "440",
          "419",
          "409",
          "300",
          "232",
          "216",
          "216",
          "193",
          "187",
          "181",
          "158",
          "148",
          "138",
          "132",
          "2,055"
         ],
         "textinfo": "label+value+percent",
         "textposition": "outside",
         "texttemplate": " %{label}  %{value:>,} (%{percent:.1%}) ",
         "type": "pie",
         "values": [
          4489,
          2108,
          660,
          440,
          419,
          409,
          300,
          232,
          216,
          216,
          193,
          187,
          181,
          158,
          148,
          138,
          132,
          2055
         ]
        },
        {
         "domain": {
          "x": [
           0.0,
           0.3
          ],
          "y": [
           0.0,
           0.43
          ]
         },
         "hoverinfo": "label+value+percent",
         "hovertemplate": "%{label}<br>%{value:>,} (%{percent:.1%})",
         "labels": [
          "IBC (ICS-20)",
          "Native",
          "LP Tokens",
          "Token Factory",
          "CW-20",
          "ERC-20"
         ],
         "marker": {
          "colors": [
           "#3366CC",
           "#DC3912",
           "#FF9900",
           "#109618",
           "#990099",
           "#0099C6",
           "#DD4477",
           "#66AA00",
           "#B82E2E",
           "#316395"
          ]
         },
         "name": "assets by type",
         "rotation": 91,
         "sort": false,
         "text": [
          "5,589",
          "5,430",
          "1,235",
          "276",
          "81",
          "70"
         ],
         "textinfo": "label+value+percent",
         "textposition": "outside",
         "texttemplate": " %{label}  %{value:>,} (%{percent:.1%}) ",
         "type": "pie",
         "values": [
          5589,
          5430,
          1235,
          276,
          81,
          70
         ]
        },
        {
         "domain": {
          "x": [
           0.7,
           1.0
          ],
          "y": [
           0.0,
           0.43
          ]
         },
         "hoverinfo": "label+value+percent",
         "hovertemplate": "%{label}<br>%{value:>,} (%{percent:.1%})",
         "labels": [
          "uatom",
          "uluna",
          "uusdc",
          "uosmo",
          "uusd",
          "aevmos",
          "remaining 7,230 base denoms\n<br>"
         ],
         "marker": {
          "colors": [
           "rgb(153,153,153)",
           "rgb(247,129,191)",
           "rgb(166,86,40)",
           "rgb(255,255,51)",
           "rgb(255,127,0)",
           "rgb(152,78,163)",
           "rgb(77,175,74)",
           "rgb(55,126,184)",
           "rgb(228,26,28)"
          ]
         },
         "name": "assets by base denoms",
         "rotation": 75,
         "sort": false,
         "text": [
          "421",
          "332",
          "277",
          "226",
          "184",
          "128",
          "11,032"
         ],
         "textinfo": "label+value+percent",
         "textposition": "outside",
         "texttemplate": " %{label}  %{value:>,} (%{percent:.1%}) ",
         "type": "pie",
         "values": [
          421,
          332,
          277,
          226,
          184,
          128,
          11032
         ]
        }
       ],
       "layout": {
        "annotations": [
         {
          "font": {
           "size": 16
          },
          "showarrow": false,
          "text": "Cosmos-SDK Assets by Chains",
          "x": 0.5,
          "xanchor": "center",
          "xref": "paper",
          "y": 1.04,
          "yanchor": "bottom",
          "yref": "paper"
         },
         {
          "font": {
           "size": 16
          },
          "showarrow": false,
          "text": "by Type",
          "x": 0.15,
          "xanchor": "center",
          "xref": "paper",
          "y": 0.37,
          "yanchor": "bottom",
          "yref": "paper"
         },
         {
          "font": {
           "size": 16
          },
          "showarrow": false,
          "text": "by Base Denoms",
          "x": 0.85,
          "xanchor": "center",
          "xref": "paper",
          "y": 0.37,
          "yanchor": "bottom",
          "yref": "paper"
         },
         {
          "showarrow": false,
          "text": "github.com/Snedashkovsky/on-chain-registry",
          "x": -0.3,
          "y": -0.05
         },
         {
          "showarrow": false,
          "text": "updated 2023-08-24",
          "x": 1.25,
          "y": -0.05
         }
        ],
        "autosize": false,
        "font": {
         "family": "Play"
        },
        "height": 850,
        "margin": {
         "b": 0,
         "l": 0,
         "r": 0,
         "t": 80
        },
        "showlegend": false,
        "template": {
         "data": {
          "bar": [
           {
            "error_x": {
             "color": "#2a3f5f"
            },
            "error_y": {
             "color": "#2a3f5f"
            },
            "marker": {
             "line": {
              "color": "white",
              "width": 0.5
             },
             "pattern": {
              "fillmode": "overlay",
              "size": 10,
              "solidity": 0.2
             }
            },
            "type": "bar"
           }
          ],
          "barpolar": [
           {
            "marker": {
             "line": {
              "color": "white",
              "width": 0.5
             },
             "pattern": {
              "fillmode": "overlay",
              "size": 10,
              "solidity": 0.2
             }
            },
            "type": "barpolar"
           }
          ],
          "carpet": [
           {
            "aaxis": {
             "endlinecolor": "#2a3f5f",
             "gridcolor": "#C8D4E3",
             "linecolor": "#C8D4E3",
             "minorgridcolor": "#C8D4E3",
             "startlinecolor": "#2a3f5f"
            },
            "baxis": {
             "endlinecolor": "#2a3f5f",
             "gridcolor": "#C8D4E3",
             "linecolor": "#C8D4E3",
             "minorgridcolor": "#C8D4E3",
             "startlinecolor": "#2a3f5f"
            },
            "type": "carpet"
           }
          ],
          "choropleth": [
           {
            "colorbar": {
             "outlinewidth": 0,
             "ticks": ""
            },
            "type": "choropleth"
           }
          ],
          "contour": [
           {
            "colorbar": {
             "outlinewidth": 0,
             "ticks": ""
            },
            "colorscale": [
             [
              0.0,
              "#0d0887"
             ],
             [
              0.1111111111111111,
              "#46039f"
             ],
             [
              0.2222222222222222,
              "#7201a8"
             ],
             [
              0.3333333333333333,
              "#9c179e"
             ],
             [
              0.4444444444444444,
              "#bd3786"
             ],
             [
              0.5555555555555556,
              "#d8576b"
             ],
             [
              0.6666666666666666,
              "#ed7953"
             ],
             [
              0.7777777777777778,
              "#fb9f3a"
             ],
             [
              0.8888888888888888,
              "#fdca26"
             ],
             [
              1.0,
              "#f0f921"
             ]
            ],
            "type": "contour"
           }
          ],
          "contourcarpet": [
           {
            "colorbar": {
             "outlinewidth": 0,
             "ticks": ""
            },
            "type": "contourcarpet"
           }
          ],
          "heatmap": [
           {
            "colorbar": {
             "outlinewidth": 0,
             "ticks": ""
            },
            "colorscale": [
             [
              0.0,
              "#0d0887"
             ],
             [
              0.1111111111111111,
              "#46039f"
             ],
             [
              0.2222222222222222,
              "#7201a8"
             ],
             [
              0.3333333333333333,
              "#9c179e"
             ],
             [
              0.4444444444444444,
              "#bd3786"
             ],
             [
              0.5555555555555556,
              "#d8576b"
             ],
             [
              0.6666666666666666,
              "#ed7953"
             ],
             [
              0.7777777777777778,
              "#fb9f3a"
             ],
             [
              0.8888888888888888,
              "#fdca26"
             ],
             [
              1.0,
              "#f0f921"
             ]
            ],
            "type": "heatmap"
           }
          ],
          "heatmapgl": [
           {
            "colorbar": {
             "outlinewidth": 0,
             "ticks": ""
            },
            "colorscale": [
             [
              0.0,
              "#0d0887"
             ],
             [
              0.1111111111111111,
              "#46039f"
             ],
             [
              0.2222222222222222,
              "#7201a8"
             ],
             [
              0.3333333333333333,
              "#9c179e"
             ],
             [
              0.4444444444444444,
              "#bd3786"
             ],
             [
              0.5555555555555556,
              "#d8576b"
             ],
             [
              0.6666666666666666,
              "#ed7953"
             ],
             [
              0.7777777777777778,
              "#fb9f3a"
             ],
             [
              0.8888888888888888,
              "#fdca26"
             ],
             [
              1.0,
              "#f0f921"
             ]
            ],
            "type": "heatmapgl"
           }
          ],
          "histogram": [
           {
            "marker": {
             "pattern": {
              "fillmode": "overlay",
              "size": 10,
              "solidity": 0.2
             }
            },
            "type": "histogram"
           }
          ],
          "histogram2d": [
           {
            "colorbar": {
             "outlinewidth": 0,
             "ticks": ""
            },
            "colorscale": [
             [
              0.0,
              "#0d0887"
             ],
             [
              0.1111111111111111,
              "#46039f"
             ],
             [
              0.2222222222222222,
              "#7201a8"
             ],
             [
              0.3333333333333333,
              "#9c179e"
             ],
             [
              0.4444444444444444,
              "#bd3786"
             ],
             [
              0.5555555555555556,
              "#d8576b"
             ],
             [
              0.6666666666666666,
              "#ed7953"
             ],
             [
              0.7777777777777778,
              "#fb9f3a"
             ],
             [
              0.8888888888888888,
              "#fdca26"
             ],
             [
              1.0,
              "#f0f921"
             ]
            ],
            "type": "histogram2d"
           }
          ],
          "histogram2dcontour": [
           {
            "colorbar": {
             "outlinewidth": 0,
             "ticks": ""
            },
            "colorscale": [
             [
              0.0,
              "#0d0887"
             ],
             [
              0.1111111111111111,
              "#46039f"
             ],
             [
              0.2222222222222222,
              "#7201a8"
             ],
             [
              0.3333333333333333,
              "#9c179e"
             ],
             [
              0.4444444444444444,
              "#bd3786"
             ],
             [
              0.5555555555555556,
              "#d8576b"
             ],
             [
              0.6666666666666666,
              "#ed7953"
             ],
             [
              0.7777777777777778,
              "#fb9f3a"
             ],
             [
              0.8888888888888888,
              "#fdca26"
             ],
             [
              1.0,
              "#f0f921"
             ]
            ],
            "type": "histogram2dcontour"
           }
          ],
          "mesh3d": [
           {
            "colorbar": {
             "outlinewidth": 0,
             "ticks": ""
            },
            "type": "mesh3d"
           }
          ],
          "parcoords": [
           {
            "line": {
             "colorbar": {
              "outlinewidth": 0,
              "ticks": ""
             }
            },
            "type": "parcoords"
           }
          ],
          "pie": [
           {
            "automargin": true,
            "type": "pie"
           }
          ],
          "scatter": [
           {
            "fillpattern": {
             "fillmode": "overlay",
             "size": 10,
             "solidity": 0.2
            },
            "type": "scatter"
           }
          ],
          "scatter3d": [
           {
            "line": {
             "colorbar": {
              "outlinewidth": 0,
              "ticks": ""
             }
            },
            "marker": {
             "colorbar": {
              "outlinewidth": 0,
              "ticks": ""
             }
            },
            "type": "scatter3d"
           }
          ],
          "scattercarpet": [
           {
            "marker": {
             "colorbar": {
              "outlinewidth": 0,
              "ticks": ""
             }
            },
            "type": "scattercarpet"
           }
          ],
          "scattergeo": [
           {
            "marker": {
             "colorbar": {
              "outlinewidth": 0,
              "ticks": ""
             }
            },
            "type": "scattergeo"
           }
          ],
          "scattergl": [
           {
            "marker": {
             "colorbar": {
              "outlinewidth": 0,
              "ticks": ""
             }
            },
            "type": "scattergl"
           }
          ],
          "scattermapbox": [
           {
            "marker": {
             "colorbar": {
              "outlinewidth": 0,
              "ticks": ""
             }
            },
            "type": "scattermapbox"
           }
          ],
          "scatterpolar": [
           {
            "marker": {
             "colorbar": {
              "outlinewidth": 0,
              "ticks": ""
             }
            },
            "type": "scatterpolar"
           }
          ],
          "scatterpolargl": [
           {
            "marker": {
             "colorbar": {
              "outlinewidth": 0,
              "ticks": ""
             }
            },
            "type": "scatterpolargl"
           }
          ],
          "scatterternary": [
           {
            "marker": {
             "colorbar": {
              "outlinewidth": 0,
              "ticks": ""
             }
            },
            "type": "scatterternary"
           }
          ],
          "surface": [
           {
            "colorbar": {
             "outlinewidth": 0,
             "ticks": ""
            },
            "colorscale": [
             [
              0.0,
              "#0d0887"
             ],
             [
              0.1111111111111111,
              "#46039f"
             ],
             [
              0.2222222222222222,
              "#7201a8"
             ],
             [
              0.3333333333333333,
              "#9c179e"
             ],
             [
              0.4444444444444444,
              "#bd3786"
             ],
             [
              0.5555555555555556,
              "#d8576b"
             ],
             [
              0.6666666666666666,
              "#ed7953"
             ],
             [
              0.7777777777777778,
              "#fb9f3a"
             ],
             [
              0.8888888888888888,
              "#fdca26"
             ],
             [
              1.0,
              "#f0f921"
             ]
            ],
            "type": "surface"
           }
          ],
          "table": [
           {
            "cells": {
             "fill": {
              "color": "#EBF0F8"
             },
             "line": {
              "color": "white"
             }
            },
            "header": {
             "fill": {
              "color": "#C8D4E3"
             },
             "line": {
              "color": "white"
             }
            },
            "type": "table"
           }
          ]
         },
         "layout": {
          "annotationdefaults": {
           "arrowcolor": "#2a3f5f",
           "arrowhead": 0,
           "arrowwidth": 1
          },
          "autotypenumbers": "strict",
          "coloraxis": {
           "colorbar": {
            "outlinewidth": 0,
            "ticks": ""
           }
          },
          "colorscale": {
           "diverging": [
            [
             0,
             "#8e0152"
            ],
            [
             0.1,
             "#c51b7d"
            ],
            [
             0.2,
             "#de77ae"
            ],
            [
             0.3,
             "#f1b6da"
            ],
            [
             0.4,
             "#fde0ef"
            ],
            [
             0.5,
             "#f7f7f7"
            ],
            [
             0.6,
             "#e6f5d0"
            ],
            [
             0.7,
             "#b8e186"
            ],
            [
             0.8,
             "#7fbc41"
            ],
            [
             0.9,
             "#4d9221"
            ],
            [
             1,
             "#276419"
            ]
           ],
           "sequential": [
            [
             0.0,
             "#0d0887"
            ],
            [
             0.1111111111111111,
             "#46039f"
            ],
            [
             0.2222222222222222,
             "#7201a8"
            ],
            [
             0.3333333333333333,
             "#9c179e"
            ],
            [
             0.4444444444444444,
             "#bd3786"
            ],
            [
             0.5555555555555556,
             "#d8576b"
            ],
            [
             0.6666666666666666,
             "#ed7953"
            ],
            [
             0.7777777777777778,
             "#fb9f3a"
            ],
            [
             0.8888888888888888,
             "#fdca26"
            ],
            [
             1.0,
             "#f0f921"
            ]
           ],
           "sequentialminus": [
            [
             0.0,
             "#0d0887"
            ],
            [
             0.1111111111111111,
             "#46039f"
            ],
            [
             0.2222222222222222,
             "#7201a8"
            ],
            [
             0.3333333333333333,
             "#9c179e"
            ],
            [
             0.4444444444444444,
             "#bd3786"
            ],
            [
             0.5555555555555556,
             "#d8576b"
            ],
            [
             0.6666666666666666,
             "#ed7953"
            ],
            [
             0.7777777777777778,
             "#fb9f3a"
            ],
            [
             0.8888888888888888,
             "#fdca26"
            ],
            [
             1.0,
             "#f0f921"
            ]
           ]
          },
          "colorway": [
           "#636efa",
           "#EF553B",
           "#00cc96",
           "#ab63fa",
           "#FFA15A",
           "#19d3f3",
           "#FF6692",
           "#B6E880",
           "#FF97FF",
           "#FECB52"
          ],
          "font": {
           "color": "#2a3f5f"
          },
          "geo": {
           "bgcolor": "white",
           "lakecolor": "white",
           "landcolor": "white",
           "showlakes": true,
           "showland": true,
           "subunitcolor": "#C8D4E3"
          },
          "hoverlabel": {
           "align": "left"
          },
          "hovermode": "closest",
          "mapbox": {
           "style": "light"
          },
          "paper_bgcolor": "white",
          "plot_bgcolor": "white",
          "polar": {
           "angularaxis": {
            "gridcolor": "#EBF0F8",
            "linecolor": "#EBF0F8",
            "ticks": ""
           },
           "bgcolor": "white",
           "radialaxis": {
            "gridcolor": "#EBF0F8",
            "linecolor": "#EBF0F8",
            "ticks": ""
           }
          },
          "scene": {
           "xaxis": {
            "backgroundcolor": "white",
            "gridcolor": "#DFE8F3",
            "gridwidth": 2,
            "linecolor": "#EBF0F8",
            "showbackground": true,
            "ticks": "",
            "zerolinecolor": "#EBF0F8"
           },
           "yaxis": {
            "backgroundcolor": "white",
            "gridcolor": "#DFE8F3",
            "gridwidth": 2,
            "linecolor": "#EBF0F8",
            "showbackground": true,
            "ticks": "",
            "zerolinecolor": "#EBF0F8"
           },
           "zaxis": {
            "backgroundcolor": "white",
            "gridcolor": "#DFE8F3",
            "gridwidth": 2,
            "linecolor": "#EBF0F8",
            "showbackground": true,
            "ticks": "",
            "zerolinecolor": "#EBF0F8"
           }
          },
          "shapedefaults": {
           "line": {
            "color": "#2a3f5f"
           }
          },
          "ternary": {
           "aaxis": {
            "gridcolor": "#DFE8F3",
            "linecolor": "#A2B1C6",
            "ticks": ""
           },
           "baxis": {
            "gridcolor": "#DFE8F3",
            "linecolor": "#A2B1C6",
            "ticks": ""
           },
           "bgcolor": "white",
           "caxis": {
            "gridcolor": "#DFE8F3",
            "linecolor": "#A2B1C6",
            "ticks": ""
           }
          },
          "title": {
           "x": 0.05
          },
          "xaxis": {
           "automargin": true,
           "gridcolor": "#EBF0F8",
           "linecolor": "#EBF0F8",
           "ticks": "",
           "title": {
            "standoff": 15
           },
           "zerolinecolor": "#EBF0F8",
           "zerolinewidth": 2
          },
          "yaxis": {
           "automargin": true,
           "gridcolor": "#EBF0F8",
           "linecolor": "#EBF0F8",
           "ticks": "",
           "title": {
            "standoff": 15
           },
           "zerolinecolor": "#EBF0F8",
           "zerolinewidth": 2
          }
         }
        },
        "title": {
         "text": "",
         "x": 0.5
        },
        "width": 1000
       }
      },
      "text/html": [
       "<div>                            <div id=\"502e29bb-cc8e-4dda-a817-ef7187c4b417\" class=\"plotly-graph-div\" style=\"height:850px; width:1000px;\"></div>            <script type=\"text/javascript\">                require([\"plotly\"], function(Plotly) {                    window.PLOTLYENV=window.PLOTLYENV || {};                                    if (document.getElementById(\"502e29bb-cc8e-4dda-a817-ef7187c4b417\")) {                    Plotly.newPlot(                        \"502e29bb-cc8e-4dda-a817-ef7187c4b417\",                        [{\"domain\":{\"x\":[0.0,1.0],\"y\":[0.5700000000000001,1.0]},\"hoverinfo\":\"label+value+percent\",\"hovertemplate\":\"%{label}\\u003cbr\\u003e%{value:\\u003e,} (%{percent:.1%})\",\"labels\":[\"provenance\",\"osmosis\",\"cosmoshub\",\"juno\",\"kujira\",\"gravitybridge\",\"carbon\",\"kava\",\"evmos\",\"crescent\",\"terra\",\"axelar\",\"injective\",\"secretnetwork\",\"terra2\",\"comdex\",\"sifchain\",\"remaining 100 chains\\n\\u003cbr\\u003e\"],\"marker\":{\"colors\":[\"#636EFA\",\"#EF553B\",\"#00CC96\",\"#AB63FA\",\"#FFA15A\",\"#19D3F3\",\"#FF6692\",\"#B6E880\",\"#FF97FF\",\"#FECB52\"]},\"name\":\"assets by chains\",\"rotation\":-32,\"sort\":false,\"text\":[\"4,489\",\"2,108\",\"660\",\"440\",\"419\",\"409\",\"300\",\"232\",\"216\",\"216\",\"193\",\"187\",\"181\",\"158\",\"148\",\"138\",\"132\",\"2,055\"],\"textinfo\":\"label+value+percent\",\"textposition\":\"outside\",\"texttemplate\":\" %{label}  %{value:\\u003e,} (%{percent:.1%}) \",\"values\":[4489,2108,660,440,419,409,300,232,216,216,193,187,181,158,148,138,132,2055],\"type\":\"pie\"},{\"domain\":{\"x\":[0.0,0.3],\"y\":[0.0,0.43]},\"hoverinfo\":\"label+value+percent\",\"hovertemplate\":\"%{label}\\u003cbr\\u003e%{value:\\u003e,} (%{percent:.1%})\",\"labels\":[\"IBC (ICS-20)\",\"Native\",\"LP Tokens\",\"Token Factory\",\"CW-20\",\"ERC-20\"],\"marker\":{\"colors\":[\"#3366CC\",\"#DC3912\",\"#FF9900\",\"#109618\",\"#990099\",\"#0099C6\",\"#DD4477\",\"#66AA00\",\"#B82E2E\",\"#316395\"]},\"name\":\"assets by type\",\"rotation\":91,\"sort\":false,\"text\":[\"5,589\",\"5,430\",\"1,235\",\"276\",\"81\",\"70\"],\"textinfo\":\"label+value+percent\",\"textposition\":\"outside\",\"texttemplate\":\" %{label}  %{value:\\u003e,} (%{percent:.1%}) \",\"values\":[5589,5430,1235,276,81,70],\"type\":\"pie\"},{\"domain\":{\"x\":[0.7,1.0],\"y\":[0.0,0.43]},\"hoverinfo\":\"label+value+percent\",\"hovertemplate\":\"%{label}\\u003cbr\\u003e%{value:\\u003e,} (%{percent:.1%})\",\"labels\":[\"uatom\",\"uluna\",\"uusdc\",\"uosmo\",\"uusd\",\"aevmos\",\"remaining 7,230 base denoms\\n\\u003cbr\\u003e\"],\"marker\":{\"colors\":[\"rgb(153,153,153)\",\"rgb(247,129,191)\",\"rgb(166,86,40)\",\"rgb(255,255,51)\",\"rgb(255,127,0)\",\"rgb(152,78,163)\",\"rgb(77,175,74)\",\"rgb(55,126,184)\",\"rgb(228,26,28)\"]},\"name\":\"assets by base denoms\",\"rotation\":75,\"sort\":false,\"text\":[\"421\",\"332\",\"277\",\"226\",\"184\",\"128\",\"11,032\"],\"textinfo\":\"label+value+percent\",\"textposition\":\"outside\",\"texttemplate\":\" %{label}  %{value:\\u003e,} (%{percent:.1%}) \",\"values\":[421,332,277,226,184,128,11032],\"type\":\"pie\"}],                        {\"annotations\":[{\"font\":{\"size\":16},\"showarrow\":false,\"text\":\"Cosmos-SDK Assets by Chains\",\"x\":0.5,\"xanchor\":\"center\",\"xref\":\"paper\",\"y\":1.04,\"yanchor\":\"bottom\",\"yref\":\"paper\"},{\"font\":{\"size\":16},\"showarrow\":false,\"text\":\"by Type\",\"x\":0.15,\"xanchor\":\"center\",\"xref\":\"paper\",\"y\":0.37,\"yanchor\":\"bottom\",\"yref\":\"paper\"},{\"font\":{\"size\":16},\"showarrow\":false,\"text\":\"by Base Denoms\",\"x\":0.85,\"xanchor\":\"center\",\"xref\":\"paper\",\"y\":0.37,\"yanchor\":\"bottom\",\"yref\":\"paper\"},{\"showarrow\":false,\"text\":\"github.com\\u002fSnedashkovsky\\u002fon-chain-registry\",\"x\":-0.3,\"y\":-0.05},{\"showarrow\":false,\"text\":\"updated 2023-08-24\",\"x\":1.25,\"y\":-0.05}],\"autosize\":false,\"font\":{\"family\":\"Play\"},\"height\":850,\"margin\":{\"b\":0,\"l\":0,\"r\":0,\"t\":80},\"showlegend\":false,\"template\":{\"data\":{\"barpolar\":[{\"marker\":{\"line\":{\"color\":\"white\",\"width\":0.5},\"pattern\":{\"fillmode\":\"overlay\",\"size\":10,\"solidity\":0.2}},\"type\":\"barpolar\"}],\"bar\":[{\"error_x\":{\"color\":\"#2a3f5f\"},\"error_y\":{\"color\":\"#2a3f5f\"},\"marker\":{\"line\":{\"color\":\"white\",\"width\":0.5},\"pattern\":{\"fillmode\":\"overlay\",\"size\":10,\"solidity\":0.2}},\"type\":\"bar\"}],\"carpet\":[{\"aaxis\":{\"endlinecolor\":\"#2a3f5f\",\"gridcolor\":\"#C8D4E3\",\"linecolor\":\"#C8D4E3\",\"minorgridcolor\":\"#C8D4E3\",\"startlinecolor\":\"#2a3f5f\"},\"baxis\":{\"endlinecolor\":\"#2a3f5f\",\"gridcolor\":\"#C8D4E3\",\"linecolor\":\"#C8D4E3\",\"minorgridcolor\":\"#C8D4E3\",\"startlinecolor\":\"#2a3f5f\"},\"type\":\"carpet\"}],\"choropleth\":[{\"colorbar\":{\"outlinewidth\":0,\"ticks\":\"\"},\"type\":\"choropleth\"}],\"contourcarpet\":[{\"colorbar\":{\"outlinewidth\":0,\"ticks\":\"\"},\"type\":\"contourcarpet\"}],\"contour\":[{\"colorbar\":{\"outlinewidth\":0,\"ticks\":\"\"},\"colorscale\":[[0.0,\"#0d0887\"],[0.1111111111111111,\"#46039f\"],[0.2222222222222222,\"#7201a8\"],[0.3333333333333333,\"#9c179e\"],[0.4444444444444444,\"#bd3786\"],[0.5555555555555556,\"#d8576b\"],[0.6666666666666666,\"#ed7953\"],[0.7777777777777778,\"#fb9f3a\"],[0.8888888888888888,\"#fdca26\"],[1.0,\"#f0f921\"]],\"type\":\"contour\"}],\"heatmapgl\":[{\"colorbar\":{\"outlinewidth\":0,\"ticks\":\"\"},\"colorscale\":[[0.0,\"#0d0887\"],[0.1111111111111111,\"#46039f\"],[0.2222222222222222,\"#7201a8\"],[0.3333333333333333,\"#9c179e\"],[0.4444444444444444,\"#bd3786\"],[0.5555555555555556,\"#d8576b\"],[0.6666666666666666,\"#ed7953\"],[0.7777777777777778,\"#fb9f3a\"],[0.8888888888888888,\"#fdca26\"],[1.0,\"#f0f921\"]],\"type\":\"heatmapgl\"}],\"heatmap\":[{\"colorbar\":{\"outlinewidth\":0,\"ticks\":\"\"},\"colorscale\":[[0.0,\"#0d0887\"],[0.1111111111111111,\"#46039f\"],[0.2222222222222222,\"#7201a8\"],[0.3333333333333333,\"#9c179e\"],[0.4444444444444444,\"#bd3786\"],[0.5555555555555556,\"#d8576b\"],[0.6666666666666666,\"#ed7953\"],[0.7777777777777778,\"#fb9f3a\"],[0.8888888888888888,\"#fdca26\"],[1.0,\"#f0f921\"]],\"type\":\"heatmap\"}],\"histogram2dcontour\":[{\"colorbar\":{\"outlinewidth\":0,\"ticks\":\"\"},\"colorscale\":[[0.0,\"#0d0887\"],[0.1111111111111111,\"#46039f\"],[0.2222222222222222,\"#7201a8\"],[0.3333333333333333,\"#9c179e\"],[0.4444444444444444,\"#bd3786\"],[0.5555555555555556,\"#d8576b\"],[0.6666666666666666,\"#ed7953\"],[0.7777777777777778,\"#fb9f3a\"],[0.8888888888888888,\"#fdca26\"],[1.0,\"#f0f921\"]],\"type\":\"histogram2dcontour\"}],\"histogram2d\":[{\"colorbar\":{\"outlinewidth\":0,\"ticks\":\"\"},\"colorscale\":[[0.0,\"#0d0887\"],[0.1111111111111111,\"#46039f\"],[0.2222222222222222,\"#7201a8\"],[0.3333333333333333,\"#9c179e\"],[0.4444444444444444,\"#bd3786\"],[0.5555555555555556,\"#d8576b\"],[0.6666666666666666,\"#ed7953\"],[0.7777777777777778,\"#fb9f3a\"],[0.8888888888888888,\"#fdca26\"],[1.0,\"#f0f921\"]],\"type\":\"histogram2d\"}],\"histogram\":[{\"marker\":{\"pattern\":{\"fillmode\":\"overlay\",\"size\":10,\"solidity\":0.2}},\"type\":\"histogram\"}],\"mesh3d\":[{\"colorbar\":{\"outlinewidth\":0,\"ticks\":\"\"},\"type\":\"mesh3d\"}],\"parcoords\":[{\"line\":{\"colorbar\":{\"outlinewidth\":0,\"ticks\":\"\"}},\"type\":\"parcoords\"}],\"pie\":[{\"automargin\":true,\"type\":\"pie\"}],\"scatter3d\":[{\"line\":{\"colorbar\":{\"outlinewidth\":0,\"ticks\":\"\"}},\"marker\":{\"colorbar\":{\"outlinewidth\":0,\"ticks\":\"\"}},\"type\":\"scatter3d\"}],\"scattercarpet\":[{\"marker\":{\"colorbar\":{\"outlinewidth\":0,\"ticks\":\"\"}},\"type\":\"scattercarpet\"}],\"scattergeo\":[{\"marker\":{\"colorbar\":{\"outlinewidth\":0,\"ticks\":\"\"}},\"type\":\"scattergeo\"}],\"scattergl\":[{\"marker\":{\"colorbar\":{\"outlinewidth\":0,\"ticks\":\"\"}},\"type\":\"scattergl\"}],\"scattermapbox\":[{\"marker\":{\"colorbar\":{\"outlinewidth\":0,\"ticks\":\"\"}},\"type\":\"scattermapbox\"}],\"scatterpolargl\":[{\"marker\":{\"colorbar\":{\"outlinewidth\":0,\"ticks\":\"\"}},\"type\":\"scatterpolargl\"}],\"scatterpolar\":[{\"marker\":{\"colorbar\":{\"outlinewidth\":0,\"ticks\":\"\"}},\"type\":\"scatterpolar\"}],\"scatter\":[{\"fillpattern\":{\"fillmode\":\"overlay\",\"size\":10,\"solidity\":0.2},\"type\":\"scatter\"}],\"scatterternary\":[{\"marker\":{\"colorbar\":{\"outlinewidth\":0,\"ticks\":\"\"}},\"type\":\"scatterternary\"}],\"surface\":[{\"colorbar\":{\"outlinewidth\":0,\"ticks\":\"\"},\"colorscale\":[[0.0,\"#0d0887\"],[0.1111111111111111,\"#46039f\"],[0.2222222222222222,\"#7201a8\"],[0.3333333333333333,\"#9c179e\"],[0.4444444444444444,\"#bd3786\"],[0.5555555555555556,\"#d8576b\"],[0.6666666666666666,\"#ed7953\"],[0.7777777777777778,\"#fb9f3a\"],[0.8888888888888888,\"#fdca26\"],[1.0,\"#f0f921\"]],\"type\":\"surface\"}],\"table\":[{\"cells\":{\"fill\":{\"color\":\"#EBF0F8\"},\"line\":{\"color\":\"white\"}},\"header\":{\"fill\":{\"color\":\"#C8D4E3\"},\"line\":{\"color\":\"white\"}},\"type\":\"table\"}]},\"layout\":{\"annotationdefaults\":{\"arrowcolor\":\"#2a3f5f\",\"arrowhead\":0,\"arrowwidth\":1},\"autotypenumbers\":\"strict\",\"coloraxis\":{\"colorbar\":{\"outlinewidth\":0,\"ticks\":\"\"}},\"colorscale\":{\"diverging\":[[0,\"#8e0152\"],[0.1,\"#c51b7d\"],[0.2,\"#de77ae\"],[0.3,\"#f1b6da\"],[0.4,\"#fde0ef\"],[0.5,\"#f7f7f7\"],[0.6,\"#e6f5d0\"],[0.7,\"#b8e186\"],[0.8,\"#7fbc41\"],[0.9,\"#4d9221\"],[1,\"#276419\"]],\"sequential\":[[0.0,\"#0d0887\"],[0.1111111111111111,\"#46039f\"],[0.2222222222222222,\"#7201a8\"],[0.3333333333333333,\"#9c179e\"],[0.4444444444444444,\"#bd3786\"],[0.5555555555555556,\"#d8576b\"],[0.6666666666666666,\"#ed7953\"],[0.7777777777777778,\"#fb9f3a\"],[0.8888888888888888,\"#fdca26\"],[1.0,\"#f0f921\"]],\"sequentialminus\":[[0.0,\"#0d0887\"],[0.1111111111111111,\"#46039f\"],[0.2222222222222222,\"#7201a8\"],[0.3333333333333333,\"#9c179e\"],[0.4444444444444444,\"#bd3786\"],[0.5555555555555556,\"#d8576b\"],[0.6666666666666666,\"#ed7953\"],[0.7777777777777778,\"#fb9f3a\"],[0.8888888888888888,\"#fdca26\"],[1.0,\"#f0f921\"]]},\"colorway\":[\"#636efa\",\"#EF553B\",\"#00cc96\",\"#ab63fa\",\"#FFA15A\",\"#19d3f3\",\"#FF6692\",\"#B6E880\",\"#FF97FF\",\"#FECB52\"],\"font\":{\"color\":\"#2a3f5f\"},\"geo\":{\"bgcolor\":\"white\",\"lakecolor\":\"white\",\"landcolor\":\"white\",\"showlakes\":true,\"showland\":true,\"subunitcolor\":\"#C8D4E3\"},\"hoverlabel\":{\"align\":\"left\"},\"hovermode\":\"closest\",\"mapbox\":{\"style\":\"light\"},\"paper_bgcolor\":\"white\",\"plot_bgcolor\":\"white\",\"polar\":{\"angularaxis\":{\"gridcolor\":\"#EBF0F8\",\"linecolor\":\"#EBF0F8\",\"ticks\":\"\"},\"bgcolor\":\"white\",\"radialaxis\":{\"gridcolor\":\"#EBF0F8\",\"linecolor\":\"#EBF0F8\",\"ticks\":\"\"}},\"scene\":{\"xaxis\":{\"backgroundcolor\":\"white\",\"gridcolor\":\"#DFE8F3\",\"gridwidth\":2,\"linecolor\":\"#EBF0F8\",\"showbackground\":true,\"ticks\":\"\",\"zerolinecolor\":\"#EBF0F8\"},\"yaxis\":{\"backgroundcolor\":\"white\",\"gridcolor\":\"#DFE8F3\",\"gridwidth\":2,\"linecolor\":\"#EBF0F8\",\"showbackground\":true,\"ticks\":\"\",\"zerolinecolor\":\"#EBF0F8\"},\"zaxis\":{\"backgroundcolor\":\"white\",\"gridcolor\":\"#DFE8F3\",\"gridwidth\":2,\"linecolor\":\"#EBF0F8\",\"showbackground\":true,\"ticks\":\"\",\"zerolinecolor\":\"#EBF0F8\"}},\"shapedefaults\":{\"line\":{\"color\":\"#2a3f5f\"}},\"ternary\":{\"aaxis\":{\"gridcolor\":\"#DFE8F3\",\"linecolor\":\"#A2B1C6\",\"ticks\":\"\"},\"baxis\":{\"gridcolor\":\"#DFE8F3\",\"linecolor\":\"#A2B1C6\",\"ticks\":\"\"},\"bgcolor\":\"white\",\"caxis\":{\"gridcolor\":\"#DFE8F3\",\"linecolor\":\"#A2B1C6\",\"ticks\":\"\"}},\"title\":{\"x\":0.05},\"xaxis\":{\"automargin\":true,\"gridcolor\":\"#EBF0F8\",\"linecolor\":\"#EBF0F8\",\"ticks\":\"\",\"title\":{\"standoff\":15},\"zerolinecolor\":\"#EBF0F8\",\"zerolinewidth\":2},\"yaxis\":{\"automargin\":true,\"gridcolor\":\"#EBF0F8\",\"linecolor\":\"#EBF0F8\",\"ticks\":\"\",\"title\":{\"standoff\":15},\"zerolinecolor\":\"#EBF0F8\",\"zerolinewidth\":2}}},\"title\":{\"text\":\"\",\"x\":0.5},\"width\":1000},                        {\"responsive\": true}                    ).then(function(){\n",
       "                            \n",
       "var gd = document.getElementById('502e29bb-cc8e-4dda-a817-ef7187c4b417');\n",
       "var x = new MutationObserver(function (mutations, observer) {{\n",
       "        var display = window.getComputedStyle(gd).display;\n",
       "        if (!display || display === 'none') {{\n",
       "            console.log([gd, 'removed!']);\n",
       "            Plotly.purge(gd);\n",
       "            observer.disconnect();\n",
       "        }}\n",
       "}});\n",
       "\n",
       "// Listen for the removal of the full notebook cells\n",
       "var notebookContainer = gd.closest('#notebook-container');\n",
       "if (notebookContainer) {{\n",
       "    x.observe(notebookContainer, {childList: true});\n",
       "}}\n",
       "\n",
       "// Listen for the clearing of the current output cell\n",
       "var outputEl = gd.closest('.output');\n",
       "if (outputEl) {{\n",
       "    x.observe(outputEl, {childList: true});\n",
       "}}\n",
       "\n",
       "                        })                };                });            </script>        </div>"
      ]
     },
     "metadata": {},
     "output_type": "display_data"
    }
   ],
   "source": [
    "fig = make_subplots(\n",
    "    rows=2, \n",
    "    cols=2, \n",
    "    specs=[[{'type': 'pie', 'colspan': 2}, None], \n",
    "           [{'type': 'pie'}, {'type': 'pie'}]],\n",
    "    subplot_titles=('Cosmos-SDK Assets by Chains', 'by Type', 'by Base Denoms'),\n",
    "    horizontal_spacing=0.4,\n",
    "    vertical_spacing=0.14\n",
    ")\n",
    "\n",
    "fig.add_trace(\n",
    "    go.Pie(\n",
    "        labels=list(assets_by_chain.to_dict().keys()), \n",
    "        values=list(assets_by_chain.to_dict().values()),\n",
    "        text=list(assets_by_chain.map('{:>,}'.format).to_dict().values()),\n",
    "        sort=False,\n",
    "        name='assets by chains',\n",
    "        rotation=-32,\n",
    "        marker_colors=px.colors.qualitative.Plotly\n",
    "    ),\n",
    "    row=1, \n",
    "    col=1)\n",
    "\n",
    "fig.add_trace(\n",
    "    go.Pie(\n",
    "        labels=list(assets_by_type_asset.to_dict().keys()), \n",
    "        values=list(assets_by_type_asset.to_dict().values()),\n",
    "        text=list(assets_by_type_asset.map('{:>,}'.format).to_dict().values()),\n",
    "        sort=False,\n",
    "        name='assets by type',\n",
    "        rotation=91,\n",
    "        marker_colors=px.colors.qualitative.G10\n",
    "    ),\n",
    "    row=2, \n",
    "    col=1)\n",
    "fig.add_trace(\n",
    "    go.Pie(\n",
    "        labels=list(assets_by_denom_base.to_dict().keys()), \n",
    "        values=list(assets_by_denom_base.to_dict().values()),\n",
    "        text=list(assets_by_denom_base.map('{:>,}'.format).to_dict().values()),\n",
    "        sort=False,\n",
    "        name='assets by base denoms',\n",
    "        rotation=75,\n",
    "        marker_colors=px.colors.qualitative.Set1_r\n",
    "    ),\n",
    "    row=2, \n",
    "    col=2)\n",
    "fig.update_traces(\n",
    "    textposition='outside', \n",
    "    hoverinfo='label+value+percent',\n",
    "    textinfo='label+value+percent',\n",
    "    texttemplate=' %{label}  %{value:>,} (%{percent:.1%}) ',\n",
    "    hovertemplate='%{label}<br>%{value:>,} (%{percent:.1%})'\n",
    ")\n",
    "fig.update_layout(\n",
    "    height=850, \n",
    "    width=1000, \n",
    "    showlegend=False, \n",
    "    font_family=\"Play\",\n",
    "    title_text='', \n",
    "    title_x=0.5,\n",
    "    template='plotly_white',\n",
    "    autosize=False,\n",
    "    margin = {'l':0,'r':0,'t':80,'b':0}\n",
    ")\n",
    "\n",
    "fig['layout']['annotations'][0]['y'] = 1.04\n",
    "fig['layout']['annotations'][1]['y'] = 0.37\n",
    "fig['layout']['annotations'][2]['y'] = 0.37\n",
    "\n",
    "fig.add_annotation(\n",
    "    x=-0.3, \n",
    "    y=-0.05,\n",
    "    text=f'github.com/Snedashkovsky/on-chain-registry',\n",
    "    showarrow=False)\n",
    "fig.add_annotation(\n",
    "    x=1.25, \n",
    "    y=-0.05,\n",
    "    text=f'updated {date.today()}',\n",
    "    showarrow=False)\n",
    "\n",
    "fig.write_image('charts/charts.png', scale=1.5)\n",
    "fig.write_html('charts/index.html', include_plotlyjs='cdn')\n",
    "iplot(fig)"
   ]
  },
  {
   "cell_type": "markdown",
   "metadata": {
    "collapsed": false
   },
   "source": [
    "## contract query"
   ]
  },
  {
   "cell_type": "code",
   "execution_count": 6,
   "metadata": {
    "ExecuteTime": {
     "end_time": "2023-08-22T15:03:25.118633Z",
     "start_time": "2023-08-22T15:03:24.519008Z"
    },
    "collapsed": false,
    "execution": {
     "iopub.execute_input": "2023-08-24T06:44:04.758860Z",
     "iopub.status.busy": "2023-08-24T06:44:04.758393Z",
     "iopub.status.idle": "2023-08-24T06:44:05.015604Z",
     "shell.execute_reply": "2023-08-24T06:44:05.014258Z"
    }
   },
   "outputs": [
    {
     "name": "stdout",
     "output_type": "stream",
     "text": [
      "{'code': 3,\n",
      " 'details': [],\n",
      " 'message': 'Error parsing into type on_chain_registry::msg::QueryMsg: Invalid '\n",
      "            'type: query wasm contract failed: invalid request'}\n"
     ]
    }
   ],
   "source": [
    "CONTRACT_CHAIN = 'osmosis-testnet'\n",
    "\n",
    "pprint(\n",
    "    contract_query(\n",
    "        query={'get_assets_by_chain': {'chain_name': 'osmosis', 'limit': '4', 'start_after_base': 'ibc/FF6F4774ABC2478832A6D6681DB9A7A8DDC4485212A8AED84642EFCD63C748A9'}},\n",
    "        contract_address=CONTRACT_ADDRESSES[CONTRACT_CHAIN],\n",
    "        node_lcd_url=NODE_LCD_URLS[CONTRACT_CHAIN]\n",
    "    )\n",
    ")"
   ]
  },
  {
   "cell_type": "code",
   "execution_count": 7,
   "metadata": {
    "ExecuteTime": {
     "end_time": "2023-08-22T14:58:04.916294Z",
     "start_time": "2023-08-22T14:58:04.385666Z"
    },
    "collapsed": false,
    "execution": {
     "iopub.execute_input": "2023-08-24T06:44:05.021164Z",
     "iopub.status.busy": "2023-08-24T06:44:05.020781Z",
     "iopub.status.idle": "2023-08-24T06:44:05.174771Z",
     "shell.execute_reply": "2023-08-24T06:44:05.173141Z"
    }
   },
   "outputs": [
    {
     "name": "stdout",
     "output_type": "stream",
     "text": [
      "{'data': {'entries': [{'address': None,\n",
      "                       'admin': None,\n",
      "                       'base': 'ibc/4A3AAD07BC4EBEBC10FC2560EAA3B7A1D3B541B5264ED8E5E13E6B74AC76127B',\n",
      "                       'chain_id': 'eightball-1',\n",
      "                       'chain_name': '8ball',\n",
      "                       'coingecko_id': None,\n",
      "                       'denom_units': [{'aliases': [],\n",
      "                                        'denom': 'uosmo',\n",
      "                                        'exponent': 0},\n",
      "                                       {'aliases': [],\n",
      "                                        'denom': 'osmo',\n",
      "                                        'exponent': 6}],\n",
      "                       'description': 'The native token of Osmosis',\n",
      "                       'display': 'osmo',\n",
      "                       'ibc': {'base_supply': None,\n",
      "                               'dst_channel': 'channel-641',\n",
      "                               'source_channel': 'channel-16',\n",
      "                               'source_denom': 'uosmo'},\n",
      "                       'images': None,\n",
      "                       'keywords': None,\n",
      "                       'logo_uris': None,\n",
      "                       'name': None,\n",
      "                       'supply': '6200911',\n",
      "                       'symbol': None,\n",
      "                       'traces': [{'chain': {'channel_id': 'channel-16',\n",
      "                                             'path': 'transfer/channel-16/uosmo',\n",
      "                                             'port': None},\n",
      "                                   'counterparty': {'base_denom': 'uosmo',\n",
      "                                                    'base_supply': '612034655479297',\n",
      "                                                    'chain_id': 'osmosis-1',\n",
      "                                                    'chain_name': 'osmosis',\n",
      "                                                    'channel_id': 'channel-641',\n",
      "                                                    'contract': None,\n",
      "                                                    'port': None},\n",
      "                                   'provider': None,\n",
      "                                   'trace_type': 'ibc'}],\n",
      "                       'type_asset': 'ics20'},\n",
      "                      {'address': None,\n",
      "                       'admin': None,\n",
      "                       'base': 'ibc/65F2AFA2F7AC0FC1ACA0EC1710A5AB381BF87B25CB74E903C5847ED86CAE213A',\n",
      "                       'chain_id': 'eightball-1',\n",
      "                       'chain_name': '8ball',\n",
      "                       'coingecko_id': None,\n",
      "                       'denom_units': [{'aliases': [],\n",
      "                                        'denom': 'uion',\n",
      "                                        'exponent': 0},\n",
      "                                       {'aliases': [],\n",
      "                                        'denom': 'ion',\n",
      "                                        'exponent': 6}],\n",
      "                       'description': None,\n",
      "                       'display': 'ion',\n",
      "                       'ibc': {'base_supply': None,\n",
      "                               'dst_channel': 'channel-641',\n",
      "                               'source_channel': 'channel-16',\n",
      "                               'source_denom': 'uion'},\n",
      "                       'images': None,\n",
      "                       'keywords': None,\n",
      "                       'logo_uris': None,\n",
      "                       'name': None,\n",
      "                       'supply': '500',\n",
      "                       'symbol': None,\n",
      "                       'traces': [{'chain': {'channel_id': 'channel-16',\n",
      "                                             'path': 'transfer/channel-16/uion',\n",
      "                                             'port': None},\n",
      "                                   'counterparty': {'base_denom': 'uion',\n",
      "                                                    'base_supply': '21294000000',\n",
      "                                                    'chain_id': 'osmosis-1',\n",
      "                                                    'chain_name': 'osmosis',\n",
      "                                                    'channel_id': 'channel-641',\n",
      "                                                    'contract': None,\n",
      "                                                    'port': None},\n",
      "                                   'provider': None,\n",
      "                                   'trace_type': 'ibc'}],\n",
      "                       'type_asset': 'ics20'},\n",
      "                      {'address': None,\n",
      "                       'admin': None,\n",
      "                       'base': 'uebl',\n",
      "                       'chain_id': 'eightball-1',\n",
      "                       'chain_name': '8ball',\n",
      "                       'coingecko_id': None,\n",
      "                       'denom_units': None,\n",
      "                       'description': None,\n",
      "                       'display': None,\n",
      "                       'ibc': None,\n",
      "                       'images': None,\n",
      "                       'keywords': None,\n",
      "                       'logo_uris': None,\n",
      "                       'name': None,\n",
      "                       'supply': '75013832225786',\n",
      "                       'symbol': None,\n",
      "                       'traces': None,\n",
      "                       'type_asset': 'sdk.coin'},\n",
      "                      {'address': None,\n",
      "                       'admin': None,\n",
      "                       'base': 'aacre',\n",
      "                       'chain_id': 'acre_9052-1',\n",
      "                       'chain_name': 'acrechain',\n",
      "                       'coingecko_id': None,\n",
      "                       'denom_units': [{'aliases': ['aacre'],\n",
      "                                        'denom': 'aacre',\n",
      "                                        'exponent': 0},\n",
      "                                       {'aliases': [],\n",
      "                                        'denom': 'ACRE',\n",
      "                                        'exponent': 18}],\n",
      "                       'description': 'The native staking and governance token '\n",
      "                                      'of the Acrechain',\n",
      "                       'display': 'ACRE',\n",
      "                       'ibc': None,\n",
      "                       'images': None,\n",
      "                       'keywords': None,\n",
      "                       'logo_uris': None,\n",
      "                       'name': 'ACRE',\n",
      "                       'supply': '504696369621540069441768364',\n",
      "                       'symbol': 'ACRE',\n",
      "                       'traces': None,\n",
      "                       'type_asset': 'sdk.coin'},\n",
      "                      {'address': None,\n",
      "                       'admin': None,\n",
      "                       'base': 'erc20/0x2Cbea61fdfDFA520Ee99700F104D5b75ADf50B0c',\n",
      "                       'chain_id': 'acre_9052-1',\n",
      "                       'chain_name': 'acrechain',\n",
      "                       'coingecko_id': None,\n",
      "                       'denom_units': [{'aliases': [],\n",
      "                                        'denom': 'erc20/0x2Cbea61fdfDFA520Ee99700F104D5b75ADf50B0c',\n",
      "                                        'exponent': 0},\n",
      "                                       {'aliases': [],\n",
      "                                        'denom': 'ArableUSD',\n",
      "                                        'exponent': 18}],\n",
      "                       'description': 'Cosmos coin token representation of '\n",
      "                                      '0x2Cbea61fdfDFA520Ee99700F104D5b75ADf50B0c',\n",
      "                       'display': 'ArableUSD',\n",
      "                       'ibc': None,\n",
      "                       'images': None,\n",
      "                       'keywords': None,\n",
      "                       'logo_uris': None,\n",
      "                       'name': 'erc20/0x2Cbea61fdfDFA520Ee99700F104D5b75ADf50B0c',\n",
      "                       'supply': '63359543775854919305474',\n",
      "                       'symbol': 'arUSD',\n",
      "                       'traces': None,\n",
      "                       'type_asset': 'sdk.coin'}]}}\n"
     ]
    }
   ],
   "source": [
    "pprint(\n",
    "    contract_query(\n",
    "        query={'get_all_assets': {'limit': 5}},\n",
    "        contract_address=CONTRACT_ADDRESSES[CONTRACT_CHAIN],\n",
    "        node_lcd_url=NODE_LCD_URLS[CONTRACT_CHAIN]\n",
    "    )\n",
    ")"
   ]
  },
  {
   "cell_type": "code",
   "execution_count": 8,
   "metadata": {
    "ExecuteTime": {
     "end_time": "2023-08-22T14:58:05.303014Z",
     "start_time": "2023-08-22T14:58:04.914216Z"
    },
    "collapsed": false,
    "execution": {
     "iopub.execute_input": "2023-08-24T06:44:05.180309Z",
     "iopub.status.busy": "2023-08-24T06:44:05.179972Z",
     "iopub.status.idle": "2023-08-24T06:44:05.372535Z",
     "shell.execute_reply": "2023-08-24T06:44:05.371142Z"
    }
   },
   "outputs": [
    {
     "name": "stdout",
     "output_type": "stream",
     "text": [
      "{'data': {'asset': {'address': None,\n",
      "                    'admin': None,\n",
      "                    'base': 'uosmo',\n",
      "                    'chain_id': 'osmosis-1',\n",
      "                    'chain_name': 'osmosis',\n",
      "                    'coingecko_id': None,\n",
      "                    'denom_units': [{'aliases': [],\n",
      "                                     'denom': 'uosmo',\n",
      "                                     'exponent': 0},\n",
      "                                    {'aliases': [],\n",
      "                                     'denom': 'osmo',\n",
      "                                     'exponent': 6}],\n",
      "                    'description': 'The native token of Osmosis',\n",
      "                    'display': 'osmo',\n",
      "                    'ibc': None,\n",
      "                    'images': None,\n",
      "                    'keywords': None,\n",
      "                    'logo_uris': None,\n",
      "                    'name': None,\n",
      "                    'supply': '612034655479297',\n",
      "                    'symbol': None,\n",
      "                    'traces': None,\n",
      "                    'type_asset': 'sdk.coin'},\n",
      "          'chain_name': 'osmosis'}}\n"
     ]
    }
   ],
   "source": [
    "pprint(\n",
    "    contract_query(\n",
    "        query={'get_asset': {'chain_name': 'osmosis', \n",
    "                             'base': 'uosmo'}\n",
    "               },\n",
    "        contract_address=CONTRACT_ADDRESSES[CONTRACT_CHAIN],\n",
    "        node_lcd_url=NODE_LCD_URLS[CONTRACT_CHAIN]\n",
    "    )\n",
    ")"
   ]
  },
  {
   "cell_type": "code",
   "execution_count": 16,
   "metadata": {
    "ExecuteTime": {
     "end_time": "2023-08-22T14:58:05.303234Z",
     "start_time": "2023-08-22T14:58:05.300577Z"
    },
    "collapsed": false
   },
   "outputs": [],
   "source": []
  }
 ],
 "metadata": {
  "kernelspec": {
   "display_name": "Python 3",
   "language": "python",
   "name": "python3"
  },
  "language_info": {
   "codemirror_mode": {
    "name": "ipython",
    "version": 3
   },
   "file_extension": ".py",
   "mimetype": "text/x-python",
   "name": "python",
   "nbconvert_exporter": "python",
   "pygments_lexer": "ipython3",
   "version": "3.9.15"
  }
 },
 "nbformat": 4,
 "nbformat_minor": 0
}
