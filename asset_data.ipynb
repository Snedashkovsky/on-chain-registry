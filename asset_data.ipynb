{
 "cells": [
  {
   "cell_type": "markdown",
   "metadata": {
    "collapsed": false
   },
   "source": [
    "# Asset Data"
   ]
  },
  {
   "cell_type": "code",
   "execution_count": 1,
   "metadata": {
    "ExecuteTime": {
     "end_time": "2023-09-19T03:15:24.202358Z",
     "start_time": "2023-09-19T03:15:23.443092Z"
    },
    "collapsed": false,
    "execution": {
     "iopub.execute_input": "2024-03-26T07:06:20.747607Z",
     "iopub.status.busy": "2024-03-26T07:06:20.746972Z",
     "iopub.status.idle": "2024-03-26T07:06:21.817735Z",
     "shell.execute_reply": "2024-03-26T07:06:21.817059Z"
    }
   },
   "outputs": [
    {
     "data": {
      "text/html": [
       "        <script type=\"text/javascript\">\n",
       "        window.PlotlyConfig = {MathJaxConfig: 'local'};\n",
       "        if (window.MathJax && window.MathJax.Hub && window.MathJax.Hub.Config) {window.MathJax.Hub.Config({SVG: {font: \"STIX-Web\"}});}\n",
       "        if (typeof require !== 'undefined') {\n",
       "        require.undef(\"plotly\");\n",
       "        requirejs.config({\n",
       "            paths: {\n",
       "                'plotly': ['https://cdn.plot.ly/plotly-2.24.1.min']\n",
       "            }\n",
       "        });\n",
       "        require(['plotly'], function(Plotly) {\n",
       "            window._Plotly = Plotly;\n",
       "        });\n",
       "        }\n",
       "        </script>\n",
       "        "
      ]
     },
     "metadata": {},
     "output_type": "display_data"
    }
   ],
   "source": [
    "import ast\n",
    "import numpy as np\n",
    "import pandas as pd\n",
    "from warnings import filterwarnings\n",
    "from tqdm.notebook import tqdm\n",
    "from plotly.subplots import make_subplots\n",
    "import plotly.graph_objects as go\n",
    "import plotly.express as px\n",
    "from plotly.offline import iplot, init_notebook_mode\n",
    "from pprint import pprint\n",
    "from datetime import date\n",
    "\n",
    "filterwarnings('ignore')\n",
    "\n",
    "from src.contract_export import contract_query\n",
    "from config import CONTRACT_ADDRESSES, NODE_LCD_URLS\n",
    "\n",
    "init_notebook_mode(connected=True)\n",
    "tqdm.pandas()\n",
    "\n",
    "CONTRACT_CHAIN = 'osmosis-testnet'"
   ]
  },
  {
   "cell_type": "markdown",
   "metadata": {
    "collapsed": false
   },
   "source": [
    "## load data"
   ]
  },
  {
   "cell_type": "code",
   "execution_count": 2,
   "metadata": {
    "ExecuteTime": {
     "end_time": "2023-09-19T03:15:24.457417Z",
     "start_time": "2023-09-19T03:15:24.200419Z"
    },
    "collapsed": false,
    "execution": {
     "iopub.execute_input": "2024-03-26T07:06:21.878686Z",
     "iopub.status.busy": "2024-03-26T07:06:21.878065Z",
     "iopub.status.idle": "2024-03-26T07:06:22.485713Z",
     "shell.execute_reply": "2024-03-26T07:06:22.484416Z"
    }
   },
   "outputs": [
    {
     "data": {
      "text/html": [
       "<div>\n",
       "<style scoped>\n",
       "    .dataframe tbody tr th:only-of-type {\n",
       "        vertical-align: middle;\n",
       "    }\n",
       "\n",
       "    .dataframe tbody tr th {\n",
       "        vertical-align: top;\n",
       "    }\n",
       "\n",
       "    .dataframe thead th {\n",
       "        text-align: right;\n",
       "    }\n",
       "</style>\n",
       "<table border=\"1\" class=\"dataframe\">\n",
       "  <thead>\n",
       "    <tr style=\"text-align: right;\">\n",
       "      <th></th>\n",
       "      <th>chain_id</th>\n",
       "      <th>denom</th>\n",
       "      <th>type_asset</th>\n",
       "      <th>supply</th>\n",
       "      <th>description</th>\n",
       "      <th>denom_units</th>\n",
       "      <th>display</th>\n",
       "      <th>name</th>\n",
       "      <th>symbol</th>\n",
       "      <th>uri</th>\n",
       "      <th>...</th>\n",
       "      <th>path</th>\n",
       "      <th>channels</th>\n",
       "      <th>chain_id_counterparty</th>\n",
       "      <th>supply_base</th>\n",
       "      <th>chain_id_base</th>\n",
       "      <th>channels_number</th>\n",
       "      <th>admin</th>\n",
       "      <th>ibc</th>\n",
       "      <th>traces</th>\n",
       "      <th>chain_name</th>\n",
       "    </tr>\n",
       "  </thead>\n",
       "  <tbody>\n",
       "    <tr>\n",
       "      <th>0</th>\n",
       "      <td>osmosis-1</td>\n",
       "      <td>ibc/58BBF3D7F5D89C8EBDDD59CA4C2E1264A3A8DB292C...</td>\n",
       "      <td>ics20</td>\n",
       "      <td>3522654</td>\n",
       "      <td>NaN</td>\n",
       "      <td>None</td>\n",
       "      <td>NaN</td>\n",
       "      <td>NaN</td>\n",
       "      <td>NaN</td>\n",
       "      <td>NaN</td>\n",
       "      <td>...</td>\n",
       "      <td>transfer/channel-2188/transfer/channel-19/tran...</td>\n",
       "      <td>[channel-2188, channel-19, channel-4, channel-...</td>\n",
       "      <td>coreum-mainnet-1</td>\n",
       "      <td>NaN</td>\n",
       "      <td>NaN</td>\n",
       "      <td>17</td>\n",
       "      <td>NaN</td>\n",
       "      <td>{'source_channel': 'channel-2188', 'dst_channe...</td>\n",
       "      <td>[{'type': 'ibc', 'counterparty': {'chain_id': ...</td>\n",
       "      <td>osmosis</td>\n",
       "    </tr>\n",
       "    <tr>\n",
       "      <th>1</th>\n",
       "      <td>osmosis-1</td>\n",
       "      <td>ibc/E510650E8038F932BA1823B3DFBB9B3714F7FB63F6...</td>\n",
       "      <td>ics20</td>\n",
       "      <td>108251123</td>\n",
       "      <td>NaN</td>\n",
       "      <td>None</td>\n",
       "      <td>NaN</td>\n",
       "      <td>NaN</td>\n",
       "      <td>NaN</td>\n",
       "      <td>NaN</td>\n",
       "      <td>...</td>\n",
       "      <td>transfer/channel-874/transfer/channel-1/transf...</td>\n",
       "      <td>[channel-874, channel-1, channel-141, channel-...</td>\n",
       "      <td>neutron-1</td>\n",
       "      <td>NaN</td>\n",
       "      <td>NaN</td>\n",
       "      <td>17</td>\n",
       "      <td>NaN</td>\n",
       "      <td>{'source_channel': 'channel-874', 'dst_channel...</td>\n",
       "      <td>[{'type': 'ibc', 'counterparty': {'chain_id': ...</td>\n",
       "      <td>osmosis</td>\n",
       "    </tr>\n",
       "    <tr>\n",
       "      <th>2</th>\n",
       "      <td>osmosis-1</td>\n",
       "      <td>ibc/56A78E186FE5E87B7A6942ADCD1E319CF22C8C95E0...</td>\n",
       "      <td>ics20</td>\n",
       "      <td>1000000</td>\n",
       "      <td>NaN</td>\n",
       "      <td>None</td>\n",
       "      <td>NaN</td>\n",
       "      <td>NaN</td>\n",
       "      <td>NaN</td>\n",
       "      <td>NaN</td>\n",
       "      <td>...</td>\n",
       "      <td>transfer/channel-143/transfer/channel-0/transf...</td>\n",
       "      <td>[channel-143, channel-0, channel-141, channel-...</td>\n",
       "      <td>kava_2222-10</td>\n",
       "      <td>NaN</td>\n",
       "      <td>NaN</td>\n",
       "      <td>16</td>\n",
       "      <td>NaN</td>\n",
       "      <td>{'source_channel': 'channel-143', 'dst_channel...</td>\n",
       "      <td>[{'type': 'ibc', 'counterparty': {'chain_id': ...</td>\n",
       "      <td>osmosis</td>\n",
       "    </tr>\n",
       "    <tr>\n",
       "      <th>3</th>\n",
       "      <td>neutron-1</td>\n",
       "      <td>ibc/2E4F28717F3F5D6872E98FE95AE2F020BC16277AFC...</td>\n",
       "      <td>ics20</td>\n",
       "      <td>108251123</td>\n",
       "      <td>NaN</td>\n",
       "      <td>None</td>\n",
       "      <td>NaN</td>\n",
       "      <td>NaN</td>\n",
       "      <td>NaN</td>\n",
       "      <td>NaN</td>\n",
       "      <td>...</td>\n",
       "      <td>transfer/channel-1/transfer/channel-141/transf...</td>\n",
       "      <td>[channel-1, channel-141, channel-259, channel-...</td>\n",
       "      <td>cosmoshub-4</td>\n",
       "      <td>NaN</td>\n",
       "      <td>NaN</td>\n",
       "      <td>16</td>\n",
       "      <td>NaN</td>\n",
       "      <td>{'source_channel': 'channel-1', 'dst_channel':...</td>\n",
       "      <td>NaN</td>\n",
       "      <td>neutron</td>\n",
       "    </tr>\n",
       "    <tr>\n",
       "      <th>4</th>\n",
       "      <td>coreum-mainnet-1</td>\n",
       "      <td>ibc/99E2AB70FD167926290AFB89DE61C77817F3ED49FD...</td>\n",
       "      <td>ics20</td>\n",
       "      <td>3522654</td>\n",
       "      <td>NaN</td>\n",
       "      <td>None</td>\n",
       "      <td>NaN</td>\n",
       "      <td>NaN</td>\n",
       "      <td>NaN</td>\n",
       "      <td>NaN</td>\n",
       "      <td>...</td>\n",
       "      <td>transfer/channel-19/transfer/channel-4/transfe...</td>\n",
       "      <td>[channel-19, channel-4, channel-141, channel-7...</td>\n",
       "      <td>noble-1</td>\n",
       "      <td>NaN</td>\n",
       "      <td>NaN</td>\n",
       "      <td>16</td>\n",
       "      <td>NaN</td>\n",
       "      <td>{'source_channel': 'channel-19', 'dst_channel'...</td>\n",
       "      <td>[{'type': 'ibc', 'counterparty': {'chain_id': ...</td>\n",
       "      <td>coreum</td>\n",
       "    </tr>\n",
       "    <tr>\n",
       "      <th>...</th>\n",
       "      <td>...</td>\n",
       "      <td>...</td>\n",
       "      <td>...</td>\n",
       "      <td>...</td>\n",
       "      <td>...</td>\n",
       "      <td>...</td>\n",
       "      <td>...</td>\n",
       "      <td>...</td>\n",
       "      <td>...</td>\n",
       "      <td>...</td>\n",
       "      <td>...</td>\n",
       "      <td>...</td>\n",
       "      <td>...</td>\n",
       "      <td>...</td>\n",
       "      <td>...</td>\n",
       "      <td>...</td>\n",
       "      <td>...</td>\n",
       "      <td>...</td>\n",
       "      <td>...</td>\n",
       "      <td>...</td>\n",
       "      <td>...</td>\n",
       "    </tr>\n",
       "    <tr>\n",
       "      <th>17192</th>\n",
       "      <td>phoenix-1</td>\n",
       "      <td>cw20:terra1nsuqsk6kh58ulczatwev87ttq2z6r3pusul...</td>\n",
       "      <td>cw20</td>\n",
       "      <td>1099999997921598</td>\n",
       "      <td>NaN</td>\n",
       "      <td>[{'denom': 'astro', 'exponent': 6, 'aliases': ...</td>\n",
       "      <td>NaN</td>\n",
       "      <td>Astroport</td>\n",
       "      <td>ASTRO</td>\n",
       "      <td>NaN</td>\n",
       "      <td>...</td>\n",
       "      <td>NaN</td>\n",
       "      <td>None</td>\n",
       "      <td>NaN</td>\n",
       "      <td>1099999997921598</td>\n",
       "      <td>phoenix-1</td>\n",
       "      <td>0</td>\n",
       "      <td>NaN</td>\n",
       "      <td>NaN</td>\n",
       "      <td>NaN</td>\n",
       "      <td>terra2</td>\n",
       "    </tr>\n",
       "    <tr>\n",
       "      <th>17193</th>\n",
       "      <td>phoenix-1</td>\n",
       "      <td>cw20:terra1lxx40s29qvkrcj8fsa3yzyehy7w50umdvvn...</td>\n",
       "      <td>cw20</td>\n",
       "      <td>951684365033000000</td>\n",
       "      <td>NaN</td>\n",
       "      <td>[{'denom': 'roar', 'exponent': 6, 'aliases': [...</td>\n",
       "      <td>NaN</td>\n",
       "      <td>Lion DAO</td>\n",
       "      <td>ROAR</td>\n",
       "      <td>NaN</td>\n",
       "      <td>...</td>\n",
       "      <td>NaN</td>\n",
       "      <td>None</td>\n",
       "      <td>NaN</td>\n",
       "      <td>951684365033000000</td>\n",
       "      <td>phoenix-1</td>\n",
       "      <td>0</td>\n",
       "      <td>NaN</td>\n",
       "      <td>NaN</td>\n",
       "      <td>NaN</td>\n",
       "      <td>terra2</td>\n",
       "    </tr>\n",
       "    <tr>\n",
       "      <th>17194</th>\n",
       "      <td>phoenix-1</td>\n",
       "      <td>cw20:terra1gwrz9xzhqsygyr5asrgyq3pu0ewpn00mv2z...</td>\n",
       "      <td>cw20</td>\n",
       "      <td>1000000000000000000</td>\n",
       "      <td>NaN</td>\n",
       "      <td>[{'denom': 'blue', 'exponent': 6, 'aliases': [...</td>\n",
       "      <td>NaN</td>\n",
       "      <td>Blue CUB DAO</td>\n",
       "      <td>BLUE</td>\n",
       "      <td>NaN</td>\n",
       "      <td>...</td>\n",
       "      <td>NaN</td>\n",
       "      <td>None</td>\n",
       "      <td>NaN</td>\n",
       "      <td>1000000000000000000</td>\n",
       "      <td>phoenix-1</td>\n",
       "      <td>0</td>\n",
       "      <td>NaN</td>\n",
       "      <td>NaN</td>\n",
       "      <td>NaN</td>\n",
       "      <td>terra2</td>\n",
       "    </tr>\n",
       "    <tr>\n",
       "      <th>17195</th>\n",
       "      <td>phoenix-1</td>\n",
       "      <td>cw20:terra19fshlsjkau92xumpz2s00z282yn6uvldc9d...</td>\n",
       "      <td>cw20</td>\n",
       "      <td>690600000000</td>\n",
       "      <td>NaN</td>\n",
       "      <td>[{'denom': 'sol', 'exponent': 8, 'aliases': ['...</td>\n",
       "      <td>NaN</td>\n",
       "      <td>Wrapped SOL (Wormhole)</td>\n",
       "      <td>SOL</td>\n",
       "      <td>NaN</td>\n",
       "      <td>...</td>\n",
       "      <td>NaN</td>\n",
       "      <td>None</td>\n",
       "      <td>NaN</td>\n",
       "      <td>690600000000</td>\n",
       "      <td>phoenix-1</td>\n",
       "      <td>0</td>\n",
       "      <td>NaN</td>\n",
       "      <td>NaN</td>\n",
       "      <td>NaN</td>\n",
       "      <td>terra2</td>\n",
       "    </tr>\n",
       "    <tr>\n",
       "      <th>17196</th>\n",
       "      <td>phoenix-1</td>\n",
       "      <td>cw20:terra1xzkel96e5e8vfmqw7valzdzzv9hqasfyslc...</td>\n",
       "      <td>cw20</td>\n",
       "      <td>7409075056672</td>\n",
       "      <td>NaN</td>\n",
       "      <td>[{'denom': 'local', 'exponent': 6, 'aliases': ...</td>\n",
       "      <td>NaN</td>\n",
       "      <td>Local Terra Token (Wormhole)</td>\n",
       "      <td>LOCAL</td>\n",
       "      <td>NaN</td>\n",
       "      <td>...</td>\n",
       "      <td>NaN</td>\n",
       "      <td>None</td>\n",
       "      <td>NaN</td>\n",
       "      <td>7409075056672</td>\n",
       "      <td>phoenix-1</td>\n",
       "      <td>0</td>\n",
       "      <td>NaN</td>\n",
       "      <td>NaN</td>\n",
       "      <td>NaN</td>\n",
       "      <td>terra2</td>\n",
       "    </tr>\n",
       "  </tbody>\n",
       "</table>\n",
       "<p>17197 rows × 23 columns</p>\n",
       "</div>"
      ],
      "text/plain": [
       "               chain_id                                              denom  \\\n",
       "0             osmosis-1  ibc/58BBF3D7F5D89C8EBDDD59CA4C2E1264A3A8DB292C...   \n",
       "1             osmosis-1  ibc/E510650E8038F932BA1823B3DFBB9B3714F7FB63F6...   \n",
       "2             osmosis-1  ibc/56A78E186FE5E87B7A6942ADCD1E319CF22C8C95E0...   \n",
       "3             neutron-1  ibc/2E4F28717F3F5D6872E98FE95AE2F020BC16277AFC...   \n",
       "4      coreum-mainnet-1  ibc/99E2AB70FD167926290AFB89DE61C77817F3ED49FD...   \n",
       "...                 ...                                                ...   \n",
       "17192         phoenix-1  cw20:terra1nsuqsk6kh58ulczatwev87ttq2z6r3pusul...   \n",
       "17193         phoenix-1  cw20:terra1lxx40s29qvkrcj8fsa3yzyehy7w50umdvvn...   \n",
       "17194         phoenix-1  cw20:terra1gwrz9xzhqsygyr5asrgyq3pu0ewpn00mv2z...   \n",
       "17195         phoenix-1  cw20:terra19fshlsjkau92xumpz2s00z282yn6uvldc9d...   \n",
       "17196         phoenix-1  cw20:terra1xzkel96e5e8vfmqw7valzdzzv9hqasfyslc...   \n",
       "\n",
       "      type_asset               supply description  \\\n",
       "0          ics20              3522654         NaN   \n",
       "1          ics20            108251123         NaN   \n",
       "2          ics20              1000000         NaN   \n",
       "3          ics20            108251123         NaN   \n",
       "4          ics20              3522654         NaN   \n",
       "...          ...                  ...         ...   \n",
       "17192       cw20     1099999997921598         NaN   \n",
       "17193       cw20   951684365033000000         NaN   \n",
       "17194       cw20  1000000000000000000         NaN   \n",
       "17195       cw20         690600000000         NaN   \n",
       "17196       cw20        7409075056672         NaN   \n",
       "\n",
       "                                             denom_units display  \\\n",
       "0                                                   None     NaN   \n",
       "1                                                   None     NaN   \n",
       "2                                                   None     NaN   \n",
       "3                                                   None     NaN   \n",
       "4                                                   None     NaN   \n",
       "...                                                  ...     ...   \n",
       "17192  [{'denom': 'astro', 'exponent': 6, 'aliases': ...     NaN   \n",
       "17193  [{'denom': 'roar', 'exponent': 6, 'aliases': [...     NaN   \n",
       "17194  [{'denom': 'blue', 'exponent': 6, 'aliases': [...     NaN   \n",
       "17195  [{'denom': 'sol', 'exponent': 8, 'aliases': ['...     NaN   \n",
       "17196  [{'denom': 'local', 'exponent': 6, 'aliases': ...     NaN   \n",
       "\n",
       "                               name symbol  uri  ...  \\\n",
       "0                               NaN    NaN  NaN  ...   \n",
       "1                               NaN    NaN  NaN  ...   \n",
       "2                               NaN    NaN  NaN  ...   \n",
       "3                               NaN    NaN  NaN  ...   \n",
       "4                               NaN    NaN  NaN  ...   \n",
       "...                             ...    ...  ...  ...   \n",
       "17192                     Astroport  ASTRO  NaN  ...   \n",
       "17193                      Lion DAO   ROAR  NaN  ...   \n",
       "17194                  Blue CUB DAO   BLUE  NaN  ...   \n",
       "17195        Wrapped SOL (Wormhole)    SOL  NaN  ...   \n",
       "17196  Local Terra Token (Wormhole)  LOCAL  NaN  ...   \n",
       "\n",
       "                                                    path  \\\n",
       "0      transfer/channel-2188/transfer/channel-19/tran...   \n",
       "1      transfer/channel-874/transfer/channel-1/transf...   \n",
       "2      transfer/channel-143/transfer/channel-0/transf...   \n",
       "3      transfer/channel-1/transfer/channel-141/transf...   \n",
       "4      transfer/channel-19/transfer/channel-4/transfe...   \n",
       "...                                                  ...   \n",
       "17192                                                NaN   \n",
       "17193                                                NaN   \n",
       "17194                                                NaN   \n",
       "17195                                                NaN   \n",
       "17196                                                NaN   \n",
       "\n",
       "                                                channels  \\\n",
       "0      [channel-2188, channel-19, channel-4, channel-...   \n",
       "1      [channel-874, channel-1, channel-141, channel-...   \n",
       "2      [channel-143, channel-0, channel-141, channel-...   \n",
       "3      [channel-1, channel-141, channel-259, channel-...   \n",
       "4      [channel-19, channel-4, channel-141, channel-7...   \n",
       "...                                                  ...   \n",
       "17192                                               None   \n",
       "17193                                               None   \n",
       "17194                                               None   \n",
       "17195                                               None   \n",
       "17196                                               None   \n",
       "\n",
       "      chain_id_counterparty          supply_base chain_id_base  \\\n",
       "0          coreum-mainnet-1                  NaN           NaN   \n",
       "1                 neutron-1                  NaN           NaN   \n",
       "2              kava_2222-10                  NaN           NaN   \n",
       "3               cosmoshub-4                  NaN           NaN   \n",
       "4                   noble-1                  NaN           NaN   \n",
       "...                     ...                  ...           ...   \n",
       "17192                   NaN     1099999997921598     phoenix-1   \n",
       "17193                   NaN   951684365033000000     phoenix-1   \n",
       "17194                   NaN  1000000000000000000     phoenix-1   \n",
       "17195                   NaN         690600000000     phoenix-1   \n",
       "17196                   NaN        7409075056672     phoenix-1   \n",
       "\n",
       "      channels_number admin  \\\n",
       "0                  17   NaN   \n",
       "1                  17   NaN   \n",
       "2                  16   NaN   \n",
       "3                  16   NaN   \n",
       "4                  16   NaN   \n",
       "...               ...   ...   \n",
       "17192               0   NaN   \n",
       "17193               0   NaN   \n",
       "17194               0   NaN   \n",
       "17195               0   NaN   \n",
       "17196               0   NaN   \n",
       "\n",
       "                                                     ibc  \\\n",
       "0      {'source_channel': 'channel-2188', 'dst_channe...   \n",
       "1      {'source_channel': 'channel-874', 'dst_channel...   \n",
       "2      {'source_channel': 'channel-143', 'dst_channel...   \n",
       "3      {'source_channel': 'channel-1', 'dst_channel':...   \n",
       "4      {'source_channel': 'channel-19', 'dst_channel'...   \n",
       "...                                                  ...   \n",
       "17192                                                NaN   \n",
       "17193                                                NaN   \n",
       "17194                                                NaN   \n",
       "17195                                                NaN   \n",
       "17196                                                NaN   \n",
       "\n",
       "                                                  traces chain_name  \n",
       "0      [{'type': 'ibc', 'counterparty': {'chain_id': ...    osmosis  \n",
       "1      [{'type': 'ibc', 'counterparty': {'chain_id': ...    osmosis  \n",
       "2      [{'type': 'ibc', 'counterparty': {'chain_id': ...    osmosis  \n",
       "3                                                    NaN    neutron  \n",
       "4      [{'type': 'ibc', 'counterparty': {'chain_id': ...     coreum  \n",
       "...                                                  ...        ...  \n",
       "17192                                                NaN     terra2  \n",
       "17193                                                NaN     terra2  \n",
       "17194                                                NaN     terra2  \n",
       "17195                                                NaN     terra2  \n",
       "17196                                                NaN     terra2  \n",
       "\n",
       "[17197 rows x 23 columns]"
      ]
     },
     "execution_count": 2,
     "metadata": {},
     "output_type": "execute_result"
    }
   ],
   "source": [
    "assets_df = pd.read_csv('data_csv/all_assets.csv', index_col=0)\n",
    "assets_df['channels'] = assets_df.channels.map(lambda x: ast.literal_eval(x) if type(x) == str else None)\n",
    "assets_df['denom_units'] = assets_df.denom_units.map(\n",
    "    lambda x: ast.literal_eval(x) if type(x) == str else None)\n",
    "assets_df"
   ]
  },
  {
   "cell_type": "markdown",
   "metadata": {
    "collapsed": false
   },
   "source": [
    "## charts"
   ]
  },
  {
   "cell_type": "code",
   "execution_count": 3,
   "metadata": {
    "ExecuteTime": {
     "end_time": "2023-09-19T03:15:24.457555Z",
     "start_time": "2023-09-19T03:15:24.455548Z"
    },
    "collapsed": false,
    "execution": {
     "iopub.execute_input": "2024-03-26T07:06:22.491716Z",
     "iopub.status.busy": "2024-03-26T07:06:22.491400Z",
     "iopub.status.idle": "2024-03-26T07:06:22.498646Z",
     "shell.execute_reply": "2024-03-26T07:06:22.497704Z"
    }
   },
   "outputs": [],
   "source": [
    "def aggregate_pie_plot(assets_df: pd.DataFrame, agg_column: str, n: int = 8, object_name: str = 'items') -> pd.Series:\n",
    "    assets_by_item_row = assets_df.groupby(agg_column)['denom'].agg(np.count_nonzero).sort_values(ascending=False)\n",
    "    assets_by_item = assets_by_item_row.head(n)\n",
    "    if len(assets_by_item_row) > n:\n",
    "        assets_by_item[f'remaining {len(assets_by_item_row) - n:>,} {object_name}<br>'] = sum(assets_by_item_row[n:])\n",
    "    return assets_by_item"
   ]
  },
  {
   "cell_type": "code",
   "execution_count": 4,
   "metadata": {
    "ExecuteTime": {
     "end_time": "2023-09-19T03:15:24.551331Z",
     "start_time": "2023-09-19T03:15:24.460706Z"
    },
    "collapsed": false,
    "execution": {
     "iopub.execute_input": "2024-03-26T07:06:22.502355Z",
     "iopub.status.busy": "2024-03-26T07:06:22.502077Z",
     "iopub.status.idle": "2024-03-26T07:06:22.776457Z",
     "shell.execute_reply": "2024-03-26T07:06:22.775214Z"
    }
   },
   "outputs": [],
   "source": [
    "ASSET_TYPE_DICT = \\\n",
    "    {'ics20': 'IBC (ICS-20)',\n",
    "     'sdk.coin': 'Native',\n",
    "     'pool': 'LP Tokens',\n",
    "     'factory': 'Token Factory',\n",
    "     'cw20': 'CW-20',\n",
    "     'erc20': 'ERC-20'}\n",
    "\n",
    "assets_by_chain = aggregate_pie_plot(assets_df=assets_df, agg_column='chain_name', object_name='chains\\n', n=17)\n",
    "\n",
    "assets_by_type_asset = aggregate_pie_plot(assets_df=assets_df, agg_column='type_asset')\n",
    "assets_by_type_asset.index = assets_by_type_asset.index.map(lambda x: ASSET_TYPE_DICT[x])\n",
    "\n",
    "assets_by_denom_base = aggregate_pie_plot(assets_df=assets_df, agg_column='denom_base', object_name='base denoms\\n',\n",
    "                                          n=6)\n",
    "\n",
    "total_assets = len(assets_df)"
   ]
  },
  {
   "cell_type": "code",
   "execution_count": 5,
   "metadata": {
    "ExecuteTime": {
     "end_time": "2023-09-19T03:15:25.173473Z",
     "start_time": "2023-09-19T03:15:24.548776Z"
    },
    "collapsed": false,
    "execution": {
     "iopub.execute_input": "2024-03-26T07:06:22.781575Z",
     "iopub.status.busy": "2024-03-26T07:06:22.780947Z",
     "iopub.status.idle": "2024-03-26T07:06:24.622322Z",
     "shell.execute_reply": "2024-03-26T07:06:24.620917Z"
    }
   },
   "outputs": [
    {
     "data": {
      "application/vnd.plotly.v1+json": {
       "config": {
        "linkText": "Export to plot.ly",
        "plotlyServerURL": "https://plot.ly",
        "showLink": false
       },
       "data": [
        {
         "domain": {
          "x": [
           0.0,
           1.0
          ],
          "y": [
           0.5700000000000001,
           1.0
          ]
         },
         "hoverinfo": "label+value+percent",
         "hovertemplate": "%{label}<br>%{value:>,} (%{percent:.1%})",
         "labels": [
          "provenance",
          "osmosis",
          "kujira",
          "sei",
          "juno",
          "gravitybridge",
          "persistence",
          "stride",
          "carbon",
          "terra2",
          "axelar",
          "evmos",
          "neutron",
          "kava",
          "crescent",
          "chihuahua",
          "secretnetwork",
          "remaining 123 chains\n<br>"
         ],
         "marker": {
          "colors": [
           "#636EFA",
           "#EF553B",
           "#00CC96",
           "#AB63FA",
           "#FFA15A",
           "#19D3F3",
           "#FF6692",
           "#B6E880",
           "#FF97FF",
           "#FECB52"
          ]
         },
         "name": "assets by chains",
         "rotation": -35,
         "sort": false,
         "text": [
          "4,558",
          "3,112",
          "764",
          "727",
          "539",
          "508",
          "499",
          "381",
          "374",
          "343",
          "307",
          "297",
          "295",
          "275",
          "249",
          "221",
          "220",
          "3,528"
         ],
         "textinfo": "label+value+percent",
         "textposition": "outside",
         "texttemplate": " %{label}  %{value:>,} (%{percent:.1%}) ",
         "type": "pie",
         "values": [
          4558,
          3112,
          764,
          727,
          539,
          508,
          499,
          381,
          374,
          343,
          307,
          297,
          295,
          275,
          249,
          221,
          220,
          3528
         ]
        },
        {
         "domain": {
          "x": [
           0.0,
           0.3
          ],
          "y": [
           0.0,
           0.43
          ]
         },
         "hoverinfo": "label+value+percent",
         "hovertemplate": "%{label}<br>%{value:>,} (%{percent:.1%})",
         "labels": [
          "IBC (ICS-20)",
          "Native",
          "Token Factory",
          "LP Tokens",
          "ERC-20",
          "CW-20"
         ],
         "marker": {
          "colors": [
           "#3366CC",
           "#DC3912",
           "#FF9900",
           "#109618",
           "#990099",
           "#0099C6",
           "#DD4477",
           "#66AA00",
           "#B82E2E",
           "#316395"
          ]
         },
         "name": "assets by type",
         "rotation": 90,
         "sort": false,
         "text": [
          "7,778",
          "6,083",
          "1,639",
          "1,518",
          "91",
          "88"
         ],
         "textinfo": "label+value+percent",
         "textposition": "outside",
         "texttemplate": " %{label}  %{value:>,} (%{percent:.1%}) ",
         "type": "pie",
         "values": [
          7778,
          6083,
          1639,
          1518,
          91,
          88
         ]
        },
        {
         "domain": {
          "x": [
           0.7,
           1.0
          ],
          "y": [
           0.0,
           0.43
          ]
         },
         "hoverinfo": "label+value+percent",
         "hovertemplate": "%{label}<br>%{value:>,} (%{percent:.1%})",
         "labels": [
          "uusdc",
          "uatom",
          "uluna",
          "uosmo",
          "uusd",
          "aevmos",
          "remaining 9,835 base denoms\n<br>"
         ],
         "marker": {
          "colors": [
           "rgb(153,153,153)",
           "rgb(247,129,191)",
           "rgb(166,86,40)",
           "rgb(255,255,51)",
           "rgb(255,127,0)",
           "rgb(152,78,163)",
           "rgb(77,175,74)",
           "rgb(55,126,184)",
           "rgb(228,26,28)"
          ]
         },
         "name": "assets by base denoms",
         "rotation": 75,
         "sort": false,
         "text": [
          "688",
          "422",
          "402",
          "241",
          "178",
          "134",
          "15,044"
         ],
         "textinfo": "label+value+percent",
         "textposition": "outside",
         "texttemplate": " %{label}  %{value:>,} (%{percent:.1%}) ",
         "type": "pie",
         "values": [
          688,
          422,
          402,
          241,
          178,
          134,
          15044
         ]
        }
       ],
       "layout": {
        "annotations": [
         {
          "font": {
           "size": 16
          },
          "showarrow": false,
          "text": "Cosmos-SDK Assets by Chains",
          "x": 0.5,
          "xanchor": "center",
          "xref": "paper",
          "y": 1.04,
          "yanchor": "bottom",
          "yref": "paper"
         },
         {
          "font": {
           "size": 16
          },
          "showarrow": false,
          "text": "by Type",
          "x": 0.15,
          "xanchor": "center",
          "xref": "paper",
          "y": 0.37,
          "yanchor": "bottom",
          "yref": "paper"
         },
         {
          "font": {
           "size": 16
          },
          "showarrow": false,
          "text": "by Base Denoms",
          "x": 0.85,
          "xanchor": "center",
          "xref": "paper",
          "y": 0.37,
          "yanchor": "bottom",
          "yref": "paper"
         },
         {
          "showarrow": false,
          "text": "github.com/Snedashkovsky/on-chain-registry",
          "x": -0.3,
          "y": -0.05
         },
         {
          "showarrow": false,
          "text": "updated 2024-03-26",
          "x": 1.25,
          "y": -0.05
         }
        ],
        "autosize": false,
        "font": {
         "family": "Play"
        },
        "height": 850,
        "margin": {
         "b": 0,
         "l": 0,
         "r": 0,
         "t": 80
        },
        "showlegend": false,
        "template": {
         "data": {
          "bar": [
           {
            "error_x": {
             "color": "#2a3f5f"
            },
            "error_y": {
             "color": "#2a3f5f"
            },
            "marker": {
             "line": {
              "color": "white",
              "width": 0.5
             },
             "pattern": {
              "fillmode": "overlay",
              "size": 10,
              "solidity": 0.2
             }
            },
            "type": "bar"
           }
          ],
          "barpolar": [
           {
            "marker": {
             "line": {
              "color": "white",
              "width": 0.5
             },
             "pattern": {
              "fillmode": "overlay",
              "size": 10,
              "solidity": 0.2
             }
            },
            "type": "barpolar"
           }
          ],
          "carpet": [
           {
            "aaxis": {
             "endlinecolor": "#2a3f5f",
             "gridcolor": "#C8D4E3",
             "linecolor": "#C8D4E3",
             "minorgridcolor": "#C8D4E3",
             "startlinecolor": "#2a3f5f"
            },
            "baxis": {
             "endlinecolor": "#2a3f5f",
             "gridcolor": "#C8D4E3",
             "linecolor": "#C8D4E3",
             "minorgridcolor": "#C8D4E3",
             "startlinecolor": "#2a3f5f"
            },
            "type": "carpet"
           }
          ],
          "choropleth": [
           {
            "colorbar": {
             "outlinewidth": 0,
             "ticks": ""
            },
            "type": "choropleth"
           }
          ],
          "contour": [
           {
            "colorbar": {
             "outlinewidth": 0,
             "ticks": ""
            },
            "colorscale": [
             [
              0.0,
              "#0d0887"
             ],
             [
              0.1111111111111111,
              "#46039f"
             ],
             [
              0.2222222222222222,
              "#7201a8"
             ],
             [
              0.3333333333333333,
              "#9c179e"
             ],
             [
              0.4444444444444444,
              "#bd3786"
             ],
             [
              0.5555555555555556,
              "#d8576b"
             ],
             [
              0.6666666666666666,
              "#ed7953"
             ],
             [
              0.7777777777777778,
              "#fb9f3a"
             ],
             [
              0.8888888888888888,
              "#fdca26"
             ],
             [
              1.0,
              "#f0f921"
             ]
            ],
            "type": "contour"
           }
          ],
          "contourcarpet": [
           {
            "colorbar": {
             "outlinewidth": 0,
             "ticks": ""
            },
            "type": "contourcarpet"
           }
          ],
          "heatmap": [
           {
            "colorbar": {
             "outlinewidth": 0,
             "ticks": ""
            },
            "colorscale": [
             [
              0.0,
              "#0d0887"
             ],
             [
              0.1111111111111111,
              "#46039f"
             ],
             [
              0.2222222222222222,
              "#7201a8"
             ],
             [
              0.3333333333333333,
              "#9c179e"
             ],
             [
              0.4444444444444444,
              "#bd3786"
             ],
             [
              0.5555555555555556,
              "#d8576b"
             ],
             [
              0.6666666666666666,
              "#ed7953"
             ],
             [
              0.7777777777777778,
              "#fb9f3a"
             ],
             [
              0.8888888888888888,
              "#fdca26"
             ],
             [
              1.0,
              "#f0f921"
             ]
            ],
            "type": "heatmap"
           }
          ],
          "heatmapgl": [
           {
            "colorbar": {
             "outlinewidth": 0,
             "ticks": ""
            },
            "colorscale": [
             [
              0.0,
              "#0d0887"
             ],
             [
              0.1111111111111111,
              "#46039f"
             ],
             [
              0.2222222222222222,
              "#7201a8"
             ],
             [
              0.3333333333333333,
              "#9c179e"
             ],
             [
              0.4444444444444444,
              "#bd3786"
             ],
             [
              0.5555555555555556,
              "#d8576b"
             ],
             [
              0.6666666666666666,
              "#ed7953"
             ],
             [
              0.7777777777777778,
              "#fb9f3a"
             ],
             [
              0.8888888888888888,
              "#fdca26"
             ],
             [
              1.0,
              "#f0f921"
             ]
            ],
            "type": "heatmapgl"
           }
          ],
          "histogram": [
           {
            "marker": {
             "pattern": {
              "fillmode": "overlay",
              "size": 10,
              "solidity": 0.2
             }
            },
            "type": "histogram"
           }
          ],
          "histogram2d": [
           {
            "colorbar": {
             "outlinewidth": 0,
             "ticks": ""
            },
            "colorscale": [
             [
              0.0,
              "#0d0887"
             ],
             [
              0.1111111111111111,
              "#46039f"
             ],
             [
              0.2222222222222222,
              "#7201a8"
             ],
             [
              0.3333333333333333,
              "#9c179e"
             ],
             [
              0.4444444444444444,
              "#bd3786"
             ],
             [
              0.5555555555555556,
              "#d8576b"
             ],
             [
              0.6666666666666666,
              "#ed7953"
             ],
             [
              0.7777777777777778,
              "#fb9f3a"
             ],
             [
              0.8888888888888888,
              "#fdca26"
             ],
             [
              1.0,
              "#f0f921"
             ]
            ],
            "type": "histogram2d"
           }
          ],
          "histogram2dcontour": [
           {
            "colorbar": {
             "outlinewidth": 0,
             "ticks": ""
            },
            "colorscale": [
             [
              0.0,
              "#0d0887"
             ],
             [
              0.1111111111111111,
              "#46039f"
             ],
             [
              0.2222222222222222,
              "#7201a8"
             ],
             [
              0.3333333333333333,
              "#9c179e"
             ],
             [
              0.4444444444444444,
              "#bd3786"
             ],
             [
              0.5555555555555556,
              "#d8576b"
             ],
             [
              0.6666666666666666,
              "#ed7953"
             ],
             [
              0.7777777777777778,
              "#fb9f3a"
             ],
             [
              0.8888888888888888,
              "#fdca26"
             ],
             [
              1.0,
              "#f0f921"
             ]
            ],
            "type": "histogram2dcontour"
           }
          ],
          "mesh3d": [
           {
            "colorbar": {
             "outlinewidth": 0,
             "ticks": ""
            },
            "type": "mesh3d"
           }
          ],
          "parcoords": [
           {
            "line": {
             "colorbar": {
              "outlinewidth": 0,
              "ticks": ""
             }
            },
            "type": "parcoords"
           }
          ],
          "pie": [
           {
            "automargin": true,
            "type": "pie"
           }
          ],
          "scatter": [
           {
            "fillpattern": {
             "fillmode": "overlay",
             "size": 10,
             "solidity": 0.2
            },
            "type": "scatter"
           }
          ],
          "scatter3d": [
           {
            "line": {
             "colorbar": {
              "outlinewidth": 0,
              "ticks": ""
             }
            },
            "marker": {
             "colorbar": {
              "outlinewidth": 0,
              "ticks": ""
             }
            },
            "type": "scatter3d"
           }
          ],
          "scattercarpet": [
           {
            "marker": {
             "colorbar": {
              "outlinewidth": 0,
              "ticks": ""
             }
            },
            "type": "scattercarpet"
           }
          ],
          "scattergeo": [
           {
            "marker": {
             "colorbar": {
              "outlinewidth": 0,
              "ticks": ""
             }
            },
            "type": "scattergeo"
           }
          ],
          "scattergl": [
           {
            "marker": {
             "colorbar": {
              "outlinewidth": 0,
              "ticks": ""
             }
            },
            "type": "scattergl"
           }
          ],
          "scattermapbox": [
           {
            "marker": {
             "colorbar": {
              "outlinewidth": 0,
              "ticks": ""
             }
            },
            "type": "scattermapbox"
           }
          ],
          "scatterpolar": [
           {
            "marker": {
             "colorbar": {
              "outlinewidth": 0,
              "ticks": ""
             }
            },
            "type": "scatterpolar"
           }
          ],
          "scatterpolargl": [
           {
            "marker": {
             "colorbar": {
              "outlinewidth": 0,
              "ticks": ""
             }
            },
            "type": "scatterpolargl"
           }
          ],
          "scatterternary": [
           {
            "marker": {
             "colorbar": {
              "outlinewidth": 0,
              "ticks": ""
             }
            },
            "type": "scatterternary"
           }
          ],
          "surface": [
           {
            "colorbar": {
             "outlinewidth": 0,
             "ticks": ""
            },
            "colorscale": [
             [
              0.0,
              "#0d0887"
             ],
             [
              0.1111111111111111,
              "#46039f"
             ],
             [
              0.2222222222222222,
              "#7201a8"
             ],
             [
              0.3333333333333333,
              "#9c179e"
             ],
             [
              0.4444444444444444,
              "#bd3786"
             ],
             [
              0.5555555555555556,
              "#d8576b"
             ],
             [
              0.6666666666666666,
              "#ed7953"
             ],
             [
              0.7777777777777778,
              "#fb9f3a"
             ],
             [
              0.8888888888888888,
              "#fdca26"
             ],
             [
              1.0,
              "#f0f921"
             ]
            ],
            "type": "surface"
           }
          ],
          "table": [
           {
            "cells": {
             "fill": {
              "color": "#EBF0F8"
             },
             "line": {
              "color": "white"
             }
            },
            "header": {
             "fill": {
              "color": "#C8D4E3"
             },
             "line": {
              "color": "white"
             }
            },
            "type": "table"
           }
          ]
         },
         "layout": {
          "annotationdefaults": {
           "arrowcolor": "#2a3f5f",
           "arrowhead": 0,
           "arrowwidth": 1
          },
          "autotypenumbers": "strict",
          "coloraxis": {
           "colorbar": {
            "outlinewidth": 0,
            "ticks": ""
           }
          },
          "colorscale": {
           "diverging": [
            [
             0,
             "#8e0152"
            ],
            [
             0.1,
             "#c51b7d"
            ],
            [
             0.2,
             "#de77ae"
            ],
            [
             0.3,
             "#f1b6da"
            ],
            [
             0.4,
             "#fde0ef"
            ],
            [
             0.5,
             "#f7f7f7"
            ],
            [
             0.6,
             "#e6f5d0"
            ],
            [
             0.7,
             "#b8e186"
            ],
            [
             0.8,
             "#7fbc41"
            ],
            [
             0.9,
             "#4d9221"
            ],
            [
             1,
             "#276419"
            ]
           ],
           "sequential": [
            [
             0.0,
             "#0d0887"
            ],
            [
             0.1111111111111111,
             "#46039f"
            ],
            [
             0.2222222222222222,
             "#7201a8"
            ],
            [
             0.3333333333333333,
             "#9c179e"
            ],
            [
             0.4444444444444444,
             "#bd3786"
            ],
            [
             0.5555555555555556,
             "#d8576b"
            ],
            [
             0.6666666666666666,
             "#ed7953"
            ],
            [
             0.7777777777777778,
             "#fb9f3a"
            ],
            [
             0.8888888888888888,
             "#fdca26"
            ],
            [
             1.0,
             "#f0f921"
            ]
           ],
           "sequentialminus": [
            [
             0.0,
             "#0d0887"
            ],
            [
             0.1111111111111111,
             "#46039f"
            ],
            [
             0.2222222222222222,
             "#7201a8"
            ],
            [
             0.3333333333333333,
             "#9c179e"
            ],
            [
             0.4444444444444444,
             "#bd3786"
            ],
            [
             0.5555555555555556,
             "#d8576b"
            ],
            [
             0.6666666666666666,
             "#ed7953"
            ],
            [
             0.7777777777777778,
             "#fb9f3a"
            ],
            [
             0.8888888888888888,
             "#fdca26"
            ],
            [
             1.0,
             "#f0f921"
            ]
           ]
          },
          "colorway": [
           "#636efa",
           "#EF553B",
           "#00cc96",
           "#ab63fa",
           "#FFA15A",
           "#19d3f3",
           "#FF6692",
           "#B6E880",
           "#FF97FF",
           "#FECB52"
          ],
          "font": {
           "color": "#2a3f5f"
          },
          "geo": {
           "bgcolor": "white",
           "lakecolor": "white",
           "landcolor": "white",
           "showlakes": true,
           "showland": true,
           "subunitcolor": "#C8D4E3"
          },
          "hoverlabel": {
           "align": "left"
          },
          "hovermode": "closest",
          "mapbox": {
           "style": "light"
          },
          "paper_bgcolor": "white",
          "plot_bgcolor": "white",
          "polar": {
           "angularaxis": {
            "gridcolor": "#EBF0F8",
            "linecolor": "#EBF0F8",
            "ticks": ""
           },
           "bgcolor": "white",
           "radialaxis": {
            "gridcolor": "#EBF0F8",
            "linecolor": "#EBF0F8",
            "ticks": ""
           }
          },
          "scene": {
           "xaxis": {
            "backgroundcolor": "white",
            "gridcolor": "#DFE8F3",
            "gridwidth": 2,
            "linecolor": "#EBF0F8",
            "showbackground": true,
            "ticks": "",
            "zerolinecolor": "#EBF0F8"
           },
           "yaxis": {
            "backgroundcolor": "white",
            "gridcolor": "#DFE8F3",
            "gridwidth": 2,
            "linecolor": "#EBF0F8",
            "showbackground": true,
            "ticks": "",
            "zerolinecolor": "#EBF0F8"
           },
           "zaxis": {
            "backgroundcolor": "white",
            "gridcolor": "#DFE8F3",
            "gridwidth": 2,
            "linecolor": "#EBF0F8",
            "showbackground": true,
            "ticks": "",
            "zerolinecolor": "#EBF0F8"
           }
          },
          "shapedefaults": {
           "line": {
            "color": "#2a3f5f"
           }
          },
          "ternary": {
           "aaxis": {
            "gridcolor": "#DFE8F3",
            "linecolor": "#A2B1C6",
            "ticks": ""
           },
           "baxis": {
            "gridcolor": "#DFE8F3",
            "linecolor": "#A2B1C6",
            "ticks": ""
           },
           "bgcolor": "white",
           "caxis": {
            "gridcolor": "#DFE8F3",
            "linecolor": "#A2B1C6",
            "ticks": ""
           }
          },
          "title": {
           "x": 0.05
          },
          "xaxis": {
           "automargin": true,
           "gridcolor": "#EBF0F8",
           "linecolor": "#EBF0F8",
           "ticks": "",
           "title": {
            "standoff": 15
           },
           "zerolinecolor": "#EBF0F8",
           "zerolinewidth": 2
          },
          "yaxis": {
           "automargin": true,
           "gridcolor": "#EBF0F8",
           "linecolor": "#EBF0F8",
           "ticks": "",
           "title": {
            "standoff": 15
           },
           "zerolinecolor": "#EBF0F8",
           "zerolinewidth": 2
          }
         }
        },
        "title": {
         "text": "",
         "x": 0.5
        },
        "width": 1000
       }
      },
      "text/html": [
       "<div>                            <div id=\"89bf9118-45f4-4a85-8d4c-8dc3002140b8\" class=\"plotly-graph-div\" style=\"height:850px; width:1000px;\"></div>            <script type=\"text/javascript\">                require([\"plotly\"], function(Plotly) {                    window.PLOTLYENV=window.PLOTLYENV || {};                                    if (document.getElementById(\"89bf9118-45f4-4a85-8d4c-8dc3002140b8\")) {                    Plotly.newPlot(                        \"89bf9118-45f4-4a85-8d4c-8dc3002140b8\",                        [{\"domain\":{\"x\":[0.0,1.0],\"y\":[0.5700000000000001,1.0]},\"hoverinfo\":\"label+value+percent\",\"hovertemplate\":\"%{label}\\u003cbr\\u003e%{value:\\u003e,} (%{percent:.1%})\",\"labels\":[\"provenance\",\"osmosis\",\"kujira\",\"sei\",\"juno\",\"gravitybridge\",\"persistence\",\"stride\",\"carbon\",\"terra2\",\"axelar\",\"evmos\",\"neutron\",\"kava\",\"crescent\",\"chihuahua\",\"secretnetwork\",\"remaining 123 chains\\n\\u003cbr\\u003e\"],\"marker\":{\"colors\":[\"#636EFA\",\"#EF553B\",\"#00CC96\",\"#AB63FA\",\"#FFA15A\",\"#19D3F3\",\"#FF6692\",\"#B6E880\",\"#FF97FF\",\"#FECB52\"]},\"name\":\"assets by chains\",\"rotation\":-35,\"sort\":false,\"text\":[\"4,558\",\"3,112\",\"764\",\"727\",\"539\",\"508\",\"499\",\"381\",\"374\",\"343\",\"307\",\"297\",\"295\",\"275\",\"249\",\"221\",\"220\",\"3,528\"],\"textinfo\":\"label+value+percent\",\"textposition\":\"outside\",\"texttemplate\":\" %{label}  %{value:\\u003e,} (%{percent:.1%}) \",\"values\":[4558,3112,764,727,539,508,499,381,374,343,307,297,295,275,249,221,220,3528],\"type\":\"pie\"},{\"domain\":{\"x\":[0.0,0.3],\"y\":[0.0,0.43]},\"hoverinfo\":\"label+value+percent\",\"hovertemplate\":\"%{label}\\u003cbr\\u003e%{value:\\u003e,} (%{percent:.1%})\",\"labels\":[\"IBC (ICS-20)\",\"Native\",\"Token Factory\",\"LP Tokens\",\"ERC-20\",\"CW-20\"],\"marker\":{\"colors\":[\"#3366CC\",\"#DC3912\",\"#FF9900\",\"#109618\",\"#990099\",\"#0099C6\",\"#DD4477\",\"#66AA00\",\"#B82E2E\",\"#316395\"]},\"name\":\"assets by type\",\"rotation\":90,\"sort\":false,\"text\":[\"7,778\",\"6,083\",\"1,639\",\"1,518\",\"91\",\"88\"],\"textinfo\":\"label+value+percent\",\"textposition\":\"outside\",\"texttemplate\":\" %{label}  %{value:\\u003e,} (%{percent:.1%}) \",\"values\":[7778,6083,1639,1518,91,88],\"type\":\"pie\"},{\"domain\":{\"x\":[0.7,1.0],\"y\":[0.0,0.43]},\"hoverinfo\":\"label+value+percent\",\"hovertemplate\":\"%{label}\\u003cbr\\u003e%{value:\\u003e,} (%{percent:.1%})\",\"labels\":[\"uusdc\",\"uatom\",\"uluna\",\"uosmo\",\"uusd\",\"aevmos\",\"remaining 9,835 base denoms\\n\\u003cbr\\u003e\"],\"marker\":{\"colors\":[\"rgb(153,153,153)\",\"rgb(247,129,191)\",\"rgb(166,86,40)\",\"rgb(255,255,51)\",\"rgb(255,127,0)\",\"rgb(152,78,163)\",\"rgb(77,175,74)\",\"rgb(55,126,184)\",\"rgb(228,26,28)\"]},\"name\":\"assets by base denoms\",\"rotation\":75,\"sort\":false,\"text\":[\"688\",\"422\",\"402\",\"241\",\"178\",\"134\",\"15,044\"],\"textinfo\":\"label+value+percent\",\"textposition\":\"outside\",\"texttemplate\":\" %{label}  %{value:\\u003e,} (%{percent:.1%}) \",\"values\":[688,422,402,241,178,134,15044],\"type\":\"pie\"}],                        {\"annotations\":[{\"font\":{\"size\":16},\"showarrow\":false,\"text\":\"Cosmos-SDK Assets by Chains\",\"x\":0.5,\"xanchor\":\"center\",\"xref\":\"paper\",\"y\":1.04,\"yanchor\":\"bottom\",\"yref\":\"paper\"},{\"font\":{\"size\":16},\"showarrow\":false,\"text\":\"by Type\",\"x\":0.15,\"xanchor\":\"center\",\"xref\":\"paper\",\"y\":0.37,\"yanchor\":\"bottom\",\"yref\":\"paper\"},{\"font\":{\"size\":16},\"showarrow\":false,\"text\":\"by Base Denoms\",\"x\":0.85,\"xanchor\":\"center\",\"xref\":\"paper\",\"y\":0.37,\"yanchor\":\"bottom\",\"yref\":\"paper\"},{\"showarrow\":false,\"text\":\"github.com\\u002fSnedashkovsky\\u002fon-chain-registry\",\"x\":-0.3,\"y\":-0.05},{\"showarrow\":false,\"text\":\"updated 2024-03-26\",\"x\":1.25,\"y\":-0.05}],\"autosize\":false,\"font\":{\"family\":\"Play\"},\"height\":850,\"margin\":{\"b\":0,\"l\":0,\"r\":0,\"t\":80},\"showlegend\":false,\"template\":{\"data\":{\"barpolar\":[{\"marker\":{\"line\":{\"color\":\"white\",\"width\":0.5},\"pattern\":{\"fillmode\":\"overlay\",\"size\":10,\"solidity\":0.2}},\"type\":\"barpolar\"}],\"bar\":[{\"error_x\":{\"color\":\"#2a3f5f\"},\"error_y\":{\"color\":\"#2a3f5f\"},\"marker\":{\"line\":{\"color\":\"white\",\"width\":0.5},\"pattern\":{\"fillmode\":\"overlay\",\"size\":10,\"solidity\":0.2}},\"type\":\"bar\"}],\"carpet\":[{\"aaxis\":{\"endlinecolor\":\"#2a3f5f\",\"gridcolor\":\"#C8D4E3\",\"linecolor\":\"#C8D4E3\",\"minorgridcolor\":\"#C8D4E3\",\"startlinecolor\":\"#2a3f5f\"},\"baxis\":{\"endlinecolor\":\"#2a3f5f\",\"gridcolor\":\"#C8D4E3\",\"linecolor\":\"#C8D4E3\",\"minorgridcolor\":\"#C8D4E3\",\"startlinecolor\":\"#2a3f5f\"},\"type\":\"carpet\"}],\"choropleth\":[{\"colorbar\":{\"outlinewidth\":0,\"ticks\":\"\"},\"type\":\"choropleth\"}],\"contourcarpet\":[{\"colorbar\":{\"outlinewidth\":0,\"ticks\":\"\"},\"type\":\"contourcarpet\"}],\"contour\":[{\"colorbar\":{\"outlinewidth\":0,\"ticks\":\"\"},\"colorscale\":[[0.0,\"#0d0887\"],[0.1111111111111111,\"#46039f\"],[0.2222222222222222,\"#7201a8\"],[0.3333333333333333,\"#9c179e\"],[0.4444444444444444,\"#bd3786\"],[0.5555555555555556,\"#d8576b\"],[0.6666666666666666,\"#ed7953\"],[0.7777777777777778,\"#fb9f3a\"],[0.8888888888888888,\"#fdca26\"],[1.0,\"#f0f921\"]],\"type\":\"contour\"}],\"heatmapgl\":[{\"colorbar\":{\"outlinewidth\":0,\"ticks\":\"\"},\"colorscale\":[[0.0,\"#0d0887\"],[0.1111111111111111,\"#46039f\"],[0.2222222222222222,\"#7201a8\"],[0.3333333333333333,\"#9c179e\"],[0.4444444444444444,\"#bd3786\"],[0.5555555555555556,\"#d8576b\"],[0.6666666666666666,\"#ed7953\"],[0.7777777777777778,\"#fb9f3a\"],[0.8888888888888888,\"#fdca26\"],[1.0,\"#f0f921\"]],\"type\":\"heatmapgl\"}],\"heatmap\":[{\"colorbar\":{\"outlinewidth\":0,\"ticks\":\"\"},\"colorscale\":[[0.0,\"#0d0887\"],[0.1111111111111111,\"#46039f\"],[0.2222222222222222,\"#7201a8\"],[0.3333333333333333,\"#9c179e\"],[0.4444444444444444,\"#bd3786\"],[0.5555555555555556,\"#d8576b\"],[0.6666666666666666,\"#ed7953\"],[0.7777777777777778,\"#fb9f3a\"],[0.8888888888888888,\"#fdca26\"],[1.0,\"#f0f921\"]],\"type\":\"heatmap\"}],\"histogram2dcontour\":[{\"colorbar\":{\"outlinewidth\":0,\"ticks\":\"\"},\"colorscale\":[[0.0,\"#0d0887\"],[0.1111111111111111,\"#46039f\"],[0.2222222222222222,\"#7201a8\"],[0.3333333333333333,\"#9c179e\"],[0.4444444444444444,\"#bd3786\"],[0.5555555555555556,\"#d8576b\"],[0.6666666666666666,\"#ed7953\"],[0.7777777777777778,\"#fb9f3a\"],[0.8888888888888888,\"#fdca26\"],[1.0,\"#f0f921\"]],\"type\":\"histogram2dcontour\"}],\"histogram2d\":[{\"colorbar\":{\"outlinewidth\":0,\"ticks\":\"\"},\"colorscale\":[[0.0,\"#0d0887\"],[0.1111111111111111,\"#46039f\"],[0.2222222222222222,\"#7201a8\"],[0.3333333333333333,\"#9c179e\"],[0.4444444444444444,\"#bd3786\"],[0.5555555555555556,\"#d8576b\"],[0.6666666666666666,\"#ed7953\"],[0.7777777777777778,\"#fb9f3a\"],[0.8888888888888888,\"#fdca26\"],[1.0,\"#f0f921\"]],\"type\":\"histogram2d\"}],\"histogram\":[{\"marker\":{\"pattern\":{\"fillmode\":\"overlay\",\"size\":10,\"solidity\":0.2}},\"type\":\"histogram\"}],\"mesh3d\":[{\"colorbar\":{\"outlinewidth\":0,\"ticks\":\"\"},\"type\":\"mesh3d\"}],\"parcoords\":[{\"line\":{\"colorbar\":{\"outlinewidth\":0,\"ticks\":\"\"}},\"type\":\"parcoords\"}],\"pie\":[{\"automargin\":true,\"type\":\"pie\"}],\"scatter3d\":[{\"line\":{\"colorbar\":{\"outlinewidth\":0,\"ticks\":\"\"}},\"marker\":{\"colorbar\":{\"outlinewidth\":0,\"ticks\":\"\"}},\"type\":\"scatter3d\"}],\"scattercarpet\":[{\"marker\":{\"colorbar\":{\"outlinewidth\":0,\"ticks\":\"\"}},\"type\":\"scattercarpet\"}],\"scattergeo\":[{\"marker\":{\"colorbar\":{\"outlinewidth\":0,\"ticks\":\"\"}},\"type\":\"scattergeo\"}],\"scattergl\":[{\"marker\":{\"colorbar\":{\"outlinewidth\":0,\"ticks\":\"\"}},\"type\":\"scattergl\"}],\"scattermapbox\":[{\"marker\":{\"colorbar\":{\"outlinewidth\":0,\"ticks\":\"\"}},\"type\":\"scattermapbox\"}],\"scatterpolargl\":[{\"marker\":{\"colorbar\":{\"outlinewidth\":0,\"ticks\":\"\"}},\"type\":\"scatterpolargl\"}],\"scatterpolar\":[{\"marker\":{\"colorbar\":{\"outlinewidth\":0,\"ticks\":\"\"}},\"type\":\"scatterpolar\"}],\"scatter\":[{\"fillpattern\":{\"fillmode\":\"overlay\",\"size\":10,\"solidity\":0.2},\"type\":\"scatter\"}],\"scatterternary\":[{\"marker\":{\"colorbar\":{\"outlinewidth\":0,\"ticks\":\"\"}},\"type\":\"scatterternary\"}],\"surface\":[{\"colorbar\":{\"outlinewidth\":0,\"ticks\":\"\"},\"colorscale\":[[0.0,\"#0d0887\"],[0.1111111111111111,\"#46039f\"],[0.2222222222222222,\"#7201a8\"],[0.3333333333333333,\"#9c179e\"],[0.4444444444444444,\"#bd3786\"],[0.5555555555555556,\"#d8576b\"],[0.6666666666666666,\"#ed7953\"],[0.7777777777777778,\"#fb9f3a\"],[0.8888888888888888,\"#fdca26\"],[1.0,\"#f0f921\"]],\"type\":\"surface\"}],\"table\":[{\"cells\":{\"fill\":{\"color\":\"#EBF0F8\"},\"line\":{\"color\":\"white\"}},\"header\":{\"fill\":{\"color\":\"#C8D4E3\"},\"line\":{\"color\":\"white\"}},\"type\":\"table\"}]},\"layout\":{\"annotationdefaults\":{\"arrowcolor\":\"#2a3f5f\",\"arrowhead\":0,\"arrowwidth\":1},\"autotypenumbers\":\"strict\",\"coloraxis\":{\"colorbar\":{\"outlinewidth\":0,\"ticks\":\"\"}},\"colorscale\":{\"diverging\":[[0,\"#8e0152\"],[0.1,\"#c51b7d\"],[0.2,\"#de77ae\"],[0.3,\"#f1b6da\"],[0.4,\"#fde0ef\"],[0.5,\"#f7f7f7\"],[0.6,\"#e6f5d0\"],[0.7,\"#b8e186\"],[0.8,\"#7fbc41\"],[0.9,\"#4d9221\"],[1,\"#276419\"]],\"sequential\":[[0.0,\"#0d0887\"],[0.1111111111111111,\"#46039f\"],[0.2222222222222222,\"#7201a8\"],[0.3333333333333333,\"#9c179e\"],[0.4444444444444444,\"#bd3786\"],[0.5555555555555556,\"#d8576b\"],[0.6666666666666666,\"#ed7953\"],[0.7777777777777778,\"#fb9f3a\"],[0.8888888888888888,\"#fdca26\"],[1.0,\"#f0f921\"]],\"sequentialminus\":[[0.0,\"#0d0887\"],[0.1111111111111111,\"#46039f\"],[0.2222222222222222,\"#7201a8\"],[0.3333333333333333,\"#9c179e\"],[0.4444444444444444,\"#bd3786\"],[0.5555555555555556,\"#d8576b\"],[0.6666666666666666,\"#ed7953\"],[0.7777777777777778,\"#fb9f3a\"],[0.8888888888888888,\"#fdca26\"],[1.0,\"#f0f921\"]]},\"colorway\":[\"#636efa\",\"#EF553B\",\"#00cc96\",\"#ab63fa\",\"#FFA15A\",\"#19d3f3\",\"#FF6692\",\"#B6E880\",\"#FF97FF\",\"#FECB52\"],\"font\":{\"color\":\"#2a3f5f\"},\"geo\":{\"bgcolor\":\"white\",\"lakecolor\":\"white\",\"landcolor\":\"white\",\"showlakes\":true,\"showland\":true,\"subunitcolor\":\"#C8D4E3\"},\"hoverlabel\":{\"align\":\"left\"},\"hovermode\":\"closest\",\"mapbox\":{\"style\":\"light\"},\"paper_bgcolor\":\"white\",\"plot_bgcolor\":\"white\",\"polar\":{\"angularaxis\":{\"gridcolor\":\"#EBF0F8\",\"linecolor\":\"#EBF0F8\",\"ticks\":\"\"},\"bgcolor\":\"white\",\"radialaxis\":{\"gridcolor\":\"#EBF0F8\",\"linecolor\":\"#EBF0F8\",\"ticks\":\"\"}},\"scene\":{\"xaxis\":{\"backgroundcolor\":\"white\",\"gridcolor\":\"#DFE8F3\",\"gridwidth\":2,\"linecolor\":\"#EBF0F8\",\"showbackground\":true,\"ticks\":\"\",\"zerolinecolor\":\"#EBF0F8\"},\"yaxis\":{\"backgroundcolor\":\"white\",\"gridcolor\":\"#DFE8F3\",\"gridwidth\":2,\"linecolor\":\"#EBF0F8\",\"showbackground\":true,\"ticks\":\"\",\"zerolinecolor\":\"#EBF0F8\"},\"zaxis\":{\"backgroundcolor\":\"white\",\"gridcolor\":\"#DFE8F3\",\"gridwidth\":2,\"linecolor\":\"#EBF0F8\",\"showbackground\":true,\"ticks\":\"\",\"zerolinecolor\":\"#EBF0F8\"}},\"shapedefaults\":{\"line\":{\"color\":\"#2a3f5f\"}},\"ternary\":{\"aaxis\":{\"gridcolor\":\"#DFE8F3\",\"linecolor\":\"#A2B1C6\",\"ticks\":\"\"},\"baxis\":{\"gridcolor\":\"#DFE8F3\",\"linecolor\":\"#A2B1C6\",\"ticks\":\"\"},\"bgcolor\":\"white\",\"caxis\":{\"gridcolor\":\"#DFE8F3\",\"linecolor\":\"#A2B1C6\",\"ticks\":\"\"}},\"title\":{\"x\":0.05},\"xaxis\":{\"automargin\":true,\"gridcolor\":\"#EBF0F8\",\"linecolor\":\"#EBF0F8\",\"ticks\":\"\",\"title\":{\"standoff\":15},\"zerolinecolor\":\"#EBF0F8\",\"zerolinewidth\":2},\"yaxis\":{\"automargin\":true,\"gridcolor\":\"#EBF0F8\",\"linecolor\":\"#EBF0F8\",\"ticks\":\"\",\"title\":{\"standoff\":15},\"zerolinecolor\":\"#EBF0F8\",\"zerolinewidth\":2}}},\"title\":{\"text\":\"\",\"x\":0.5},\"width\":1000},                        {\"responsive\": true}                    ).then(function(){\n",
       "                            \n",
       "var gd = document.getElementById('89bf9118-45f4-4a85-8d4c-8dc3002140b8');\n",
       "var x = new MutationObserver(function (mutations, observer) {{\n",
       "        var display = window.getComputedStyle(gd).display;\n",
       "        if (!display || display === 'none') {{\n",
       "            console.log([gd, 'removed!']);\n",
       "            Plotly.purge(gd);\n",
       "            observer.disconnect();\n",
       "        }}\n",
       "}});\n",
       "\n",
       "// Listen for the removal of the full notebook cells\n",
       "var notebookContainer = gd.closest('#notebook-container');\n",
       "if (notebookContainer) {{\n",
       "    x.observe(notebookContainer, {childList: true});\n",
       "}}\n",
       "\n",
       "// Listen for the clearing of the current output cell\n",
       "var outputEl = gd.closest('.output');\n",
       "if (outputEl) {{\n",
       "    x.observe(outputEl, {childList: true});\n",
       "}}\n",
       "\n",
       "                        })                };                });            </script>        </div>"
      ]
     },
     "metadata": {},
     "output_type": "display_data"
    }
   ],
   "source": [
    "fig = make_subplots(\n",
    "    rows=2,\n",
    "    cols=2,\n",
    "    specs=[[{'type': 'pie', 'colspan': 2}, None],\n",
    "           [{'type': 'pie'}, {'type': 'pie'}]],\n",
    "    subplot_titles=('Cosmos-SDK Assets by Chains', 'by Type', 'by Base Denoms'),\n",
    "    horizontal_spacing=0.4,\n",
    "    vertical_spacing=0.14\n",
    ")\n",
    "\n",
    "fig.add_trace(\n",
    "    go.Pie(\n",
    "        labels=list(assets_by_chain.to_dict().keys()),\n",
    "        values=list(assets_by_chain.to_dict().values()),\n",
    "        text=list(assets_by_chain.map('{:>,}'.format).to_dict().values()),\n",
    "        sort=False,\n",
    "        name='assets by chains',\n",
    "        rotation=-35,\n",
    "        marker_colors=px.colors.qualitative.Plotly\n",
    "    ),\n",
    "    row=1,\n",
    "    col=1)\n",
    "\n",
    "fig.add_trace(\n",
    "    go.Pie(\n",
    "        labels=list(assets_by_type_asset.to_dict().keys()),\n",
    "        values=list(assets_by_type_asset.to_dict().values()),\n",
    "        text=list(assets_by_type_asset.map('{:>,}'.format).to_dict().values()),\n",
    "        sort=False,\n",
    "        name='assets by type',\n",
    "        rotation=90,\n",
    "        marker_colors=px.colors.qualitative.G10\n",
    "    ),\n",
    "    row=2,\n",
    "    col=1)\n",
    "fig.add_trace(\n",
    "    go.Pie(\n",
    "        labels=list(assets_by_denom_base.to_dict().keys()),\n",
    "        values=list(assets_by_denom_base.to_dict().values()),\n",
    "        text=list(assets_by_denom_base.map('{:>,}'.format).to_dict().values()),\n",
    "        sort=False,\n",
    "        name='assets by base denoms',\n",
    "        rotation=75,\n",
    "        marker_colors=px.colors.qualitative.Set1_r\n",
    "    ),\n",
    "    row=2,\n",
    "    col=2)\n",
    "fig.update_traces(\n",
    "    textposition='outside',\n",
    "    hoverinfo='label+value+percent',\n",
    "    textinfo='label+value+percent',\n",
    "    texttemplate=' %{label}  %{value:>,} (%{percent:.1%}) ',\n",
    "    hovertemplate='%{label}<br>%{value:>,} (%{percent:.1%})'\n",
    ")\n",
    "fig.update_layout(\n",
    "    height=850,\n",
    "    width=1000,\n",
    "    showlegend=False,\n",
    "    font_family=\"Play\",\n",
    "    title_text='',\n",
    "    title_x=0.5,\n",
    "    template='plotly_white',\n",
    "    autosize=False,\n",
    "    margin={'l': 0, 'r': 0, 't': 80, 'b': 0}\n",
    ")\n",
    "\n",
    "fig['layout']['annotations'][0]['y'] = 1.04\n",
    "fig['layout']['annotations'][1]['y'] = 0.37\n",
    "fig['layout']['annotations'][2]['y'] = 0.37\n",
    "\n",
    "fig.add_annotation(\n",
    "    x=-0.3,\n",
    "    y=-0.05,\n",
    "    text=f'github.com/Snedashkovsky/on-chain-registry',\n",
    "    showarrow=False)\n",
    "fig.add_annotation(\n",
    "    x=1.25,\n",
    "    y=-0.05,\n",
    "    text=f'updated {date.today()}',\n",
    "    showarrow=False)\n",
    "\n",
    "fig.write_image('charts/charts.png', scale=1.5)\n",
    "fig.write_html('charts/index.html', include_plotlyjs='cdn')\n",
    "iplot(fig)"
   ]
  },
  {
   "cell_type": "markdown",
   "metadata": {
    "collapsed": false
   },
   "source": [
    "## contract query\n",
    "### get any assets in alphabetical order for a given chain"
   ]
  },
  {
   "cell_type": "code",
   "execution_count": 6,
   "metadata": {
    "ExecuteTime": {
     "end_time": "2023-09-19T03:15:25.890828Z",
     "start_time": "2023-09-19T03:15:25.171176Z"
    },
    "collapsed": false,
    "execution": {
     "iopub.execute_input": "2024-03-26T07:06:24.629332Z",
     "iopub.status.busy": "2024-03-26T07:06:24.628980Z",
     "iopub.status.idle": "2024-03-26T07:06:24.921638Z",
     "shell.execute_reply": "2024-03-26T07:06:24.920303Z"
    }
   },
   "outputs": [
    {
     "name": "stdout",
     "output_type": "stream",
     "text": [
      "26-03-2024 03:06:24 - INFO - https://osmosis-testnet-api.polkachu.com/cosmwasm/wasm/v1/contract/osmo1nwesd2xe6cnvtpqd29xg7qeznlm65x02lfjfg20wlvkdze20hcxsftxtzz/smart/eyJnZXRfYXNzZXRzX2J5X2NoYWluIjogeyJjaGFpbl9uYW1lIjogIm9zbW9zaXMiLCAibGltaXQiOiA0LCAic3RhcnRfYWZ0ZXJfYmFzZSI6ICJpYmMvRkY2RjQ3NzRBQkMyNDc4ODMyQTZENjY4MURCOUE3QThEREM0NDg1MjEyQThBRUQ4NDY0MkVGQ0Q2M0M3NDhBOSJ9fQ==\n",
      "{'data': {'assets': [{'address': None,\n",
      "                      'admin': None,\n",
      "                      'base': 'ibc/FFA652599C77E853F017193E36B5AB2D4D9AFC4B54721A74904F80C9236BF3B7',\n",
      "                      'chain_id': 'osmosis-1',\n",
      "                      'chain_name': 'osmosis',\n",
      "                      'coingecko_id': None,\n",
      "                      'denom_units': None,\n",
      "                      'description': None,\n",
      "                      'display': None,\n",
      "                      'ibc': {'base_supply': None,\n",
      "                              'dst_channel': 'channel-3',\n",
      "                              'source_channel': 'channel-286',\n",
      "                              'source_denom': ''},\n",
      "                      'images': None,\n",
      "                      'keywords': None,\n",
      "                      'logo_uris': None,\n",
      "                      'name': None,\n",
      "                      'supply': '565866130684719',\n",
      "                      'symbol': None,\n",
      "                      'traces': None,\n",
      "                      'type_asset': 'ics20'},\n",
      "                     {'address': None,\n",
      "                      'admin': None,\n",
      "                      'base': 'ibc/FFCF643AE12AA7F532414B8423F3F100B8EC9A49A03C4977F8EEF327083FD077',\n",
      "                      'chain_id': 'osmosis-1',\n",
      "                      'chain_name': 'osmosis',\n",
      "                      'coingecko_id': None,\n",
      "                      'denom_units': None,\n",
      "                      'description': None,\n",
      "                      'display': None,\n",
      "                      'ibc': {'base_supply': None,\n",
      "                              'dst_channel': 'channel-141',\n",
      "                              'source_channel': 'channel-0',\n",
      "                              'source_denom': 'ibc/6AD866C1B978F59384ABE2F80EA66A7581AF33A03A58A4A43E9CFA54BC407D3A'},\n",
      "                      'images': None,\n",
      "                      'keywords': None,\n",
      "                      'logo_uris': None,\n",
      "                      'name': None,\n",
      "                      'supply': '63248374',\n",
      "                      'symbol': None,\n",
      "                      'traces': [{'chain': {'channel_id': 'channel-0',\n",
      "                                            'path': 'transfer/channel-0/transfer/channel-343/transfer/channel-50/gravity0x514910771AF9Ca656af840dff83E8264EcF986CA',\n",
      "                                            'port': None},\n",
      "                                  'counterparty': {'base_denom': 'ibc/6AD866C1B978F59384ABE2F80EA66A7581AF33A03A58A4A43E9CFA54BC407D3A',\n",
      "                                                   'base_supply': '63248374',\n",
      "                                                   'chain_id': 'cosmoshub-4',\n",
      "                                                   'chain_name': 'cosmoshub',\n",
      "                                                   'channel_id': 'channel-141',\n",
      "                                                   'contract': None,\n",
      "                                                   'port': None},\n",
      "                                  'provider': None,\n",
      "                                  'trace_type': 'ibc'},\n",
      "                                 {'chain': {'channel_id': 'channel-343',\n",
      "                                            'path': 'transfer/channel-343/transfer/channel-50/gravity0x514910771AF9Ca656af840dff83E8264EcF986CA',\n",
      "                                            'port': None},\n",
      "                                  'counterparty': {'base_denom': 'ibc/BD071A9577887D786DA4CD22BA40188E0AD9A4C13E3DACD5322D16A8F256A14A',\n",
      "                                                   'base_supply': '63248374',\n",
      "                                                   'chain_id': 'kaiyo-1',\n",
      "                                                   'chain_name': 'kujira',\n",
      "                                                   'channel_id': 'channel-0',\n",
      "                                                   'contract': None,\n",
      "                                                   'port': None},\n",
      "                                  'provider': None,\n",
      "                                  'trace_type': 'ibc'}],\n",
      "                      'type_asset': 'ics20'},\n",
      "                     {'address': None,\n",
      "                      'admin': None,\n",
      "                      'base': 'uion',\n",
      "                      'chain_id': 'osmosis-1',\n",
      "                      'chain_name': 'osmosis',\n",
      "                      'coingecko_id': None,\n",
      "                      'denom_units': [{'aliases': [],\n",
      "                                       'denom': 'uion',\n",
      "                                       'exponent': 0},\n",
      "                                      {'aliases': [],\n",
      "                                       'denom': 'ion',\n",
      "                                       'exponent': 6}],\n",
      "                      'description': None,\n",
      "                      'display': 'ion',\n",
      "                      'ibc': None,\n",
      "                      'images': None,\n",
      "                      'keywords': None,\n",
      "                      'logo_uris': None,\n",
      "                      'name': None,\n",
      "                      'supply': '21294000000',\n",
      "                      'symbol': None,\n",
      "                      'traces': None,\n",
      "                      'type_asset': 'sdk.coin'},\n",
      "                     {'address': None,\n",
      "                      'admin': None,\n",
      "                      'base': 'uosmo',\n",
      "                      'chain_id': 'osmosis-1',\n",
      "                      'chain_name': 'osmosis',\n",
      "                      'coingecko_id': None,\n",
      "                      'denom_units': [{'aliases': [],\n",
      "                                       'denom': 'uosmo',\n",
      "                                       'exponent': 0},\n",
      "                                      {'aliases': [],\n",
      "                                       'denom': 'osmo',\n",
      "                                       'exponent': 6}],\n",
      "                      'description': 'The native token of Osmosis',\n",
      "                      'display': 'osmo',\n",
      "                      'ibc': None,\n",
      "                      'images': None,\n",
      "                      'keywords': None,\n",
      "                      'logo_uris': None,\n",
      "                      'name': None,\n",
      "                      'supply': '621525971373937',\n",
      "                      'symbol': None,\n",
      "                      'traces': None,\n",
      "                      'type_asset': 'sdk.coin'}],\n",
      "          'chain_name': 'osmosis'}}\n"
     ]
    }
   ],
   "source": [
    "# Get any `4` assets in the `Osmosis` chain,  \n",
    "pprint(\n",
    "    contract_query(\n",
    "        query={'get_assets_by_chain':\n",
    "                   {'chain_name': 'osmosis',\n",
    "                    'limit': 4,\n",
    "                    'start_after_base': 'ibc/FF6F4774ABC2478832A6D6681DB9A7A8DDC4485212A8AED84642EFCD63C748A9'}\n",
    "               },\n",
    "        contract_address=CONTRACT_ADDRESSES[CONTRACT_CHAIN],\n",
    "        node_lcd_url=NODE_LCD_URLS[CONTRACT_CHAIN],\n",
    "        display_query=True\n",
    "    )\n",
    ")"
   ]
  },
  {
   "cell_type": "markdown",
   "metadata": {
    "collapsed": false
   },
   "source": [
    "### get any assets from any chains"
   ]
  },
  {
   "cell_type": "code",
   "execution_count": 7,
   "metadata": {
    "ExecuteTime": {
     "end_time": "2023-09-19T03:15:26.460243Z",
     "start_time": "2023-09-19T03:15:25.889174Z"
    },
    "collapsed": false,
    "execution": {
     "iopub.execute_input": "2024-03-26T07:06:24.927063Z",
     "iopub.status.busy": "2024-03-26T07:06:24.926639Z",
     "iopub.status.idle": "2024-03-26T07:06:25.131846Z",
     "shell.execute_reply": "2024-03-26T07:06:25.130921Z"
    }
   },
   "outputs": [
    {
     "name": "stdout",
     "output_type": "stream",
     "text": [
      "26-03-2024 03:06:24 - INFO - https://osmosis-testnet-api.polkachu.com/cosmwasm/wasm/v1/contract/osmo1nwesd2xe6cnvtpqd29xg7qeznlm65x02lfjfg20wlvkdze20hcxsftxtzz/smart/eyJnZXRfYWxsX2Fzc2V0cyI6IHsibGltaXQiOiA1fX0=\n",
      "{'data': {'entries': [{'address': None,\n",
      "                       'admin': None,\n",
      "                       'base': 'ibc/4A3AAD07BC4EBEBC10FC2560EAA3B7A1D3B541B5264ED8E5E13E6B74AC76127B',\n",
      "                       'chain_id': 'eightball-1',\n",
      "                       'chain_name': '8ball',\n",
      "                       'coingecko_id': None,\n",
      "                       'denom_units': [{'aliases': [],\n",
      "                                        'denom': 'uosmo',\n",
      "                                        'exponent': 0},\n",
      "                                       {'aliases': [],\n",
      "                                        'denom': 'osmo',\n",
      "                                        'exponent': 6}],\n",
      "                       'description': 'The native token of Osmosis',\n",
      "                       'display': 'osmo',\n",
      "                       'ibc': {'base_supply': None,\n",
      "                               'dst_channel': 'channel-641',\n",
      "                               'source_channel': 'channel-16',\n",
      "                               'source_denom': 'uosmo'},\n",
      "                       'images': None,\n",
      "                       'keywords': None,\n",
      "                       'logo_uris': None,\n",
      "                       'name': None,\n",
      "                       'supply': '6200911',\n",
      "                       'symbol': None,\n",
      "                       'traces': [{'chain': {'channel_id': 'channel-16',\n",
      "                                             'path': 'transfer/channel-16/uosmo',\n",
      "                                             'port': None},\n",
      "                                   'counterparty': {'base_denom': 'uosmo',\n",
      "                                                    'base_supply': '621525971373937',\n",
      "                                                    'chain_id': 'osmosis-1',\n",
      "                                                    'chain_name': 'osmosis',\n",
      "                                                    'channel_id': 'channel-641',\n",
      "                                                    'contract': None,\n",
      "                                                    'port': None},\n",
      "                                   'provider': None,\n",
      "                                   'trace_type': 'ibc'}],\n",
      "                       'type_asset': 'ics20'},\n",
      "                      {'address': None,\n",
      "                       'admin': None,\n",
      "                       'base': 'ibc/65F2AFA2F7AC0FC1ACA0EC1710A5AB381BF87B25CB74E903C5847ED86CAE213A',\n",
      "                       'chain_id': 'eightball-1',\n",
      "                       'chain_name': '8ball',\n",
      "                       'coingecko_id': None,\n",
      "                       'denom_units': [{'aliases': [],\n",
      "                                        'denom': 'uion',\n",
      "                                        'exponent': 0},\n",
      "                                       {'aliases': [],\n",
      "                                        'denom': 'ion',\n",
      "                                        'exponent': 6}],\n",
      "                       'description': None,\n",
      "                       'display': 'ion',\n",
      "                       'ibc': {'base_supply': None,\n",
      "                               'dst_channel': 'channel-641',\n",
      "                               'source_channel': 'channel-16',\n",
      "                               'source_denom': 'uion'},\n",
      "                       'images': None,\n",
      "                       'keywords': None,\n",
      "                       'logo_uris': None,\n",
      "                       'name': None,\n",
      "                       'supply': '500',\n",
      "                       'symbol': None,\n",
      "                       'traces': [{'chain': {'channel_id': 'channel-16',\n",
      "                                             'path': 'transfer/channel-16/uion',\n",
      "                                             'port': None},\n",
      "                                   'counterparty': {'base_denom': 'uion',\n",
      "                                                    'base_supply': '21294000000',\n",
      "                                                    'chain_id': 'osmosis-1',\n",
      "                                                    'chain_name': 'osmosis',\n",
      "                                                    'channel_id': 'channel-641',\n",
      "                                                    'contract': None,\n",
      "                                                    'port': None},\n",
      "                                   'provider': None,\n",
      "                                   'trace_type': 'ibc'}],\n",
      "                       'type_asset': 'ics20'},\n",
      "                      {'address': None,\n",
      "                       'admin': None,\n",
      "                       'base': 'uebl',\n",
      "                       'chain_id': 'eightball-1',\n",
      "                       'chain_name': '8ball',\n",
      "                       'coingecko_id': None,\n",
      "                       'denom_units': None,\n",
      "                       'description': None,\n",
      "                       'display': None,\n",
      "                       'ibc': None,\n",
      "                       'images': None,\n",
      "                       'keywords': None,\n",
      "                       'logo_uris': None,\n",
      "                       'name': None,\n",
      "                       'supply': '76522984751468',\n",
      "                       'symbol': None,\n",
      "                       'traces': None,\n",
      "                       'type_asset': 'sdk.coin'},\n",
      "                      {'address': None,\n",
      "                       'admin': None,\n",
      "                       'base': 'aacre',\n",
      "                       'chain_id': 'acre_9052-1',\n",
      "                       'chain_name': 'acrechain',\n",
      "                       'coingecko_id': None,\n",
      "                       'denom_units': [{'aliases': ['aacre'],\n",
      "                                        'denom': 'aacre',\n",
      "                                        'exponent': 0},\n",
      "                                       {'aliases': [],\n",
      "                                        'denom': 'ACRE',\n",
      "                                        'exponent': 18}],\n",
      "                       'description': 'The native staking and governance token '\n",
      "                                      'of the Acrechain',\n",
      "                       'display': 'ACRE',\n",
      "                       'ibc': None,\n",
      "                       'images': None,\n",
      "                       'keywords': None,\n",
      "                       'logo_uris': None,\n",
      "                       'name': 'ACRE',\n",
      "                       'supply': '533131941147216312496712449',\n",
      "                       'symbol': 'ACRE',\n",
      "                       'traces': None,\n",
      "                       'type_asset': 'sdk.coin'},\n",
      "                      {'address': None,\n",
      "                       'admin': None,\n",
      "                       'base': 'erc20/0x2Cbea61fdfDFA520Ee99700F104D5b75ADf50B0c',\n",
      "                       'chain_id': 'acre_9052-1',\n",
      "                       'chain_name': 'acrechain',\n",
      "                       'coingecko_id': None,\n",
      "                       'denom_units': [{'aliases': [],\n",
      "                                        'denom': 'erc20/0x2Cbea61fdfDFA520Ee99700F104D5b75ADf50B0c',\n",
      "                                        'exponent': 0},\n",
      "                                       {'aliases': [],\n",
      "                                        'denom': 'ArableUSD',\n",
      "                                        'exponent': 18}],\n",
      "                       'description': 'Cosmos coin token representation of '\n",
      "                                      '0x2Cbea61fdfDFA520Ee99700F104D5b75ADf50B0c',\n",
      "                       'display': 'ArableUSD',\n",
      "                       'ibc': None,\n",
      "                       'images': None,\n",
      "                       'keywords': None,\n",
      "                       'logo_uris': None,\n",
      "                       'name': 'erc20/0x2Cbea61fdfDFA520Ee99700F104D5b75ADf50B0c',\n",
      "                       'supply': '57621944678631824807312',\n",
      "                       'symbol': 'arUSD',\n",
      "                       'traces': None,\n",
      "                       'type_asset': 'sdk.coin'}]}}\n"
     ]
    }
   ],
   "source": [
    "# get any `5` assets from any chains\n",
    "pprint(\n",
    "    contract_query(\n",
    "        query={'get_all_assets':\n",
    "                   {'limit': 5}\n",
    "               },\n",
    "        contract_address=CONTRACT_ADDRESSES[CONTRACT_CHAIN],\n",
    "        node_lcd_url=NODE_LCD_URLS[CONTRACT_CHAIN],\n",
    "        display_query=True\n",
    "    )\n",
    ")"
   ]
  },
  {
   "cell_type": "markdown",
   "metadata": {
    "collapsed": false
   },
   "source": [
    "### get asset for a given denom and a given chain"
   ]
  },
  {
   "cell_type": "code",
   "execution_count": 8,
   "metadata": {
    "ExecuteTime": {
     "end_time": "2023-09-19T03:15:26.991068Z",
     "start_time": "2023-09-19T03:15:26.456496Z"
    },
    "collapsed": false,
    "execution": {
     "iopub.execute_input": "2024-03-26T07:06:25.137118Z",
     "iopub.status.busy": "2024-03-26T07:06:25.136802Z",
     "iopub.status.idle": "2024-03-26T07:06:25.361274Z",
     "shell.execute_reply": "2024-03-26T07:06:25.359695Z"
    }
   },
   "outputs": [
    {
     "name": "stdout",
     "output_type": "stream",
     "text": [
      "26-03-2024 03:06:25 - INFO - https://osmosis-testnet-api.polkachu.com/cosmwasm/wasm/v1/contract/osmo1nwesd2xe6cnvtpqd29xg7qeznlm65x02lfjfg20wlvkdze20hcxsftxtzz/smart/eyJnZXRfYXNzZXQiOiB7ImNoYWluX25hbWUiOiAiY3Jlc2NlbnQiLCAiYmFzZSI6ICJpYmMvRTg2NjExODE3RUFGMzMxMTczRDIwNDk2MjI5OEExNkMyMzZFOTE4RjdDN0U5ODU0OTdBNjMyMzJCOTI2RjE2MiJ9fQ==\n",
      "{'data': {'asset': {'address': None,\n",
      "                    'admin': None,\n",
      "                    'base': 'ibc/E86611817EAF331173D204962298A16C236E918F7C7E985497A63232B926F162',\n",
      "                    'chain_id': 'crescent-1',\n",
      "                    'chain_name': 'crescent',\n",
      "                    'coingecko_id': None,\n",
      "                    'denom_units': [{'aliases': ['microatom'],\n",
      "                                     'denom': 'uatom',\n",
      "                                     'exponent': 0},\n",
      "                                    {'aliases': ['milliatom'],\n",
      "                                     'denom': 'matom',\n",
      "                                     'exponent': 3},\n",
      "                                    {'aliases': [],\n",
      "                                     'denom': 'atom',\n",
      "                                     'exponent': 6}],\n",
      "                    'description': 'The native staking token of the Cosmos '\n",
      "                                   'Hub.',\n",
      "                    'display': 'atom',\n",
      "                    'ibc': {'base_supply': None,\n",
      "                            'dst_channel': 'channel-297',\n",
      "                            'source_channel': 'channel-9',\n",
      "                            'source_denom': 'ibc/27394FB092D2ECCD56123C74F36E4C1F926001CEADA9CA97EA622B25F41E5EB2'},\n",
      "                    'images': None,\n",
      "                    'keywords': None,\n",
      "                    'logo_uris': None,\n",
      "                    'name': 'Cosmos Hub Atom',\n",
      "                    'supply': '680669',\n",
      "                    'symbol': 'ATOM',\n",
      "                    'traces': [{'chain': {'channel_id': 'channel-9',\n",
      "                                          'path': 'transfer/channel-9/transfer/channel-0/uatom',\n",
      "                                          'port': None},\n",
      "                                'counterparty': {'base_denom': 'ibc/27394FB092D2ECCD56123C74F36E4C1F926001CEADA9CA97EA622B25F41E5EB2',\n",
      "                                                 'base_supply': '3826429637708',\n",
      "                                                 'chain_id': 'osmosis-1',\n",
      "                                                 'chain_name': 'osmosis',\n",
      "                                                 'channel_id': 'channel-297',\n",
      "                                                 'contract': None,\n",
      "                                                 'port': None},\n",
      "                                'provider': None,\n",
      "                                'trace_type': 'ibc'},\n",
      "                               {'chain': {'channel_id': 'channel-0',\n",
      "                                          'path': 'transfer/channel-0/uatom',\n",
      "                                          'port': None},\n",
      "                                'counterparty': {'base_denom': 'uatom',\n",
      "                                                 'base_supply': '369340899749133',\n",
      "                                                 'chain_id': 'cosmoshub-4',\n",
      "                                                 'chain_name': 'cosmoshub',\n",
      "                                                 'channel_id': 'channel-141',\n",
      "                                                 'contract': None,\n",
      "                                                 'port': None},\n",
      "                                'provider': None,\n",
      "                                'trace_type': 'ibc'}],\n",
      "                    'type_asset': 'ics20'},\n",
      "          'chain_name': 'crescent'}}\n"
     ]
    }
   ],
   "source": [
    "# get asset for `ibc/E86611817EAF331173D204962298A16C236E918F7C7E985497A63232B926F162` (ATOM from Osmosis in Crescent) denom in `Crescent` chain\n",
    "pprint(\n",
    "    contract_query(\n",
    "        query={'get_asset':\n",
    "                   {'chain_name': 'crescent',\n",
    "                    'base': 'ibc/E86611817EAF331173D204962298A16C236E918F7C7E985497A63232B926F162'}\n",
    "               },\n",
    "        contract_address=CONTRACT_ADDRESSES[CONTRACT_CHAIN],\n",
    "        node_lcd_url=NODE_LCD_URLS[CONTRACT_CHAIN],\n",
    "        display_query=True\n",
    "    )\n",
    ")"
   ]
  },
  {
   "cell_type": "code",
   "execution_count": 8,
   "metadata": {
    "ExecuteTime": {
     "end_time": "2023-09-19T03:15:26.994839Z",
     "start_time": "2023-09-19T03:15:26.989020Z"
    },
    "collapsed": false
   },
   "outputs": [],
   "source": []
  }
 ],
 "metadata": {
  "kernelspec": {
   "display_name": "Python 3",
   "language": "python",
   "name": "python3"
  },
  "language_info": {
   "codemirror_mode": {
    "name": "ipython",
    "version": 3
   },
   "file_extension": ".py",
   "mimetype": "text/x-python",
   "name": "python",
   "nbconvert_exporter": "python",
   "pygments_lexer": "ipython3",
   "version": "3.9.15"
  }
 },
 "nbformat": 4,
 "nbformat_minor": 0
}
