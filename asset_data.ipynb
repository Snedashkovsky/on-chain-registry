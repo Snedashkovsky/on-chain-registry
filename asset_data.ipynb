{
 "cells": [
  {
   "cell_type": "markdown",
   "metadata": {
    "collapsed": false
   },
   "source": [
    "# Asset Data"
   ]
  },
  {
   "cell_type": "code",
   "execution_count": 1,
   "metadata": {
    "ExecuteTime": {
     "end_time": "2023-08-11T04:57:03.573661Z",
     "start_time": "2023-08-11T04:57:02.878084Z"
    },
    "collapsed": false,
    "execution": {
     "iopub.execute_input": "2023-08-15T02:19:45.426295Z",
     "iopub.status.busy": "2023-08-15T02:19:45.425725Z",
     "iopub.status.idle": "2023-08-15T02:19:46.576569Z",
     "shell.execute_reply": "2023-08-15T02:19:46.575923Z"
    }
   },
   "outputs": [
    {
     "data": {
      "text/html": [
       "        <script type=\"text/javascript\">\n",
       "        window.PlotlyConfig = {MathJaxConfig: 'local'};\n",
       "        if (window.MathJax && window.MathJax.Hub && window.MathJax.Hub.Config) {window.MathJax.Hub.Config({SVG: {font: \"STIX-Web\"}});}\n",
       "        if (typeof require !== 'undefined') {\n",
       "        require.undef(\"plotly\");\n",
       "        requirejs.config({\n",
       "            paths: {\n",
       "                'plotly': ['https://cdn.plot.ly/plotly-2.24.1.min']\n",
       "            }\n",
       "        });\n",
       "        require(['plotly'], function(Plotly) {\n",
       "            window._Plotly = Plotly;\n",
       "        });\n",
       "        }\n",
       "        </script>\n",
       "        "
      ]
     },
     "metadata": {},
     "output_type": "display_data"
    }
   ],
   "source": [
    "import ast\n",
    "import numpy as np\n",
    "import pandas as pd\n",
    "from warnings import filterwarnings\n",
    "from tqdm.notebook import tqdm\n",
    "from plotly.subplots import make_subplots\n",
    "import plotly.graph_objects as go\n",
    "import plotly.express as px\n",
    "from plotly.offline import iplot, init_notebook_mode\n",
    "from pprint import pprint\n",
    "from datetime import date\n",
    "\n",
    "from src.contract_export import contract_query\n",
    "from config import CONTRACT_ADDRESSES, NODE_LCD_URLS\n",
    "\n",
    "init_notebook_mode(connected=True)\n",
    "filterwarnings('ignore')\n",
    "tqdm.pandas()"
   ]
  },
  {
   "cell_type": "markdown",
   "metadata": {
    "collapsed": false
   },
   "source": [
    "## load data"
   ]
  },
  {
   "cell_type": "code",
   "execution_count": 2,
   "metadata": {
    "ExecuteTime": {
     "end_time": "2023-08-11T04:57:03.748571Z",
     "start_time": "2023-08-11T04:57:03.573055Z"
    },
    "collapsed": false,
    "execution": {
     "iopub.execute_input": "2023-08-15T02:19:46.639021Z",
     "iopub.status.busy": "2023-08-15T02:19:46.638362Z",
     "iopub.status.idle": "2023-08-15T02:19:47.191754Z",
     "shell.execute_reply": "2023-08-15T02:19:47.190514Z"
    }
   },
   "outputs": [
    {
     "data": {
      "text/html": [
       "<div>\n",
       "<style scoped>\n",
       "    .dataframe tbody tr th:only-of-type {\n",
       "        vertical-align: middle;\n",
       "    }\n",
       "\n",
       "    .dataframe tbody tr th {\n",
       "        vertical-align: top;\n",
       "    }\n",
       "\n",
       "    .dataframe thead th {\n",
       "        text-align: right;\n",
       "    }\n",
       "</style>\n",
       "<table border=\"1\" class=\"dataframe\">\n",
       "  <thead>\n",
       "    <tr style=\"text-align: right;\">\n",
       "      <th></th>\n",
       "      <th>chain_name</th>\n",
       "      <th>chain_id</th>\n",
       "      <th>denom</th>\n",
       "      <th>type_asset</th>\n",
       "      <th>supply</th>\n",
       "      <th>description</th>\n",
       "      <th>denom_units</th>\n",
       "      <th>display</th>\n",
       "      <th>name</th>\n",
       "      <th>symbol</th>\n",
       "      <th>...</th>\n",
       "      <th>denom_base</th>\n",
       "      <th>type_asset_base</th>\n",
       "      <th>path</th>\n",
       "      <th>channels</th>\n",
       "      <th>chain_id_counterparty</th>\n",
       "      <th>channel_id_counterparty</th>\n",
       "      <th>supply_base</th>\n",
       "      <th>chain_id_base</th>\n",
       "      <th>one_channel</th>\n",
       "      <th>admin</th>\n",
       "    </tr>\n",
       "  </thead>\n",
       "  <tbody>\n",
       "    <tr>\n",
       "      <th>0</th>\n",
       "      <td>cronos</td>\n",
       "      <td>cronosmainnet_25-1</td>\n",
       "      <td>ibc/0FD310E1160487D42B93949F1D8955C7EF6D88B1BF...</td>\n",
       "      <td>ics20</td>\n",
       "      <td>1</td>\n",
       "      <td>NaN</td>\n",
       "      <td>None</td>\n",
       "      <td>NaN</td>\n",
       "      <td>NaN</td>\n",
       "      <td>NaN</td>\n",
       "      <td>...</td>\n",
       "      <td>acanto</td>\n",
       "      <td>sdk.coin</td>\n",
       "      <td>transfer/channel-9</td>\n",
       "      <td>[channel-9]</td>\n",
       "      <td>canto_7700-1</td>\n",
       "      <td>channel-22</td>\n",
       "      <td>1054361629202299185933322532</td>\n",
       "      <td>canto_7700-1</td>\n",
       "      <td>True</td>\n",
       "      <td>NaN</td>\n",
       "    </tr>\n",
       "    <tr>\n",
       "      <th>1</th>\n",
       "      <td>cronos</td>\n",
       "      <td>cronosmainnet_25-1</td>\n",
       "      <td>ibc/11DFDFADE34DCE439BA732EBA5CD8AA804A544BA1E...</td>\n",
       "      <td>ics20</td>\n",
       "      <td>972901</td>\n",
       "      <td>Irishub staking token</td>\n",
       "      <td>[{'denom': 'uiris', 'exponent': 0, 'aliases': ...</td>\n",
       "      <td>iris</td>\n",
       "      <td>NaN</td>\n",
       "      <td>NaN</td>\n",
       "      <td>...</td>\n",
       "      <td>uiris</td>\n",
       "      <td>sdk.coin</td>\n",
       "      <td>transfer/channel-8</td>\n",
       "      <td>[channel-8]</td>\n",
       "      <td>irishub-1</td>\n",
       "      <td>channel-66</td>\n",
       "      <td>2156476910405474</td>\n",
       "      <td>irishub-1</td>\n",
       "      <td>True</td>\n",
       "      <td>NaN</td>\n",
       "    </tr>\n",
       "    <tr>\n",
       "      <th>2</th>\n",
       "      <td>cronos</td>\n",
       "      <td>cronosmainnet_25-1</td>\n",
       "      <td>ibc/2114969D9A69DD3F8529975297CA38AF474E34305D...</td>\n",
       "      <td>ics20</td>\n",
       "      <td>2</td>\n",
       "      <td>NaN</td>\n",
       "      <td>None</td>\n",
       "      <td>NaN</td>\n",
       "      <td>NaN</td>\n",
       "      <td>NaN</td>\n",
       "      <td>...</td>\n",
       "      <td>ucre</td>\n",
       "      <td>sdk.coin</td>\n",
       "      <td>transfer/channel-6</td>\n",
       "      <td>[channel-6]</td>\n",
       "      <td>crescent-1</td>\n",
       "      <td>channel-39</td>\n",
       "      <td>381340784696825</td>\n",
       "      <td>crescent-1</td>\n",
       "      <td>True</td>\n",
       "      <td>NaN</td>\n",
       "    </tr>\n",
       "    <tr>\n",
       "      <th>3</th>\n",
       "      <td>cronos</td>\n",
       "      <td>cronosmainnet_25-1</td>\n",
       "      <td>ibc/4294C3DB67564CF4A0B2BFACC8415A59B38243F6FF...</td>\n",
       "      <td>ics20</td>\n",
       "      <td>1000000</td>\n",
       "      <td>The native stable token of the Terra Columbus.</td>\n",
       "      <td>[{'denom': 'uusd', 'exponent': 0, 'aliases': [...</td>\n",
       "      <td>usd</td>\n",
       "      <td>USD TERRA</td>\n",
       "      <td>UST</td>\n",
       "      <td>...</td>\n",
       "      <td>uusd</td>\n",
       "      <td>sdk.coin</td>\n",
       "      <td>transfer/channel-2</td>\n",
       "      <td>[channel-2]</td>\n",
       "      <td>columbus-5</td>\n",
       "      <td>channel-22</td>\n",
       "      <td>9795538541181480</td>\n",
       "      <td>columbus-5</td>\n",
       "      <td>True</td>\n",
       "      <td>NaN</td>\n",
       "    </tr>\n",
       "    <tr>\n",
       "      <th>4</th>\n",
       "      <td>cronos</td>\n",
       "      <td>cronosmainnet_25-1</td>\n",
       "      <td>ibc/4DAE26570FD24ABA40E2BE4137E39D946C78B00B24...</td>\n",
       "      <td>ics20</td>\n",
       "      <td>654039873364</td>\n",
       "      <td>NaN</td>\n",
       "      <td>None</td>\n",
       "      <td>NaN</td>\n",
       "      <td>NaN</td>\n",
       "      <td>NaN</td>\n",
       "      <td>...</td>\n",
       "      <td>uakt</td>\n",
       "      <td>sdk.coin</td>\n",
       "      <td>transfer/channel-4</td>\n",
       "      <td>[channel-4]</td>\n",
       "      <td>akashnet-2</td>\n",
       "      <td>channel-40</td>\n",
       "      <td>216862140974846</td>\n",
       "      <td>akashnet-2</td>\n",
       "      <td>True</td>\n",
       "      <td>NaN</td>\n",
       "    </tr>\n",
       "    <tr>\n",
       "      <th>...</th>\n",
       "      <td>...</td>\n",
       "      <td>...</td>\n",
       "      <td>...</td>\n",
       "      <td>...</td>\n",
       "      <td>...</td>\n",
       "      <td>...</td>\n",
       "      <td>...</td>\n",
       "      <td>...</td>\n",
       "      <td>...</td>\n",
       "      <td>...</td>\n",
       "      <td>...</td>\n",
       "      <td>...</td>\n",
       "      <td>...</td>\n",
       "      <td>...</td>\n",
       "      <td>...</td>\n",
       "      <td>...</td>\n",
       "      <td>...</td>\n",
       "      <td>...</td>\n",
       "      <td>...</td>\n",
       "      <td>...</td>\n",
       "      <td>...</td>\n",
       "    </tr>\n",
       "    <tr>\n",
       "      <th>12078</th>\n",
       "      <td>terra2</td>\n",
       "      <td>phoenix-1</td>\n",
       "      <td>cw20:terra17gck626vgax9jpe6utm7dhx4vdzawfkt0jh...</td>\n",
       "      <td>cw20</td>\n",
       "      <td>93000000000000</td>\n",
       "      <td>NaN</td>\n",
       "      <td>[{'denom': 'dust', 'exponent': 6, 'aliases': [...</td>\n",
       "      <td>NaN</td>\n",
       "      <td>Depegged UST</td>\n",
       "      <td>dUST</td>\n",
       "      <td>...</td>\n",
       "      <td>NaN</td>\n",
       "      <td>NaN</td>\n",
       "      <td>NaN</td>\n",
       "      <td>None</td>\n",
       "      <td>NaN</td>\n",
       "      <td>NaN</td>\n",
       "      <td>NaN</td>\n",
       "      <td>NaN</td>\n",
       "      <td>NaN</td>\n",
       "      <td>NaN</td>\n",
       "    </tr>\n",
       "    <tr>\n",
       "      <th>12079</th>\n",
       "      <td>terra2</td>\n",
       "      <td>phoenix-1</td>\n",
       "      <td>cw20:terra17aj4ty4sz4yhgm08na8drc0v03v2jwr3wax...</td>\n",
       "      <td>cw20</td>\n",
       "      <td>1421605133266</td>\n",
       "      <td>NaN</td>\n",
       "      <td>[{'denom': 'bluna', 'exponent': 6, 'aliases': ...</td>\n",
       "      <td>NaN</td>\n",
       "      <td>boneLuna</td>\n",
       "      <td>bLUNA</td>\n",
       "      <td>...</td>\n",
       "      <td>NaN</td>\n",
       "      <td>NaN</td>\n",
       "      <td>NaN</td>\n",
       "      <td>None</td>\n",
       "      <td>NaN</td>\n",
       "      <td>NaN</td>\n",
       "      <td>NaN</td>\n",
       "      <td>NaN</td>\n",
       "      <td>NaN</td>\n",
       "      <td>NaN</td>\n",
       "    </tr>\n",
       "    <tr>\n",
       "      <th>12080</th>\n",
       "      <td>terra2</td>\n",
       "      <td>phoenix-1</td>\n",
       "      <td>cw20:terra1xzkel96e5e8vfmqw7valzdzzv9hqasfyslc...</td>\n",
       "      <td>cw20</td>\n",
       "      <td>6564511713902</td>\n",
       "      <td>NaN</td>\n",
       "      <td>[{'denom': 'local', 'exponent': 6, 'aliases': ...</td>\n",
       "      <td>NaN</td>\n",
       "      <td>Local Terra Token (Wormhole)</td>\n",
       "      <td>LOCAL</td>\n",
       "      <td>...</td>\n",
       "      <td>NaN</td>\n",
       "      <td>NaN</td>\n",
       "      <td>NaN</td>\n",
       "      <td>None</td>\n",
       "      <td>NaN</td>\n",
       "      <td>NaN</td>\n",
       "      <td>NaN</td>\n",
       "      <td>NaN</td>\n",
       "      <td>NaN</td>\n",
       "      <td>NaN</td>\n",
       "    </tr>\n",
       "    <tr>\n",
       "      <th>12081</th>\n",
       "      <td>terra2</td>\n",
       "      <td>phoenix-1</td>\n",
       "      <td>cw20:terra14xsm2wzvu7xaf567r693vgfkhmvfs08l68h...</td>\n",
       "      <td>cw20</td>\n",
       "      <td>351431811321</td>\n",
       "      <td>NaN</td>\n",
       "      <td>[{'denom': 'lunax', 'exponent': 6, 'aliases': ...</td>\n",
       "      <td>NaN</td>\n",
       "      <td>Stader LunaX Token</td>\n",
       "      <td>LunaX</td>\n",
       "      <td>...</td>\n",
       "      <td>NaN</td>\n",
       "      <td>NaN</td>\n",
       "      <td>NaN</td>\n",
       "      <td>None</td>\n",
       "      <td>NaN</td>\n",
       "      <td>NaN</td>\n",
       "      <td>NaN</td>\n",
       "      <td>NaN</td>\n",
       "      <td>NaN</td>\n",
       "      <td>NaN</td>\n",
       "    </tr>\n",
       "    <tr>\n",
       "      <th>12082</th>\n",
       "      <td>terra2</td>\n",
       "      <td>phoenix-1</td>\n",
       "      <td>cw20:terra1xp9hrhthzddnl7j5du83gqqr4wmdjm5t0gu...</td>\n",
       "      <td>cw20</td>\n",
       "      <td>100000000000000</td>\n",
       "      <td>NaN</td>\n",
       "      <td>[{'denom': 'sayve', 'exponent': 6, 'aliases': ...</td>\n",
       "      <td>NaN</td>\n",
       "      <td>Sayve Token</td>\n",
       "      <td>SAYVE</td>\n",
       "      <td>...</td>\n",
       "      <td>NaN</td>\n",
       "      <td>NaN</td>\n",
       "      <td>NaN</td>\n",
       "      <td>None</td>\n",
       "      <td>NaN</td>\n",
       "      <td>NaN</td>\n",
       "      <td>NaN</td>\n",
       "      <td>NaN</td>\n",
       "      <td>NaN</td>\n",
       "      <td>NaN</td>\n",
       "    </tr>\n",
       "  </tbody>\n",
       "</table>\n",
       "<p>12083 rows × 21 columns</p>\n",
       "</div>"
      ],
      "text/plain": [
       "      chain_name            chain_id  \\\n",
       "0         cronos  cronosmainnet_25-1   \n",
       "1         cronos  cronosmainnet_25-1   \n",
       "2         cronos  cronosmainnet_25-1   \n",
       "3         cronos  cronosmainnet_25-1   \n",
       "4         cronos  cronosmainnet_25-1   \n",
       "...          ...                 ...   \n",
       "12078     terra2           phoenix-1   \n",
       "12079     terra2           phoenix-1   \n",
       "12080     terra2           phoenix-1   \n",
       "12081     terra2           phoenix-1   \n",
       "12082     terra2           phoenix-1   \n",
       "\n",
       "                                                   denom type_asset  \\\n",
       "0      ibc/0FD310E1160487D42B93949F1D8955C7EF6D88B1BF...      ics20   \n",
       "1      ibc/11DFDFADE34DCE439BA732EBA5CD8AA804A544BA1E...      ics20   \n",
       "2      ibc/2114969D9A69DD3F8529975297CA38AF474E34305D...      ics20   \n",
       "3      ibc/4294C3DB67564CF4A0B2BFACC8415A59B38243F6FF...      ics20   \n",
       "4      ibc/4DAE26570FD24ABA40E2BE4137E39D946C78B00B24...      ics20   \n",
       "...                                                  ...        ...   \n",
       "12078  cw20:terra17gck626vgax9jpe6utm7dhx4vdzawfkt0jh...       cw20   \n",
       "12079  cw20:terra17aj4ty4sz4yhgm08na8drc0v03v2jwr3wax...       cw20   \n",
       "12080  cw20:terra1xzkel96e5e8vfmqw7valzdzzv9hqasfyslc...       cw20   \n",
       "12081  cw20:terra14xsm2wzvu7xaf567r693vgfkhmvfs08l68h...       cw20   \n",
       "12082  cw20:terra1xp9hrhthzddnl7j5du83gqqr4wmdjm5t0gu...       cw20   \n",
       "\n",
       "                supply                                     description  \\\n",
       "0                    1                                             NaN   \n",
       "1               972901                           Irishub staking token   \n",
       "2                    2                                             NaN   \n",
       "3              1000000  The native stable token of the Terra Columbus.   \n",
       "4         654039873364                                             NaN   \n",
       "...                ...                                             ...   \n",
       "12078   93000000000000                                             NaN   \n",
       "12079    1421605133266                                             NaN   \n",
       "12080    6564511713902                                             NaN   \n",
       "12081     351431811321                                             NaN   \n",
       "12082  100000000000000                                             NaN   \n",
       "\n",
       "                                             denom_units display  \\\n",
       "0                                                   None     NaN   \n",
       "1      [{'denom': 'uiris', 'exponent': 0, 'aliases': ...    iris   \n",
       "2                                                   None     NaN   \n",
       "3      [{'denom': 'uusd', 'exponent': 0, 'aliases': [...     usd   \n",
       "4                                                   None     NaN   \n",
       "...                                                  ...     ...   \n",
       "12078  [{'denom': 'dust', 'exponent': 6, 'aliases': [...     NaN   \n",
       "12079  [{'denom': 'bluna', 'exponent': 6, 'aliases': ...     NaN   \n",
       "12080  [{'denom': 'local', 'exponent': 6, 'aliases': ...     NaN   \n",
       "12081  [{'denom': 'lunax', 'exponent': 6, 'aliases': ...     NaN   \n",
       "12082  [{'denom': 'sayve', 'exponent': 6, 'aliases': ...     NaN   \n",
       "\n",
       "                               name symbol  ...  denom_base type_asset_base  \\\n",
       "0                               NaN    NaN  ...      acanto        sdk.coin   \n",
       "1                               NaN    NaN  ...       uiris        sdk.coin   \n",
       "2                               NaN    NaN  ...        ucre        sdk.coin   \n",
       "3                         USD TERRA    UST  ...        uusd        sdk.coin   \n",
       "4                               NaN    NaN  ...        uakt        sdk.coin   \n",
       "...                             ...    ...  ...         ...             ...   \n",
       "12078                  Depegged UST   dUST  ...         NaN             NaN   \n",
       "12079                      boneLuna  bLUNA  ...         NaN             NaN   \n",
       "12080  Local Terra Token (Wormhole)  LOCAL  ...         NaN             NaN   \n",
       "12081            Stader LunaX Token  LunaX  ...         NaN             NaN   \n",
       "12082                   Sayve Token  SAYVE  ...         NaN             NaN   \n",
       "\n",
       "                     path     channels chain_id_counterparty  \\\n",
       "0      transfer/channel-9  [channel-9]          canto_7700-1   \n",
       "1      transfer/channel-8  [channel-8]             irishub-1   \n",
       "2      transfer/channel-6  [channel-6]            crescent-1   \n",
       "3      transfer/channel-2  [channel-2]            columbus-5   \n",
       "4      transfer/channel-4  [channel-4]            akashnet-2   \n",
       "...                   ...          ...                   ...   \n",
       "12078                 NaN         None                   NaN   \n",
       "12079                 NaN         None                   NaN   \n",
       "12080                 NaN         None                   NaN   \n",
       "12081                 NaN         None                   NaN   \n",
       "12082                 NaN         None                   NaN   \n",
       "\n",
       "      channel_id_counterparty                   supply_base chain_id_base  \\\n",
       "0                  channel-22  1054361629202299185933322532  canto_7700-1   \n",
       "1                  channel-66              2156476910405474     irishub-1   \n",
       "2                  channel-39               381340784696825    crescent-1   \n",
       "3                  channel-22              9795538541181480    columbus-5   \n",
       "4                  channel-40               216862140974846    akashnet-2   \n",
       "...                       ...                           ...           ...   \n",
       "12078                     NaN                           NaN           NaN   \n",
       "12079                     NaN                           NaN           NaN   \n",
       "12080                     NaN                           NaN           NaN   \n",
       "12081                     NaN                           NaN           NaN   \n",
       "12082                     NaN                           NaN           NaN   \n",
       "\n",
       "      one_channel admin  \n",
       "0            True   NaN  \n",
       "1            True   NaN  \n",
       "2            True   NaN  \n",
       "3            True   NaN  \n",
       "4            True   NaN  \n",
       "...           ...   ...  \n",
       "12078         NaN   NaN  \n",
       "12079         NaN   NaN  \n",
       "12080         NaN   NaN  \n",
       "12081         NaN   NaN  \n",
       "12082         NaN   NaN  \n",
       "\n",
       "[12083 rows x 21 columns]"
      ]
     },
     "execution_count": 2,
     "metadata": {},
     "output_type": "execute_result"
    }
   ],
   "source": [
    "assets_df = pd.read_csv('data_csv/all_assets.csv', index_col=0)\n",
    "assets_df['channels'] = assets_df.channels.map(lambda x: ast.literal_eval(x) if type(x) == str else None)\n",
    "assets_df['denom_units'] = assets_df.denom_units.map(\n",
    "    lambda x: ast.literal_eval(x) if type(x) == str else None)\n",
    "assets_df"
   ]
  },
  {
   "cell_type": "markdown",
   "metadata": {
    "collapsed": false
   },
   "source": [
    "## charts"
   ]
  },
  {
   "cell_type": "code",
   "execution_count": 3,
   "metadata": {
    "ExecuteTime": {
     "end_time": "2023-08-11T04:57:03.751934Z",
     "start_time": "2023-08-11T04:57:03.748747Z"
    },
    "collapsed": false,
    "execution": {
     "iopub.execute_input": "2023-08-15T02:19:47.197550Z",
     "iopub.status.busy": "2023-08-15T02:19:47.197287Z",
     "iopub.status.idle": "2023-08-15T02:19:47.202596Z",
     "shell.execute_reply": "2023-08-15T02:19:47.201587Z"
    }
   },
   "outputs": [],
   "source": [
    "def aggregate_pie_plot(assets_df: pd.DataFrame, agg_column: str, n: int = 8, object_name: str = 'items') -> pd.Series:\n",
    "    assets_by_item_row = assets_df.groupby(agg_column)['denom'].agg(np.count_nonzero).sort_values(ascending=False)\n",
    "    assets_by_item = assets_by_item_row.head(n)\n",
    "    if len(assets_by_item_row) > n:\n",
    "        assets_by_item[f'remaining {len(assets_by_item_row) - n:>,} {object_name}<br>'] = sum(assets_by_item_row[n:])\n",
    "    return assets_by_item"
   ]
  },
  {
   "cell_type": "code",
   "execution_count": 4,
   "metadata": {
    "ExecuteTime": {
     "end_time": "2023-08-11T04:57:03.828427Z",
     "start_time": "2023-08-11T04:57:03.753263Z"
    },
    "collapsed": false,
    "execution": {
     "iopub.execute_input": "2023-08-15T02:19:47.206115Z",
     "iopub.status.busy": "2023-08-15T02:19:47.205760Z",
     "iopub.status.idle": "2023-08-15T02:19:47.498136Z",
     "shell.execute_reply": "2023-08-15T02:19:47.496895Z"
    }
   },
   "outputs": [],
   "source": [
    "ASSET_TYPE_DICT = \\\n",
    "    {'ics20': 'IBC (ICS-20)', \n",
    "     'sdk.coin': 'Native', \n",
    "     'pool': 'LP Tokens', \n",
    "     'factory': 'Token Factory', \n",
    "     'cw20': 'CW-20', \n",
    "     'erc20': 'ERC-20'}\n",
    "\n",
    "assets_by_chain = aggregate_pie_plot(assets_df=assets_df, agg_column='chain_name', object_name='chains\\n', n=17)\n",
    "\n",
    "assets_by_type_asset = aggregate_pie_plot(assets_df=assets_df, agg_column='type_asset')\n",
    "assets_by_type_asset.index = assets_by_type_asset.index.map(lambda x: ASSET_TYPE_DICT[x])\n",
    "\n",
    "assets_by_denom_base = aggregate_pie_plot(assets_df=assets_df, agg_column='denom_base', object_name='base denoms\\n', n=6)\n",
    "\n",
    "total_assets = len(assets_df)"
   ]
  },
  {
   "cell_type": "code",
   "execution_count": 5,
   "metadata": {
    "ExecuteTime": {
     "end_time": "2023-08-11T04:57:04.544527Z",
     "start_time": "2023-08-11T04:57:03.831024Z"
    },
    "collapsed": false,
    "execution": {
     "iopub.execute_input": "2023-08-15T02:19:47.503380Z",
     "iopub.status.busy": "2023-08-15T02:19:47.503087Z",
     "iopub.status.idle": "2023-08-15T02:19:48.937987Z",
     "shell.execute_reply": "2023-08-15T02:19:48.936831Z"
    }
   },
   "outputs": [
    {
     "data": {
      "application/vnd.plotly.v1+json": {
       "config": {
        "linkText": "Export to plot.ly",
        "plotlyServerURL": "https://plot.ly",
        "showLink": false
       },
       "data": [
        {
         "domain": {
          "x": [
           0.0,
           1.0
          ],
          "y": [
           0.5700000000000001,
           1.0
          ]
         },
         "hoverinfo": "label+value+percent",
         "hovertemplate": "%{label}<br>%{value:>,} (%{percent:.1%})",
         "labels": [
          "provenance",
          "osmosis",
          "cosmoshub",
          "juno",
          "kujira",
          "gravitybridge",
          "carbon",
          "kava",
          "crescent",
          "evmos",
          "terra",
          "axelar",
          "injective",
          "secretnetwork",
          "terra2",
          "comdex",
          "sifchain",
          "remaining 98 chains\n<br>"
         ],
         "marker": {
          "colors": [
           "#636EFA",
           "#EF553B",
           "#00CC96",
           "#AB63FA",
           "#FFA15A",
           "#19D3F3",
           "#FF6692",
           "#B6E880",
           "#FF97FF",
           "#FECB52"
          ]
         },
         "name": "assets by chains",
         "rotation": -32,
         "sort": false,
         "text": [
          "4,012",
          "2,092",
          "665",
          "438",
          "407",
          "406",
          "299",
          "232",
          "216",
          "214",
          "193",
          "182",
          "173",
          "151",
          "148",
          "137",
          "132",
          "1,986"
         ],
         "textinfo": "label+value+percent",
         "textposition": "outside",
         "texttemplate": " %{label}  %{value:>,} (%{percent:.1%}) ",
         "type": "pie",
         "values": [
          4012,
          2092,
          665,
          438,
          407,
          406,
          299,
          232,
          216,
          214,
          193,
          182,
          173,
          151,
          148,
          137,
          132,
          1986
         ]
        },
        {
         "domain": {
          "x": [
           0.0,
           0.3
          ],
          "y": [
           0.0,
           0.43
          ]
         },
         "hoverinfo": "label+value+percent",
         "hovertemplate": "%{label}<br>%{value:>,} (%{percent:.1%})",
         "labels": [
          "IBC (ICS-20)",
          "Native",
          "LP Tokens",
          "Token Factory",
          "CW-20",
          "ERC-20"
         ],
         "marker": {
          "colors": [
           "#3366CC",
           "#DC3912",
           "#FF9900",
           "#109618",
           "#990099",
           "#0099C6",
           "#DD4477",
           "#66AA00",
           "#B82E2E",
           "#316395"
          ]
         },
         "name": "assets by type",
         "rotation": 91,
         "sort": false,
         "text": [
          "5,498",
          "4,945",
          "1,238",
          "252",
          "81",
          "69"
         ],
         "textinfo": "label+value+percent",
         "textposition": "outside",
         "texttemplate": " %{label}  %{value:>,} (%{percent:.1%}) ",
         "type": "pie",
         "values": [
          5498,
          4945,
          1238,
          252,
          81,
          69
         ]
        },
        {
         "domain": {
          "x": [
           0.7,
           1.0
          ],
          "y": [
           0.0,
           0.43
          ]
         },
         "hoverinfo": "label+value+percent",
         "hovertemplate": "%{label}<br>%{value:>,} (%{percent:.1%})",
         "labels": [
          "uatom",
          "uluna",
          "uusdc",
          "uosmo",
          "uusd",
          "aevmos",
          "remaining 6,814 base denoms\n<br>"
         ],
         "marker": {
          "colors": [
           "rgb(153,153,153)",
           "rgb(247,129,191)",
           "rgb(166,86,40)",
           "rgb(255,255,51)",
           "rgb(255,127,0)",
           "rgb(152,78,163)",
           "rgb(77,175,74)",
           "rgb(55,126,184)",
           "rgb(228,26,28)"
          ]
         },
         "name": "assets by base denoms",
         "rotation": 75,
         "sort": false,
         "text": [
          "411",
          "328",
          "269",
          "220",
          "181",
          "126",
          "10,467"
         ],
         "textinfo": "label+value+percent",
         "textposition": "outside",
         "texttemplate": " %{label}  %{value:>,} (%{percent:.1%}) ",
         "type": "pie",
         "values": [
          411,
          328,
          269,
          220,
          181,
          126,
          10467
         ]
        }
       ],
       "layout": {
        "annotations": [
         {
          "font": {
           "size": 16
          },
          "showarrow": false,
          "text": "Cosmos-SDK Assets by Chains",
          "x": 0.5,
          "xanchor": "center",
          "xref": "paper",
          "y": 1.04,
          "yanchor": "bottom",
          "yref": "paper"
         },
         {
          "font": {
           "size": 16
          },
          "showarrow": false,
          "text": "by Type",
          "x": 0.15,
          "xanchor": "center",
          "xref": "paper",
          "y": 0.37,
          "yanchor": "bottom",
          "yref": "paper"
         },
         {
          "font": {
           "size": 16
          },
          "showarrow": false,
          "text": "by Base Denoms",
          "x": 0.85,
          "xanchor": "center",
          "xref": "paper",
          "y": 0.37,
          "yanchor": "bottom",
          "yref": "paper"
         },
         {
          "showarrow": false,
          "text": "github.com/Snedashkovsky/on-chain-registry",
          "x": -0.3,
          "y": -0.05
         },
         {
          "showarrow": false,
          "text": "updated 2023-08-14",
          "x": 1.25,
          "y": -0.05
         }
        ],
        "autosize": false,
        "font": {
         "family": "Play"
        },
        "height": 850,
        "margin": {
         "b": 0,
         "l": 0,
         "r": 0,
         "t": 80
        },
        "showlegend": false,
        "template": {
         "data": {
          "bar": [
           {
            "error_x": {
             "color": "#2a3f5f"
            },
            "error_y": {
             "color": "#2a3f5f"
            },
            "marker": {
             "line": {
              "color": "white",
              "width": 0.5
             },
             "pattern": {
              "fillmode": "overlay",
              "size": 10,
              "solidity": 0.2
             }
            },
            "type": "bar"
           }
          ],
          "barpolar": [
           {
            "marker": {
             "line": {
              "color": "white",
              "width": 0.5
             },
             "pattern": {
              "fillmode": "overlay",
              "size": 10,
              "solidity": 0.2
             }
            },
            "type": "barpolar"
           }
          ],
          "carpet": [
           {
            "aaxis": {
             "endlinecolor": "#2a3f5f",
             "gridcolor": "#C8D4E3",
             "linecolor": "#C8D4E3",
             "minorgridcolor": "#C8D4E3",
             "startlinecolor": "#2a3f5f"
            },
            "baxis": {
             "endlinecolor": "#2a3f5f",
             "gridcolor": "#C8D4E3",
             "linecolor": "#C8D4E3",
             "minorgridcolor": "#C8D4E3",
             "startlinecolor": "#2a3f5f"
            },
            "type": "carpet"
           }
          ],
          "choropleth": [
           {
            "colorbar": {
             "outlinewidth": 0,
             "ticks": ""
            },
            "type": "choropleth"
           }
          ],
          "contour": [
           {
            "colorbar": {
             "outlinewidth": 0,
             "ticks": ""
            },
            "colorscale": [
             [
              0.0,
              "#0d0887"
             ],
             [
              0.1111111111111111,
              "#46039f"
             ],
             [
              0.2222222222222222,
              "#7201a8"
             ],
             [
              0.3333333333333333,
              "#9c179e"
             ],
             [
              0.4444444444444444,
              "#bd3786"
             ],
             [
              0.5555555555555556,
              "#d8576b"
             ],
             [
              0.6666666666666666,
              "#ed7953"
             ],
             [
              0.7777777777777778,
              "#fb9f3a"
             ],
             [
              0.8888888888888888,
              "#fdca26"
             ],
             [
              1.0,
              "#f0f921"
             ]
            ],
            "type": "contour"
           }
          ],
          "contourcarpet": [
           {
            "colorbar": {
             "outlinewidth": 0,
             "ticks": ""
            },
            "type": "contourcarpet"
           }
          ],
          "heatmap": [
           {
            "colorbar": {
             "outlinewidth": 0,
             "ticks": ""
            },
            "colorscale": [
             [
              0.0,
              "#0d0887"
             ],
             [
              0.1111111111111111,
              "#46039f"
             ],
             [
              0.2222222222222222,
              "#7201a8"
             ],
             [
              0.3333333333333333,
              "#9c179e"
             ],
             [
              0.4444444444444444,
              "#bd3786"
             ],
             [
              0.5555555555555556,
              "#d8576b"
             ],
             [
              0.6666666666666666,
              "#ed7953"
             ],
             [
              0.7777777777777778,
              "#fb9f3a"
             ],
             [
              0.8888888888888888,
              "#fdca26"
             ],
             [
              1.0,
              "#f0f921"
             ]
            ],
            "type": "heatmap"
           }
          ],
          "heatmapgl": [
           {
            "colorbar": {
             "outlinewidth": 0,
             "ticks": ""
            },
            "colorscale": [
             [
              0.0,
              "#0d0887"
             ],
             [
              0.1111111111111111,
              "#46039f"
             ],
             [
              0.2222222222222222,
              "#7201a8"
             ],
             [
              0.3333333333333333,
              "#9c179e"
             ],
             [
              0.4444444444444444,
              "#bd3786"
             ],
             [
              0.5555555555555556,
              "#d8576b"
             ],
             [
              0.6666666666666666,
              "#ed7953"
             ],
             [
              0.7777777777777778,
              "#fb9f3a"
             ],
             [
              0.8888888888888888,
              "#fdca26"
             ],
             [
              1.0,
              "#f0f921"
             ]
            ],
            "type": "heatmapgl"
           }
          ],
          "histogram": [
           {
            "marker": {
             "pattern": {
              "fillmode": "overlay",
              "size": 10,
              "solidity": 0.2
             }
            },
            "type": "histogram"
           }
          ],
          "histogram2d": [
           {
            "colorbar": {
             "outlinewidth": 0,
             "ticks": ""
            },
            "colorscale": [
             [
              0.0,
              "#0d0887"
             ],
             [
              0.1111111111111111,
              "#46039f"
             ],
             [
              0.2222222222222222,
              "#7201a8"
             ],
             [
              0.3333333333333333,
              "#9c179e"
             ],
             [
              0.4444444444444444,
              "#bd3786"
             ],
             [
              0.5555555555555556,
              "#d8576b"
             ],
             [
              0.6666666666666666,
              "#ed7953"
             ],
             [
              0.7777777777777778,
              "#fb9f3a"
             ],
             [
              0.8888888888888888,
              "#fdca26"
             ],
             [
              1.0,
              "#f0f921"
             ]
            ],
            "type": "histogram2d"
           }
          ],
          "histogram2dcontour": [
           {
            "colorbar": {
             "outlinewidth": 0,
             "ticks": ""
            },
            "colorscale": [
             [
              0.0,
              "#0d0887"
             ],
             [
              0.1111111111111111,
              "#46039f"
             ],
             [
              0.2222222222222222,
              "#7201a8"
             ],
             [
              0.3333333333333333,
              "#9c179e"
             ],
             [
              0.4444444444444444,
              "#bd3786"
             ],
             [
              0.5555555555555556,
              "#d8576b"
             ],
             [
              0.6666666666666666,
              "#ed7953"
             ],
             [
              0.7777777777777778,
              "#fb9f3a"
             ],
             [
              0.8888888888888888,
              "#fdca26"
             ],
             [
              1.0,
              "#f0f921"
             ]
            ],
            "type": "histogram2dcontour"
           }
          ],
          "mesh3d": [
           {
            "colorbar": {
             "outlinewidth": 0,
             "ticks": ""
            },
            "type": "mesh3d"
           }
          ],
          "parcoords": [
           {
            "line": {
             "colorbar": {
              "outlinewidth": 0,
              "ticks": ""
             }
            },
            "type": "parcoords"
           }
          ],
          "pie": [
           {
            "automargin": true,
            "type": "pie"
           }
          ],
          "scatter": [
           {
            "fillpattern": {
             "fillmode": "overlay",
             "size": 10,
             "solidity": 0.2
            },
            "type": "scatter"
           }
          ],
          "scatter3d": [
           {
            "line": {
             "colorbar": {
              "outlinewidth": 0,
              "ticks": ""
             }
            },
            "marker": {
             "colorbar": {
              "outlinewidth": 0,
              "ticks": ""
             }
            },
            "type": "scatter3d"
           }
          ],
          "scattercarpet": [
           {
            "marker": {
             "colorbar": {
              "outlinewidth": 0,
              "ticks": ""
             }
            },
            "type": "scattercarpet"
           }
          ],
          "scattergeo": [
           {
            "marker": {
             "colorbar": {
              "outlinewidth": 0,
              "ticks": ""
             }
            },
            "type": "scattergeo"
           }
          ],
          "scattergl": [
           {
            "marker": {
             "colorbar": {
              "outlinewidth": 0,
              "ticks": ""
             }
            },
            "type": "scattergl"
           }
          ],
          "scattermapbox": [
           {
            "marker": {
             "colorbar": {
              "outlinewidth": 0,
              "ticks": ""
             }
            },
            "type": "scattermapbox"
           }
          ],
          "scatterpolar": [
           {
            "marker": {
             "colorbar": {
              "outlinewidth": 0,
              "ticks": ""
             }
            },
            "type": "scatterpolar"
           }
          ],
          "scatterpolargl": [
           {
            "marker": {
             "colorbar": {
              "outlinewidth": 0,
              "ticks": ""
             }
            },
            "type": "scatterpolargl"
           }
          ],
          "scatterternary": [
           {
            "marker": {
             "colorbar": {
              "outlinewidth": 0,
              "ticks": ""
             }
            },
            "type": "scatterternary"
           }
          ],
          "surface": [
           {
            "colorbar": {
             "outlinewidth": 0,
             "ticks": ""
            },
            "colorscale": [
             [
              0.0,
              "#0d0887"
             ],
             [
              0.1111111111111111,
              "#46039f"
             ],
             [
              0.2222222222222222,
              "#7201a8"
             ],
             [
              0.3333333333333333,
              "#9c179e"
             ],
             [
              0.4444444444444444,
              "#bd3786"
             ],
             [
              0.5555555555555556,
              "#d8576b"
             ],
             [
              0.6666666666666666,
              "#ed7953"
             ],
             [
              0.7777777777777778,
              "#fb9f3a"
             ],
             [
              0.8888888888888888,
              "#fdca26"
             ],
             [
              1.0,
              "#f0f921"
             ]
            ],
            "type": "surface"
           }
          ],
          "table": [
           {
            "cells": {
             "fill": {
              "color": "#EBF0F8"
             },
             "line": {
              "color": "white"
             }
            },
            "header": {
             "fill": {
              "color": "#C8D4E3"
             },
             "line": {
              "color": "white"
             }
            },
            "type": "table"
           }
          ]
         },
         "layout": {
          "annotationdefaults": {
           "arrowcolor": "#2a3f5f",
           "arrowhead": 0,
           "arrowwidth": 1
          },
          "autotypenumbers": "strict",
          "coloraxis": {
           "colorbar": {
            "outlinewidth": 0,
            "ticks": ""
           }
          },
          "colorscale": {
           "diverging": [
            [
             0,
             "#8e0152"
            ],
            [
             0.1,
             "#c51b7d"
            ],
            [
             0.2,
             "#de77ae"
            ],
            [
             0.3,
             "#f1b6da"
            ],
            [
             0.4,
             "#fde0ef"
            ],
            [
             0.5,
             "#f7f7f7"
            ],
            [
             0.6,
             "#e6f5d0"
            ],
            [
             0.7,
             "#b8e186"
            ],
            [
             0.8,
             "#7fbc41"
            ],
            [
             0.9,
             "#4d9221"
            ],
            [
             1,
             "#276419"
            ]
           ],
           "sequential": [
            [
             0.0,
             "#0d0887"
            ],
            [
             0.1111111111111111,
             "#46039f"
            ],
            [
             0.2222222222222222,
             "#7201a8"
            ],
            [
             0.3333333333333333,
             "#9c179e"
            ],
            [
             0.4444444444444444,
             "#bd3786"
            ],
            [
             0.5555555555555556,
             "#d8576b"
            ],
            [
             0.6666666666666666,
             "#ed7953"
            ],
            [
             0.7777777777777778,
             "#fb9f3a"
            ],
            [
             0.8888888888888888,
             "#fdca26"
            ],
            [
             1.0,
             "#f0f921"
            ]
           ],
           "sequentialminus": [
            [
             0.0,
             "#0d0887"
            ],
            [
             0.1111111111111111,
             "#46039f"
            ],
            [
             0.2222222222222222,
             "#7201a8"
            ],
            [
             0.3333333333333333,
             "#9c179e"
            ],
            [
             0.4444444444444444,
             "#bd3786"
            ],
            [
             0.5555555555555556,
             "#d8576b"
            ],
            [
             0.6666666666666666,
             "#ed7953"
            ],
            [
             0.7777777777777778,
             "#fb9f3a"
            ],
            [
             0.8888888888888888,
             "#fdca26"
            ],
            [
             1.0,
             "#f0f921"
            ]
           ]
          },
          "colorway": [
           "#636efa",
           "#EF553B",
           "#00cc96",
           "#ab63fa",
           "#FFA15A",
           "#19d3f3",
           "#FF6692",
           "#B6E880",
           "#FF97FF",
           "#FECB52"
          ],
          "font": {
           "color": "#2a3f5f"
          },
          "geo": {
           "bgcolor": "white",
           "lakecolor": "white",
           "landcolor": "white",
           "showlakes": true,
           "showland": true,
           "subunitcolor": "#C8D4E3"
          },
          "hoverlabel": {
           "align": "left"
          },
          "hovermode": "closest",
          "mapbox": {
           "style": "light"
          },
          "paper_bgcolor": "white",
          "plot_bgcolor": "white",
          "polar": {
           "angularaxis": {
            "gridcolor": "#EBF0F8",
            "linecolor": "#EBF0F8",
            "ticks": ""
           },
           "bgcolor": "white",
           "radialaxis": {
            "gridcolor": "#EBF0F8",
            "linecolor": "#EBF0F8",
            "ticks": ""
           }
          },
          "scene": {
           "xaxis": {
            "backgroundcolor": "white",
            "gridcolor": "#DFE8F3",
            "gridwidth": 2,
            "linecolor": "#EBF0F8",
            "showbackground": true,
            "ticks": "",
            "zerolinecolor": "#EBF0F8"
           },
           "yaxis": {
            "backgroundcolor": "white",
            "gridcolor": "#DFE8F3",
            "gridwidth": 2,
            "linecolor": "#EBF0F8",
            "showbackground": true,
            "ticks": "",
            "zerolinecolor": "#EBF0F8"
           },
           "zaxis": {
            "backgroundcolor": "white",
            "gridcolor": "#DFE8F3",
            "gridwidth": 2,
            "linecolor": "#EBF0F8",
            "showbackground": true,
            "ticks": "",
            "zerolinecolor": "#EBF0F8"
           }
          },
          "shapedefaults": {
           "line": {
            "color": "#2a3f5f"
           }
          },
          "ternary": {
           "aaxis": {
            "gridcolor": "#DFE8F3",
            "linecolor": "#A2B1C6",
            "ticks": ""
           },
           "baxis": {
            "gridcolor": "#DFE8F3",
            "linecolor": "#A2B1C6",
            "ticks": ""
           },
           "bgcolor": "white",
           "caxis": {
            "gridcolor": "#DFE8F3",
            "linecolor": "#A2B1C6",
            "ticks": ""
           }
          },
          "title": {
           "x": 0.05
          },
          "xaxis": {
           "automargin": true,
           "gridcolor": "#EBF0F8",
           "linecolor": "#EBF0F8",
           "ticks": "",
           "title": {
            "standoff": 15
           },
           "zerolinecolor": "#EBF0F8",
           "zerolinewidth": 2
          },
          "yaxis": {
           "automargin": true,
           "gridcolor": "#EBF0F8",
           "linecolor": "#EBF0F8",
           "ticks": "",
           "title": {
            "standoff": 15
           },
           "zerolinecolor": "#EBF0F8",
           "zerolinewidth": 2
          }
         }
        },
        "title": {
         "text": "",
         "x": 0.5
        },
        "width": 1000
       }
      },
      "text/html": [
       "<div>                            <div id=\"7285ab36-a047-4dc6-9c0c-fa4e6c94818c\" class=\"plotly-graph-div\" style=\"height:850px; width:1000px;\"></div>            <script type=\"text/javascript\">                require([\"plotly\"], function(Plotly) {                    window.PLOTLYENV=window.PLOTLYENV || {};                                    if (document.getElementById(\"7285ab36-a047-4dc6-9c0c-fa4e6c94818c\")) {                    Plotly.newPlot(                        \"7285ab36-a047-4dc6-9c0c-fa4e6c94818c\",                        [{\"domain\":{\"x\":[0.0,1.0],\"y\":[0.5700000000000001,1.0]},\"hoverinfo\":\"label+value+percent\",\"hovertemplate\":\"%{label}\\u003cbr\\u003e%{value:\\u003e,} (%{percent:.1%})\",\"labels\":[\"provenance\",\"osmosis\",\"cosmoshub\",\"juno\",\"kujira\",\"gravitybridge\",\"carbon\",\"kava\",\"crescent\",\"evmos\",\"terra\",\"axelar\",\"injective\",\"secretnetwork\",\"terra2\",\"comdex\",\"sifchain\",\"remaining 98 chains\\n\\u003cbr\\u003e\"],\"marker\":{\"colors\":[\"#636EFA\",\"#EF553B\",\"#00CC96\",\"#AB63FA\",\"#FFA15A\",\"#19D3F3\",\"#FF6692\",\"#B6E880\",\"#FF97FF\",\"#FECB52\"]},\"name\":\"assets by chains\",\"rotation\":-32,\"sort\":false,\"text\":[\"4,012\",\"2,092\",\"665\",\"438\",\"407\",\"406\",\"299\",\"232\",\"216\",\"214\",\"193\",\"182\",\"173\",\"151\",\"148\",\"137\",\"132\",\"1,986\"],\"textinfo\":\"label+value+percent\",\"textposition\":\"outside\",\"texttemplate\":\" %{label}  %{value:\\u003e,} (%{percent:.1%}) \",\"values\":[4012,2092,665,438,407,406,299,232,216,214,193,182,173,151,148,137,132,1986],\"type\":\"pie\"},{\"domain\":{\"x\":[0.0,0.3],\"y\":[0.0,0.43]},\"hoverinfo\":\"label+value+percent\",\"hovertemplate\":\"%{label}\\u003cbr\\u003e%{value:\\u003e,} (%{percent:.1%})\",\"labels\":[\"IBC (ICS-20)\",\"Native\",\"LP Tokens\",\"Token Factory\",\"CW-20\",\"ERC-20\"],\"marker\":{\"colors\":[\"#3366CC\",\"#DC3912\",\"#FF9900\",\"#109618\",\"#990099\",\"#0099C6\",\"#DD4477\",\"#66AA00\",\"#B82E2E\",\"#316395\"]},\"name\":\"assets by type\",\"rotation\":91,\"sort\":false,\"text\":[\"5,498\",\"4,945\",\"1,238\",\"252\",\"81\",\"69\"],\"textinfo\":\"label+value+percent\",\"textposition\":\"outside\",\"texttemplate\":\" %{label}  %{value:\\u003e,} (%{percent:.1%}) \",\"values\":[5498,4945,1238,252,81,69],\"type\":\"pie\"},{\"domain\":{\"x\":[0.7,1.0],\"y\":[0.0,0.43]},\"hoverinfo\":\"label+value+percent\",\"hovertemplate\":\"%{label}\\u003cbr\\u003e%{value:\\u003e,} (%{percent:.1%})\",\"labels\":[\"uatom\",\"uluna\",\"uusdc\",\"uosmo\",\"uusd\",\"aevmos\",\"remaining 6,814 base denoms\\n\\u003cbr\\u003e\"],\"marker\":{\"colors\":[\"rgb(153,153,153)\",\"rgb(247,129,191)\",\"rgb(166,86,40)\",\"rgb(255,255,51)\",\"rgb(255,127,0)\",\"rgb(152,78,163)\",\"rgb(77,175,74)\",\"rgb(55,126,184)\",\"rgb(228,26,28)\"]},\"name\":\"assets by base denoms\",\"rotation\":75,\"sort\":false,\"text\":[\"411\",\"328\",\"269\",\"220\",\"181\",\"126\",\"10,467\"],\"textinfo\":\"label+value+percent\",\"textposition\":\"outside\",\"texttemplate\":\" %{label}  %{value:\\u003e,} (%{percent:.1%}) \",\"values\":[411,328,269,220,181,126,10467],\"type\":\"pie\"}],                        {\"annotations\":[{\"font\":{\"size\":16},\"showarrow\":false,\"text\":\"Cosmos-SDK Assets by Chains\",\"x\":0.5,\"xanchor\":\"center\",\"xref\":\"paper\",\"y\":1.04,\"yanchor\":\"bottom\",\"yref\":\"paper\"},{\"font\":{\"size\":16},\"showarrow\":false,\"text\":\"by Type\",\"x\":0.15,\"xanchor\":\"center\",\"xref\":\"paper\",\"y\":0.37,\"yanchor\":\"bottom\",\"yref\":\"paper\"},{\"font\":{\"size\":16},\"showarrow\":false,\"text\":\"by Base Denoms\",\"x\":0.85,\"xanchor\":\"center\",\"xref\":\"paper\",\"y\":0.37,\"yanchor\":\"bottom\",\"yref\":\"paper\"},{\"showarrow\":false,\"text\":\"github.com\\u002fSnedashkovsky\\u002fon-chain-registry\",\"x\":-0.3,\"y\":-0.05},{\"showarrow\":false,\"text\":\"updated 2023-08-14\",\"x\":1.25,\"y\":-0.05}],\"autosize\":false,\"font\":{\"family\":\"Play\"},\"height\":850,\"margin\":{\"b\":0,\"l\":0,\"r\":0,\"t\":80},\"showlegend\":false,\"template\":{\"data\":{\"barpolar\":[{\"marker\":{\"line\":{\"color\":\"white\",\"width\":0.5},\"pattern\":{\"fillmode\":\"overlay\",\"size\":10,\"solidity\":0.2}},\"type\":\"barpolar\"}],\"bar\":[{\"error_x\":{\"color\":\"#2a3f5f\"},\"error_y\":{\"color\":\"#2a3f5f\"},\"marker\":{\"line\":{\"color\":\"white\",\"width\":0.5},\"pattern\":{\"fillmode\":\"overlay\",\"size\":10,\"solidity\":0.2}},\"type\":\"bar\"}],\"carpet\":[{\"aaxis\":{\"endlinecolor\":\"#2a3f5f\",\"gridcolor\":\"#C8D4E3\",\"linecolor\":\"#C8D4E3\",\"minorgridcolor\":\"#C8D4E3\",\"startlinecolor\":\"#2a3f5f\"},\"baxis\":{\"endlinecolor\":\"#2a3f5f\",\"gridcolor\":\"#C8D4E3\",\"linecolor\":\"#C8D4E3\",\"minorgridcolor\":\"#C8D4E3\",\"startlinecolor\":\"#2a3f5f\"},\"type\":\"carpet\"}],\"choropleth\":[{\"colorbar\":{\"outlinewidth\":0,\"ticks\":\"\"},\"type\":\"choropleth\"}],\"contourcarpet\":[{\"colorbar\":{\"outlinewidth\":0,\"ticks\":\"\"},\"type\":\"contourcarpet\"}],\"contour\":[{\"colorbar\":{\"outlinewidth\":0,\"ticks\":\"\"},\"colorscale\":[[0.0,\"#0d0887\"],[0.1111111111111111,\"#46039f\"],[0.2222222222222222,\"#7201a8\"],[0.3333333333333333,\"#9c179e\"],[0.4444444444444444,\"#bd3786\"],[0.5555555555555556,\"#d8576b\"],[0.6666666666666666,\"#ed7953\"],[0.7777777777777778,\"#fb9f3a\"],[0.8888888888888888,\"#fdca26\"],[1.0,\"#f0f921\"]],\"type\":\"contour\"}],\"heatmapgl\":[{\"colorbar\":{\"outlinewidth\":0,\"ticks\":\"\"},\"colorscale\":[[0.0,\"#0d0887\"],[0.1111111111111111,\"#46039f\"],[0.2222222222222222,\"#7201a8\"],[0.3333333333333333,\"#9c179e\"],[0.4444444444444444,\"#bd3786\"],[0.5555555555555556,\"#d8576b\"],[0.6666666666666666,\"#ed7953\"],[0.7777777777777778,\"#fb9f3a\"],[0.8888888888888888,\"#fdca26\"],[1.0,\"#f0f921\"]],\"type\":\"heatmapgl\"}],\"heatmap\":[{\"colorbar\":{\"outlinewidth\":0,\"ticks\":\"\"},\"colorscale\":[[0.0,\"#0d0887\"],[0.1111111111111111,\"#46039f\"],[0.2222222222222222,\"#7201a8\"],[0.3333333333333333,\"#9c179e\"],[0.4444444444444444,\"#bd3786\"],[0.5555555555555556,\"#d8576b\"],[0.6666666666666666,\"#ed7953\"],[0.7777777777777778,\"#fb9f3a\"],[0.8888888888888888,\"#fdca26\"],[1.0,\"#f0f921\"]],\"type\":\"heatmap\"}],\"histogram2dcontour\":[{\"colorbar\":{\"outlinewidth\":0,\"ticks\":\"\"},\"colorscale\":[[0.0,\"#0d0887\"],[0.1111111111111111,\"#46039f\"],[0.2222222222222222,\"#7201a8\"],[0.3333333333333333,\"#9c179e\"],[0.4444444444444444,\"#bd3786\"],[0.5555555555555556,\"#d8576b\"],[0.6666666666666666,\"#ed7953\"],[0.7777777777777778,\"#fb9f3a\"],[0.8888888888888888,\"#fdca26\"],[1.0,\"#f0f921\"]],\"type\":\"histogram2dcontour\"}],\"histogram2d\":[{\"colorbar\":{\"outlinewidth\":0,\"ticks\":\"\"},\"colorscale\":[[0.0,\"#0d0887\"],[0.1111111111111111,\"#46039f\"],[0.2222222222222222,\"#7201a8\"],[0.3333333333333333,\"#9c179e\"],[0.4444444444444444,\"#bd3786\"],[0.5555555555555556,\"#d8576b\"],[0.6666666666666666,\"#ed7953\"],[0.7777777777777778,\"#fb9f3a\"],[0.8888888888888888,\"#fdca26\"],[1.0,\"#f0f921\"]],\"type\":\"histogram2d\"}],\"histogram\":[{\"marker\":{\"pattern\":{\"fillmode\":\"overlay\",\"size\":10,\"solidity\":0.2}},\"type\":\"histogram\"}],\"mesh3d\":[{\"colorbar\":{\"outlinewidth\":0,\"ticks\":\"\"},\"type\":\"mesh3d\"}],\"parcoords\":[{\"line\":{\"colorbar\":{\"outlinewidth\":0,\"ticks\":\"\"}},\"type\":\"parcoords\"}],\"pie\":[{\"automargin\":true,\"type\":\"pie\"}],\"scatter3d\":[{\"line\":{\"colorbar\":{\"outlinewidth\":0,\"ticks\":\"\"}},\"marker\":{\"colorbar\":{\"outlinewidth\":0,\"ticks\":\"\"}},\"type\":\"scatter3d\"}],\"scattercarpet\":[{\"marker\":{\"colorbar\":{\"outlinewidth\":0,\"ticks\":\"\"}},\"type\":\"scattercarpet\"}],\"scattergeo\":[{\"marker\":{\"colorbar\":{\"outlinewidth\":0,\"ticks\":\"\"}},\"type\":\"scattergeo\"}],\"scattergl\":[{\"marker\":{\"colorbar\":{\"outlinewidth\":0,\"ticks\":\"\"}},\"type\":\"scattergl\"}],\"scattermapbox\":[{\"marker\":{\"colorbar\":{\"outlinewidth\":0,\"ticks\":\"\"}},\"type\":\"scattermapbox\"}],\"scatterpolargl\":[{\"marker\":{\"colorbar\":{\"outlinewidth\":0,\"ticks\":\"\"}},\"type\":\"scatterpolargl\"}],\"scatterpolar\":[{\"marker\":{\"colorbar\":{\"outlinewidth\":0,\"ticks\":\"\"}},\"type\":\"scatterpolar\"}],\"scatter\":[{\"fillpattern\":{\"fillmode\":\"overlay\",\"size\":10,\"solidity\":0.2},\"type\":\"scatter\"}],\"scatterternary\":[{\"marker\":{\"colorbar\":{\"outlinewidth\":0,\"ticks\":\"\"}},\"type\":\"scatterternary\"}],\"surface\":[{\"colorbar\":{\"outlinewidth\":0,\"ticks\":\"\"},\"colorscale\":[[0.0,\"#0d0887\"],[0.1111111111111111,\"#46039f\"],[0.2222222222222222,\"#7201a8\"],[0.3333333333333333,\"#9c179e\"],[0.4444444444444444,\"#bd3786\"],[0.5555555555555556,\"#d8576b\"],[0.6666666666666666,\"#ed7953\"],[0.7777777777777778,\"#fb9f3a\"],[0.8888888888888888,\"#fdca26\"],[1.0,\"#f0f921\"]],\"type\":\"surface\"}],\"table\":[{\"cells\":{\"fill\":{\"color\":\"#EBF0F8\"},\"line\":{\"color\":\"white\"}},\"header\":{\"fill\":{\"color\":\"#C8D4E3\"},\"line\":{\"color\":\"white\"}},\"type\":\"table\"}]},\"layout\":{\"annotationdefaults\":{\"arrowcolor\":\"#2a3f5f\",\"arrowhead\":0,\"arrowwidth\":1},\"autotypenumbers\":\"strict\",\"coloraxis\":{\"colorbar\":{\"outlinewidth\":0,\"ticks\":\"\"}},\"colorscale\":{\"diverging\":[[0,\"#8e0152\"],[0.1,\"#c51b7d\"],[0.2,\"#de77ae\"],[0.3,\"#f1b6da\"],[0.4,\"#fde0ef\"],[0.5,\"#f7f7f7\"],[0.6,\"#e6f5d0\"],[0.7,\"#b8e186\"],[0.8,\"#7fbc41\"],[0.9,\"#4d9221\"],[1,\"#276419\"]],\"sequential\":[[0.0,\"#0d0887\"],[0.1111111111111111,\"#46039f\"],[0.2222222222222222,\"#7201a8\"],[0.3333333333333333,\"#9c179e\"],[0.4444444444444444,\"#bd3786\"],[0.5555555555555556,\"#d8576b\"],[0.6666666666666666,\"#ed7953\"],[0.7777777777777778,\"#fb9f3a\"],[0.8888888888888888,\"#fdca26\"],[1.0,\"#f0f921\"]],\"sequentialminus\":[[0.0,\"#0d0887\"],[0.1111111111111111,\"#46039f\"],[0.2222222222222222,\"#7201a8\"],[0.3333333333333333,\"#9c179e\"],[0.4444444444444444,\"#bd3786\"],[0.5555555555555556,\"#d8576b\"],[0.6666666666666666,\"#ed7953\"],[0.7777777777777778,\"#fb9f3a\"],[0.8888888888888888,\"#fdca26\"],[1.0,\"#f0f921\"]]},\"colorway\":[\"#636efa\",\"#EF553B\",\"#00cc96\",\"#ab63fa\",\"#FFA15A\",\"#19d3f3\",\"#FF6692\",\"#B6E880\",\"#FF97FF\",\"#FECB52\"],\"font\":{\"color\":\"#2a3f5f\"},\"geo\":{\"bgcolor\":\"white\",\"lakecolor\":\"white\",\"landcolor\":\"white\",\"showlakes\":true,\"showland\":true,\"subunitcolor\":\"#C8D4E3\"},\"hoverlabel\":{\"align\":\"left\"},\"hovermode\":\"closest\",\"mapbox\":{\"style\":\"light\"},\"paper_bgcolor\":\"white\",\"plot_bgcolor\":\"white\",\"polar\":{\"angularaxis\":{\"gridcolor\":\"#EBF0F8\",\"linecolor\":\"#EBF0F8\",\"ticks\":\"\"},\"bgcolor\":\"white\",\"radialaxis\":{\"gridcolor\":\"#EBF0F8\",\"linecolor\":\"#EBF0F8\",\"ticks\":\"\"}},\"scene\":{\"xaxis\":{\"backgroundcolor\":\"white\",\"gridcolor\":\"#DFE8F3\",\"gridwidth\":2,\"linecolor\":\"#EBF0F8\",\"showbackground\":true,\"ticks\":\"\",\"zerolinecolor\":\"#EBF0F8\"},\"yaxis\":{\"backgroundcolor\":\"white\",\"gridcolor\":\"#DFE8F3\",\"gridwidth\":2,\"linecolor\":\"#EBF0F8\",\"showbackground\":true,\"ticks\":\"\",\"zerolinecolor\":\"#EBF0F8\"},\"zaxis\":{\"backgroundcolor\":\"white\",\"gridcolor\":\"#DFE8F3\",\"gridwidth\":2,\"linecolor\":\"#EBF0F8\",\"showbackground\":true,\"ticks\":\"\",\"zerolinecolor\":\"#EBF0F8\"}},\"shapedefaults\":{\"line\":{\"color\":\"#2a3f5f\"}},\"ternary\":{\"aaxis\":{\"gridcolor\":\"#DFE8F3\",\"linecolor\":\"#A2B1C6\",\"ticks\":\"\"},\"baxis\":{\"gridcolor\":\"#DFE8F3\",\"linecolor\":\"#A2B1C6\",\"ticks\":\"\"},\"bgcolor\":\"white\",\"caxis\":{\"gridcolor\":\"#DFE8F3\",\"linecolor\":\"#A2B1C6\",\"ticks\":\"\"}},\"title\":{\"x\":0.05},\"xaxis\":{\"automargin\":true,\"gridcolor\":\"#EBF0F8\",\"linecolor\":\"#EBF0F8\",\"ticks\":\"\",\"title\":{\"standoff\":15},\"zerolinecolor\":\"#EBF0F8\",\"zerolinewidth\":2},\"yaxis\":{\"automargin\":true,\"gridcolor\":\"#EBF0F8\",\"linecolor\":\"#EBF0F8\",\"ticks\":\"\",\"title\":{\"standoff\":15},\"zerolinecolor\":\"#EBF0F8\",\"zerolinewidth\":2}}},\"title\":{\"text\":\"\",\"x\":0.5},\"width\":1000},                        {\"responsive\": true}                    ).then(function(){\n",
       "                            \n",
       "var gd = document.getElementById('7285ab36-a047-4dc6-9c0c-fa4e6c94818c');\n",
       "var x = new MutationObserver(function (mutations, observer) {{\n",
       "        var display = window.getComputedStyle(gd).display;\n",
       "        if (!display || display === 'none') {{\n",
       "            console.log([gd, 'removed!']);\n",
       "            Plotly.purge(gd);\n",
       "            observer.disconnect();\n",
       "        }}\n",
       "}});\n",
       "\n",
       "// Listen for the removal of the full notebook cells\n",
       "var notebookContainer = gd.closest('#notebook-container');\n",
       "if (notebookContainer) {{\n",
       "    x.observe(notebookContainer, {childList: true});\n",
       "}}\n",
       "\n",
       "// Listen for the clearing of the current output cell\n",
       "var outputEl = gd.closest('.output');\n",
       "if (outputEl) {{\n",
       "    x.observe(outputEl, {childList: true});\n",
       "}}\n",
       "\n",
       "                        })                };                });            </script>        </div>"
      ]
     },
     "metadata": {},
     "output_type": "display_data"
    }
   ],
   "source": [
    "fig = make_subplots(\n",
    "    rows=2, \n",
    "    cols=2, \n",
    "    specs=[[{'type': 'pie', 'colspan': 2}, None], \n",
    "           [{'type': 'pie'}, {'type': 'pie'}]],\n",
    "    subplot_titles=('Cosmos-SDK Assets by Chains', 'by Type', 'by Base Denoms'),\n",
    "    horizontal_spacing=0.4,\n",
    "    vertical_spacing=0.14\n",
    ")\n",
    "\n",
    "fig.add_trace(\n",
    "    go.Pie(\n",
    "        labels=list(assets_by_chain.to_dict().keys()), \n",
    "        values=list(assets_by_chain.to_dict().values()),\n",
    "        text=list(assets_by_chain.map('{:>,}'.format).to_dict().values()),\n",
    "        sort=False,\n",
    "        name='assets by chains',\n",
    "        rotation=-32,\n",
    "        marker_colors=px.colors.qualitative.Plotly\n",
    "    ),\n",
    "    row=1, \n",
    "    col=1)\n",
    "\n",
    "fig.add_trace(\n",
    "    go.Pie(\n",
    "        labels=list(assets_by_type_asset.to_dict().keys()), \n",
    "        values=list(assets_by_type_asset.to_dict().values()),\n",
    "        text=list(assets_by_type_asset.map('{:>,}'.format).to_dict().values()),\n",
    "        sort=False,\n",
    "        name='assets by type',\n",
    "        rotation=91,\n",
    "        marker_colors=px.colors.qualitative.G10\n",
    "    ),\n",
    "    row=2, \n",
    "    col=1)\n",
    "fig.add_trace(\n",
    "    go.Pie(\n",
    "        labels=list(assets_by_denom_base.to_dict().keys()), \n",
    "        values=list(assets_by_denom_base.to_dict().values()),\n",
    "        text=list(assets_by_denom_base.map('{:>,}'.format).to_dict().values()),\n",
    "        sort=False,\n",
    "        name='assets by base denoms',\n",
    "        rotation=75,\n",
    "        marker_colors=px.colors.qualitative.Set1_r\n",
    "    ),\n",
    "    row=2, \n",
    "    col=2)\n",
    "fig.update_traces(\n",
    "    textposition='outside', \n",
    "    hoverinfo='label+value+percent',\n",
    "    textinfo='label+value+percent',\n",
    "    texttemplate=' %{label}  %{value:>,} (%{percent:.1%}) ',\n",
    "    hovertemplate='%{label}<br>%{value:>,} (%{percent:.1%})'\n",
    ")\n",
    "fig.update_layout(\n",
    "    height=850, \n",
    "    width=1000, \n",
    "    showlegend=False, \n",
    "    font_family=\"Play\",\n",
    "    title_text='', \n",
    "    title_x=0.5,\n",
    "    template='plotly_white',\n",
    "    autosize=False,\n",
    "    margin = {'l':0,'r':0,'t':80,'b':0}\n",
    ")\n",
    "\n",
    "fig['layout']['annotations'][0]['y'] = 1.04\n",
    "fig['layout']['annotations'][1]['y'] = 0.37\n",
    "fig['layout']['annotations'][2]['y'] = 0.37\n",
    "\n",
    "fig.add_annotation(\n",
    "    x=-0.3, \n",
    "    y=-0.05,\n",
    "    text=f'github.com/Snedashkovsky/on-chain-registry',\n",
    "    showarrow=False)\n",
    "fig.add_annotation(\n",
    "    x=1.25, \n",
    "    y=-0.05,\n",
    "    text=f'updated {date.today()}',\n",
    "    showarrow=False)\n",
    "\n",
    "fig.write_image('charts/charts.png', scale=1.5)\n",
    "fig.write_html('charts/index.html', include_plotlyjs='cdn')\n",
    "iplot(fig)"
   ]
  },
  {
   "cell_type": "markdown",
   "metadata": {
    "collapsed": false
   },
   "source": [
    "## contract query"
   ]
  },
  {
   "cell_type": "code",
   "execution_count": 6,
   "metadata": {
    "ExecuteTime": {
     "end_time": "2023-08-11T04:57:05.927520Z",
     "start_time": "2023-08-11T04:57:04.542623Z"
    },
    "collapsed": false,
    "execution": {
     "iopub.execute_input": "2023-08-15T02:19:48.945160Z",
     "iopub.status.busy": "2023-08-15T02:19:48.944713Z",
     "iopub.status.idle": "2023-08-15T02:19:49.727455Z",
     "shell.execute_reply": "2023-08-15T02:19:49.726612Z"
    }
   },
   "outputs": [
    {
     "name": "stdout",
     "output_type": "stream",
     "text": [
      "{'data': {'assets': [{'address': None,\n",
      "                      'admin': None,\n",
      "                      'base': 'boot',\n",
      "                      'chain_id': 'bostrom',\n",
      "                      'chain_name': 'bostrom',\n",
      "                      'coingecko_id': None,\n",
      "                      'denom_units': [{'aliases': ['BOOT'],\n",
      "                                       'denom': 'boot',\n",
      "                                       'exponent': 0}],\n",
      "                      'description': 'The staking token of Bostrom',\n",
      "                      'display': 'boot',\n",
      "                      'ibc': None,\n",
      "                      'images': None,\n",
      "                      'keywords': None,\n",
      "                      'logo_uris': None,\n",
      "                      'name': 'Bostrom Boot',\n",
      "                      'supply': '1158475452217431',\n",
      "                      'symbol': 'BOOT',\n",
      "                      'traces': None,\n",
      "                      'type_asset': 'sdk.coin'},\n",
      "                     {'address': None,\n",
      "                      'admin': None,\n",
      "                      'base': 'hydrogen',\n",
      "                      'chain_id': 'bostrom',\n",
      "                      'chain_name': 'bostrom',\n",
      "                      'coingecko_id': None,\n",
      "                      'denom_units': [{'aliases': ['HYDROGEN'],\n",
      "                                       'denom': 'hydrogen',\n",
      "                                       'exponent': 0}],\n",
      "                      'description': 'The liquid staking token of Bostrom',\n",
      "                      'display': 'hydrogen',\n",
      "                      'ibc': None,\n",
      "                      'images': None,\n",
      "                      'keywords': None,\n",
      "                      'logo_uris': None,\n",
      "                      'name': 'Bostrom Hydrogen',\n",
      "                      'supply': '300812045758979',\n",
      "                      'symbol': 'HYDROGEN',\n",
      "                      'traces': None,\n",
      "                      'type_asset': 'sdk.coin'},\n",
      "                     {'address': None,\n",
      "                      'admin': None,\n",
      "                      'base': 'ibc/13B2C536BB057AC79D5616B8EA1B9540EC1F2170718CAFF6F0083C966FFFED0B',\n",
      "                      'chain_id': 'bostrom',\n",
      "                      'chain_name': 'bostrom',\n",
      "                      'coingecko_id': None,\n",
      "                      'denom_units': [{'aliases': [],\n",
      "                                       'denom': 'uosmo',\n",
      "                                       'exponent': 0},\n",
      "                                      {'aliases': [],\n",
      "                                       'denom': 'osmo',\n",
      "                                       'exponent': 6}],\n",
      "                      'description': 'The native token of Osmosis',\n",
      "                      'display': 'osmo',\n",
      "                      'ibc': {'base_supply': None,\n",
      "                              'dst_channel': 'channel-95',\n",
      "                              'source_channel': 'channel-2',\n",
      "                              'source_denom': 'uosmo'},\n",
      "                      'images': None,\n",
      "                      'keywords': None,\n",
      "                      'logo_uris': None,\n",
      "                      'name': None,\n",
      "                      'supply': '56134556738',\n",
      "                      'symbol': None,\n",
      "                      'traces': [{'chain': {'channel_id': 'channel-2',\n",
      "                                            'path': 'transfer/channel-2/uosmo',\n",
      "                                            'port': None},\n",
      "                                  'counterparty': {'base_denom': 'uosmo',\n",
      "                                                   'base_supply': '610390819862917',\n",
      "                                                   'chain_id': 'osmosis-1',\n",
      "                                                   'chain_name': 'osmosis',\n",
      "                                                   'channel_id': 'channel-95',\n",
      "                                                   'contract': None,\n",
      "                                                   'port': None},\n",
      "                                  'provider': None,\n",
      "                                  'trace_type': 'ibc'}],\n",
      "                      'type_asset': 'ics20'},\n",
      "                     {'address': None,\n",
      "                      'admin': None,\n",
      "                      'base': 'ibc/15E9C5CF5969080539DB395FA7D9C0868265217EFC528433671AAF9B1912D159',\n",
      "                      'chain_id': 'bostrom',\n",
      "                      'chain_name': 'bostrom',\n",
      "                      'coingecko_id': None,\n",
      "                      'denom_units': [{'aliases': ['microatom'],\n",
      "                                       'denom': 'uatom',\n",
      "                                       'exponent': 0},\n",
      "                                      {'aliases': ['milliatom'],\n",
      "                                       'denom': 'matom',\n",
      "                                       'exponent': 3},\n",
      "                                      {'aliases': [],\n",
      "                                       'denom': 'atom',\n",
      "                                       'exponent': 6}],\n",
      "                      'description': 'The native staking token of the Cosmos '\n",
      "                                     'Hub.',\n",
      "                      'display': 'atom',\n",
      "                      'ibc': {'base_supply': None,\n",
      "                              'dst_channel': 'channel-341',\n",
      "                              'source_channel': 'channel-8',\n",
      "                              'source_denom': 'uatom'},\n",
      "                      'images': None,\n",
      "                      'keywords': None,\n",
      "                      'logo_uris': None,\n",
      "                      'name': 'Cosmos Hub Atom',\n",
      "                      'supply': '13044047777',\n",
      "                      'symbol': 'ATOM',\n",
      "                      'traces': [{'chain': {'channel_id': 'channel-8',\n",
      "                                            'path': 'transfer/channel-8/uatom',\n",
      "                                            'port': None},\n",
      "                                  'counterparty': {'base_denom': 'uatom',\n",
      "                                                   'base_supply': '359203360387796',\n",
      "                                                   'chain_id': 'cosmoshub-4',\n",
      "                                                   'chain_name': 'cosmoshub',\n",
      "                                                   'channel_id': 'channel-341',\n",
      "                                                   'contract': None,\n",
      "                                                   'port': None},\n",
      "                                  'provider': None,\n",
      "                                  'trace_type': 'ibc'}],\n",
      "                      'type_asset': 'ics20'},\n",
      "                     {'address': None,\n",
      "                      'admin': None,\n",
      "                      'base': 'ibc/1DE3244B072A8939517C17C7B679F3B735B2D9AA6BE91CF5B04D01B645B33701',\n",
      "                      'chain_id': 'bostrom',\n",
      "                      'chain_name': 'bostrom',\n",
      "                      'coingecko_id': None,\n",
      "                      'denom_units': None,\n",
      "                      'description': None,\n",
      "                      'display': None,\n",
      "                      'ibc': None,\n",
      "                      'images': None,\n",
      "                      'keywords': None,\n",
      "                      'logo_uris': None,\n",
      "                      'name': None,\n",
      "                      'supply': '100000',\n",
      "                      'symbol': None,\n",
      "                      'traces': None,\n",
      "                      'type_asset': 'ics20'},\n",
      "                     {'address': None,\n",
      "                      'admin': None,\n",
      "                      'base': 'ibc/29FC7F418F1EFB5DAB3DD089AADA1FE406DC78633BFF3D3E2B3D767368AC083D',\n",
      "                      'chain_id': 'bostrom',\n",
      "                      'chain_name': 'bostrom',\n",
      "                      'coingecko_id': None,\n",
      "                      'denom_units': [{'aliases': [],\n",
      "                                       'denom': 'milliampere',\n",
      "                                       'exponent': 0},\n",
      "                                      {'aliases': ['AMPERE'],\n",
      "                                       'denom': 'ampere',\n",
      "                                       'exponent': 3}],\n",
      "                      'description': 'The power token of Space-pussy',\n",
      "                      'display': 'ampere',\n",
      "                      'ibc': {'base_supply': None,\n",
      "                              'dst_channel': 'channel-0',\n",
      "                              'source_channel': 'channel-11',\n",
      "                              'source_denom': 'milliampere'},\n",
      "                      'images': None,\n",
      "                      'keywords': None,\n",
      "                      'logo_uris': None,\n",
      "                      'name': 'Space-pussy Ampere',\n",
      "                      'supply': '160000',\n",
      "                      'symbol': 'AMPERE',\n",
      "                      'traces': [{'chain': {'channel_id': 'channel-11',\n",
      "                                            'path': 'transfer/channel-11/milliampere',\n",
      "                                            'port': None},\n",
      "                                  'counterparty': {'base_denom': 'milliampere',\n",
      "                                                   'base_supply': '309031950582',\n",
      "                                                   'chain_id': 'space-pussy',\n",
      "                                                   'chain_name': 'space-pussy',\n",
      "                                                   'channel_id': 'channel-0',\n",
      "                                                   'contract': None,\n",
      "                                                   'port': None},\n",
      "                                  'provider': None,\n",
      "                                  'trace_type': 'ibc'}],\n",
      "                      'type_asset': 'ics20'},\n",
      "                     {'address': None,\n",
      "                      'admin': None,\n",
      "                      'base': 'ibc/32C4CC556FB73E889DF1A7836A29951F1087525240FF9EEF6AEB616A83C6C9AC',\n",
      "                      'chain_id': 'bostrom',\n",
      "                      'chain_name': 'bostrom',\n",
      "                      'coingecko_id': None,\n",
      "                      'denom_units': None,\n",
      "                      'description': None,\n",
      "                      'display': None,\n",
      "                      'ibc': None,\n",
      "                      'images': None,\n",
      "                      'keywords': None,\n",
      "                      'logo_uris': None,\n",
      "                      'name': None,\n",
      "                      'supply': '599900',\n",
      "                      'symbol': None,\n",
      "                      'traces': None,\n",
      "                      'type_asset': 'ics20'},\n",
      "                     {'address': None,\n",
      "                      'admin': None,\n",
      "                      'base': 'ibc/3554989531C7DB295D548F373FE93205215CAC2820A62D748E5A3703044D481E',\n",
      "                      'chain_id': 'bostrom',\n",
      "                      'chain_name': 'bostrom',\n",
      "                      'coingecko_id': None,\n",
      "                      'denom_units': [{'aliases': ['ugrav'],\n",
      "                                       'denom': 'ugraviton',\n",
      "                                       'exponent': 0},\n",
      "                                      {'aliases': ['grav'],\n",
      "                                       'denom': 'graviton',\n",
      "                                       'exponent': 6}],\n",
      "                      'description': 'The native staking token of the Gravity '\n",
      "                                     'Bridge Blockchain',\n",
      "                      'display': 'graviton',\n",
      "                      'ibc': {'base_supply': None,\n",
      "                              'dst_channel': 'channel-33',\n",
      "                              'source_channel': 'channel-6',\n",
      "                              'source_denom': 'ugraviton'},\n",
      "                      'images': None,\n",
      "                      'keywords': None,\n",
      "                      'logo_uris': None,\n",
      "                      'name': 'Graviton',\n",
      "                      'supply': '4000000',\n",
      "                      'symbol': 'GRAV',\n",
      "                      'traces': [{'chain': {'channel_id': 'channel-6',\n",
      "                                            'path': 'transfer/channel-6/ugraviton',\n",
      "                                            'port': None},\n",
      "                                  'counterparty': {'base_denom': 'ugraviton',\n",
      "                                                   'base_supply': '2578387101541633',\n",
      "                                                   'chain_id': 'gravity-bridge-3',\n",
      "                                                   'chain_name': 'gravitybridge',\n",
      "                                                   'channel_id': 'channel-33',\n",
      "                                                   'contract': None,\n",
      "                                                   'port': None},\n",
      "                                  'provider': None,\n",
      "                                  'trace_type': 'ibc'}],\n",
      "                      'type_asset': 'ics20'},\n",
      "                     {'address': None,\n",
      "                      'admin': None,\n",
      "                      'base': 'ibc/40A19DA7BB2E2275ABC84D0823D6C30E6F49FF541E111395A97CFA019BFED6CA',\n",
      "                      'chain_id': 'bostrom',\n",
      "                      'chain_name': 'bostrom',\n",
      "                      'coingecko_id': None,\n",
      "                      'denom_units': None,\n",
      "                      'description': None,\n",
      "                      'display': None,\n",
      "                      'ibc': None,\n",
      "                      'images': None,\n",
      "                      'keywords': None,\n",
      "                      'logo_uris': None,\n",
      "                      'name': None,\n",
      "                      'supply': '558975',\n",
      "                      'symbol': None,\n",
      "                      'traces': None,\n",
      "                      'type_asset': 'ics20'},\n",
      "                     {'address': None,\n",
      "                      'admin': None,\n",
      "                      'base': 'ibc/43DB7553C43D81CB01E9A2644B49A241314B482C2E56F86E85A6539C60383151',\n",
      "                      'chain_id': 'bostrom',\n",
      "                      'chain_name': 'bostrom',\n",
      "                      'coingecko_id': None,\n",
      "                      'denom_units': [{'aliases': ['PUSSY'],\n",
      "                                       'denom': 'pussy',\n",
      "                                       'exponent': 0}],\n",
      "                      'description': 'The staking token of space-pussy',\n",
      "                      'display': 'pussy',\n",
      "                      'ibc': {'base_supply': None,\n",
      "                              'dst_channel': 'channel-0',\n",
      "                              'source_channel': 'channel-11',\n",
      "                              'source_denom': 'pussy'},\n",
      "                      'images': None,\n",
      "                      'keywords': None,\n",
      "                      'logo_uris': None,\n",
      "                      'name': 'Pussy token',\n",
      "                      'supply': '895432112886795',\n",
      "                      'symbol': 'PUSSY',\n",
      "                      'traces': [{'chain': {'channel_id': 'channel-11',\n",
      "                                            'path': 'transfer/channel-11/pussy',\n",
      "                                            'port': None},\n",
      "                                  'counterparty': {'base_denom': 'pussy',\n",
      "                                                   'base_supply': '1021686517094791964',\n",
      "                                                   'chain_id': 'space-pussy',\n",
      "                                                   'chain_name': 'space-pussy',\n",
      "                                                   'channel_id': 'channel-0',\n",
      "                                                   'contract': None,\n",
      "                                                   'port': None},\n",
      "                                  'provider': None,\n",
      "                                  'trace_type': 'ibc'}],\n",
      "                      'type_asset': 'ics20'},\n",
      "                     {'address': None,\n",
      "                      'admin': None,\n",
      "                      'base': 'ibc/47160B934644DED2F8E605B0521C6CC06F75A0465D8B7F2846A318B3B45D4834',\n",
      "                      'chain_id': 'bostrom',\n",
      "                      'chain_name': 'bostrom',\n",
      "                      'coingecko_id': None,\n",
      "                      'denom_units': [{'aliases': [],\n",
      "                                       'denom': 'millivolt',\n",
      "                                       'exponent': 0},\n",
      "                                      {'aliases': ['VOLT'],\n",
      "                                       'denom': 'volt',\n",
      "                                       'exponent': 3}],\n",
      "                      'description': 'The bandwidth token of Space-pussy',\n",
      "                      'display': 'volt',\n",
      "                      'ibc': {'base_supply': None,\n",
      "                              'dst_channel': 'channel-0',\n",
      "                              'source_channel': 'channel-11',\n",
      "                              'source_denom': 'millivolt'},\n",
      "                      'images': None,\n",
      "                      'keywords': None,\n",
      "                      'logo_uris': None,\n",
      "                      'name': 'Space-pussy Volt',\n",
      "                      'supply': '35149',\n",
      "                      'symbol': 'VOLT',\n",
      "                      'traces': [{'chain': {'channel_id': 'channel-11',\n",
      "                                            'path': 'transfer/channel-11/millivolt',\n",
      "                                            'port': None},\n",
      "                                  'counterparty': {'base_denom': 'millivolt',\n",
      "                                                   'base_supply': '65139817317',\n",
      "                                                   'chain_id': 'space-pussy',\n",
      "                                                   'chain_name': 'space-pussy',\n",
      "                                                   'channel_id': 'channel-0',\n",
      "                                                   'contract': None,\n",
      "                                                   'port': None},\n",
      "                                  'provider': None,\n",
      "                                  'trace_type': 'ibc'}],\n",
      "                      'type_asset': 'ics20'},\n",
      "                     {'address': None,\n",
      "                      'admin': None,\n",
      "                      'base': 'ibc/4B322204B4F59D770680FE4D7A565DDC3F37BFF035474B717476C66A4F83DD72',\n",
      "                      'chain_id': 'bostrom',\n",
      "                      'chain_name': 'bostrom',\n",
      "                      'coingecko_id': None,\n",
      "                      'denom_units': [{'aliases': ['attoevmos'],\n",
      "                                       'denom': 'aevmos',\n",
      "                                       'exponent': 0},\n",
      "                                      {'aliases': [],\n",
      "                                       'denom': 'evmos',\n",
      "                                       'exponent': 18}],\n",
      "                      'description': 'The native EVM, governance and staking '\n",
      "                                     'token of the Evmos Hub',\n",
      "                      'display': 'evmos',\n",
      "                      'ibc': {'base_supply': None,\n",
      "                              'dst_channel': 'channel-19',\n",
      "                              'source_channel': 'channel-9',\n",
      "                              'source_denom': 'aevmos'},\n",
      "                      'images': None,\n",
      "                      'keywords': None,\n",
      "                      'logo_uris': None,\n",
      "                      'name': 'Evmos',\n",
      "                      'supply': '235799273989001301706',\n",
      "                      'symbol': 'EVMOS',\n",
      "                      'traces': [{'chain': {'channel_id': 'channel-9',\n",
      "                                            'path': 'transfer/channel-9/aevmos',\n",
      "                                            'port': None},\n",
      "                                  'counterparty': {'base_denom': 'aevmos',\n",
      "                                                   'base_supply': '748629102985588044020285724',\n",
      "                                                   'chain_id': 'evmos_9001-2',\n",
      "                                                   'chain_name': 'evmos',\n",
      "                                                   'channel_id': 'channel-19',\n",
      "                                                   'contract': None,\n",
      "                                                   'port': None},\n",
      "                                  'provider': None,\n",
      "                                  'trace_type': 'ibc'}],\n",
      "                      'type_asset': 'ics20'},\n",
      "                     {'address': None,\n",
      "                      'admin': None,\n",
      "                      'base': 'ibc/5711BC92C095B0A50F0E7F6684ABD5CABB6EE93F0096ED3A84952C0C73C94719',\n",
      "                      'chain_id': 'bostrom',\n",
      "                      'chain_name': 'bostrom',\n",
      "                      'coingecko_id': None,\n",
      "                      'denom_units': None,\n",
      "                      'description': None,\n",
      "                      'display': None,\n",
      "                      'ibc': None,\n",
      "                      'images': None,\n",
      "                      'keywords': None,\n",
      "                      'logo_uris': None,\n",
      "                      'name': None,\n",
      "                      'supply': '10000',\n",
      "                      'symbol': None,\n",
      "                      'traces': None,\n",
      "                      'type_asset': 'ics20'},\n",
      "                     {'address': None,\n",
      "                      'admin': None,\n",
      "                      'base': 'ibc/5F78C42BCC76287AE6B3185C6C1455DFFF8D805B1847F94B9B625384B93885C7',\n",
      "                      'chain_id': 'bostrom',\n",
      "                      'chain_name': 'bostrom',\n",
      "                      'coingecko_id': None,\n",
      "                      'denom_units': None,\n",
      "                      'description': None,\n",
      "                      'display': None,\n",
      "                      'ibc': None,\n",
      "                      'images': None,\n",
      "                      'keywords': None,\n",
      "                      'logo_uris': None,\n",
      "                      'name': None,\n",
      "                      'supply': '150000',\n",
      "                      'symbol': None,\n",
      "                      'traces': None,\n",
      "                      'type_asset': 'ics20'},\n",
      "                     {'address': None,\n",
      "                      'admin': None,\n",
      "                      'base': 'ibc/8D9262E35CAE362FA74AE05E430550757CF8D842EC1B241F645D3CB7179AFD10',\n",
      "                      'chain_id': 'bostrom',\n",
      "                      'chain_name': 'bostrom',\n",
      "                      'coingecko_id': None,\n",
      "                      'denom_units': None,\n",
      "                      'description': None,\n",
      "                      'display': None,\n",
      "                      'ibc': {'base_supply': None,\n",
      "                              'dst_channel': 'channel-93',\n",
      "                              'source_channel': 'channel-10',\n",
      "                              'source_denom': 'ujuno'},\n",
      "                      'images': None,\n",
      "                      'keywords': None,\n",
      "                      'logo_uris': None,\n",
      "                      'name': None,\n",
      "                      'supply': '4356360142',\n",
      "                      'symbol': None,\n",
      "                      'traces': [{'chain': {'channel_id': 'channel-10',\n",
      "                                            'path': 'transfer/channel-10/ujuno',\n",
      "                                            'port': None},\n",
      "                                  'counterparty': {'base_denom': 'ujuno',\n",
      "                                                   'base_supply': '105977047469615',\n",
      "                                                   'chain_id': 'juno-1',\n",
      "                                                   'chain_name': 'juno',\n",
      "                                                   'channel_id': 'channel-93',\n",
      "                                                   'contract': None,\n",
      "                                                   'port': None},\n",
      "                                  'provider': None,\n",
      "                                  'trace_type': 'ibc'}],\n",
      "                      'type_asset': 'ics20'},\n",
      "                     {'address': None,\n",
      "                      'admin': None,\n",
      "                      'base': 'ibc/913F49D47DDB9DD8FD4E846E6522822AF9F99C5FFBDD4330908E6977706ED97C',\n",
      "                      'chain_id': 'bostrom',\n",
      "                      'chain_name': 'bostrom',\n",
      "                      'coingecko_id': None,\n",
      "                      'denom_units': None,\n",
      "                      'description': None,\n",
      "                      'display': None,\n",
      "                      'ibc': None,\n",
      "                      'images': None,\n",
      "                      'keywords': None,\n",
      "                      'logo_uris': None,\n",
      "                      'name': None,\n",
      "                      'supply': '42',\n",
      "                      'symbol': None,\n",
      "                      'traces': None,\n",
      "                      'type_asset': 'ics20'},\n",
      "                     {'address': None,\n",
      "                      'admin': None,\n",
      "                      'base': 'ibc/9B45B8C514B76D792BEC4850AE601E0E73CE7D307A567F34038432FC80D74780',\n",
      "                      'chain_id': 'bostrom',\n",
      "                      'chain_name': 'bostrom',\n",
      "                      'coingecko_id': None,\n",
      "                      'denom_units': [{'aliases': ['LIQUIDPUSSY'],\n",
      "                                       'denom': 'liquidpussy',\n",
      "                                       'exponent': 0}],\n",
      "                      'description': 'The liquid staking token of Space-pussy',\n",
      "                      'display': 'liquidpussy',\n",
      "                      'ibc': {'base_supply': None,\n",
      "                              'dst_channel': 'channel-0',\n",
      "                              'source_channel': 'channel-11',\n",
      "                              'source_denom': 'liquidpussy'},\n",
      "                      'images': None,\n",
      "                      'keywords': None,\n",
      "                      'logo_uris': None,\n",
      "                      'name': 'liquidpussy',\n",
      "                      'supply': '1331780908116926',\n",
      "                      'symbol': 'LIQUIDPUSSY',\n",
      "                      'traces': [{'chain': {'channel_id': 'channel-11',\n",
      "                                            'path': 'transfer/channel-11/liquidpussy',\n",
      "                                            'port': None},\n",
      "                                  'counterparty': {'base_denom': 'liquidpussy',\n",
      "                                                   'base_supply': '47237754640949711',\n",
      "                                                   'chain_id': 'space-pussy',\n",
      "                                                   'chain_name': 'space-pussy',\n",
      "                                                   'channel_id': 'channel-0',\n",
      "                                                   'contract': None,\n",
      "                                                   'port': None},\n",
      "                                  'provider': None,\n",
      "                                  'trace_type': 'ibc'}],\n",
      "                      'type_asset': 'ics20'},\n",
      "                     {'address': None,\n",
      "                      'admin': None,\n",
      "                      'base': 'ibc/B35B29C176E29BD9C348F72FA4DCF2AB68BB38085584EEC46ED0E1EBED8DB53D',\n",
      "                      'chain_id': 'bostrom',\n",
      "                      'chain_name': 'bostrom',\n",
      "                      'coingecko_id': None,\n",
      "                      'denom_units': None,\n",
      "                      'description': None,\n",
      "                      'display': None,\n",
      "                      'ibc': None,\n",
      "                      'images': None,\n",
      "                      'keywords': None,\n",
      "                      'logo_uris': None,\n",
      "                      'name': None,\n",
      "                      'supply': '10',\n",
      "                      'symbol': None,\n",
      "                      'traces': None,\n",
      "                      'type_asset': 'ics20'},\n",
      "                     {'address': None,\n",
      "                      'admin': None,\n",
      "                      'base': 'ibc/B6CAD3F7469F3FAD18ED2230A6C7B15E654AB2E1B66E1C70879C04FEF874A863',\n",
      "                      'chain_id': 'bostrom',\n",
      "                      'chain_name': 'bostrom',\n",
      "                      'coingecko_id': None,\n",
      "                      'denom_units': None,\n",
      "                      'description': None,\n",
      "                      'display': None,\n",
      "                      'ibc': {'base_supply': None,\n",
      "                              'dst_channel': 'channel-103',\n",
      "                              'source_channel': 'channel-12',\n",
      "                              'source_denom': 'gravity0xC02aaA39b223FE8D0A0e5C4F27eAD9083C756Cc2'},\n",
      "                      'images': None,\n",
      "                      'keywords': None,\n",
      "                      'logo_uris': None,\n",
      "                      'name': None,\n",
      "                      'supply': '23539578964355113762',\n",
      "                      'symbol': None,\n",
      "                      'traces': None,\n",
      "                      'type_asset': 'ics20'},\n",
      "                     {'address': None,\n",
      "                      'admin': None,\n",
      "                      'base': 'ibc/BA313C4A19DFBF943586C0387E6B11286F9E416B4DD27574E6909CABE0E342FA',\n",
      "                      'chain_id': 'bostrom',\n",
      "                      'chain_name': 'bostrom',\n",
      "                      'coingecko_id': None,\n",
      "                      'denom_units': [{'aliases': ['microatom'],\n",
      "                                       'denom': 'uatom',\n",
      "                                       'exponent': 0},\n",
      "                                      {'aliases': ['milliatom'],\n",
      "                                       'denom': 'matom',\n",
      "                                       'exponent': 3},\n",
      "                                      {'aliases': [],\n",
      "                                       'denom': 'atom',\n",
      "                                       'exponent': 6}],\n",
      "                      'description': 'The native staking token of the Cosmos '\n",
      "                                     'Hub.',\n",
      "                      'display': 'atom',\n",
      "                      'ibc': {'base_supply': None,\n",
      "                              'dst_channel': 'channel-240',\n",
      "                              'source_channel': 'channel-5',\n",
      "                              'source_denom': 'uatom'},\n",
      "                      'images': None,\n",
      "                      'keywords': None,\n",
      "                      'logo_uris': None,\n",
      "                      'name': 'Cosmos Hub Atom',\n",
      "                      'supply': '226734246',\n",
      "                      'symbol': 'ATOM',\n",
      "                      'traces': [{'chain': {'channel_id': 'channel-5',\n",
      "                                            'path': 'transfer/channel-5/uatom',\n",
      "                                            'port': None},\n",
      "                                  'counterparty': {'base_denom': 'uatom',\n",
      "                                                   'base_supply': '359203360387796',\n",
      "                                                   'chain_id': 'cosmoshub-4',\n",
      "                                                   'chain_name': 'cosmoshub',\n",
      "                                                   'channel_id': 'channel-240',\n",
      "                                                   'contract': None,\n",
      "                                                   'port': None},\n",
      "                                  'provider': None,\n",
      "                                  'trace_type': 'ibc'}],\n",
      "                      'type_asset': 'ics20'},\n",
      "                     {'address': None,\n",
      "                      'admin': None,\n",
      "                      'base': 'ibc/C23D820C5B6009E544AFC8AF5A2FEC288108AEDBFAEFDBBDD6BE54CC23069559',\n",
      "                      'chain_id': 'bostrom',\n",
      "                      'chain_name': 'bostrom',\n",
      "                      'coingecko_id': None,\n",
      "                      'denom_units': [{'aliases': ['ugrav'],\n",
      "                                       'denom': 'ugraviton',\n",
      "                                       'exponent': 0},\n",
      "                                      {'aliases': ['grav'],\n",
      "                                       'denom': 'graviton',\n",
      "                                       'exponent': 6}],\n",
      "                      'description': 'The native staking token of the Gravity '\n",
      "                                     'Bridge Blockchain',\n",
      "                      'display': 'graviton',\n",
      "                      'ibc': {'base_supply': None,\n",
      "                              'dst_channel': 'channel-103',\n",
      "                              'source_channel': 'channel-12',\n",
      "                              'source_denom': 'ugraviton'},\n",
      "                      'images': None,\n",
      "                      'keywords': None,\n",
      "                      'logo_uris': None,\n",
      "                      'name': 'Graviton',\n",
      "                      'supply': '9724236078',\n",
      "                      'symbol': 'GRAV',\n",
      "                      'traces': [{'chain': {'channel_id': 'channel-12',\n",
      "                                            'path': 'transfer/channel-12/ugraviton',\n",
      "                                            'port': None},\n",
      "                                  'counterparty': {'base_denom': 'ugraviton',\n",
      "                                                   'base_supply': '2578387101541633',\n",
      "                                                   'chain_id': 'gravity-bridge-3',\n",
      "                                                   'chain_name': 'gravitybridge',\n",
      "                                                   'channel_id': 'channel-103',\n",
      "                                                   'contract': None,\n",
      "                                                   'port': None},\n",
      "                                  'provider': None,\n",
      "                                  'trace_type': 'ibc'}],\n",
      "                      'type_asset': 'ics20'},\n",
      "                     {'address': None,\n",
      "                      'admin': None,\n",
      "                      'base': 'ibc/CA5E8F31288514D728AFD1F0533A7F6902AA1192C88C9540F814893C3EAFE244',\n",
      "                      'chain_id': 'bostrom',\n",
      "                      'chain_name': 'bostrom',\n",
      "                      'coingecko_id': None,\n",
      "                      'denom_units': [{'aliases': [],\n",
      "                                       'denom': 'udsm',\n",
      "                                       'exponent': 0},\n",
      "                                      {'aliases': [],\n",
      "                                       'denom': 'DSM',\n",
      "                                       'exponent': 6}],\n",
      "                      'description': 'The token of Desmos',\n",
      "                      'display': 'DSM',\n",
      "                      'ibc': {'base_supply': None,\n",
      "                              'dst_channel': 'channel-6',\n",
      "                              'source_channel': 'channel-13',\n",
      "                              'source_denom': 'udsm'},\n",
      "                      'images': None,\n",
      "                      'keywords': None,\n",
      "                      'logo_uris': None,\n",
      "                      'name': 'Desmos DSM',\n",
      "                      'supply': '55661396037',\n",
      "                      'symbol': 'DSM',\n",
      "                      'traces': [{'chain': {'channel_id': 'channel-13',\n",
      "                                            'path': 'transfer/channel-13/udsm',\n",
      "                                            'port': None},\n",
      "                                  'counterparty': {'base_denom': 'udsm',\n",
      "                                                   'base_supply': '175774397444791',\n",
      "                                                   'chain_id': 'desmos-mainnet',\n",
      "                                                   'chain_name': 'desmos',\n",
      "                                                   'channel_id': 'channel-6',\n",
      "                                                   'contract': None,\n",
      "                                                   'port': None},\n",
      "                                  'provider': None,\n",
      "                                  'trace_type': 'ibc'}],\n",
      "                      'type_asset': 'ics20'},\n",
      "                     {'address': None,\n",
      "                      'admin': None,\n",
      "                      'base': 'ibc/CB41EF44BC15C8857B34EA151C8C480706E2A430A677850D3772C8543BD92F3A',\n",
      "                      'chain_id': 'bostrom',\n",
      "                      'chain_name': 'bostrom',\n",
      "                      'coingecko_id': None,\n",
      "                      'denom_units': None,\n",
      "                      'description': None,\n",
      "                      'display': None,\n",
      "                      'ibc': None,\n",
      "                      'images': None,\n",
      "                      'keywords': None,\n",
      "                      'logo_uris': None,\n",
      "                      'name': None,\n",
      "                      'supply': '500000',\n",
      "                      'symbol': None,\n",
      "                      'traces': None,\n",
      "                      'type_asset': 'ics20'},\n",
      "                     {'address': None,\n",
      "                      'admin': None,\n",
      "                      'base': 'ibc/D8AC1BB5FA604678F4C5BD3A7D3652B00D6DD3D83556AEB5E6EDD53384D475CA',\n",
      "                      'chain_id': 'bostrom',\n",
      "                      'chain_name': 'bostrom',\n",
      "                      'coingecko_id': None,\n",
      "                      'denom_units': None,\n",
      "                      'description': None,\n",
      "                      'display': None,\n",
      "                      'ibc': None,\n",
      "                      'images': None,\n",
      "                      'keywords': None,\n",
      "                      'logo_uris': None,\n",
      "                      'name': None,\n",
      "                      'supply': '20347',\n",
      "                      'symbol': None,\n",
      "                      'traces': None,\n",
      "                      'type_asset': 'ics20'},\n",
      "                     {'address': None,\n",
      "                      'admin': None,\n",
      "                      'base': 'ibc/EF48E6B1A1A19F47ECAEA62F5670C37C0580E86A9E88498B7E393EB6F49F33C0',\n",
      "                      'chain_id': 'bostrom',\n",
      "                      'chain_name': 'bostrom',\n",
      "                      'coingecko_id': None,\n",
      "                      'denom_units': [{'aliases': ['microatom'],\n",
      "                                       'denom': 'uatom',\n",
      "                                       'exponent': 0},\n",
      "                                      {'aliases': ['milliatom'],\n",
      "                                       'denom': 'matom',\n",
      "                                       'exponent': 3},\n",
      "                                      {'aliases': [],\n",
      "                                       'denom': 'atom',\n",
      "                                       'exponent': 6}],\n",
      "                      'description': 'The native staking token of the Cosmos '\n",
      "                                     'Hub.',\n",
      "                      'display': 'atom',\n",
      "                      'ibc': {'base_supply': None,\n",
      "                              'dst_channel': 'channel-237',\n",
      "                              'source_channel': 'channel-4',\n",
      "                              'source_denom': 'uatom'},\n",
      "                      'images': None,\n",
      "                      'keywords': None,\n",
      "                      'logo_uris': None,\n",
      "                      'name': 'Cosmos Hub Atom',\n",
      "                      'supply': '153000',\n",
      "                      'symbol': 'ATOM',\n",
      "                      'traces': [{'chain': {'channel_id': 'channel-4',\n",
      "                                            'path': 'transfer/channel-4/uatom',\n",
      "                                            'port': None},\n",
      "                                  'counterparty': {'base_denom': 'uatom',\n",
      "                                                   'base_supply': '359203360387796',\n",
      "                                                   'chain_id': 'cosmoshub-4',\n",
      "                                                   'chain_name': 'cosmoshub',\n",
      "                                                   'channel_id': 'channel-237',\n",
      "                                                   'contract': None,\n",
      "                                                   'port': None},\n",
      "                                  'provider': None,\n",
      "                                  'trace_type': 'ibc'}],\n",
      "                      'type_asset': 'ics20'},\n",
      "                     {'address': None,\n",
      "                      'admin': None,\n",
      "                      'base': 'ibc/FA8CE16D380167E62FFD7D34BC0FEEA40DB5506D798D3A3554D64B78593D8906',\n",
      "                      'chain_id': 'bostrom',\n",
      "                      'chain_name': 'bostrom',\n",
      "                      'coingecko_id': None,\n",
      "                      'denom_units': None,\n",
      "                      'description': None,\n",
      "                      'display': None,\n",
      "                      'ibc': None,\n",
      "                      'images': None,\n",
      "                      'keywords': None,\n",
      "                      'logo_uris': None,\n",
      "                      'name': None,\n",
      "                      'supply': '5000000000000000000',\n",
      "                      'symbol': None,\n",
      "                      'traces': None,\n",
      "                      'type_asset': 'ics20'},\n",
      "                     {'address': None,\n",
      "                      'admin': None,\n",
      "                      'base': 'milliampere',\n",
      "                      'chain_id': 'bostrom',\n",
      "                      'chain_name': 'bostrom',\n",
      "                      'coingecko_id': None,\n",
      "                      'denom_units': [{'aliases': [],\n",
      "                                       'denom': 'milliampere',\n",
      "                                       'exponent': 0},\n",
      "                                      {'aliases': ['AMPERE'],\n",
      "                                       'denom': 'ampere',\n",
      "                                       'exponent': 3}],\n",
      "                      'description': 'The power token of Bostrom',\n",
      "                      'display': 'ampere',\n",
      "                      'ibc': None,\n",
      "                      'images': None,\n",
      "                      'keywords': None,\n",
      "                      'logo_uris': None,\n",
      "                      'name': 'Bostrom Ampere',\n",
      "                      'supply': '7646626541',\n",
      "                      'symbol': 'AMPERE',\n",
      "                      'traces': None,\n",
      "                      'type_asset': 'sdk.coin'},\n",
      "                     {'address': None,\n",
      "                      'admin': None,\n",
      "                      'base': 'millivolt',\n",
      "                      'chain_id': 'bostrom',\n",
      "                      'chain_name': 'bostrom',\n",
      "                      'coingecko_id': None,\n",
      "                      'denom_units': [{'aliases': [],\n",
      "                                       'denom': 'millivolt',\n",
      "                                       'exponent': 0},\n",
      "                                      {'aliases': ['VOLT'],\n",
      "                                       'denom': 'volt',\n",
      "                                       'exponent': 3}],\n",
      "                      'description': 'The bandwidth token of Bostrom',\n",
      "                      'display': 'volt',\n",
      "                      'ibc': None,\n",
      "                      'images': None,\n",
      "                      'keywords': None,\n",
      "                      'logo_uris': None,\n",
      "                      'name': 'Bostrom Volt',\n",
      "                      'supply': '791359048',\n",
      "                      'symbol': 'VOLT',\n",
      "                      'traces': None,\n",
      "                      'type_asset': 'sdk.coin'},\n",
      "                     {'address': None,\n",
      "                      'admin': None,\n",
      "                      'base': 'pool0B7D80CEB5EF865B56CD189BC23203F99EC4009A15AEBB20E32B23638D1DE894',\n",
      "                      'chain_id': 'bostrom',\n",
      "                      'chain_name': 'bostrom',\n",
      "                      'coingecko_id': None,\n",
      "                      'denom_units': None,\n",
      "                      'description': None,\n",
      "                      'display': None,\n",
      "                      'ibc': None,\n",
      "                      'images': None,\n",
      "                      'keywords': None,\n",
      "                      'logo_uris': None,\n",
      "                      'name': None,\n",
      "                      'supply': '959914559553',\n",
      "                      'symbol': None,\n",
      "                      'traces': None,\n",
      "                      'type_asset': 'pool'},\n",
      "                     {'address': None,\n",
      "                      'admin': None,\n",
      "                      'base': 'pool1A492174015ABA47066C8569AFF7582C551980840AAE7EBAEFB667347EDDB601',\n",
      "                      'chain_id': 'bostrom',\n",
      "                      'chain_name': 'bostrom',\n",
      "                      'coingecko_id': None,\n",
      "                      'denom_units': None,\n",
      "                      'description': None,\n",
      "                      'display': None,\n",
      "                      'ibc': None,\n",
      "                      'images': None,\n",
      "                      'keywords': None,\n",
      "                      'logo_uris': None,\n",
      "                      'name': None,\n",
      "                      'supply': '453744109153',\n",
      "                      'symbol': None,\n",
      "                      'traces': None,\n",
      "                      'type_asset': 'pool'},\n",
      "                     {'address': None,\n",
      "                      'admin': None,\n",
      "                      'base': 'pool27BBCA67F42ED27DFFB6A450966C7EA206ADAA42BA0A1871FADC6C59569F6E8D',\n",
      "                      'chain_id': 'bostrom',\n",
      "                      'chain_name': 'bostrom',\n",
      "                      'coingecko_id': None,\n",
      "                      'denom_units': None,\n",
      "                      'description': None,\n",
      "                      'display': None,\n",
      "                      'ibc': None,\n",
      "                      'images': None,\n",
      "                      'keywords': None,\n",
      "                      'logo_uris': None,\n",
      "                      'name': None,\n",
      "                      'supply': '1374481625556',\n",
      "                      'symbol': None,\n",
      "                      'traces': None,\n",
      "                      'type_asset': 'pool'},\n",
      "                     {'address': None,\n",
      "                      'admin': None,\n",
      "                      'base': 'pool3215BC1A427DA452FCC3AE9641AC5D17D736B3943A0DE58223F0BF2F4C8D9BB2',\n",
      "                      'chain_id': 'bostrom',\n",
      "                      'chain_name': 'bostrom',\n",
      "                      'coingecko_id': None,\n",
      "                      'denom_units': None,\n",
      "                      'description': None,\n",
      "                      'display': None,\n",
      "                      'ibc': None,\n",
      "                      'images': None,\n",
      "                      'keywords': None,\n",
      "                      'logo_uris': None,\n",
      "                      'name': None,\n",
      "                      'supply': '4812512114386',\n",
      "                      'symbol': None,\n",
      "                      'traces': None,\n",
      "                      'type_asset': 'pool'},\n",
      "                     {'address': None,\n",
      "                      'admin': None,\n",
      "                      'base': 'pool4FD3991B994C4602882E8AEACDA9375F4BBE5116E062E8265844596C340C502F',\n",
      "                      'chain_id': 'bostrom',\n",
      "                      'chain_name': 'bostrom',\n",
      "                      'coingecko_id': None,\n",
      "                      'denom_units': None,\n",
      "                      'description': None,\n",
      "                      'display': None,\n",
      "                      'ibc': None,\n",
      "                      'images': None,\n",
      "                      'keywords': None,\n",
      "                      'logo_uris': None,\n",
      "                      'name': None,\n",
      "                      'supply': '6912684823527',\n",
      "                      'symbol': None,\n",
      "                      'traces': None,\n",
      "                      'type_asset': 'pool'},\n",
      "                     {'address': None,\n",
      "                      'admin': None,\n",
      "                      'base': 'pool5D5734E54F485FBAF21DF886EC396F2CBC72203BF050BDE0F99EB94EA37D39E8',\n",
      "                      'chain_id': 'bostrom',\n",
      "                      'chain_name': 'bostrom',\n",
      "                      'coingecko_id': None,\n",
      "                      'denom_units': None,\n",
      "                      'description': None,\n",
      "                      'display': None,\n",
      "                      'ibc': None,\n",
      "                      'images': None,\n",
      "                      'keywords': None,\n",
      "                      'logo_uris': None,\n",
      "                      'name': None,\n",
      "                      'supply': '521117703093236',\n",
      "                      'symbol': None,\n",
      "                      'traces': None,\n",
      "                      'type_asset': 'pool'},\n",
      "                     {'address': None,\n",
      "                      'admin': None,\n",
      "                      'base': 'pool5D83035BE0E7AB904379161D3C52FB4C1C392265AC19CE39A864146198610628',\n",
      "                      'chain_id': 'bostrom',\n",
      "                      'chain_name': 'bostrom',\n",
      "                      'coingecko_id': None,\n",
      "                      'denom_units': None,\n",
      "                      'description': None,\n",
      "                      'display': None,\n",
      "                      'ibc': None,\n",
      "                      'images': None,\n",
      "                      'keywords': None,\n",
      "                      'logo_uris': None,\n",
      "                      'name': None,\n",
      "                      'supply': '2277334614068',\n",
      "                      'symbol': None,\n",
      "                      'traces': None,\n",
      "                      'type_asset': 'pool'},\n",
      "                     {'address': None,\n",
      "                      'admin': None,\n",
      "                      'base': 'pool70D7610CBA8E94B27BAD7806EBD826F5626C486BBF5C490D1463D72314353C66',\n",
      "                      'chain_id': 'bostrom',\n",
      "                      'chain_name': 'bostrom',\n",
      "                      'coingecko_id': None,\n",
      "                      'denom_units': None,\n",
      "                      'description': None,\n",
      "                      'display': None,\n",
      "                      'ibc': None,\n",
      "                      'images': None,\n",
      "                      'keywords': None,\n",
      "                      'logo_uris': None,\n",
      "                      'name': None,\n",
      "                      'supply': '1107598969275088',\n",
      "                      'symbol': None,\n",
      "                      'traces': None,\n",
      "                      'type_asset': 'pool'},\n",
      "                     {'address': None,\n",
      "                      'admin': None,\n",
      "                      'base': 'pool72F72D8646E5FF5AA9C8C6CB4F85EE13C63CD6A15A7757746BD9FC449760CBF2',\n",
      "                      'chain_id': 'bostrom',\n",
      "                      'chain_name': 'bostrom',\n",
      "                      'coingecko_id': None,\n",
      "                      'denom_units': None,\n",
      "                      'description': None,\n",
      "                      'display': None,\n",
      "                      'ibc': None,\n",
      "                      'images': None,\n",
      "                      'keywords': None,\n",
      "                      'logo_uris': None,\n",
      "                      'name': None,\n",
      "                      'supply': '33427430427',\n",
      "                      'symbol': None,\n",
      "                      'traces': None,\n",
      "                      'type_asset': 'pool'},\n",
      "                     {'address': None,\n",
      "                      'admin': None,\n",
      "                      'base': 'pool745F45704DFB96E3BAD8223EB91540E08DA279049BDB80665B4B2820CA2EAE7C',\n",
      "                      'chain_id': 'bostrom',\n",
      "                      'chain_name': 'bostrom',\n",
      "                      'coingecko_id': None,\n",
      "                      'denom_units': None,\n",
      "                      'description': None,\n",
      "                      'display': None,\n",
      "                      'ibc': None,\n",
      "                      'images': None,\n",
      "                      'keywords': None,\n",
      "                      'logo_uris': None,\n",
      "                      'name': None,\n",
      "                      'supply': '2229059783627',\n",
      "                      'symbol': None,\n",
      "                      'traces': None,\n",
      "                      'type_asset': 'pool'},\n",
      "                     {'address': None,\n",
      "                      'admin': None,\n",
      "                      'base': 'pool79B9E8E233B61B84EA5AE564AB080FC492B4C953A9D8B409F300D9E29716459F',\n",
      "                      'chain_id': 'bostrom',\n",
      "                      'chain_name': 'bostrom',\n",
      "                      'coingecko_id': None,\n",
      "                      'denom_units': None,\n",
      "                      'description': None,\n",
      "                      'display': None,\n",
      "                      'ibc': None,\n",
      "                      'images': None,\n",
      "                      'keywords': None,\n",
      "                      'logo_uris': None,\n",
      "                      'name': None,\n",
      "                      'supply': '526078639786973',\n",
      "                      'symbol': None,\n",
      "                      'traces': None,\n",
      "                      'type_asset': 'pool'},\n",
      "                     {'address': None,\n",
      "                      'admin': None,\n",
      "                      'base': 'pool906F3CC4C0F4634031990DB81761BD390890F8A8A80460EBDC6B151254DE7D1D',\n",
      "                      'chain_id': 'bostrom',\n",
      "                      'chain_name': 'bostrom',\n",
      "                      'coingecko_id': None,\n",
      "                      'denom_units': None,\n",
      "                      'description': None,\n",
      "                      'display': None,\n",
      "                      'ibc': None,\n",
      "                      'images': None,\n",
      "                      'keywords': None,\n",
      "                      'logo_uris': None,\n",
      "                      'name': None,\n",
      "                      'supply': '78117378924868',\n",
      "                      'symbol': None,\n",
      "                      'traces': None,\n",
      "                      'type_asset': 'pool'},\n",
      "                     {'address': None,\n",
      "                      'admin': None,\n",
      "                      'base': 'pool98692450C039BDD30563475A7699A7805075F592A36837A04357F20B0D59C90F',\n",
      "                      'chain_id': 'bostrom',\n",
      "                      'chain_name': 'bostrom',\n",
      "                      'coingecko_id': None,\n",
      "                      'denom_units': None,\n",
      "                      'description': None,\n",
      "                      'display': None,\n",
      "                      'ibc': None,\n",
      "                      'images': None,\n",
      "                      'keywords': None,\n",
      "                      'logo_uris': None,\n",
      "                      'name': None,\n",
      "                      'supply': '137968748660266',\n",
      "                      'symbol': None,\n",
      "                      'traces': None,\n",
      "                      'type_asset': 'pool'},\n",
      "                     {'address': None,\n",
      "                      'admin': None,\n",
      "                      'base': 'poolB02CE42B202A71419D2F9EB4996B36C52F1B5B60DAF7D7B1474660A95656C126',\n",
      "                      'chain_id': 'bostrom',\n",
      "                      'chain_name': 'bostrom',\n",
      "                      'coingecko_id': None,\n",
      "                      'denom_units': None,\n",
      "                      'description': None,\n",
      "                      'display': None,\n",
      "                      'ibc': None,\n",
      "                      'images': None,\n",
      "                      'keywords': None,\n",
      "                      'logo_uris': None,\n",
      "                      'name': None,\n",
      "                      'supply': '77732078168029',\n",
      "                      'symbol': None,\n",
      "                      'traces': None,\n",
      "                      'type_asset': 'pool'},\n",
      "                     {'address': None,\n",
      "                      'admin': None,\n",
      "                      'base': 'poolB0B2848FDE249D431B50CA59E42C37F41C5A2E11D04470737078D96A43451404',\n",
      "                      'chain_id': 'bostrom',\n",
      "                      'chain_name': 'bostrom',\n",
      "                      'coingecko_id': None,\n",
      "                      'denom_units': None,\n",
      "                      'description': None,\n",
      "                      'display': None,\n",
      "                      'ibc': None,\n",
      "                      'images': None,\n",
      "                      'keywords': None,\n",
      "                      'logo_uris': None,\n",
      "                      'name': None,\n",
      "                      'supply': '950000360873',\n",
      "                      'symbol': None,\n",
      "                      'traces': None,\n",
      "                      'type_asset': 'pool'},\n",
      "                     {'address': None,\n",
      "                      'admin': None,\n",
      "                      'base': 'poolBE0F1D1C7FE3E72D18DF1996AB8E76676852A34313D2772E7ED36B041DCAB182',\n",
      "                      'chain_id': 'bostrom',\n",
      "                      'chain_name': 'bostrom',\n",
      "                      'coingecko_id': None,\n",
      "                      'denom_units': None,\n",
      "                      'description': None,\n",
      "                      'display': None,\n",
      "                      'ibc': None,\n",
      "                      'images': None,\n",
      "                      'keywords': None,\n",
      "                      'logo_uris': None,\n",
      "                      'name': None,\n",
      "                      'supply': '58516257120',\n",
      "                      'symbol': None,\n",
      "                      'traces': None,\n",
      "                      'type_asset': 'pool'},\n",
      "                     {'address': None,\n",
      "                      'admin': None,\n",
      "                      'base': 'poolD0B5122C1EAB5BE4276EE232D9C493EC9472F9C2655EFF9D307732A812B6455F',\n",
      "                      'chain_id': 'bostrom',\n",
      "                      'chain_name': 'bostrom',\n",
      "                      'coingecko_id': None,\n",
      "                      'denom_units': None,\n",
      "                      'description': None,\n",
      "                      'display': None,\n",
      "                      'ibc': None,\n",
      "                      'images': None,\n",
      "                      'keywords': None,\n",
      "                      'logo_uris': None,\n",
      "                      'name': None,\n",
      "                      'supply': '2000000000000',\n",
      "                      'symbol': None,\n",
      "                      'traces': None,\n",
      "                      'type_asset': 'pool'},\n",
      "                     {'address': None,\n",
      "                      'admin': None,\n",
      "                      'base': 'poolD8DCE9545B510DE6086A45A8B697250B536B97AF2F679E4BAC097173D674AB0C',\n",
      "                      'chain_id': 'bostrom',\n",
      "                      'chain_name': 'bostrom',\n",
      "                      'coingecko_id': None,\n",
      "                      'denom_units': None,\n",
      "                      'description': None,\n",
      "                      'display': None,\n",
      "                      'ibc': None,\n",
      "                      'images': None,\n",
      "                      'keywords': None,\n",
      "                      'logo_uris': None,\n",
      "                      'name': None,\n",
      "                      'supply': '2012889962240',\n",
      "                      'symbol': None,\n",
      "                      'traces': None,\n",
      "                      'type_asset': 'pool'},\n",
      "                     {'address': None,\n",
      "                      'admin': None,\n",
      "                      'base': 'poolE21C556E3469226354EC7AC6BE8452906F678D25F911E5D34F3983E3BA335F5D',\n",
      "                      'chain_id': 'bostrom',\n",
      "                      'chain_name': 'bostrom',\n",
      "                      'coingecko_id': None,\n",
      "                      'denom_units': None,\n",
      "                      'description': None,\n",
      "                      'display': None,\n",
      "                      'ibc': None,\n",
      "                      'images': None,\n",
      "                      'keywords': None,\n",
      "                      'logo_uris': None,\n",
      "                      'name': None,\n",
      "                      'supply': '1000000000000',\n",
      "                      'symbol': None,\n",
      "                      'traces': None,\n",
      "                      'type_asset': 'pool'},\n",
      "                     {'address': None,\n",
      "                      'admin': None,\n",
      "                      'base': 'poolE32688109702769B49F6471789C4EDE96096D9BFBE21FB4046715D6BC9934674',\n",
      "                      'chain_id': 'bostrom',\n",
      "                      'chain_name': 'bostrom',\n",
      "                      'coingecko_id': None,\n",
      "                      'denom_units': None,\n",
      "                      'description': None,\n",
      "                      'display': None,\n",
      "                      'ibc': None,\n",
      "                      'images': None,\n",
      "                      'keywords': None,\n",
      "                      'logo_uris': None,\n",
      "                      'name': None,\n",
      "                      'supply': '1000027367133',\n",
      "                      'symbol': None,\n",
      "                      'traces': None,\n",
      "                      'type_asset': 'pool'},\n",
      "                     {'address': None,\n",
      "                      'admin': None,\n",
      "                      'base': 'poolE479A51F998E2979F89DA9AB897ED45A9AFE4E7DE32BE3D30FB456E58F80D4E9',\n",
      "                      'chain_id': 'bostrom',\n",
      "                      'chain_name': 'bostrom',\n",
      "                      'coingecko_id': None,\n",
      "                      'denom_units': None,\n",
      "                      'description': None,\n",
      "                      'display': None,\n",
      "                      'ibc': None,\n",
      "                      'images': None,\n",
      "                      'keywords': None,\n",
      "                      'logo_uris': None,\n",
      "                      'name': None,\n",
      "                      'supply': '45105583598193',\n",
      "                      'symbol': None,\n",
      "                      'traces': None,\n",
      "                      'type_asset': 'pool'},\n",
      "                     {'address': None,\n",
      "                      'admin': None,\n",
      "                      'base': 'poolE734706B12D1672FAC713CA6578F5303AC359E4CE089C1CEDB4320F07E5D970D',\n",
      "                      'chain_id': 'bostrom',\n",
      "                      'chain_name': 'bostrom',\n",
      "                      'coingecko_id': None,\n",
      "                      'denom_units': None,\n",
      "                      'description': None,\n",
      "                      'display': None,\n",
      "                      'ibc': None,\n",
      "                      'images': None,\n",
      "                      'keywords': None,\n",
      "                      'logo_uris': None,\n",
      "                      'name': None,\n",
      "                      'supply': '1000000000000',\n",
      "                      'symbol': None,\n",
      "                      'traces': None,\n",
      "                      'type_asset': 'pool'},\n",
      "                     {'address': None,\n",
      "                      'admin': None,\n",
      "                      'base': 'poolF064538FBA4C66F225BA5C98E608BBB1FAFE16636DEA2AA7B08E35C6E717BC75',\n",
      "                      'chain_id': 'bostrom',\n",
      "                      'chain_name': 'bostrom',\n",
      "                      'coingecko_id': None,\n",
      "                      'denom_units': None,\n",
      "                      'description': None,\n",
      "                      'display': None,\n",
      "                      'ibc': None,\n",
      "                      'images': None,\n",
      "                      'keywords': None,\n",
      "                      'logo_uris': None,\n",
      "                      'name': None,\n",
      "                      'supply': '2183121857195',\n",
      "                      'symbol': None,\n",
      "                      'traces': None,\n",
      "                      'type_asset': 'pool'},\n",
      "                     {'address': None,\n",
      "                      'admin': None,\n",
      "                      'base': 'tocyb',\n",
      "                      'chain_id': 'bostrom',\n",
      "                      'chain_name': 'bostrom',\n",
      "                      'coingecko_id': None,\n",
      "                      'denom_units': None,\n",
      "                      'description': None,\n",
      "                      'display': None,\n",
      "                      'ibc': None,\n",
      "                      'images': None,\n",
      "                      'keywords': None,\n",
      "                      'logo_uris': None,\n",
      "                      'name': None,\n",
      "                      'supply': '1000000000000000',\n",
      "                      'symbol': None,\n",
      "                      'traces': None,\n",
      "                      'type_asset': 'sdk.coin'}],\n",
      "          'chain_name': 'bostrom'}}\n"
     ]
    }
   ],
   "source": [
    "CONTRACT_CHAIN = 'bostrom'\n",
    "\n",
    "pprint(\n",
    "    contract_query(\n",
    "        query={'get_chain': {'chain_name': 'bostrom'}},\n",
    "        contract_address=CONTRACT_ADDRESSES[CONTRACT_CHAIN],\n",
    "        node_lcd_url=NODE_LCD_URLS[CONTRACT_CHAIN]\n",
    "    )\n",
    ")"
   ]
  },
  {
   "cell_type": "code",
   "execution_count": 7,
   "metadata": {
    "ExecuteTime": {
     "end_time": "2023-08-11T04:57:07.026206Z",
     "start_time": "2023-08-11T04:57:05.924555Z"
    },
    "collapsed": false,
    "execution": {
     "iopub.execute_input": "2023-08-15T02:19:49.733296Z",
     "iopub.status.busy": "2023-08-15T02:19:49.732909Z",
     "iopub.status.idle": "2023-08-15T02:19:50.017298Z",
     "shell.execute_reply": "2023-08-15T02:19:50.015949Z"
    }
   },
   "outputs": [
    {
     "name": "stdout",
     "output_type": "stream",
     "text": [
      "{'data': {'entries': [{'address': None,\n",
      "                       'admin': None,\n",
      "                       'base': 'ibc/4A3AAD07BC4EBEBC10FC2560EAA3B7A1D3B541B5264ED8E5E13E6B74AC76127B',\n",
      "                       'chain_id': 'eightball-1',\n",
      "                       'chain_name': '8ball',\n",
      "                       'coingecko_id': None,\n",
      "                       'denom_units': [{'aliases': [],\n",
      "                                        'denom': 'uosmo',\n",
      "                                        'exponent': 0},\n",
      "                                       {'aliases': [],\n",
      "                                        'denom': 'osmo',\n",
      "                                        'exponent': 6}],\n",
      "                       'description': 'The native token of Osmosis',\n",
      "                       'display': 'osmo',\n",
      "                       'ibc': {'base_supply': None,\n",
      "                               'dst_channel': 'channel-641',\n",
      "                               'source_channel': 'channel-16',\n",
      "                               'source_denom': 'uosmo'},\n",
      "                       'images': None,\n",
      "                       'keywords': None,\n",
      "                       'logo_uris': None,\n",
      "                       'name': None,\n",
      "                       'supply': '5200911',\n",
      "                       'symbol': None,\n",
      "                       'traces': [{'chain': {'channel_id': 'channel-16',\n",
      "                                             'path': 'transfer/channel-16/uosmo',\n",
      "                                             'port': None},\n",
      "                                   'counterparty': {'base_denom': 'uosmo',\n",
      "                                                    'base_supply': '610390819862917',\n",
      "                                                    'chain_id': 'osmosis-1',\n",
      "                                                    'chain_name': 'osmosis',\n",
      "                                                    'channel_id': 'channel-641',\n",
      "                                                    'contract': None,\n",
      "                                                    'port': None},\n",
      "                                   'provider': None,\n",
      "                                   'trace_type': 'ibc'}],\n",
      "                       'type_asset': 'ics20'},\n",
      "                      {'address': None,\n",
      "                       'admin': None,\n",
      "                       'base': 'ibc/65F2AFA2F7AC0FC1ACA0EC1710A5AB381BF87B25CB74E903C5847ED86CAE213A',\n",
      "                       'chain_id': 'eightball-1',\n",
      "                       'chain_name': '8ball',\n",
      "                       'coingecko_id': None,\n",
      "                       'denom_units': [{'aliases': [],\n",
      "                                        'denom': 'uion',\n",
      "                                        'exponent': 0},\n",
      "                                       {'aliases': [],\n",
      "                                        'denom': 'ion',\n",
      "                                        'exponent': 6}],\n",
      "                       'description': None,\n",
      "                       'display': 'ion',\n",
      "                       'ibc': {'base_supply': None,\n",
      "                               'dst_channel': 'channel-641',\n",
      "                               'source_channel': 'channel-16',\n",
      "                               'source_denom': 'uion'},\n",
      "                       'images': None,\n",
      "                       'keywords': None,\n",
      "                       'logo_uris': None,\n",
      "                       'name': None,\n",
      "                       'supply': '500',\n",
      "                       'symbol': None,\n",
      "                       'traces': [{'chain': {'channel_id': 'channel-16',\n",
      "                                             'path': 'transfer/channel-16/uion',\n",
      "                                             'port': None},\n",
      "                                   'counterparty': {'base_denom': 'uion',\n",
      "                                                    'base_supply': '21294000000',\n",
      "                                                    'chain_id': 'osmosis-1',\n",
      "                                                    'chain_name': 'osmosis',\n",
      "                                                    'channel_id': 'channel-641',\n",
      "                                                    'contract': None,\n",
      "                                                    'port': None},\n",
      "                                   'provider': None,\n",
      "                                   'trace_type': 'ibc'}],\n",
      "                       'type_asset': 'ics20'},\n",
      "                      {'address': None,\n",
      "                       'admin': None,\n",
      "                       'base': 'uebl',\n",
      "                       'chain_id': 'eightball-1',\n",
      "                       'chain_name': '8ball',\n",
      "                       'coingecko_id': None,\n",
      "                       'denom_units': None,\n",
      "                       'description': None,\n",
      "                       'display': None,\n",
      "                       'ibc': None,\n",
      "                       'images': None,\n",
      "                       'keywords': None,\n",
      "                       'logo_uris': None,\n",
      "                       'name': None,\n",
      "                       'supply': '74811373249281',\n",
      "                       'symbol': None,\n",
      "                       'traces': None,\n",
      "                       'type_asset': 'sdk.coin'},\n",
      "                      {'address': None,\n",
      "                       'admin': None,\n",
      "                       'base': 'aacre',\n",
      "                       'chain_id': 'acre_9052-1',\n",
      "                       'chain_name': 'acrechain',\n",
      "                       'coingecko_id': None,\n",
      "                       'denom_units': [{'aliases': ['aacre'],\n",
      "                                        'denom': 'aacre',\n",
      "                                        'exponent': 0},\n",
      "                                       {'aliases': [],\n",
      "                                        'denom': 'ACRE',\n",
      "                                        'exponent': 18}],\n",
      "                       'description': 'The native staking and governance token '\n",
      "                                      'of the Acrechain',\n",
      "                       'display': 'ACRE',\n",
      "                       'ibc': None,\n",
      "                       'images': None,\n",
      "                       'keywords': None,\n",
      "                       'logo_uris': None,\n",
      "                       'name': 'ACRE',\n",
      "                       'supply': '499767786715786173608543143',\n",
      "                       'symbol': 'ACRE',\n",
      "                       'traces': None,\n",
      "                       'type_asset': 'sdk.coin'},\n",
      "                      {'address': None,\n",
      "                       'admin': None,\n",
      "                       'base': 'erc20/0x2Cbea61fdfDFA520Ee99700F104D5b75ADf50B0c',\n",
      "                       'chain_id': 'acre_9052-1',\n",
      "                       'chain_name': 'acrechain',\n",
      "                       'coingecko_id': None,\n",
      "                       'denom_units': [{'aliases': [],\n",
      "                                        'denom': 'erc20/0x2Cbea61fdfDFA520Ee99700F104D5b75ADf50B0c',\n",
      "                                        'exponent': 0},\n",
      "                                       {'aliases': [],\n",
      "                                        'denom': 'ArableUSD',\n",
      "                                        'exponent': 18}],\n",
      "                       'description': 'Cosmos coin token representation of '\n",
      "                                      '0x2Cbea61fdfDFA520Ee99700F104D5b75ADf50B0c',\n",
      "                       'display': 'ArableUSD',\n",
      "                       'ibc': None,\n",
      "                       'images': None,\n",
      "                       'keywords': None,\n",
      "                       'logo_uris': None,\n",
      "                       'name': 'erc20/0x2Cbea61fdfDFA520Ee99700F104D5b75ADf50B0c',\n",
      "                       'supply': '63359543775854919305474',\n",
      "                       'symbol': 'arUSD',\n",
      "                       'traces': None,\n",
      "                       'type_asset': 'sdk.coin'}]}}\n"
     ]
    }
   ],
   "source": [
    "pprint(\n",
    "    contract_query(\n",
    "        query={'get_all_assets': {'limit': 5}},\n",
    "        contract_address=CONTRACT_ADDRESSES[CONTRACT_CHAIN],\n",
    "        node_lcd_url=NODE_LCD_URLS[CONTRACT_CHAIN]\n",
    "    )\n",
    ")"
   ]
  },
  {
   "cell_type": "code",
   "execution_count": 8,
   "metadata": {
    "ExecuteTime": {
     "end_time": "2023-08-11T04:57:08.049560Z",
     "start_time": "2023-08-11T04:57:07.024436Z"
    },
    "collapsed": false,
    "execution": {
     "iopub.execute_input": "2023-08-15T02:19:50.022790Z",
     "iopub.status.busy": "2023-08-15T02:19:50.022412Z",
     "iopub.status.idle": "2023-08-15T02:19:50.282881Z",
     "shell.execute_reply": "2023-08-15T02:19:50.281970Z"
    }
   },
   "outputs": [
    {
     "name": "stdout",
     "output_type": "stream",
     "text": [
      "{'data': {'asset': {'address': None,\n",
      "                    'admin': None,\n",
      "                    'base': 'uosmo',\n",
      "                    'chain_id': 'osmosis-1',\n",
      "                    'chain_name': 'osmosis',\n",
      "                    'coingecko_id': None,\n",
      "                    'denom_units': [{'aliases': [],\n",
      "                                     'denom': 'uosmo',\n",
      "                                     'exponent': 0},\n",
      "                                    {'aliases': [],\n",
      "                                     'denom': 'osmo',\n",
      "                                     'exponent': 6}],\n",
      "                    'description': 'The native token of Osmosis',\n",
      "                    'display': 'osmo',\n",
      "                    'ibc': None,\n",
      "                    'images': None,\n",
      "                    'keywords': None,\n",
      "                    'logo_uris': None,\n",
      "                    'name': None,\n",
      "                    'supply': '610390819862917',\n",
      "                    'symbol': None,\n",
      "                    'traces': None,\n",
      "                    'type_asset': 'sdk.coin'},\n",
      "          'chain_name': 'osmosis'}}\n"
     ]
    }
   ],
   "source": [
    "pprint(\n",
    "    contract_query(\n",
    "        query={'get_asset': {'chain_name': 'osmosis', 'base': 'uosmo'}},\n",
    "        contract_address=CONTRACT_ADDRESSES[CONTRACT_CHAIN],\n",
    "        node_lcd_url=NODE_LCD_URLS[CONTRACT_CHAIN]\n",
    "    )\n",
    ")"
   ]
  },
  {
   "cell_type": "code",
   "execution_count": 8,
   "metadata": {
    "ExecuteTime": {
     "end_time": "2023-08-11T04:57:08.049889Z",
     "start_time": "2023-08-11T04:57:08.045523Z"
    },
    "collapsed": false
   },
   "outputs": [],
   "source": []
  }
 ],
 "metadata": {
  "kernelspec": {
   "display_name": "Python 3",
   "language": "python",
   "name": "python3"
  },
  "language_info": {
   "codemirror_mode": {
    "name": "ipython",
    "version": 3
   },
   "file_extension": ".py",
   "mimetype": "text/x-python",
   "name": "python",
   "nbconvert_exporter": "python",
   "pygments_lexer": "ipython3",
   "version": "3.9.15"
  }
 },
 "nbformat": 4,
 "nbformat_minor": 0
}
