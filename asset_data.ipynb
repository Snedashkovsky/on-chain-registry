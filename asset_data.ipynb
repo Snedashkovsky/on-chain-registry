{
 "cells": [
  {
   "cell_type": "markdown",
   "metadata": {
    "collapsed": false
   },
   "source": [
    "# Asset Data"
   ]
  },
  {
   "cell_type": "code",
   "execution_count": 1,
   "metadata": {
    "collapsed": false,
    "execution": {
     "iopub.execute_input": "2023-08-21T10:07:06.317981Z",
     "iopub.status.busy": "2023-08-21T10:07:06.317328Z",
     "iopub.status.idle": "2023-08-21T10:07:07.380496Z",
     "shell.execute_reply": "2023-08-21T10:07:07.379720Z"
    },
    "ExecuteTime": {
     "end_time": "2023-08-21T10:46:41.594095Z",
     "start_time": "2023-08-21T10:46:40.816318Z"
    }
   },
   "outputs": [
    {
     "data": {
      "text/html": "        <script type=\"text/javascript\">\n        window.PlotlyConfig = {MathJaxConfig: 'local'};\n        if (window.MathJax && window.MathJax.Hub && window.MathJax.Hub.Config) {window.MathJax.Hub.Config({SVG: {font: \"STIX-Web\"}});}\n        if (typeof require !== 'undefined') {\n        require.undef(\"plotly\");\n        requirejs.config({\n            paths: {\n                'plotly': ['https://cdn.plot.ly/plotly-2.24.1.min']\n            }\n        });\n        require(['plotly'], function(Plotly) {\n            window._Plotly = Plotly;\n        });\n        }\n        </script>\n        "
     },
     "metadata": {},
     "output_type": "display_data"
    }
   ],
   "source": [
    "import ast\n",
    "import numpy as np\n",
    "import pandas as pd\n",
    "from warnings import filterwarnings\n",
    "from tqdm.notebook import tqdm\n",
    "from plotly.subplots import make_subplots\n",
    "import plotly.graph_objects as go\n",
    "import plotly.express as px\n",
    "from plotly.offline import iplot, init_notebook_mode\n",
    "from pprint import pprint\n",
    "from datetime import date\n",
    "\n",
    "from src.contract_export import contract_query\n",
    "from config import CONTRACT_ADDRESSES, NODE_LCD_URLS\n",
    "\n",
    "init_notebook_mode(connected=True)\n",
    "filterwarnings('ignore')\n",
    "tqdm.pandas()"
   ]
  },
  {
   "cell_type": "markdown",
   "metadata": {
    "collapsed": false
   },
   "source": [
    "## load data"
   ]
  },
  {
   "cell_type": "code",
   "execution_count": 2,
   "metadata": {
    "collapsed": false,
    "execution": {
     "iopub.execute_input": "2023-08-21T10:07:07.441935Z",
     "iopub.status.busy": "2023-08-21T10:07:07.441362Z",
     "iopub.status.idle": "2023-08-21T10:07:07.795559Z",
     "shell.execute_reply": "2023-08-21T10:07:07.794516Z"
    },
    "ExecuteTime": {
     "end_time": "2023-08-21T10:46:41.768326Z",
     "start_time": "2023-08-21T10:46:41.593344Z"
    }
   },
   "outputs": [
    {
     "data": {
      "text/plain": "      chain_name              chain_id  \\\n0         realio  realionetwork_3301-1   \n1          loyal         loyal-main-02   \n2          loyal         loyal-main-02   \n3           xpla        dimension_37-1   \n4           xpla        dimension_37-1   \n...          ...                   ...   \n11937     terra2             phoenix-1   \n11938     terra2             phoenix-1   \n11939     terra2             phoenix-1   \n11940     terra2             phoenix-1   \n11941     terra2             phoenix-1   \n\n                                                   denom type_asset  \\\n0      ibc/ED07A3391A112B175915CD8FAF43A2DA8E4790EDE1...      ics20   \n1      ibc/0471F1C4E7AFD3F07702BEF6DC365268D64570F7C1...      ics20   \n2      ibc/C0E66D1C81D8AAF0E6896E05190FDFBC222367148F...      ics20   \n3      ibc/2CC0B1B7A981ACC74854717F221008484603BB8360...      ics20   \n4      ibc/6771714762A6F8F541DE7C461F09C68F310621315F...      ics20   \n...                                                  ...        ...   \n11937  cw20:terra1x62mjnme4y0rdnag3r8rfgjuutsqlkkyuh4...       cw20   \n11938  cw20:terra17gck626vgax9jpe6utm7dhx4vdzawfkt0jh...       cw20   \n11939  cw20:terra1xzkel96e5e8vfmqw7valzdzzv9hqasfyslc...       cw20   \n11940  cw20:terra1xp9hrhthzddnl7j5du83gqqr4wmdjm5t0gu...       cw20   \n11941  cw20:terra14xsm2wzvu7xaf567r693vgfkhmvfs08l68h...       cw20   \n\n                  supply                  description  \\\n0                   1000  The native token of Osmosis   \n1                 100000                          NaN   \n2                1000000                          NaN   \n3                 600098                          NaN   \n4      93300000000000000                          NaN   \n...                  ...                          ...   \n11937    136970306811334                          NaN   \n11938     93000000000000                          NaN   \n11939      6572018665376                          NaN   \n11940    100000000000000                          NaN   \n11941       350756356427                          NaN   \n\n                                             denom_units display  \\\n0      [{'denom': 'uosmo', 'exponent': 0, 'aliases': ...    osmo   \n1                                                   None     NaN   \n2                                                   None     NaN   \n3                                                   None     NaN   \n4                                                   None     NaN   \n...                                                  ...     ...   \n11937  [{'denom': 'xastro', 'exponent': 6, 'aliases':...     NaN   \n11938  [{'denom': 'dust', 'exponent': 6, 'aliases': [...     NaN   \n11939  [{'denom': 'local', 'exponent': 6, 'aliases': ...     NaN   \n11940  [{'denom': 'sayve', 'exponent': 6, 'aliases': ...     NaN   \n11941  [{'denom': 'lunax', 'exponent': 6, 'aliases': ...     NaN   \n\n                               name  symbol  ...  denom_base type_asset_base  \\\n0                               NaN     NaN  ...       uosmo        sdk.coin   \n1                               NaN     NaN  ...       uosmo        sdk.coin   \n2                               NaN     NaN  ...        uaxl        sdk.coin   \n3                               NaN     NaN  ...        uaxl        sdk.coin   \n4                               NaN     NaN  ...   wavax-wei        sdk.coin   \n...                             ...     ...  ...         ...             ...   \n11937              Staked Astroport  xASTRO  ...         NaN             NaN   \n11938                  Depegged UST    dUST  ...         NaN             NaN   \n11939  Local Terra Token (Wormhole)   LOCAL  ...         NaN             NaN   \n11940                   Sayve Token   SAYVE  ...         NaN             NaN   \n11941            Stader LunaX Token   LunaX  ...         NaN             NaN   \n\n                     path     channels    chain_id_counterparty  \\\n0      transfer/channel-0  [channel-0]                osmosis-1   \n1      transfer/channel-1  [channel-1]              osmo-test-4   \n2      transfer/channel-2  [channel-2]  axelar-testnet-lisbon-3   \n3      transfer/channel-0  [channel-0]            axelar-dojo-1   \n4      transfer/channel-0  [channel-0]            axelar-dojo-1   \n...                   ...          ...                      ...   \n11937                 NaN         None                      NaN   \n11938                 NaN         None                      NaN   \n11939                 NaN         None                      NaN   \n11940                 NaN         None                      NaN   \n11941                 NaN         None                      NaN   \n\n      channel_id_counterparty              supply_base  chain_id_base  \\\n0                channel-1011          605276664611957      osmosis-1   \n1                channel-2463                      NaN            NaN   \n2                 channel-165                      NaN            NaN   \n3                  channel-49         1079400300134563  axelar-dojo-1   \n4                  channel-49  11461924953701426289273  axelar-dojo-1   \n...                       ...                      ...            ...   \n11937                     NaN                      NaN            NaN   \n11938                     NaN                      NaN            NaN   \n11939                     NaN                      NaN            NaN   \n11940                     NaN                      NaN            NaN   \n11941                     NaN                      NaN            NaN   \n\n      one_channel admin  \n0            True   NaN  \n1            True   NaN  \n2            True   NaN  \n3            True   NaN  \n4            True   NaN  \n...           ...   ...  \n11937         NaN   NaN  \n11938         NaN   NaN  \n11939         NaN   NaN  \n11940         NaN   NaN  \n11941         NaN   NaN  \n\n[11942 rows x 21 columns]",
      "text/html": "<div>\n<style scoped>\n    .dataframe tbody tr th:only-of-type {\n        vertical-align: middle;\n    }\n\n    .dataframe tbody tr th {\n        vertical-align: top;\n    }\n\n    .dataframe thead th {\n        text-align: right;\n    }\n</style>\n<table border=\"1\" class=\"dataframe\">\n  <thead>\n    <tr style=\"text-align: right;\">\n      <th></th>\n      <th>chain_name</th>\n      <th>chain_id</th>\n      <th>denom</th>\n      <th>type_asset</th>\n      <th>supply</th>\n      <th>description</th>\n      <th>denom_units</th>\n      <th>display</th>\n      <th>name</th>\n      <th>symbol</th>\n      <th>...</th>\n      <th>denom_base</th>\n      <th>type_asset_base</th>\n      <th>path</th>\n      <th>channels</th>\n      <th>chain_id_counterparty</th>\n      <th>channel_id_counterparty</th>\n      <th>supply_base</th>\n      <th>chain_id_base</th>\n      <th>one_channel</th>\n      <th>admin</th>\n    </tr>\n  </thead>\n  <tbody>\n    <tr>\n      <th>0</th>\n      <td>realio</td>\n      <td>realionetwork_3301-1</td>\n      <td>ibc/ED07A3391A112B175915CD8FAF43A2DA8E4790EDE1...</td>\n      <td>ics20</td>\n      <td>1000</td>\n      <td>The native token of Osmosis</td>\n      <td>[{'denom': 'uosmo', 'exponent': 0, 'aliases': ...</td>\n      <td>osmo</td>\n      <td>NaN</td>\n      <td>NaN</td>\n      <td>...</td>\n      <td>uosmo</td>\n      <td>sdk.coin</td>\n      <td>transfer/channel-0</td>\n      <td>[channel-0]</td>\n      <td>osmosis-1</td>\n      <td>channel-1011</td>\n      <td>605276664611957</td>\n      <td>osmosis-1</td>\n      <td>True</td>\n      <td>NaN</td>\n    </tr>\n    <tr>\n      <th>1</th>\n      <td>loyal</td>\n      <td>loyal-main-02</td>\n      <td>ibc/0471F1C4E7AFD3F07702BEF6DC365268D64570F7C1...</td>\n      <td>ics20</td>\n      <td>100000</td>\n      <td>NaN</td>\n      <td>None</td>\n      <td>NaN</td>\n      <td>NaN</td>\n      <td>NaN</td>\n      <td>...</td>\n      <td>uosmo</td>\n      <td>sdk.coin</td>\n      <td>transfer/channel-1</td>\n      <td>[channel-1]</td>\n      <td>osmo-test-4</td>\n      <td>channel-2463</td>\n      <td>NaN</td>\n      <td>NaN</td>\n      <td>True</td>\n      <td>NaN</td>\n    </tr>\n    <tr>\n      <th>2</th>\n      <td>loyal</td>\n      <td>loyal-main-02</td>\n      <td>ibc/C0E66D1C81D8AAF0E6896E05190FDFBC222367148F...</td>\n      <td>ics20</td>\n      <td>1000000</td>\n      <td>NaN</td>\n      <td>None</td>\n      <td>NaN</td>\n      <td>NaN</td>\n      <td>NaN</td>\n      <td>...</td>\n      <td>uaxl</td>\n      <td>sdk.coin</td>\n      <td>transfer/channel-2</td>\n      <td>[channel-2]</td>\n      <td>axelar-testnet-lisbon-3</td>\n      <td>channel-165</td>\n      <td>NaN</td>\n      <td>NaN</td>\n      <td>True</td>\n      <td>NaN</td>\n    </tr>\n    <tr>\n      <th>3</th>\n      <td>xpla</td>\n      <td>dimension_37-1</td>\n      <td>ibc/2CC0B1B7A981ACC74854717F221008484603BB8360...</td>\n      <td>ics20</td>\n      <td>600098</td>\n      <td>NaN</td>\n      <td>None</td>\n      <td>NaN</td>\n      <td>NaN</td>\n      <td>NaN</td>\n      <td>...</td>\n      <td>uaxl</td>\n      <td>sdk.coin</td>\n      <td>transfer/channel-0</td>\n      <td>[channel-0]</td>\n      <td>axelar-dojo-1</td>\n      <td>channel-49</td>\n      <td>1079400300134563</td>\n      <td>axelar-dojo-1</td>\n      <td>True</td>\n      <td>NaN</td>\n    </tr>\n    <tr>\n      <th>4</th>\n      <td>xpla</td>\n      <td>dimension_37-1</td>\n      <td>ibc/6771714762A6F8F541DE7C461F09C68F310621315F...</td>\n      <td>ics20</td>\n      <td>93300000000000000</td>\n      <td>NaN</td>\n      <td>None</td>\n      <td>NaN</td>\n      <td>NaN</td>\n      <td>NaN</td>\n      <td>...</td>\n      <td>wavax-wei</td>\n      <td>sdk.coin</td>\n      <td>transfer/channel-0</td>\n      <td>[channel-0]</td>\n      <td>axelar-dojo-1</td>\n      <td>channel-49</td>\n      <td>11461924953701426289273</td>\n      <td>axelar-dojo-1</td>\n      <td>True</td>\n      <td>NaN</td>\n    </tr>\n    <tr>\n      <th>...</th>\n      <td>...</td>\n      <td>...</td>\n      <td>...</td>\n      <td>...</td>\n      <td>...</td>\n      <td>...</td>\n      <td>...</td>\n      <td>...</td>\n      <td>...</td>\n      <td>...</td>\n      <td>...</td>\n      <td>...</td>\n      <td>...</td>\n      <td>...</td>\n      <td>...</td>\n      <td>...</td>\n      <td>...</td>\n      <td>...</td>\n      <td>...</td>\n      <td>...</td>\n      <td>...</td>\n    </tr>\n    <tr>\n      <th>11937</th>\n      <td>terra2</td>\n      <td>phoenix-1</td>\n      <td>cw20:terra1x62mjnme4y0rdnag3r8rfgjuutsqlkkyuh4...</td>\n      <td>cw20</td>\n      <td>136970306811334</td>\n      <td>NaN</td>\n      <td>[{'denom': 'xastro', 'exponent': 6, 'aliases':...</td>\n      <td>NaN</td>\n      <td>Staked Astroport</td>\n      <td>xASTRO</td>\n      <td>...</td>\n      <td>NaN</td>\n      <td>NaN</td>\n      <td>NaN</td>\n      <td>None</td>\n      <td>NaN</td>\n      <td>NaN</td>\n      <td>NaN</td>\n      <td>NaN</td>\n      <td>NaN</td>\n      <td>NaN</td>\n    </tr>\n    <tr>\n      <th>11938</th>\n      <td>terra2</td>\n      <td>phoenix-1</td>\n      <td>cw20:terra17gck626vgax9jpe6utm7dhx4vdzawfkt0jh...</td>\n      <td>cw20</td>\n      <td>93000000000000</td>\n      <td>NaN</td>\n      <td>[{'denom': 'dust', 'exponent': 6, 'aliases': [...</td>\n      <td>NaN</td>\n      <td>Depegged UST</td>\n      <td>dUST</td>\n      <td>...</td>\n      <td>NaN</td>\n      <td>NaN</td>\n      <td>NaN</td>\n      <td>None</td>\n      <td>NaN</td>\n      <td>NaN</td>\n      <td>NaN</td>\n      <td>NaN</td>\n      <td>NaN</td>\n      <td>NaN</td>\n    </tr>\n    <tr>\n      <th>11939</th>\n      <td>terra2</td>\n      <td>phoenix-1</td>\n      <td>cw20:terra1xzkel96e5e8vfmqw7valzdzzv9hqasfyslc...</td>\n      <td>cw20</td>\n      <td>6572018665376</td>\n      <td>NaN</td>\n      <td>[{'denom': 'local', 'exponent': 6, 'aliases': ...</td>\n      <td>NaN</td>\n      <td>Local Terra Token (Wormhole)</td>\n      <td>LOCAL</td>\n      <td>...</td>\n      <td>NaN</td>\n      <td>NaN</td>\n      <td>NaN</td>\n      <td>None</td>\n      <td>NaN</td>\n      <td>NaN</td>\n      <td>NaN</td>\n      <td>NaN</td>\n      <td>NaN</td>\n      <td>NaN</td>\n    </tr>\n    <tr>\n      <th>11940</th>\n      <td>terra2</td>\n      <td>phoenix-1</td>\n      <td>cw20:terra1xp9hrhthzddnl7j5du83gqqr4wmdjm5t0gu...</td>\n      <td>cw20</td>\n      <td>100000000000000</td>\n      <td>NaN</td>\n      <td>[{'denom': 'sayve', 'exponent': 6, 'aliases': ...</td>\n      <td>NaN</td>\n      <td>Sayve Token</td>\n      <td>SAYVE</td>\n      <td>...</td>\n      <td>NaN</td>\n      <td>NaN</td>\n      <td>NaN</td>\n      <td>None</td>\n      <td>NaN</td>\n      <td>NaN</td>\n      <td>NaN</td>\n      <td>NaN</td>\n      <td>NaN</td>\n      <td>NaN</td>\n    </tr>\n    <tr>\n      <th>11941</th>\n      <td>terra2</td>\n      <td>phoenix-1</td>\n      <td>cw20:terra14xsm2wzvu7xaf567r693vgfkhmvfs08l68h...</td>\n      <td>cw20</td>\n      <td>350756356427</td>\n      <td>NaN</td>\n      <td>[{'denom': 'lunax', 'exponent': 6, 'aliases': ...</td>\n      <td>NaN</td>\n      <td>Stader LunaX Token</td>\n      <td>LunaX</td>\n      <td>...</td>\n      <td>NaN</td>\n      <td>NaN</td>\n      <td>NaN</td>\n      <td>None</td>\n      <td>NaN</td>\n      <td>NaN</td>\n      <td>NaN</td>\n      <td>NaN</td>\n      <td>NaN</td>\n      <td>NaN</td>\n    </tr>\n  </tbody>\n</table>\n<p>11942 rows × 21 columns</p>\n</div>"
     },
     "execution_count": 2,
     "metadata": {},
     "output_type": "execute_result"
    }
   ],
   "source": [
    "assets_df = pd.read_csv('data_csv/all_assets.csv', index_col=0)\n",
    "assets_df['channels'] = assets_df.channels.map(lambda x: ast.literal_eval(x) if type(x) == str else None)\n",
    "assets_df['denom_units'] = assets_df.denom_units.map(\n",
    "    lambda x: ast.literal_eval(x) if type(x) == str else None)\n",
    "assets_df"
   ]
  },
  {
   "cell_type": "markdown",
   "metadata": {
    "collapsed": false
   },
   "source": [
    "## charts"
   ]
  },
  {
   "cell_type": "code",
   "execution_count": 3,
   "metadata": {
    "collapsed": false,
    "execution": {
     "iopub.execute_input": "2023-08-21T10:07:07.801962Z",
     "iopub.status.busy": "2023-08-21T10:07:07.801668Z",
     "iopub.status.idle": "2023-08-21T10:07:07.809250Z",
     "shell.execute_reply": "2023-08-21T10:07:07.808351Z"
    },
    "ExecuteTime": {
     "end_time": "2023-08-21T10:46:41.775131Z",
     "start_time": "2023-08-21T10:46:41.768696Z"
    }
   },
   "outputs": [],
   "source": [
    "def aggregate_pie_plot(assets_df: pd.DataFrame, agg_column: str, n: int = 8, object_name: str = 'items') -> pd.Series:\n",
    "    assets_by_item_row = assets_df.groupby(agg_column)['denom'].agg(np.count_nonzero).sort_values(ascending=False)\n",
    "    assets_by_item = assets_by_item_row.head(n)\n",
    "    if len(assets_by_item_row) > n:\n",
    "        assets_by_item[f'remaining {len(assets_by_item_row) - n:>,} {object_name}<br>'] = sum(assets_by_item_row[n:])\n",
    "    return assets_by_item"
   ]
  },
  {
   "cell_type": "code",
   "execution_count": 4,
   "metadata": {
    "collapsed": false,
    "execution": {
     "iopub.execute_input": "2023-08-21T10:07:07.813013Z",
     "iopub.status.busy": "2023-08-21T10:07:07.812688Z",
     "iopub.status.idle": "2023-08-21T10:07:08.030217Z",
     "shell.execute_reply": "2023-08-21T10:07:08.029453Z"
    },
    "ExecuteTime": {
     "end_time": "2023-08-21T10:46:41.861183Z",
     "start_time": "2023-08-21T10:46:41.773566Z"
    }
   },
   "outputs": [],
   "source": [
    "ASSET_TYPE_DICT = \\\n",
    "    {'ics20': 'IBC (ICS-20)', \n",
    "     'sdk.coin': 'Native', \n",
    "     'pool': 'LP Tokens', \n",
    "     'factory': 'Token Factory', \n",
    "     'cw20': 'CW-20', \n",
    "     'erc20': 'ERC-20'}\n",
    "\n",
    "assets_by_chain = aggregate_pie_plot(assets_df=assets_df, agg_column='chain_name', object_name='chains\\n', n=17)\n",
    "\n",
    "assets_by_type_asset = aggregate_pie_plot(assets_df=assets_df, agg_column='type_asset')\n",
    "assets_by_type_asset.index = assets_by_type_asset.index.map(lambda x: ASSET_TYPE_DICT[x])\n",
    "\n",
    "assets_by_denom_base = aggregate_pie_plot(assets_df=assets_df, agg_column='denom_base', object_name='base denoms\\n', n=6)\n",
    "\n",
    "total_assets = len(assets_df)"
   ]
  },
  {
   "cell_type": "code",
   "execution_count": 5,
   "metadata": {
    "collapsed": false,
    "execution": {
     "iopub.execute_input": "2023-08-21T10:07:08.035578Z",
     "iopub.status.busy": "2023-08-21T10:07:08.035318Z",
     "iopub.status.idle": "2023-08-21T10:07:09.622731Z",
     "shell.execute_reply": "2023-08-21T10:07:09.621575Z"
    },
    "ExecuteTime": {
     "end_time": "2023-08-21T10:46:42.574306Z",
     "start_time": "2023-08-21T10:46:41.851188Z"
    }
   },
   "outputs": [
    {
     "data": {
      "application/vnd.plotly.v1+json": {
       "data": [
        {
         "domain": {
          "x": [
           0.0,
           1.0
          ],
          "y": [
           0.5700000000000001,
           1.0
          ]
         },
         "hoverinfo": "label+value+percent",
         "hovertemplate": "%{label}<br>%{value:>,} (%{percent:.1%})",
         "labels": [
          "provenance",
          "osmosis",
          "cosmoshub",
          "gravitybridge",
          "kujira",
          "juno",
          "carbon",
          "kava",
          "evmos",
          "crescent",
          "terra",
          "axelar",
          "injective",
          "secretnetwork",
          "terra2",
          "comdex",
          "sifchain",
          "remaining 96 chains\n<br>"
         ],
         "marker": {
          "colors": [
           "#636EFA",
           "#EF553B",
           "#00CC96",
           "#AB63FA",
           "#FFA15A",
           "#19D3F3",
           "#FF6692",
           "#B6E880",
           "#FF97FF",
           "#FECB52"
          ]
         },
         "name": "assets by chains",
         "rotation": -32,
         "sort": false,
         "text": [
          "4,064",
          "2,054",
          "654",
          "403",
          "393",
          "390",
          "295",
          "231",
          "214",
          "211",
          "192",
          "177",
          "170",
          "154",
          "143",
          "135",
          "132",
          "1,930"
         ],
         "textinfo": "label+value+percent",
         "textposition": "outside",
         "texttemplate": " %{label}  %{value:>,} (%{percent:.1%}) ",
         "values": [
          4064,
          2054,
          654,
          403,
          393,
          390,
          295,
          231,
          214,
          211,
          192,
          177,
          170,
          154,
          143,
          135,
          132,
          1930
         ],
         "type": "pie"
        },
        {
         "domain": {
          "x": [
           0.0,
           0.3
          ],
          "y": [
           0.0,
           0.43
          ]
         },
         "hoverinfo": "label+value+percent",
         "hovertemplate": "%{label}<br>%{value:>,} (%{percent:.1%})",
         "labels": [
          "IBC (ICS-20)",
          "Native",
          "LP Tokens",
          "Token Factory",
          "CW-20",
          "ERC-20"
         ],
         "marker": {
          "colors": [
           "#3366CC",
           "#DC3912",
           "#FF9900",
           "#109618",
           "#990099",
           "#0099C6",
           "#DD4477",
           "#66AA00",
           "#B82E2E",
           "#316395"
          ]
         },
         "name": "assets by type",
         "rotation": 91,
         "sort": false,
         "text": [
          "5,358",
          "4,976",
          "1,226",
          "233",
          "80",
          "69"
         ],
         "textinfo": "label+value+percent",
         "textposition": "outside",
         "texttemplate": " %{label}  %{value:>,} (%{percent:.1%}) ",
         "values": [
          5358,
          4976,
          1226,
          233,
          80,
          69
         ],
         "type": "pie"
        },
        {
         "domain": {
          "x": [
           0.7,
           1.0
          ],
          "y": [
           0.0,
           0.43
          ]
         },
         "hoverinfo": "label+value+percent",
         "hovertemplate": "%{label}<br>%{value:>,} (%{percent:.1%})",
         "labels": [
          "uatom",
          "uluna",
          "uusdc",
          "uosmo",
          "uusd",
          "aevmos",
          "remaining 6,719 base denoms\n<br>"
         ],
         "marker": {
          "colors": [
           "rgb(153,153,153)",
           "rgb(247,129,191)",
           "rgb(166,86,40)",
           "rgb(255,255,51)",
           "rgb(255,127,0)",
           "rgb(152,78,163)",
           "rgb(77,175,74)",
           "rgb(55,126,184)",
           "rgb(228,26,28)"
          ]
         },
         "name": "assets by base denoms",
         "rotation": 75,
         "sort": false,
         "text": [
          "409",
          "331",
          "265",
          "217",
          "180",
          "127",
          "10,333"
         ],
         "textinfo": "label+value+percent",
         "textposition": "outside",
         "texttemplate": " %{label}  %{value:>,} (%{percent:.1%}) ",
         "values": [
          409,
          331,
          265,
          217,
          180,
          127,
          10333
         ],
         "type": "pie"
        }
       ],
       "layout": {
        "annotations": [
         {
          "font": {
           "size": 16
          },
          "showarrow": false,
          "text": "Cosmos-SDK Assets by Chains",
          "x": 0.5,
          "xanchor": "center",
          "xref": "paper",
          "y": 1.04,
          "yanchor": "bottom",
          "yref": "paper"
         },
         {
          "font": {
           "size": 16
          },
          "showarrow": false,
          "text": "by Type",
          "x": 0.15,
          "xanchor": "center",
          "xref": "paper",
          "y": 0.37,
          "yanchor": "bottom",
          "yref": "paper"
         },
         {
          "font": {
           "size": 16
          },
          "showarrow": false,
          "text": "by Base Denoms",
          "x": 0.85,
          "xanchor": "center",
          "xref": "paper",
          "y": 0.37,
          "yanchor": "bottom",
          "yref": "paper"
         },
         {
          "showarrow": false,
          "text": "github.com/Snedashkovsky/on-chain-registry",
          "x": -0.3,
          "y": -0.05
         },
         {
          "showarrow": false,
          "text": "updated 2023-08-21",
          "x": 1.25,
          "y": -0.05
         }
        ],
        "autosize": false,
        "font": {
         "family": "Play"
        },
        "height": 850,
        "margin": {
         "b": 0,
         "l": 0,
         "r": 0,
         "t": 80
        },
        "showlegend": false,
        "template": {
         "data": {
          "barpolar": [
           {
            "marker": {
             "line": {
              "color": "white",
              "width": 0.5
             },
             "pattern": {
              "fillmode": "overlay",
              "size": 10,
              "solidity": 0.2
             }
            },
            "type": "barpolar"
           }
          ],
          "bar": [
           {
            "error_x": {
             "color": "#2a3f5f"
            },
            "error_y": {
             "color": "#2a3f5f"
            },
            "marker": {
             "line": {
              "color": "white",
              "width": 0.5
             },
             "pattern": {
              "fillmode": "overlay",
              "size": 10,
              "solidity": 0.2
             }
            },
            "type": "bar"
           }
          ],
          "carpet": [
           {
            "aaxis": {
             "endlinecolor": "#2a3f5f",
             "gridcolor": "#C8D4E3",
             "linecolor": "#C8D4E3",
             "minorgridcolor": "#C8D4E3",
             "startlinecolor": "#2a3f5f"
            },
            "baxis": {
             "endlinecolor": "#2a3f5f",
             "gridcolor": "#C8D4E3",
             "linecolor": "#C8D4E3",
             "minorgridcolor": "#C8D4E3",
             "startlinecolor": "#2a3f5f"
            },
            "type": "carpet"
           }
          ],
          "choropleth": [
           {
            "colorbar": {
             "outlinewidth": 0,
             "ticks": ""
            },
            "type": "choropleth"
           }
          ],
          "contourcarpet": [
           {
            "colorbar": {
             "outlinewidth": 0,
             "ticks": ""
            },
            "type": "contourcarpet"
           }
          ],
          "contour": [
           {
            "colorbar": {
             "outlinewidth": 0,
             "ticks": ""
            },
            "colorscale": [
             [
              0.0,
              "#0d0887"
             ],
             [
              0.1111111111111111,
              "#46039f"
             ],
             [
              0.2222222222222222,
              "#7201a8"
             ],
             [
              0.3333333333333333,
              "#9c179e"
             ],
             [
              0.4444444444444444,
              "#bd3786"
             ],
             [
              0.5555555555555556,
              "#d8576b"
             ],
             [
              0.6666666666666666,
              "#ed7953"
             ],
             [
              0.7777777777777778,
              "#fb9f3a"
             ],
             [
              0.8888888888888888,
              "#fdca26"
             ],
             [
              1.0,
              "#f0f921"
             ]
            ],
            "type": "contour"
           }
          ],
          "heatmapgl": [
           {
            "colorbar": {
             "outlinewidth": 0,
             "ticks": ""
            },
            "colorscale": [
             [
              0.0,
              "#0d0887"
             ],
             [
              0.1111111111111111,
              "#46039f"
             ],
             [
              0.2222222222222222,
              "#7201a8"
             ],
             [
              0.3333333333333333,
              "#9c179e"
             ],
             [
              0.4444444444444444,
              "#bd3786"
             ],
             [
              0.5555555555555556,
              "#d8576b"
             ],
             [
              0.6666666666666666,
              "#ed7953"
             ],
             [
              0.7777777777777778,
              "#fb9f3a"
             ],
             [
              0.8888888888888888,
              "#fdca26"
             ],
             [
              1.0,
              "#f0f921"
             ]
            ],
            "type": "heatmapgl"
           }
          ],
          "heatmap": [
           {
            "colorbar": {
             "outlinewidth": 0,
             "ticks": ""
            },
            "colorscale": [
             [
              0.0,
              "#0d0887"
             ],
             [
              0.1111111111111111,
              "#46039f"
             ],
             [
              0.2222222222222222,
              "#7201a8"
             ],
             [
              0.3333333333333333,
              "#9c179e"
             ],
             [
              0.4444444444444444,
              "#bd3786"
             ],
             [
              0.5555555555555556,
              "#d8576b"
             ],
             [
              0.6666666666666666,
              "#ed7953"
             ],
             [
              0.7777777777777778,
              "#fb9f3a"
             ],
             [
              0.8888888888888888,
              "#fdca26"
             ],
             [
              1.0,
              "#f0f921"
             ]
            ],
            "type": "heatmap"
           }
          ],
          "histogram2dcontour": [
           {
            "colorbar": {
             "outlinewidth": 0,
             "ticks": ""
            },
            "colorscale": [
             [
              0.0,
              "#0d0887"
             ],
             [
              0.1111111111111111,
              "#46039f"
             ],
             [
              0.2222222222222222,
              "#7201a8"
             ],
             [
              0.3333333333333333,
              "#9c179e"
             ],
             [
              0.4444444444444444,
              "#bd3786"
             ],
             [
              0.5555555555555556,
              "#d8576b"
             ],
             [
              0.6666666666666666,
              "#ed7953"
             ],
             [
              0.7777777777777778,
              "#fb9f3a"
             ],
             [
              0.8888888888888888,
              "#fdca26"
             ],
             [
              1.0,
              "#f0f921"
             ]
            ],
            "type": "histogram2dcontour"
           }
          ],
          "histogram2d": [
           {
            "colorbar": {
             "outlinewidth": 0,
             "ticks": ""
            },
            "colorscale": [
             [
              0.0,
              "#0d0887"
             ],
             [
              0.1111111111111111,
              "#46039f"
             ],
             [
              0.2222222222222222,
              "#7201a8"
             ],
             [
              0.3333333333333333,
              "#9c179e"
             ],
             [
              0.4444444444444444,
              "#bd3786"
             ],
             [
              0.5555555555555556,
              "#d8576b"
             ],
             [
              0.6666666666666666,
              "#ed7953"
             ],
             [
              0.7777777777777778,
              "#fb9f3a"
             ],
             [
              0.8888888888888888,
              "#fdca26"
             ],
             [
              1.0,
              "#f0f921"
             ]
            ],
            "type": "histogram2d"
           }
          ],
          "histogram": [
           {
            "marker": {
             "pattern": {
              "fillmode": "overlay",
              "size": 10,
              "solidity": 0.2
             }
            },
            "type": "histogram"
           }
          ],
          "mesh3d": [
           {
            "colorbar": {
             "outlinewidth": 0,
             "ticks": ""
            },
            "type": "mesh3d"
           }
          ],
          "parcoords": [
           {
            "line": {
             "colorbar": {
              "outlinewidth": 0,
              "ticks": ""
             }
            },
            "type": "parcoords"
           }
          ],
          "pie": [
           {
            "automargin": true,
            "type": "pie"
           }
          ],
          "scatter3d": [
           {
            "line": {
             "colorbar": {
              "outlinewidth": 0,
              "ticks": ""
             }
            },
            "marker": {
             "colorbar": {
              "outlinewidth": 0,
              "ticks": ""
             }
            },
            "type": "scatter3d"
           }
          ],
          "scattercarpet": [
           {
            "marker": {
             "colorbar": {
              "outlinewidth": 0,
              "ticks": ""
             }
            },
            "type": "scattercarpet"
           }
          ],
          "scattergeo": [
           {
            "marker": {
             "colorbar": {
              "outlinewidth": 0,
              "ticks": ""
             }
            },
            "type": "scattergeo"
           }
          ],
          "scattergl": [
           {
            "marker": {
             "colorbar": {
              "outlinewidth": 0,
              "ticks": ""
             }
            },
            "type": "scattergl"
           }
          ],
          "scattermapbox": [
           {
            "marker": {
             "colorbar": {
              "outlinewidth": 0,
              "ticks": ""
             }
            },
            "type": "scattermapbox"
           }
          ],
          "scatterpolargl": [
           {
            "marker": {
             "colorbar": {
              "outlinewidth": 0,
              "ticks": ""
             }
            },
            "type": "scatterpolargl"
           }
          ],
          "scatterpolar": [
           {
            "marker": {
             "colorbar": {
              "outlinewidth": 0,
              "ticks": ""
             }
            },
            "type": "scatterpolar"
           }
          ],
          "scatter": [
           {
            "fillpattern": {
             "fillmode": "overlay",
             "size": 10,
             "solidity": 0.2
            },
            "type": "scatter"
           }
          ],
          "scatterternary": [
           {
            "marker": {
             "colorbar": {
              "outlinewidth": 0,
              "ticks": ""
             }
            },
            "type": "scatterternary"
           }
          ],
          "surface": [
           {
            "colorbar": {
             "outlinewidth": 0,
             "ticks": ""
            },
            "colorscale": [
             [
              0.0,
              "#0d0887"
             ],
             [
              0.1111111111111111,
              "#46039f"
             ],
             [
              0.2222222222222222,
              "#7201a8"
             ],
             [
              0.3333333333333333,
              "#9c179e"
             ],
             [
              0.4444444444444444,
              "#bd3786"
             ],
             [
              0.5555555555555556,
              "#d8576b"
             ],
             [
              0.6666666666666666,
              "#ed7953"
             ],
             [
              0.7777777777777778,
              "#fb9f3a"
             ],
             [
              0.8888888888888888,
              "#fdca26"
             ],
             [
              1.0,
              "#f0f921"
             ]
            ],
            "type": "surface"
           }
          ],
          "table": [
           {
            "cells": {
             "fill": {
              "color": "#EBF0F8"
             },
             "line": {
              "color": "white"
             }
            },
            "header": {
             "fill": {
              "color": "#C8D4E3"
             },
             "line": {
              "color": "white"
             }
            },
            "type": "table"
           }
          ]
         },
         "layout": {
          "annotationdefaults": {
           "arrowcolor": "#2a3f5f",
           "arrowhead": 0,
           "arrowwidth": 1
          },
          "autotypenumbers": "strict",
          "coloraxis": {
           "colorbar": {
            "outlinewidth": 0,
            "ticks": ""
           }
          },
          "colorscale": {
           "diverging": [
            [
             0,
             "#8e0152"
            ],
            [
             0.1,
             "#c51b7d"
            ],
            [
             0.2,
             "#de77ae"
            ],
            [
             0.3,
             "#f1b6da"
            ],
            [
             0.4,
             "#fde0ef"
            ],
            [
             0.5,
             "#f7f7f7"
            ],
            [
             0.6,
             "#e6f5d0"
            ],
            [
             0.7,
             "#b8e186"
            ],
            [
             0.8,
             "#7fbc41"
            ],
            [
             0.9,
             "#4d9221"
            ],
            [
             1,
             "#276419"
            ]
           ],
           "sequential": [
            [
             0.0,
             "#0d0887"
            ],
            [
             0.1111111111111111,
             "#46039f"
            ],
            [
             0.2222222222222222,
             "#7201a8"
            ],
            [
             0.3333333333333333,
             "#9c179e"
            ],
            [
             0.4444444444444444,
             "#bd3786"
            ],
            [
             0.5555555555555556,
             "#d8576b"
            ],
            [
             0.6666666666666666,
             "#ed7953"
            ],
            [
             0.7777777777777778,
             "#fb9f3a"
            ],
            [
             0.8888888888888888,
             "#fdca26"
            ],
            [
             1.0,
             "#f0f921"
            ]
           ],
           "sequentialminus": [
            [
             0.0,
             "#0d0887"
            ],
            [
             0.1111111111111111,
             "#46039f"
            ],
            [
             0.2222222222222222,
             "#7201a8"
            ],
            [
             0.3333333333333333,
             "#9c179e"
            ],
            [
             0.4444444444444444,
             "#bd3786"
            ],
            [
             0.5555555555555556,
             "#d8576b"
            ],
            [
             0.6666666666666666,
             "#ed7953"
            ],
            [
             0.7777777777777778,
             "#fb9f3a"
            ],
            [
             0.8888888888888888,
             "#fdca26"
            ],
            [
             1.0,
             "#f0f921"
            ]
           ]
          },
          "colorway": [
           "#636efa",
           "#EF553B",
           "#00cc96",
           "#ab63fa",
           "#FFA15A",
           "#19d3f3",
           "#FF6692",
           "#B6E880",
           "#FF97FF",
           "#FECB52"
          ],
          "font": {
           "color": "#2a3f5f"
          },
          "geo": {
           "bgcolor": "white",
           "lakecolor": "white",
           "landcolor": "white",
           "showlakes": true,
           "showland": true,
           "subunitcolor": "#C8D4E3"
          },
          "hoverlabel": {
           "align": "left"
          },
          "hovermode": "closest",
          "mapbox": {
           "style": "light"
          },
          "paper_bgcolor": "white",
          "plot_bgcolor": "white",
          "polar": {
           "angularaxis": {
            "gridcolor": "#EBF0F8",
            "linecolor": "#EBF0F8",
            "ticks": ""
           },
           "bgcolor": "white",
           "radialaxis": {
            "gridcolor": "#EBF0F8",
            "linecolor": "#EBF0F8",
            "ticks": ""
           }
          },
          "scene": {
           "xaxis": {
            "backgroundcolor": "white",
            "gridcolor": "#DFE8F3",
            "gridwidth": 2,
            "linecolor": "#EBF0F8",
            "showbackground": true,
            "ticks": "",
            "zerolinecolor": "#EBF0F8"
           },
           "yaxis": {
            "backgroundcolor": "white",
            "gridcolor": "#DFE8F3",
            "gridwidth": 2,
            "linecolor": "#EBF0F8",
            "showbackground": true,
            "ticks": "",
            "zerolinecolor": "#EBF0F8"
           },
           "zaxis": {
            "backgroundcolor": "white",
            "gridcolor": "#DFE8F3",
            "gridwidth": 2,
            "linecolor": "#EBF0F8",
            "showbackground": true,
            "ticks": "",
            "zerolinecolor": "#EBF0F8"
           }
          },
          "shapedefaults": {
           "line": {
            "color": "#2a3f5f"
           }
          },
          "ternary": {
           "aaxis": {
            "gridcolor": "#DFE8F3",
            "linecolor": "#A2B1C6",
            "ticks": ""
           },
           "baxis": {
            "gridcolor": "#DFE8F3",
            "linecolor": "#A2B1C6",
            "ticks": ""
           },
           "bgcolor": "white",
           "caxis": {
            "gridcolor": "#DFE8F3",
            "linecolor": "#A2B1C6",
            "ticks": ""
           }
          },
          "title": {
           "x": 0.05
          },
          "xaxis": {
           "automargin": true,
           "gridcolor": "#EBF0F8",
           "linecolor": "#EBF0F8",
           "ticks": "",
           "title": {
            "standoff": 15
           },
           "zerolinecolor": "#EBF0F8",
           "zerolinewidth": 2
          },
          "yaxis": {
           "automargin": true,
           "gridcolor": "#EBF0F8",
           "linecolor": "#EBF0F8",
           "ticks": "",
           "title": {
            "standoff": 15
           },
           "zerolinecolor": "#EBF0F8",
           "zerolinewidth": 2
          }
         }
        },
        "title": {
         "text": "",
         "x": 0.5
        },
        "width": 1000
       },
       "config": {
        "showLink": false,
        "linkText": "Export to plot.ly",
        "plotlyServerURL": "https://plot.ly"
       }
      },
      "text/html": "<div>                            <div id=\"352d84f6-e13b-4990-adb6-d29d9ac135ab\" class=\"plotly-graph-div\" style=\"height:850px; width:1000px;\"></div>            <script type=\"text/javascript\">                require([\"plotly\"], function(Plotly) {                    window.PLOTLYENV=window.PLOTLYENV || {};                                    if (document.getElementById(\"352d84f6-e13b-4990-adb6-d29d9ac135ab\")) {                    Plotly.newPlot(                        \"352d84f6-e13b-4990-adb6-d29d9ac135ab\",                        [{\"domain\":{\"x\":[0.0,1.0],\"y\":[0.5700000000000001,1.0]},\"hoverinfo\":\"label+value+percent\",\"hovertemplate\":\"%{label}\\u003cbr\\u003e%{value:\\u003e,} (%{percent:.1%})\",\"labels\":[\"provenance\",\"osmosis\",\"cosmoshub\",\"gravitybridge\",\"kujira\",\"juno\",\"carbon\",\"kava\",\"evmos\",\"crescent\",\"terra\",\"axelar\",\"injective\",\"secretnetwork\",\"terra2\",\"comdex\",\"sifchain\",\"remaining 96 chains\\n\\u003cbr\\u003e\"],\"marker\":{\"colors\":[\"#636EFA\",\"#EF553B\",\"#00CC96\",\"#AB63FA\",\"#FFA15A\",\"#19D3F3\",\"#FF6692\",\"#B6E880\",\"#FF97FF\",\"#FECB52\"]},\"name\":\"assets by chains\",\"rotation\":-32,\"sort\":false,\"text\":[\"4,064\",\"2,054\",\"654\",\"403\",\"393\",\"390\",\"295\",\"231\",\"214\",\"211\",\"192\",\"177\",\"170\",\"154\",\"143\",\"135\",\"132\",\"1,930\"],\"textinfo\":\"label+value+percent\",\"textposition\":\"outside\",\"texttemplate\":\" %{label}  %{value:\\u003e,} (%{percent:.1%}) \",\"values\":[4064,2054,654,403,393,390,295,231,214,211,192,177,170,154,143,135,132,1930],\"type\":\"pie\"},{\"domain\":{\"x\":[0.0,0.3],\"y\":[0.0,0.43]},\"hoverinfo\":\"label+value+percent\",\"hovertemplate\":\"%{label}\\u003cbr\\u003e%{value:\\u003e,} (%{percent:.1%})\",\"labels\":[\"IBC (ICS-20)\",\"Native\",\"LP Tokens\",\"Token Factory\",\"CW-20\",\"ERC-20\"],\"marker\":{\"colors\":[\"#3366CC\",\"#DC3912\",\"#FF9900\",\"#109618\",\"#990099\",\"#0099C6\",\"#DD4477\",\"#66AA00\",\"#B82E2E\",\"#316395\"]},\"name\":\"assets by type\",\"rotation\":91,\"sort\":false,\"text\":[\"5,358\",\"4,976\",\"1,226\",\"233\",\"80\",\"69\"],\"textinfo\":\"label+value+percent\",\"textposition\":\"outside\",\"texttemplate\":\" %{label}  %{value:\\u003e,} (%{percent:.1%}) \",\"values\":[5358,4976,1226,233,80,69],\"type\":\"pie\"},{\"domain\":{\"x\":[0.7,1.0],\"y\":[0.0,0.43]},\"hoverinfo\":\"label+value+percent\",\"hovertemplate\":\"%{label}\\u003cbr\\u003e%{value:\\u003e,} (%{percent:.1%})\",\"labels\":[\"uatom\",\"uluna\",\"uusdc\",\"uosmo\",\"uusd\",\"aevmos\",\"remaining 6,719 base denoms\\n\\u003cbr\\u003e\"],\"marker\":{\"colors\":[\"rgb(153,153,153)\",\"rgb(247,129,191)\",\"rgb(166,86,40)\",\"rgb(255,255,51)\",\"rgb(255,127,0)\",\"rgb(152,78,163)\",\"rgb(77,175,74)\",\"rgb(55,126,184)\",\"rgb(228,26,28)\"]},\"name\":\"assets by base denoms\",\"rotation\":75,\"sort\":false,\"text\":[\"409\",\"331\",\"265\",\"217\",\"180\",\"127\",\"10,333\"],\"textinfo\":\"label+value+percent\",\"textposition\":\"outside\",\"texttemplate\":\" %{label}  %{value:\\u003e,} (%{percent:.1%}) \",\"values\":[409,331,265,217,180,127,10333],\"type\":\"pie\"}],                        {\"annotations\":[{\"font\":{\"size\":16},\"showarrow\":false,\"text\":\"Cosmos-SDK Assets by Chains\",\"x\":0.5,\"xanchor\":\"center\",\"xref\":\"paper\",\"y\":1.04,\"yanchor\":\"bottom\",\"yref\":\"paper\"},{\"font\":{\"size\":16},\"showarrow\":false,\"text\":\"by Type\",\"x\":0.15,\"xanchor\":\"center\",\"xref\":\"paper\",\"y\":0.37,\"yanchor\":\"bottom\",\"yref\":\"paper\"},{\"font\":{\"size\":16},\"showarrow\":false,\"text\":\"by Base Denoms\",\"x\":0.85,\"xanchor\":\"center\",\"xref\":\"paper\",\"y\":0.37,\"yanchor\":\"bottom\",\"yref\":\"paper\"},{\"showarrow\":false,\"text\":\"github.com\\u002fSnedashkovsky\\u002fon-chain-registry\",\"x\":-0.3,\"y\":-0.05},{\"showarrow\":false,\"text\":\"updated 2023-08-21\",\"x\":1.25,\"y\":-0.05}],\"autosize\":false,\"font\":{\"family\":\"Play\"},\"height\":850,\"margin\":{\"b\":0,\"l\":0,\"r\":0,\"t\":80},\"showlegend\":false,\"template\":{\"data\":{\"barpolar\":[{\"marker\":{\"line\":{\"color\":\"white\",\"width\":0.5},\"pattern\":{\"fillmode\":\"overlay\",\"size\":10,\"solidity\":0.2}},\"type\":\"barpolar\"}],\"bar\":[{\"error_x\":{\"color\":\"#2a3f5f\"},\"error_y\":{\"color\":\"#2a3f5f\"},\"marker\":{\"line\":{\"color\":\"white\",\"width\":0.5},\"pattern\":{\"fillmode\":\"overlay\",\"size\":10,\"solidity\":0.2}},\"type\":\"bar\"}],\"carpet\":[{\"aaxis\":{\"endlinecolor\":\"#2a3f5f\",\"gridcolor\":\"#C8D4E3\",\"linecolor\":\"#C8D4E3\",\"minorgridcolor\":\"#C8D4E3\",\"startlinecolor\":\"#2a3f5f\"},\"baxis\":{\"endlinecolor\":\"#2a3f5f\",\"gridcolor\":\"#C8D4E3\",\"linecolor\":\"#C8D4E3\",\"minorgridcolor\":\"#C8D4E3\",\"startlinecolor\":\"#2a3f5f\"},\"type\":\"carpet\"}],\"choropleth\":[{\"colorbar\":{\"outlinewidth\":0,\"ticks\":\"\"},\"type\":\"choropleth\"}],\"contourcarpet\":[{\"colorbar\":{\"outlinewidth\":0,\"ticks\":\"\"},\"type\":\"contourcarpet\"}],\"contour\":[{\"colorbar\":{\"outlinewidth\":0,\"ticks\":\"\"},\"colorscale\":[[0.0,\"#0d0887\"],[0.1111111111111111,\"#46039f\"],[0.2222222222222222,\"#7201a8\"],[0.3333333333333333,\"#9c179e\"],[0.4444444444444444,\"#bd3786\"],[0.5555555555555556,\"#d8576b\"],[0.6666666666666666,\"#ed7953\"],[0.7777777777777778,\"#fb9f3a\"],[0.8888888888888888,\"#fdca26\"],[1.0,\"#f0f921\"]],\"type\":\"contour\"}],\"heatmapgl\":[{\"colorbar\":{\"outlinewidth\":0,\"ticks\":\"\"},\"colorscale\":[[0.0,\"#0d0887\"],[0.1111111111111111,\"#46039f\"],[0.2222222222222222,\"#7201a8\"],[0.3333333333333333,\"#9c179e\"],[0.4444444444444444,\"#bd3786\"],[0.5555555555555556,\"#d8576b\"],[0.6666666666666666,\"#ed7953\"],[0.7777777777777778,\"#fb9f3a\"],[0.8888888888888888,\"#fdca26\"],[1.0,\"#f0f921\"]],\"type\":\"heatmapgl\"}],\"heatmap\":[{\"colorbar\":{\"outlinewidth\":0,\"ticks\":\"\"},\"colorscale\":[[0.0,\"#0d0887\"],[0.1111111111111111,\"#46039f\"],[0.2222222222222222,\"#7201a8\"],[0.3333333333333333,\"#9c179e\"],[0.4444444444444444,\"#bd3786\"],[0.5555555555555556,\"#d8576b\"],[0.6666666666666666,\"#ed7953\"],[0.7777777777777778,\"#fb9f3a\"],[0.8888888888888888,\"#fdca26\"],[1.0,\"#f0f921\"]],\"type\":\"heatmap\"}],\"histogram2dcontour\":[{\"colorbar\":{\"outlinewidth\":0,\"ticks\":\"\"},\"colorscale\":[[0.0,\"#0d0887\"],[0.1111111111111111,\"#46039f\"],[0.2222222222222222,\"#7201a8\"],[0.3333333333333333,\"#9c179e\"],[0.4444444444444444,\"#bd3786\"],[0.5555555555555556,\"#d8576b\"],[0.6666666666666666,\"#ed7953\"],[0.7777777777777778,\"#fb9f3a\"],[0.8888888888888888,\"#fdca26\"],[1.0,\"#f0f921\"]],\"type\":\"histogram2dcontour\"}],\"histogram2d\":[{\"colorbar\":{\"outlinewidth\":0,\"ticks\":\"\"},\"colorscale\":[[0.0,\"#0d0887\"],[0.1111111111111111,\"#46039f\"],[0.2222222222222222,\"#7201a8\"],[0.3333333333333333,\"#9c179e\"],[0.4444444444444444,\"#bd3786\"],[0.5555555555555556,\"#d8576b\"],[0.6666666666666666,\"#ed7953\"],[0.7777777777777778,\"#fb9f3a\"],[0.8888888888888888,\"#fdca26\"],[1.0,\"#f0f921\"]],\"type\":\"histogram2d\"}],\"histogram\":[{\"marker\":{\"pattern\":{\"fillmode\":\"overlay\",\"size\":10,\"solidity\":0.2}},\"type\":\"histogram\"}],\"mesh3d\":[{\"colorbar\":{\"outlinewidth\":0,\"ticks\":\"\"},\"type\":\"mesh3d\"}],\"parcoords\":[{\"line\":{\"colorbar\":{\"outlinewidth\":0,\"ticks\":\"\"}},\"type\":\"parcoords\"}],\"pie\":[{\"automargin\":true,\"type\":\"pie\"}],\"scatter3d\":[{\"line\":{\"colorbar\":{\"outlinewidth\":0,\"ticks\":\"\"}},\"marker\":{\"colorbar\":{\"outlinewidth\":0,\"ticks\":\"\"}},\"type\":\"scatter3d\"}],\"scattercarpet\":[{\"marker\":{\"colorbar\":{\"outlinewidth\":0,\"ticks\":\"\"}},\"type\":\"scattercarpet\"}],\"scattergeo\":[{\"marker\":{\"colorbar\":{\"outlinewidth\":0,\"ticks\":\"\"}},\"type\":\"scattergeo\"}],\"scattergl\":[{\"marker\":{\"colorbar\":{\"outlinewidth\":0,\"ticks\":\"\"}},\"type\":\"scattergl\"}],\"scattermapbox\":[{\"marker\":{\"colorbar\":{\"outlinewidth\":0,\"ticks\":\"\"}},\"type\":\"scattermapbox\"}],\"scatterpolargl\":[{\"marker\":{\"colorbar\":{\"outlinewidth\":0,\"ticks\":\"\"}},\"type\":\"scatterpolargl\"}],\"scatterpolar\":[{\"marker\":{\"colorbar\":{\"outlinewidth\":0,\"ticks\":\"\"}},\"type\":\"scatterpolar\"}],\"scatter\":[{\"fillpattern\":{\"fillmode\":\"overlay\",\"size\":10,\"solidity\":0.2},\"type\":\"scatter\"}],\"scatterternary\":[{\"marker\":{\"colorbar\":{\"outlinewidth\":0,\"ticks\":\"\"}},\"type\":\"scatterternary\"}],\"surface\":[{\"colorbar\":{\"outlinewidth\":0,\"ticks\":\"\"},\"colorscale\":[[0.0,\"#0d0887\"],[0.1111111111111111,\"#46039f\"],[0.2222222222222222,\"#7201a8\"],[0.3333333333333333,\"#9c179e\"],[0.4444444444444444,\"#bd3786\"],[0.5555555555555556,\"#d8576b\"],[0.6666666666666666,\"#ed7953\"],[0.7777777777777778,\"#fb9f3a\"],[0.8888888888888888,\"#fdca26\"],[1.0,\"#f0f921\"]],\"type\":\"surface\"}],\"table\":[{\"cells\":{\"fill\":{\"color\":\"#EBF0F8\"},\"line\":{\"color\":\"white\"}},\"header\":{\"fill\":{\"color\":\"#C8D4E3\"},\"line\":{\"color\":\"white\"}},\"type\":\"table\"}]},\"layout\":{\"annotationdefaults\":{\"arrowcolor\":\"#2a3f5f\",\"arrowhead\":0,\"arrowwidth\":1},\"autotypenumbers\":\"strict\",\"coloraxis\":{\"colorbar\":{\"outlinewidth\":0,\"ticks\":\"\"}},\"colorscale\":{\"diverging\":[[0,\"#8e0152\"],[0.1,\"#c51b7d\"],[0.2,\"#de77ae\"],[0.3,\"#f1b6da\"],[0.4,\"#fde0ef\"],[0.5,\"#f7f7f7\"],[0.6,\"#e6f5d0\"],[0.7,\"#b8e186\"],[0.8,\"#7fbc41\"],[0.9,\"#4d9221\"],[1,\"#276419\"]],\"sequential\":[[0.0,\"#0d0887\"],[0.1111111111111111,\"#46039f\"],[0.2222222222222222,\"#7201a8\"],[0.3333333333333333,\"#9c179e\"],[0.4444444444444444,\"#bd3786\"],[0.5555555555555556,\"#d8576b\"],[0.6666666666666666,\"#ed7953\"],[0.7777777777777778,\"#fb9f3a\"],[0.8888888888888888,\"#fdca26\"],[1.0,\"#f0f921\"]],\"sequentialminus\":[[0.0,\"#0d0887\"],[0.1111111111111111,\"#46039f\"],[0.2222222222222222,\"#7201a8\"],[0.3333333333333333,\"#9c179e\"],[0.4444444444444444,\"#bd3786\"],[0.5555555555555556,\"#d8576b\"],[0.6666666666666666,\"#ed7953\"],[0.7777777777777778,\"#fb9f3a\"],[0.8888888888888888,\"#fdca26\"],[1.0,\"#f0f921\"]]},\"colorway\":[\"#636efa\",\"#EF553B\",\"#00cc96\",\"#ab63fa\",\"#FFA15A\",\"#19d3f3\",\"#FF6692\",\"#B6E880\",\"#FF97FF\",\"#FECB52\"],\"font\":{\"color\":\"#2a3f5f\"},\"geo\":{\"bgcolor\":\"white\",\"lakecolor\":\"white\",\"landcolor\":\"white\",\"showlakes\":true,\"showland\":true,\"subunitcolor\":\"#C8D4E3\"},\"hoverlabel\":{\"align\":\"left\"},\"hovermode\":\"closest\",\"mapbox\":{\"style\":\"light\"},\"paper_bgcolor\":\"white\",\"plot_bgcolor\":\"white\",\"polar\":{\"angularaxis\":{\"gridcolor\":\"#EBF0F8\",\"linecolor\":\"#EBF0F8\",\"ticks\":\"\"},\"bgcolor\":\"white\",\"radialaxis\":{\"gridcolor\":\"#EBF0F8\",\"linecolor\":\"#EBF0F8\",\"ticks\":\"\"}},\"scene\":{\"xaxis\":{\"backgroundcolor\":\"white\",\"gridcolor\":\"#DFE8F3\",\"gridwidth\":2,\"linecolor\":\"#EBF0F8\",\"showbackground\":true,\"ticks\":\"\",\"zerolinecolor\":\"#EBF0F8\"},\"yaxis\":{\"backgroundcolor\":\"white\",\"gridcolor\":\"#DFE8F3\",\"gridwidth\":2,\"linecolor\":\"#EBF0F8\",\"showbackground\":true,\"ticks\":\"\",\"zerolinecolor\":\"#EBF0F8\"},\"zaxis\":{\"backgroundcolor\":\"white\",\"gridcolor\":\"#DFE8F3\",\"gridwidth\":2,\"linecolor\":\"#EBF0F8\",\"showbackground\":true,\"ticks\":\"\",\"zerolinecolor\":\"#EBF0F8\"}},\"shapedefaults\":{\"line\":{\"color\":\"#2a3f5f\"}},\"ternary\":{\"aaxis\":{\"gridcolor\":\"#DFE8F3\",\"linecolor\":\"#A2B1C6\",\"ticks\":\"\"},\"baxis\":{\"gridcolor\":\"#DFE8F3\",\"linecolor\":\"#A2B1C6\",\"ticks\":\"\"},\"bgcolor\":\"white\",\"caxis\":{\"gridcolor\":\"#DFE8F3\",\"linecolor\":\"#A2B1C6\",\"ticks\":\"\"}},\"title\":{\"x\":0.05},\"xaxis\":{\"automargin\":true,\"gridcolor\":\"#EBF0F8\",\"linecolor\":\"#EBF0F8\",\"ticks\":\"\",\"title\":{\"standoff\":15},\"zerolinecolor\":\"#EBF0F8\",\"zerolinewidth\":2},\"yaxis\":{\"automargin\":true,\"gridcolor\":\"#EBF0F8\",\"linecolor\":\"#EBF0F8\",\"ticks\":\"\",\"title\":{\"standoff\":15},\"zerolinecolor\":\"#EBF0F8\",\"zerolinewidth\":2}}},\"title\":{\"text\":\"\",\"x\":0.5},\"width\":1000},                        {\"responsive\": true}                    ).then(function(){\n                            \nvar gd = document.getElementById('352d84f6-e13b-4990-adb6-d29d9ac135ab');\nvar x = new MutationObserver(function (mutations, observer) {{\n        var display = window.getComputedStyle(gd).display;\n        if (!display || display === 'none') {{\n            console.log([gd, 'removed!']);\n            Plotly.purge(gd);\n            observer.disconnect();\n        }}\n}});\n\n// Listen for the removal of the full notebook cells\nvar notebookContainer = gd.closest('#notebook-container');\nif (notebookContainer) {{\n    x.observe(notebookContainer, {childList: true});\n}}\n\n// Listen for the clearing of the current output cell\nvar outputEl = gd.closest('.output');\nif (outputEl) {{\n    x.observe(outputEl, {childList: true});\n}}\n\n                        })                };                });            </script>        </div>"
     },
     "metadata": {},
     "output_type": "display_data"
    }
   ],
   "source": [
    "fig = make_subplots(\n",
    "    rows=2, \n",
    "    cols=2, \n",
    "    specs=[[{'type': 'pie', 'colspan': 2}, None], \n",
    "           [{'type': 'pie'}, {'type': 'pie'}]],\n",
    "    subplot_titles=('Cosmos-SDK Assets by Chains', 'by Type', 'by Base Denoms'),\n",
    "    horizontal_spacing=0.4,\n",
    "    vertical_spacing=0.14\n",
    ")\n",
    "\n",
    "fig.add_trace(\n",
    "    go.Pie(\n",
    "        labels=list(assets_by_chain.to_dict().keys()), \n",
    "        values=list(assets_by_chain.to_dict().values()),\n",
    "        text=list(assets_by_chain.map('{:>,}'.format).to_dict().values()),\n",
    "        sort=False,\n",
    "        name='assets by chains',\n",
    "        rotation=-32,\n",
    "        marker_colors=px.colors.qualitative.Plotly\n",
    "    ),\n",
    "    row=1, \n",
    "    col=1)\n",
    "\n",
    "fig.add_trace(\n",
    "    go.Pie(\n",
    "        labels=list(assets_by_type_asset.to_dict().keys()), \n",
    "        values=list(assets_by_type_asset.to_dict().values()),\n",
    "        text=list(assets_by_type_asset.map('{:>,}'.format).to_dict().values()),\n",
    "        sort=False,\n",
    "        name='assets by type',\n",
    "        rotation=91,\n",
    "        marker_colors=px.colors.qualitative.G10\n",
    "    ),\n",
    "    row=2, \n",
    "    col=1)\n",
    "fig.add_trace(\n",
    "    go.Pie(\n",
    "        labels=list(assets_by_denom_base.to_dict().keys()), \n",
    "        values=list(assets_by_denom_base.to_dict().values()),\n",
    "        text=list(assets_by_denom_base.map('{:>,}'.format).to_dict().values()),\n",
    "        sort=False,\n",
    "        name='assets by base denoms',\n",
    "        rotation=75,\n",
    "        marker_colors=px.colors.qualitative.Set1_r\n",
    "    ),\n",
    "    row=2, \n",
    "    col=2)\n",
    "fig.update_traces(\n",
    "    textposition='outside', \n",
    "    hoverinfo='label+value+percent',\n",
    "    textinfo='label+value+percent',\n",
    "    texttemplate=' %{label}  %{value:>,} (%{percent:.1%}) ',\n",
    "    hovertemplate='%{label}<br>%{value:>,} (%{percent:.1%})'\n",
    ")\n",
    "fig.update_layout(\n",
    "    height=850, \n",
    "    width=1000, \n",
    "    showlegend=False, \n",
    "    font_family=\"Play\",\n",
    "    title_text='', \n",
    "    title_x=0.5,\n",
    "    template='plotly_white',\n",
    "    autosize=False,\n",
    "    margin = {'l':0,'r':0,'t':80,'b':0}\n",
    ")\n",
    "\n",
    "fig['layout']['annotations'][0]['y'] = 1.04\n",
    "fig['layout']['annotations'][1]['y'] = 0.37\n",
    "fig['layout']['annotations'][2]['y'] = 0.37\n",
    "\n",
    "fig.add_annotation(\n",
    "    x=-0.3, \n",
    "    y=-0.05,\n",
    "    text=f'github.com/Snedashkovsky/on-chain-registry',\n",
    "    showarrow=False)\n",
    "fig.add_annotation(\n",
    "    x=1.25, \n",
    "    y=-0.05,\n",
    "    text=f'updated {date.today()}',\n",
    "    showarrow=False)\n",
    "\n",
    "fig.write_image('charts/charts.png', scale=1.5)\n",
    "fig.write_html('charts/index.html', include_plotlyjs='cdn')\n",
    "iplot(fig)"
   ]
  },
  {
   "cell_type": "markdown",
   "metadata": {
    "collapsed": false
   },
   "source": [
    "## contract query"
   ]
  },
  {
   "cell_type": "code",
   "execution_count": 6,
   "metadata": {
    "collapsed": false,
    "execution": {
     "iopub.execute_input": "2023-08-21T10:07:09.627351Z",
     "iopub.status.busy": "2023-08-21T10:07:09.627096Z",
     "iopub.status.idle": "2023-08-21T10:07:09.956810Z",
     "shell.execute_reply": "2023-08-21T10:07:09.955872Z"
    },
    "ExecuteTime": {
     "end_time": "2023-08-21T10:46:44.030387Z",
     "start_time": "2023-08-21T10:46:42.570576Z"
    }
   },
   "outputs": [
    {
     "name": "stdout",
     "output_type": "stream",
     "text": [
      "{'data': {'assets': [{'address': None,\n",
      "                      'admin': None,\n",
      "                      'base': 'ibc/FFA652599C77E853F017193E36B5AB2D4D9AFC4B54721A74904F80C9236BF3B7',\n",
      "                      'chain_id': 'osmosis-1',\n",
      "                      'chain_name': 'osmosis',\n",
      "                      'coingecko_id': None,\n",
      "                      'denom_units': [{'aliases': ['microlumen'],\n",
      "                                       'denom': 'ulumen',\n",
      "                                       'exponent': 0},\n",
      "                                      {'aliases': ['millilumen'],\n",
      "                                       'denom': 'mlumen',\n",
      "                                       'exponent': 3},\n",
      "                                      {'aliases': ['lumen'],\n",
      "                                       'denom': 'lumen',\n",
      "                                       'exponent': 6}],\n",
      "                      'description': 'Demon units of the LumenX',\n",
      "                      'display': 'lumen',\n",
      "                      'ibc': {'base_supply': None,\n",
      "                              'dst_channel': 'channel-3',\n",
      "                              'source_channel': 'channel-286',\n",
      "                              'source_denom': 'ulumen'},\n",
      "                      'images': None,\n",
      "                      'keywords': None,\n",
      "                      'logo_uris': None,\n",
      "                      'name': 'lumen',\n",
      "                      'supply': '402363844113131',\n",
      "                      'symbol': 'LUMEN',\n",
      "                      'traces': [{'chain': {'channel_id': 'channel-286',\n",
      "                                            'path': 'transfer/channel-286/ulumen',\n",
      "                                            'port': None},\n",
      "                                  'counterparty': {'base_denom': 'ulumen',\n",
      "                                                   'base_supply': '2447325414204182',\n",
      "                                                   'chain_id': 'LumenX',\n",
      "                                                   'chain_name': 'lumenx',\n",
      "                                                   'channel_id': 'channel-3',\n",
      "                                                   'contract': None,\n",
      "                                                   'port': None},\n",
      "                                  'provider': None,\n",
      "                                  'trace_type': 'ibc'}],\n",
      "                      'type_asset': 'ics20'},\n",
      "                     {'address': None,\n",
      "                      'admin': None,\n",
      "                      'base': 'ibc/FFCF643AE12AA7F532414B8423F3F100B8EC9A49A03C4977F8EEF327083FD077',\n",
      "                      'chain_id': 'osmosis-1',\n",
      "                      'chain_name': 'osmosis',\n",
      "                      'coingecko_id': None,\n",
      "                      'denom_units': None,\n",
      "                      'description': None,\n",
      "                      'display': None,\n",
      "                      'ibc': None,\n",
      "                      'images': None,\n",
      "                      'keywords': None,\n",
      "                      'logo_uris': None,\n",
      "                      'name': None,\n",
      "                      'supply': '63248374',\n",
      "                      'symbol': None,\n",
      "                      'traces': None,\n",
      "                      'type_asset': 'ics20'},\n",
      "                     {'address': None,\n",
      "                      'admin': None,\n",
      "                      'base': 'uion',\n",
      "                      'chain_id': 'osmosis-1',\n",
      "                      'chain_name': 'osmosis',\n",
      "                      'coingecko_id': None,\n",
      "                      'denom_units': [{'aliases': [],\n",
      "                                       'denom': 'uion',\n",
      "                                       'exponent': 0},\n",
      "                                      {'aliases': [],\n",
      "                                       'denom': 'ion',\n",
      "                                       'exponent': 6}],\n",
      "                      'description': None,\n",
      "                      'display': 'ion',\n",
      "                      'ibc': None,\n",
      "                      'images': None,\n",
      "                      'keywords': None,\n",
      "                      'logo_uris': None,\n",
      "                      'name': None,\n",
      "                      'supply': '21294000000',\n",
      "                      'symbol': None,\n",
      "                      'traces': None,\n",
      "                      'type_asset': 'sdk.coin'},\n",
      "                     {'address': None,\n",
      "                      'admin': None,\n",
      "                      'base': 'uosmo',\n",
      "                      'chain_id': 'osmosis-1',\n",
      "                      'chain_name': 'osmosis',\n",
      "                      'coingecko_id': None,\n",
      "                      'denom_units': [{'aliases': [],\n",
      "                                       'denom': 'uosmo',\n",
      "                                       'exponent': 0},\n",
      "                                      {'aliases': [],\n",
      "                                       'denom': 'osmo',\n",
      "                                       'exponent': 6}],\n",
      "                      'description': 'The native token of Osmosis',\n",
      "                      'display': 'osmo',\n",
      "                      'ibc': None,\n",
      "                      'images': None,\n",
      "                      'keywords': None,\n",
      "                      'logo_uris': None,\n",
      "                      'name': None,\n",
      "                      'supply': '605276664611957',\n",
      "                      'symbol': None,\n",
      "                      'traces': None,\n",
      "                      'type_asset': 'sdk.coin'}],\n",
      "          'chain_name': 'osmosis'}}\n"
     ]
    }
   ],
   "source": [
    "CONTRACT_CHAIN = 'bostrom'\n",
    "\n",
    "pprint(\n",
    "    contract_query(\n",
    "        query={'get_assets_by_chain': {'chain_name': 'bostrom'}},\n",
    "        contract_address=CONTRACT_ADDRESSES[CONTRACT_CHAIN],\n",
    "        node_lcd_url=NODE_LCD_URLS[CONTRACT_CHAIN]\n",
    "    )\n",
    ")"
   ]
  },
  {
   "cell_type": "code",
   "execution_count": 7,
   "metadata": {
    "collapsed": false,
    "execution": {
     "iopub.execute_input": "2023-08-21T10:07:09.963774Z",
     "iopub.status.busy": "2023-08-21T10:07:09.963459Z",
     "iopub.status.idle": "2023-08-21T10:07:10.233035Z",
     "shell.execute_reply": "2023-08-21T10:07:10.232126Z"
    },
    "ExecuteTime": {
     "end_time": "2023-08-21T10:46:45.771977Z",
     "start_time": "2023-08-21T10:46:44.029791Z"
    }
   },
   "outputs": [
    {
     "name": "stdout",
     "output_type": "stream",
     "text": [
      "{'data': {'entries': [{'address': None,\n",
      "                       'admin': None,\n",
      "                       'base': 'ibc/4A3AAD07BC4EBEBC10FC2560EAA3B7A1D3B541B5264ED8E5E13E6B74AC76127B',\n",
      "                       'chain_id': 'eightball-1',\n",
      "                       'chain_name': '8ball',\n",
      "                       'coingecko_id': None,\n",
      "                       'denom_units': [{'aliases': [],\n",
      "                                        'denom': 'uosmo',\n",
      "                                        'exponent': 0},\n",
      "                                       {'aliases': [],\n",
      "                                        'denom': 'osmo',\n",
      "                                        'exponent': 6}],\n",
      "                       'description': 'The native token of Osmosis',\n",
      "                       'display': 'osmo',\n",
      "                       'ibc': {'base_supply': None,\n",
      "                               'dst_channel': 'channel-641',\n",
      "                               'source_channel': 'channel-16',\n",
      "                               'source_denom': 'uosmo'},\n",
      "                       'images': None,\n",
      "                       'keywords': None,\n",
      "                       'logo_uris': None,\n",
      "                       'name': None,\n",
      "                       'supply': '4200911',\n",
      "                       'symbol': None,\n",
      "                       'traces': [{'chain': {'channel_id': 'channel-16',\n",
      "                                             'path': 'transfer/channel-16/uosmo',\n",
      "                                             'port': None},\n",
      "                                   'counterparty': {'base_denom': 'uosmo',\n",
      "                                                    'base_supply': '605276664611957',\n",
      "                                                    'chain_id': 'osmosis-1',\n",
      "                                                    'chain_name': 'osmosis',\n",
      "                                                    'channel_id': 'channel-641',\n",
      "                                                    'contract': None,\n",
      "                                                    'port': None},\n",
      "                                   'provider': None,\n",
      "                                   'trace_type': 'ibc'}],\n",
      "                       'type_asset': 'ics20'},\n",
      "                      {'address': None,\n",
      "                       'admin': None,\n",
      "                       'base': 'ibc/65F2AFA2F7AC0FC1ACA0EC1710A5AB381BF87B25CB74E903C5847ED86CAE213A',\n",
      "                       'chain_id': 'eightball-1',\n",
      "                       'chain_name': '8ball',\n",
      "                       'coingecko_id': None,\n",
      "                       'denom_units': [{'aliases': [],\n",
      "                                        'denom': 'uion',\n",
      "                                        'exponent': 0},\n",
      "                                       {'aliases': [],\n",
      "                                        'denom': 'ion',\n",
      "                                        'exponent': 6}],\n",
      "                       'description': None,\n",
      "                       'display': 'ion',\n",
      "                       'ibc': {'base_supply': None,\n",
      "                               'dst_channel': 'channel-641',\n",
      "                               'source_channel': 'channel-16',\n",
      "                               'source_denom': 'uion'},\n",
      "                       'images': None,\n",
      "                       'keywords': None,\n",
      "                       'logo_uris': None,\n",
      "                       'name': None,\n",
      "                       'supply': '500',\n",
      "                       'symbol': None,\n",
      "                       'traces': [{'chain': {'channel_id': 'channel-16',\n",
      "                                             'path': 'transfer/channel-16/uion',\n",
      "                                             'port': None},\n",
      "                                   'counterparty': {'base_denom': 'uion',\n",
      "                                                    'base_supply': '21294000000',\n",
      "                                                    'chain_id': 'osmosis-1',\n",
      "                                                    'chain_name': 'osmosis',\n",
      "                                                    'channel_id': 'channel-641',\n",
      "                                                    'contract': None,\n",
      "                                                    'port': None},\n",
      "                                   'provider': None,\n",
      "                                   'trace_type': 'ibc'}],\n",
      "                       'type_asset': 'ics20'},\n",
      "                      {'address': None,\n",
      "                       'admin': None,\n",
      "                       'base': 'uebl',\n",
      "                       'chain_id': 'eightball-1',\n",
      "                       'chain_name': '8ball',\n",
      "                       'coingecko_id': None,\n",
      "                       'denom_units': None,\n",
      "                       'description': None,\n",
      "                       'display': None,\n",
      "                       'ibc': None,\n",
      "                       'images': None,\n",
      "                       'keywords': None,\n",
      "                       'logo_uris': None,\n",
      "                       'name': None,\n",
      "                       'supply': '74372277109572',\n",
      "                       'symbol': None,\n",
      "                       'traces': None,\n",
      "                       'type_asset': 'sdk.coin'},\n",
      "                      {'address': None,\n",
      "                       'admin': None,\n",
      "                       'base': 'aacre',\n",
      "                       'chain_id': 'acre_9052-1',\n",
      "                       'chain_name': 'acrechain',\n",
      "                       'coingecko_id': None,\n",
      "                       'denom_units': [{'aliases': ['aacre'],\n",
      "                                        'denom': 'aacre',\n",
      "                                        'exponent': 0},\n",
      "                                       {'aliases': [],\n",
      "                                        'denom': 'ACRE',\n",
      "                                        'exponent': 18}],\n",
      "                       'description': 'The native staking and governance token '\n",
      "                                      'of the Acrechain',\n",
      "                       'display': 'ACRE',\n",
      "                       'ibc': None,\n",
      "                       'images': None,\n",
      "                       'keywords': None,\n",
      "                       'logo_uris': None,\n",
      "                       'name': 'ACRE',\n",
      "                       'supply': '489919457075525208330978040',\n",
      "                       'symbol': 'ACRE',\n",
      "                       'traces': None,\n",
      "                       'type_asset': 'sdk.coin'},\n",
      "                      {'address': None,\n",
      "                       'admin': None,\n",
      "                       'base': 'erc20/0x2Cbea61fdfDFA520Ee99700F104D5b75ADf50B0c',\n",
      "                       'chain_id': 'acre_9052-1',\n",
      "                       'chain_name': 'acrechain',\n",
      "                       'coingecko_id': None,\n",
      "                       'denom_units': [{'aliases': [],\n",
      "                                        'denom': 'erc20/0x2Cbea61fdfDFA520Ee99700F104D5b75ADf50B0c',\n",
      "                                        'exponent': 0},\n",
      "                                       {'aliases': [],\n",
      "                                        'denom': 'ArableUSD',\n",
      "                                        'exponent': 18}],\n",
      "                       'description': 'Cosmos coin token representation of '\n",
      "                                      '0x2Cbea61fdfDFA520Ee99700F104D5b75ADf50B0c',\n",
      "                       'display': 'ArableUSD',\n",
      "                       'ibc': None,\n",
      "                       'images': None,\n",
      "                       'keywords': None,\n",
      "                       'logo_uris': None,\n",
      "                       'name': 'erc20/0x2Cbea61fdfDFA520Ee99700F104D5b75ADf50B0c',\n",
      "                       'supply': '63359543701521585972140',\n",
      "                       'symbol': 'arUSD',\n",
      "                       'traces': None,\n",
      "                       'type_asset': 'sdk.coin'}]}}\n"
     ]
    }
   ],
   "source": [
    "pprint(\n",
    "    contract_query(\n",
    "        query={'get_all_assets': {'limit': 5}},\n",
    "        contract_address=CONTRACT_ADDRESSES[CONTRACT_CHAIN],\n",
    "        node_lcd_url=NODE_LCD_URLS[CONTRACT_CHAIN]\n",
    "    )\n",
    ")"
   ]
  },
  {
   "cell_type": "code",
   "execution_count": 8,
   "metadata": {
    "collapsed": false,
    "execution": {
     "iopub.execute_input": "2023-08-21T10:07:10.238157Z",
     "iopub.status.busy": "2023-08-21T10:07:10.237839Z",
     "iopub.status.idle": "2023-08-21T10:07:10.448339Z",
     "shell.execute_reply": "2023-08-21T10:07:10.446688Z"
    },
    "ExecuteTime": {
     "end_time": "2023-08-21T10:46:47.016709Z",
     "start_time": "2023-08-21T10:46:45.770863Z"
    }
   },
   "outputs": [
    {
     "name": "stdout",
     "output_type": "stream",
     "text": [
      "{'data': {'asset': {'address': None,\n",
      "                    'admin': None,\n",
      "                    'base': 'ibc/27394FB092D2ECCD56123C74F36E4C1F926001CEADA9CA97EA622B25F41E5EB2',\n",
      "                    'chain_id': 'osmosis-1',\n",
      "                    'chain_name': 'osmosis',\n",
      "                    'coingecko_id': None,\n",
      "                    'denom_units': [{'aliases': ['microatom'],\n",
      "                                     'denom': 'uatom',\n",
      "                                     'exponent': 0},\n",
      "                                    {'aliases': ['milliatom'],\n",
      "                                     'denom': 'matom',\n",
      "                                     'exponent': 3},\n",
      "                                    {'aliases': [],\n",
      "                                     'denom': 'atom',\n",
      "                                     'exponent': 6}],\n",
      "                    'description': 'The native staking token of the Cosmos '\n",
      "                                   'Hub.',\n",
      "                    'display': 'atom',\n",
      "                    'ibc': {'base_supply': None,\n",
      "                            'dst_channel': 'channel-141',\n",
      "                            'source_channel': 'channel-0',\n",
      "                            'source_denom': 'uatom'},\n",
      "                    'images': None,\n",
      "                    'keywords': None,\n",
      "                    'logo_uris': None,\n",
      "                    'name': 'Cosmos Hub Atom',\n",
      "                    'supply': '4544425667570',\n",
      "                    'symbol': 'ATOM',\n",
      "                    'traces': [{'chain': {'channel_id': 'channel-0',\n",
      "                                          'path': 'transfer/channel-0/uatom',\n",
      "                                          'port': None},\n",
      "                                'counterparty': {'base_denom': 'uatom',\n",
      "                                                 'base_supply': '356153428624362',\n",
      "                                                 'chain_id': 'cosmoshub-4',\n",
      "                                                 'chain_name': 'cosmoshub',\n",
      "                                                 'channel_id': 'channel-141',\n",
      "                                                 'contract': None,\n",
      "                                                 'port': None},\n",
      "                                'provider': None,\n",
      "                                'trace_type': 'ibc'}],\n",
      "                    'type_asset': 'ics20'},\n",
      "          'chain_name': 'osmosis'}}\n"
     ]
    }
   ],
   "source": [
    "pprint(\n",
    "    contract_query(\n",
    "        query={'get_asset': {'chain_name': 'osmosis', 'base': 'uosmo'}},\n",
    "        contract_address=CONTRACT_ADDRESSES[CONTRACT_CHAIN],\n",
    "        node_lcd_url=NODE_LCD_URLS[CONTRACT_CHAIN]\n",
    "    )\n",
    ")"
   ]
  },
  {
   "cell_type": "code",
   "execution_count": 8,
   "metadata": {
    "collapsed": false,
    "ExecuteTime": {
     "end_time": "2023-08-21T10:46:47.016895Z",
     "start_time": "2023-08-21T10:46:47.015077Z"
    }
   },
   "outputs": [],
   "source": []
  }
 ],
 "metadata": {
  "kernelspec": {
   "display_name": "Python 3",
   "language": "python",
   "name": "python3"
  },
  "language_info": {
   "codemirror_mode": {
    "name": "ipython",
    "version": 3
   },
   "file_extension": ".py",
   "mimetype": "text/x-python",
   "name": "python",
   "nbconvert_exporter": "python",
   "pygments_lexer": "ipython3",
   "version": "3.9.15"
  }
 },
 "nbformat": 4,
 "nbformat_minor": 0
}
